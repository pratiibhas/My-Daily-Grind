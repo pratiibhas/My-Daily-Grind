{
 "cells": [
  {
   "cell_type": "code",
   "execution_count": 6,
   "metadata": {},
   "outputs": [
    {
     "name": "stdout",
     "output_type": "stream",
     "text": [
      "* * * \n",
      "* * * \n",
      "* * * \n"
     ]
    }
   ],
   "source": [
    "n = int(input(\"enter a number: \"))\n",
    "for i in range(n):\n",
    "    for j in range(n):\n",
    "        print(\"*\", end=\" \") # By default python prints newline but end=\" \" tell python to print instead of new line after each print output\n",
    "    print()   \n",
    "#Line break after each row    "
   ]
  },
  {
   "cell_type": "code",
   "execution_count": 12,
   "metadata": {},
   "outputs": [
    {
     "name": "stdout",
     "output_type": "stream",
     "text": [
      "* \n",
      "* * \n",
      "* * * \n",
      "* * * * \n",
      "* * * * * \n",
      "* * * * * * \n"
     ]
    }
   ],
   "source": [
    "m = int(input(\"enter a number: \"))\n",
    "for i in range(m):\n",
    "    for j in range(i+1):\n",
    "        print(\"*\", end=\" \") # By default python prints newline but end=\" \" tell python to print instead of new line after each print output\n",
    "    print() "
   ]
  },
  {
   "cell_type": "code",
   "execution_count": 18,
   "metadata": {},
   "outputs": [
    {
     "name": "stdout",
     "output_type": "stream",
     "text": [
      "1 \n",
      "1 2 \n",
      "1 2 3 \n",
      "1 2 3 4 \n",
      "1 2 3 4 5 \n",
      "1 2 3 4 5 6 \n"
     ]
    }
   ],
   "source": [
    "m = int(input(\"enter a number: \"))\n",
    "for i in range(1,m+1):\n",
    "    for j in range(1,i+1):\n",
    "        print(j, end=\" \") \n",
    "    print() "
   ]
  },
  {
   "cell_type": "code",
   "execution_count": 23,
   "metadata": {},
   "outputs": [
    {
     "name": "stdout",
     "output_type": "stream",
     "text": [
      "1 \n",
      "2 2 \n",
      "3 3 3 \n",
      "4 4 4 4 \n",
      "5 5 5 5 5 \n"
     ]
    }
   ],
   "source": [
    "# Pattern 04\n",
    "l= int(input(\"enter a number: \"))\n",
    "for i in range(1,l+1):\n",
    "    for j in range(1,i+1):\n",
    "        print(i, end=\" \")\n",
    "    print()    "
   ]
  },
  {
   "cell_type": "code",
   "execution_count": 25,
   "metadata": {},
   "outputs": [
    {
     "name": "stdout",
     "output_type": "stream",
     "text": [
      "* * * * * \n",
      "* * * * \n",
      "* * * \n",
      "* * \n",
      "*\n"
     ]
    }
   ],
   "source": [
    "#Pattern 05\n",
    "o= int(input(\"enter a number: \"))\n",
    "for i in range(o):\n",
    "    for j in range(i-1,o):\n",
    "        print(\"*\", end=\" \")\n",
    "    print()\n",
    "print(\"*\")        "
   ]
  },
  {
   "cell_type": "code",
   "execution_count": 31,
   "metadata": {},
   "outputs": [
    {
     "name": "stdout",
     "output_type": "stream",
     "text": [
      "1 2 3 4 5 \n",
      "2 3 4 5 \n",
      "3 4 5 \n",
      "4 5 \n",
      "5 \n"
     ]
    }
   ],
   "source": [
    "#Pattern 06\n",
    "b= int(input(\"enter a number: \"))\n",
    "for i in range(1,b+1):\n",
    "    for j in range(i-1,b):\n",
    "        print(j+1,end=\" \")\n",
    "    print()   "
   ]
  },
  {
   "cell_type": "code",
   "execution_count": 32,
   "metadata": {},
   "outputs": [
    {
     "name": "stdout",
     "output_type": "stream",
     "text": [
      "1 2 3 4 5 \n",
      "1 2 3 4 \n",
      "1 2 3 \n",
      "1 2 \n",
      "1 \n"
     ]
    }
   ],
   "source": [
    "#Pattern 06 version2\n",
    "b= int(input(\"enter a number: \"))\n",
    "for i in range(1,b+1):\n",
    "    for j in range(b-i+1):\n",
    "        print(j+1,end=\" \")\n",
    "    print()   "
   ]
  },
  {
   "cell_type": "code",
   "execution_count": 36,
   "metadata": {},
   "outputs": [
    {
     "name": "stdout",
     "output_type": "stream",
     "text": [
      "        *         \n",
      "      * * *       \n",
      "    * * * * *     \n",
      "  * * * * * * *   \n",
      "* * * * * * * * * \n"
     ]
    }
   ],
   "source": [
    "#Pattern 07\n",
    "c = int(input(\"enter a number: \"))\n",
    "for i in range(c):\n",
    "    \n",
    "    # print space\n",
    "    for j in range(c-i-1):\n",
    "        print(\" \", end=\" \")\n",
    "    # print *\n",
    "    for k in range(2*i+1):\n",
    "        print(\"*\", end=\" \")\n",
    "    \n",
    "    # print space    \n",
    "    for p in range(c-i-1):\n",
    "        print(\" \", end=\" \")\n",
    "    \n",
    "    print()\n",
    "        "
   ]
  },
  {
   "cell_type": "code",
   "execution_count": 43,
   "metadata": {},
   "outputs": [
    {
     "name": "stdout",
     "output_type": "stream",
     "text": [
      "* * * * * * * * * * * \n",
      "  * * * * * * * * *   \n",
      "    * * * * * * *     \n",
      "      * * * * *       \n",
      "        * * *         \n",
      "          *           \n",
      "                        \n"
     ]
    }
   ],
   "source": [
    "#Pattern08\n",
    "a= int(input(\"enter a number: \"))\n",
    "for i in range(1,a+1):\n",
    "    for j in range(i-1):\n",
    "        print(\" \",end=\" \")\n",
    "    for k in range(2*a-2*i-1):\n",
    "        print(\"*\",end=\" \")  \n",
    "    for l in range(i-1):\n",
    "        print(\" \",end=\" \")      \n",
    "    print()    "
   ]
  },
  {
   "cell_type": "code",
   "execution_count": 61,
   "metadata": {},
   "outputs": [
    {
     "name": "stdout",
     "output_type": "stream",
     "text": [
      "        *         \n",
      "      * * *       \n",
      "    * * * * *     \n",
      "  * * * * * * *   \n",
      "* * * * * * * * * \n",
      "* * * * * * * * * \n",
      "  * * * * * * *   \n",
      "    * * * * *     \n",
      "      * * *       \n",
      "        *         \n"
     ]
    }
   ],
   "source": [
    "# Pattern 09\n",
    "d = int(input(\"enter a number: \"))\n",
    "for i in range(d):\n",
    "    \n",
    "    # print space\n",
    "    for y in range(d-i-1):\n",
    "        print(\" \", end=\" \")\n",
    "    # print *\n",
    "    for k in range(2*i+1):\n",
    "        print(\"*\", end=\" \")\n",
    "      \n",
    "    # print space    \n",
    "    for p in range(d-i-1):\n",
    "        print(\" \", end=\" \")\n",
    "    print()    \n",
    "for i in range(d):   \n",
    "    for j in range(i):\n",
    "        print(\" \",end=\" \")\n",
    "    for k in range(2*d-2*i-1):\n",
    "        print(\"*\",end=\" \")  \n",
    "    for l in range(i):\n",
    "        print(\" \",end=\" \")   \n",
    "    print()\n",
    "    \n"
   ]
  },
  {
   "cell_type": "code",
   "execution_count": 54,
   "metadata": {},
   "outputs": [
    {
     "name": "stdout",
     "output_type": "stream",
     "text": [
      "        *         \n",
      "      * * *       \n",
      "    * * * * *     \n",
      "  * * * * * * *   \n",
      "* * * * * * * * * \n",
      "  * * * * * * * \n",
      "    * * * * * \n",
      "      * * * \n",
      "        * \n"
     ]
    }
   ],
   "source": [
    "# version of pattern similar to  pattern 09\n",
    "d = int(input(\"enter a number: \"))\n",
    "for i in range(d):\n",
    "    \n",
    "    # print space\n",
    "    for y in range(d-i-1):\n",
    "        print(\" \", end=\" \")\n",
    "    # print *\n",
    "    for k in range(2*i+1):\n",
    "        print(\"*\", end=\" \")\n",
    "      \n",
    "    # print space    \n",
    "    for p in range(d-i-1):\n",
    "        print(\" \", end=\" \")\n",
    "    print()    \n",
    "# Lower part of the diamond\n",
    "for i in range(d - 2, -1, -1):\n",
    "    # Print spaces\n",
    "    for j in range(d - i - 1):\n",
    "        print(\" \", end=\" \")\n",
    "    # Print stars\n",
    "    for k in range(2 * i + 1):\n",
    "        print(\"*\", end=\" \")\n",
    "    print()"
   ]
  },
  {
   "cell_type": "code",
   "execution_count": 53,
   "metadata": {},
   "outputs": [
    {
     "name": "stdout",
     "output_type": "stream",
     "text": [
      "    * \n",
      "   * * \n",
      "  * * * \n",
      " * * * * \n",
      "* * * * * \n",
      " * * * * \n",
      "  * * * \n",
      "   * * \n",
      "    * \n"
     ]
    }
   ],
   "source": [
    "# One more similar yet quite different pattern\n",
    "d = int(input(\"Enter a number: \"))\n",
    "\n",
    "for i in range(-d + 1, d):\n",
    "    # Calculate the absolute row index\n",
    "    row = abs(i)\n",
    "    \n",
    "    # Print leading spaces\n",
    "    print(\" \" * row, end=\"\")\n",
    "    \n",
    "    # Print stars with spaces in between\n",
    "    print(\"* \" * (d - row))\n"
   ]
  },
  {
   "cell_type": "code",
   "execution_count": 65,
   "metadata": {},
   "outputs": [
    {
     "name": "stdout",
     "output_type": "stream",
     "text": [
      "0 \n",
      "1 0 \n",
      "0 1 0 \n",
      "1 0 1 0 \n"
     ]
    }
   ],
   "source": [
    "#Pattern 11\n",
    "\n",
    "e = int(input(\"Enter a number: \"))\n",
    "start =0\n",
    "for i in range(e):\n",
    "    if i%2==0:\n",
    "            start=0\n",
    "    else:\n",
    "            start=1 \n",
    "    for j in range(i+1):\n",
    "        print(start,end=\" \")\n",
    "        start =1-start\n",
    "            \n",
    "    print()    \n",
    "    \n",
    "    "
   ]
  },
  {
   "cell_type": "code",
   "execution_count": 124,
   "metadata": {},
   "outputs": [
    {
     "name": "stdout",
     "output_type": "stream",
     "text": [
      "1                 1 \n",
      "1 2             2 1 \n",
      "1 2 3         3 2 1 \n",
      "1 2 3 4     4 3 2 1 \n",
      "1 2 3 4 5 5 4 3 2 1 \n"
     ]
    }
   ],
   "source": [
    "#Pattern 12\n",
    "h= int(input(\"Enter a number: \"))\n",
    "l=0\n",
    "for i in range(1,h+1):\n",
    "    for p in range(i):\n",
    "        print(p+1,end=\" \")\n",
    " \n",
    "       \n",
    "    for j in range(2*h-2*i):\n",
    "        print(\" \",end=\" \")\n",
    "    \n",
    "    for k in range(i,0,-1):\n",
    "        print(k,end=\" \")\n",
    "    \n",
    "    print()"
   ]
  },
  {
   "cell_type": "code",
   "execution_count": 129,
   "metadata": {},
   "outputs": [
    {
     "name": "stdout",
     "output_type": "stream",
     "text": [
      "\n",
      "1 \n",
      "2 3 \n",
      "4 5 6 \n",
      "7 8 9 10 \n",
      "11 12 13 14 15 \n"
     ]
    }
   ],
   "source": [
    "#Pattern 13\n",
    "g= int(input(\"Enter a number: \"))\n",
    "l=1\n",
    "for i in range(g):\n",
    "    for j in range(i):\n",
    "        print(l,end=\" \")\n",
    "        l+=1  \n",
    "    print()  "
   ]
  },
  {
   "cell_type": "code",
   "execution_count": 152,
   "metadata": {},
   "outputs": [
    {
     "name": "stdout",
     "output_type": "stream",
     "text": [
      "A \n",
      "A B \n",
      "A B C \n",
      "A B C D \n"
     ]
    }
   ],
   "source": [
    "#Pattern 13\n",
    "g= int(input(\"Enter a number: \"))\n",
    "\n",
    "for i in range(g):\n",
    "    for ch in range(ord('A'),ord('A')+i+1):\n",
    "            print(chr(ch), end=\" \") \n",
    "    print()  "
   ]
  },
  {
   "cell_type": "code",
   "execution_count": 143,
   "metadata": {},
   "outputs": [
    {
     "name": "stdout",
     "output_type": "stream",
     "text": [
      "66\n",
      "B\n"
     ]
    }
   ],
   "source": [
    "print(ord('A')+0+1)\n",
    "print(chr(ord('A')+0+1))"
   ]
  },
  {
   "cell_type": "code",
   "execution_count": 157,
   "metadata": {},
   "outputs": [
    {
     "name": "stdout",
     "output_type": "stream",
     "text": [
      "A B C D \n",
      "A B C \n",
      "A B \n",
      "A \n"
     ]
    }
   ],
   "source": [
    "#Pattern 14\n",
    "g= int(input(\"Enter a number: \"))\n",
    "\n",
    "for i in range(g):\n",
    "    for ch in range(ord('A'), ord('A') + (g - i)):\n",
    "            print(chr(ch), end=\" \") \n",
    "    print()  "
   ]
  },
  {
   "cell_type": "code",
   "execution_count": 158,
   "metadata": {},
   "outputs": [
    {
     "name": "stdout",
     "output_type": "stream",
     "text": [
      "A \n",
      "B B \n",
      "C C C \n",
      "D D D D \n"
     ]
    }
   ],
   "source": [
    "#Pattern 15\n",
    "g= int(input(\"Enter a number: \"))\n",
    "\n",
    "for i in range(g):\n",
    "    for ch in range(ord('A'),ord('A')+i+1):\n",
    "            print(chr(ord('A')+i), end=\" \") \n",
    "    print()  "
   ]
  },
  {
   "cell_type": "code",
   "execution_count": 194,
   "metadata": {},
   "outputs": [
    {
     "name": "stdout",
     "output_type": "stream",
     "text": [
      "        A \n",
      "      A B A \n",
      "    A B C B A \n",
      "  A B C D C B A \n"
     ]
    }
   ],
   "source": [
    "#Pattern 16\n",
    "g= int(input(\"Enter a number: \"))\n",
    "\n",
    "for i in range(g):\n",
    "    #spaces\n",
    "    c=ord('A')\n",
    "    breakpoint=i\n",
    "    for j in range(i,g):\n",
    "        print(\" \",end=\" \")\n",
    "    c=ord('A')    \n",
    "    for k in range(2*i+1):\n",
    "        print(chr(c), end=\" \") \n",
    "        if k<breakpoint:\n",
    "           c=c+1\n",
    "        else:\n",
    "            c=c-1     \n",
    "    print()\n",
    "    #spaces"
   ]
  },
  {
   "cell_type": "code",
   "execution_count": 216,
   "metadata": {},
   "outputs": [
    {
     "name": "stdout",
     "output_type": "stream",
     "text": [
      "E \n",
      "D E \n",
      "C D E \n",
      "B C D E \n",
      "A B C D E \n"
     ]
    }
   ],
   "source": [
    "#Pattern 17\n",
    "g= int(input(\"Enter a number: \"))\n",
    "for i in range(g):\n",
    "    c=ord('E')-i\n",
    "    d= ord('E')\n",
    "    for j in range(c,d+1):\n",
    "        #print(j)\n",
    "        print(chr(j),end=' ')\n",
    "        c-=i\n",
    "    print()    "
   ]
  },
  {
   "cell_type": "code",
   "execution_count": 47,
   "metadata": {},
   "outputs": [
    {
     "name": "stdout",
     "output_type": "stream",
     "text": [
      "* * * * * * * * * * * * * * \n",
      "* * * * * *     * * * * * * \n",
      "* * * * *         * * * * * \n",
      "* * * *             * * * * \n",
      "* * *                 * * * \n",
      "* *                     * * \n",
      "*                         * \n",
      "                            \n",
      "*                         * \n",
      "* *                     * * \n",
      "* * *                 * * * \n",
      "* * * *             * * * * \n",
      "* * * * *         * * * * * \n",
      "* * * * * *     * * * * * * \n",
      "* * * * * * * * * * * * * * \n"
     ]
    }
   ],
   "source": [
    "#Pattern 18\n",
    "g= int(input(\"Enter a number: \"))\n",
    "for i in range(g):\n",
    "    for j in range(g-i):\n",
    "        print(\"*\",end=\" \")\n",
    "    for l in range(2*i):\n",
    "        print(\" \",end=\" \")    \n",
    "    for k in range(g-i):\n",
    "         print(\"*\",end=\" \")    \n",
    "    print()\n",
    "for i in range(g+1):     \n",
    "    # For lower part \n",
    "    for m in range(i):\n",
    "        print(\"*\",end=\" \")\n",
    "    for n in range(2*(g-i)):\n",
    "        print(\" \",end=\" \")    \n",
    "    for o in range(i):\n",
    "         print(\"*\",end=\" \")       \n",
    "    print()    "
   ]
  },
  {
   "cell_type": "code",
   "execution_count": 87,
   "metadata": {},
   "outputs": [
    {
     "name": "stdout",
     "output_type": "stream",
     "text": [
      "\n",
      "* \n",
      "* * \n",
      "* * * \n",
      "\n",
      "\n",
      "\n",
      "\n",
      "\n",
      "* * * * \n",
      "* * * \n",
      "* * \n",
      "* \n",
      "\n",
      "\n",
      "\n",
      "\n",
      "\n"
     ]
    }
   ],
   "source": [
    "#Pattern 19\n",
    "\n",
    "#My version (not perfect)\n",
    "g= int(input(\"Enter a number: \"))\n",
    "for i in range(2*g+1):\n",
    "    breakpoint= (g//2)+1\n",
    "    for j in range(i):\n",
    "        if (i<=breakpoint):\n",
    "            print(\"*\",end=\" \")\n",
    "    print()  \n",
    "for i in range(2*g+1):            \n",
    "    for k in range(g-i):\n",
    "        print(\"*\",end=\" \")         \n",
    "            \n",
    "    print()    "
   ]
  },
  {
   "cell_type": "code",
   "execution_count": 90,
   "metadata": {},
   "outputs": [
    {
     "name": "stdout",
     "output_type": "stream",
     "text": [
      "\n",
      "*\n",
      "**\n",
      "***\n",
      "****\n",
      "***\n",
      "**\n",
      "*\n"
     ]
    }
   ],
   "source": [
    "#chatgpt's version (perfect obviously)\n",
    "g = int(input(\"Enter a number: \"))\n",
    "\n",
    "# Top half of the pattern\n",
    "for i in range(g + 1):\n",
    "    for j in range(i):\n",
    "        print(\"*\", end=\"\")\n",
    "    print()\n",
    "\n",
    "# Bottom half of the pattern\n",
    "for i in range(g-1, 0, -1):\n",
    "    for j in range(i):\n",
    "        print(\"*\", end=\"\")\n",
    "    print()\n"
   ]
  },
  {
   "cell_type": "code",
   "execution_count": 99,
   "metadata": {},
   "outputs": [
    {
     "name": "stdout",
     "output_type": "stream",
     "text": [
      "*                 * \n",
      "* *             * * \n",
      "* * *         * * * \n",
      "* * * *     * * * * \n",
      "* * * * * * * * * * \n",
      "* * * *     * * * * \n",
      "* * *         * * * \n",
      "* *             * * \n",
      "*                 * \n"
     ]
    }
   ],
   "source": [
    "#   pattern 20\n",
    "g = int(input(\"Enter a number: \"))\n",
    "spaces=2*g-2\n",
    "for i in range(1,2*g):\n",
    "    stars=i\n",
    "    \n",
    "    if (i>g):\n",
    "        stars=2*n-i\n",
    "    #stars\n",
    "    for j in range(stars):\n",
    "        print(\"*\",end=\" \")\n",
    "    #spaces\n",
    "    for k in range(spaces):\n",
    "        print(\" \",end=\" \")\n",
    "    #stars\n",
    "    for l in range(stars):\n",
    "        print(\"*\",end=\" \")\n",
    "    print()    \n",
    "    if(i<g):\n",
    "        spaces-=2\n",
    "    else:    \n",
    "        spaces+=2    \n",
    "        \n",
    "     "
   ]
  },
  {
   "cell_type": "code",
   "execution_count": 111,
   "metadata": {},
   "outputs": [
    {
     "name": "stdout",
     "output_type": "stream",
     "text": [
      "* * * * * \n",
      "*       * \n",
      "*       * \n",
      "*       * \n",
      "* * * * * \n"
     ]
    }
   ],
   "source": [
    "# Pattern 21\n",
    "n = int(input(\"Enter a number: \"))\n",
    "for i in range(n):\n",
    "    for j in range(n):\n",
    "        if (i==0 or j==0 or i==n-1 or j==n-1):\n",
    "            print(\"*\",end=\" \")\n",
    "        else:\n",
    "            print(\" \",end=\" \")   \n",
    "    print()        "
   ]
  },
  {
   "cell_type": "code",
   "execution_count": 119,
   "metadata": {},
   "outputs": [
    {
     "name": "stdout",
     "output_type": "stream",
     "text": [
      "4 4 4 4 4 4 4 \n",
      "4 3 3 3 3 3 4 \n",
      "4 3 2 2 2 3 4 \n",
      "4 3 2 1 2 3 4 \n",
      "4 3 2 2 2 3 4 \n",
      "4 3 3 3 3 3 4 \n",
      "4 4 4 4 4 4 4 \n"
     ]
    }
   ],
   "source": [
    "#Pattern 22\n",
    "n = int(input(\"Enter a number: \"))\n",
    "for i in range(2*n-1):\n",
    "    for j in range(2*n-1):\n",
    "        top=i\n",
    "        left=j\n",
    "        right=(2*n-2)-j\n",
    "        bottom= (2*n-2)-i\n",
    "        print(n-min(min(right,top),min(bottom,left)),end=\" \")\n",
    "    print()    "
   ]
  }
 ],
 "metadata": {
  "kernelspec": {
   "display_name": "Python 3",
   "language": "python",
   "name": "python3"
  },
  "language_info": {
   "codemirror_mode": {
    "name": "ipython",
    "version": 3
   },
   "file_extension": ".py",
   "mimetype": "text/x-python",
   "name": "python",
   "nbconvert_exporter": "python",
   "pygments_lexer": "ipython3",
   "version": "3.13.0"
  }
 },
 "nbformat": 4,
 "nbformat_minor": 2
}
