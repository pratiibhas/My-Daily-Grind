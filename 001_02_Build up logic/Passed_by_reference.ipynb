{
 "cells": [
  {
   "cell_type": "code",
   "execution_count": null,
   "metadata": {},
   "outputs": [],
   "source": [
    "class Solution:\n",
    "    def passedBy(self, a, b):\n",
    "        # Code here\n",
    "        a+=1\n",
    "        b+=2 \n",
    "        \n",
    "        return [a, b]"
   ]
  },
  {
   "cell_type": "code",
   "execution_count": null,
   "metadata": {},
   "outputs": [],
   "source": [
    "# Key Differences:\n",
    "# Aspect\t         Pass by Value\t                                 Pass by Reference\n",
    "# Data Type\t        Immutable (int, float, str, tuple)\t              Mutable (list, dict, set)\n",
    "# Memory\t        Copies value (new memory location)               Uses reference (same memory location)\n",
    "# Changes Persist?\t❌ No (original remains unchanged)\t             ✅ Yes (original is modified)\n",
    "# Example\t         modify_value(a) doesn't change a\t              modify_list(lst) modifies lst"
   ]
  },
  {
   "cell_type": "code",
   "execution_count": null,
   "metadata": {},
   "outputs": [],
   "source": []
  },
  {
   "cell_type": "code",
   "execution_count": null,
   "metadata": {},
   "outputs": [],
   "source": []
  }
 ],
 "metadata": {
  "kernelspec": {
   "display_name": "Python 3",
   "language": "python",
   "name": "python3"
  },
  "language_info": {
   "name": "python",
   "version": "3.13.0"
  }
 },
 "nbformat": 4,
 "nbformat_minor": 2
}
