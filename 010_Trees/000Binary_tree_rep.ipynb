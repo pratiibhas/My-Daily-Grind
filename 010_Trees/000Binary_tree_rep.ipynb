{
 "cells": [
  {
   "cell_type": "markdown",
   "metadata": {},
   "source": [
    "## Representation of Trees\n"
   ]
  },
  {
   "cell_type": "code",
   "execution_count": 4,
   "metadata": {},
   "outputs": [
    {
     "name": "stdout",
     "output_type": "stream",
     "text": [
      "C\n",
      "A\n",
      "D\n",
      "R\n",
      "E\n",
      "B\n",
      "G\n",
      "F\n",
      "None\n",
      "root.right.left.data: E\n"
     ]
    }
   ],
   "source": [
    "class TreeNode:\n",
    "    def __init__(self,data):\n",
    "        self.data = data\n",
    "        self.right = None\n",
    "        self.left =None\n",
    "    def PrintTree(self):\n",
    "      if self.left:\n",
    "         self.left.PrintTree()\n",
    "      print( self.data)\n",
    "      if self.right:\n",
    "         self.right.PrintTree()    \n",
    "\n",
    "root = TreeNode('R')\n",
    "nodeA = TreeNode('A')\n",
    "nodeB = TreeNode('B')\n",
    "nodeC = TreeNode('C')\n",
    "nodeD = TreeNode('D')\n",
    "nodeE = TreeNode('E')\n",
    "nodeF = TreeNode('F')\n",
    "nodeG = TreeNode('G')\n",
    "\n",
    "root.left = nodeA\n",
    "root.right = nodeB\n",
    "\n",
    "nodeA.left = nodeC\n",
    "nodeA.right = nodeD\n",
    "\n",
    "nodeB.left = nodeE\n",
    "nodeB.right = nodeF\n",
    "\n",
    "nodeF.left = nodeG\n",
    "\n",
    "# Test\n",
    "print(root.PrintTree())\n",
    "print(\"root.right.left.data:\", root.right.left.data)        \n",
    "        \n"
   ]
  },
  {
   "cell_type": "code",
   "execution_count": 23,
   "metadata": {},
   "outputs": [],
   "source": [
    "class BinaryTree:\n",
    "    def  __init__(self,data):\n",
    "        self.data = data\n",
    "        self.left = None\n",
    "        self.right = None\n",
    "     \n",
    "    def insert(self,data):\n",
    "        if self.data:\n",
    "            if data>self.data:\n",
    "                if self.right is None:\n",
    "                    self.right = BinaryTree(data)\n",
    "                else:\n",
    "                   self.right.insert(data)\n",
    "            elif data < self.data :\n",
    "                    if self.left is None:\n",
    "                        self.left= BinaryTree(data)\n",
    "                    else:\n",
    "                        self.left.insert(data) \n",
    "            else:\n",
    "               self.insert(data)            \n",
    "    def printtree(self):\n",
    "        if self.left:\n",
    "            self.left.printtree()\n",
    "        print( self.data)\n",
    "        if self.right:\n",
    "            self.right.printtree()                              "
   ]
  },
  {
   "cell_type": "code",
   "execution_count": 24,
   "metadata": {},
   "outputs": [
    {
     "name": "stdout",
     "output_type": "stream",
     "text": [
      "10\n",
      "14\n",
      "19\n",
      "27\n",
      "31\n",
      "35\n",
      "42\n"
     ]
    }
   ],
   "source": [
    "root =  BinaryTree(27)\n",
    "root.insert(14)\n",
    "root.insert(35)\n",
    "root.insert(10)\n",
    "root.insert(19)\n",
    "root.insert(31)\n",
    "root.insert(42)\n",
    "root.printtree()"
   ]
  },
  {
   "cell_type": "markdown",
   "metadata": {},
   "source": []
  }
 ],
 "metadata": {
  "kernelspec": {
   "display_name": "Python 3",
   "language": "python",
   "name": "python3"
  },
  "language_info": {
   "codemirror_mode": {
    "name": "ipython",
    "version": 3
   },
   "file_extension": ".py",
   "mimetype": "text/x-python",
   "name": "python",
   "nbconvert_exporter": "python",
   "pygments_lexer": "ipython3",
   "version": "3.13.0"
  }
 },
 "nbformat": 4,
 "nbformat_minor": 2
}
