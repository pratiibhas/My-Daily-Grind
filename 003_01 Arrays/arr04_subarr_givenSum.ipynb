{
 "cells": [
  {
   "cell_type": "code",
   "execution_count": 5,
   "metadata": {},
   "outputs": [],
   "source": [
    "# count number of SUBARRAYS WITH GIVEN SUM \n",
    "def subarr_given_sum_k(arr,n,k):\n",
    "   \n",
    "    count=0\n",
    "    for i in range(n):\n",
    "        sum=0\n",
    "        for j in range(i,n):\n",
    "            sum+=arr[j]\n",
    "            if(sum==k):\n",
    "                count+=1\n",
    "    return count        "
   ]
  },
  {
   "cell_type": "code",
   "execution_count": 9,
   "metadata": {},
   "outputs": [
    {
     "name": "stdout",
     "output_type": "stream",
     "text": [
      "4\n"
     ]
    }
   ],
   "source": [
    "arr=[3,4,1,5,6,3,2,3]\n",
    "print(subarr_given_sum_k(arr,len(arr),5))"
   ]
  },
  {
   "cell_type": "code",
   "execution_count": 7,
   "metadata": {},
   "outputs": [
    {
     "name": "stdout",
     "output_type": "stream",
     "text": [
      "[[3], [3, 4], [3, 4, 1], [3, 4, 1, 5], [3, 4, 1, 5, 6], [3, 4, 1, 5, 6, 7], [3, 4, 1, 5, 6, 7, 2], [3, 4, 1, 5, 6, 7, 2, 8], [4], [4, 1], [4, 1, 5], [4, 1, 5, 6], [4, 1, 5, 6, 7], [4, 1, 5, 6, 7, 2], [4, 1, 5, 6, 7, 2, 8], [1], [1, 5], [1, 5, 6], [1, 5, 6, 7], [1, 5, 6, 7, 2], [1, 5, 6, 7, 2, 8], [5], [5, 6], [5, 6, 7], [5, 6, 7, 2], [5, 6, 7, 2, 8], [6], [6, 7], [6, 7, 2], [6, 7, 2, 8], [7], [7, 2], [7, 2, 8], [2], [2, 8], [8]]\n"
     ]
    }
   ],
   "source": [
    "def subarrays(arr):\n",
    "    n=len(arr)\n",
    "    a=[]\n",
    "    for i in range(n):\n",
    "        for j in range(i,n):\n",
    "            a.append(arr[i:j+1])\n",
    "    return a        \n",
    "arr=[3,4,1,5,6,7,2,8]\n",
    "print(subarrays(arr))    "
   ]
  },
  {
   "cell_type": "code",
   "execution_count": null,
   "metadata": {},
   "outputs": [],
   "source": []
  }
 ],
 "metadata": {
  "kernelspec": {
   "display_name": "Python 3",
   "language": "python",
   "name": "python3"
  },
  "language_info": {
   "codemirror_mode": {
    "name": "ipython",
    "version": 3
   },
   "file_extension": ".py",
   "mimetype": "text/x-python",
   "name": "python",
   "nbconvert_exporter": "python",
   "pygments_lexer": "ipython3",
   "version": "3.13.0"
  }
 },
 "nbformat": 4,
 "nbformat_minor": 2
}
