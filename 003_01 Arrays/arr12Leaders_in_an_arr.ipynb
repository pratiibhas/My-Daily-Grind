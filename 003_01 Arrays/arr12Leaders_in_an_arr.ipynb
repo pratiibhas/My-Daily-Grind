{
 "cells": [
  {
   "cell_type": "markdown",
   "metadata": {},
   "source": [
    "### Brute force"
   ]
  },
  {
   "cell_type": "code",
   "execution_count": 37,
   "metadata": {},
   "outputs": [],
   "source": [
    "def leaders_in_arr(arr,n):\n",
    "    l=[]\n",
    "    \n",
    "    for i in range(n):\n",
    "       \n",
    "        for j in range(i+1,n):\n",
    "            if arr[i] < arr[j]:  # Check if any element to the right is greater or equal\n",
    "                \n",
    "                break\n",
    "        else:\n",
    "            l.append(arr[i])\n",
    "    return l      "
   ]
  },
  {
   "cell_type": "code",
   "execution_count": 38,
   "metadata": {},
   "outputs": [
    {
     "name": "stdout",
     "output_type": "stream",
     "text": [
      "[22, 12, 6]\n"
     ]
    }
   ],
   "source": [
    "arr=[10,22,12,3,0,6]\n",
    "res=leaders_in_arr(arr,len(arr))\n",
    "print(res)"
   ]
  },
  {
   "cell_type": "markdown",
   "metadata": {},
   "source": [
    "### Optimal solution"
   ]
  },
  {
   "cell_type": "code",
   "execution_count": null,
   "metadata": {},
   "outputs": [],
   "source": [
    "def opt_leaders_in_arr(arr,n):\n",
    "    leaders=[]\n",
    "    max_ele= arr[n-1]\n",
    "    for i in range(n-1,-1,-1):\n",
    "        if arr[i]>=max_ele: # handle duplicates as well\n",
    "            leaders.append(arr[i])\n",
    "            max_ele= arr[i]\n",
    "    return leaders[::-1]"
   ]
  },
  {
   "cell_type": "code",
   "execution_count": 2,
   "metadata": {},
   "outputs": [
    {
     "name": "stdout",
     "output_type": "stream",
     "text": [
      "[22, 12]\n"
     ]
    }
   ],
   "source": [
    "arr=[10,22,12,3,0,6]\n",
    "res=opt_leaders_in_arr(arr,len(arr))\n",
    "print(res)"
   ]
  }
 ],
 "metadata": {
  "kernelspec": {
   "display_name": "Python 3",
   "language": "python",
   "name": "python3"
  },
  "language_info": {
   "codemirror_mode": {
    "name": "ipython",
    "version": 3
   },
   "file_extension": ".py",
   "mimetype": "text/x-python",
   "name": "python",
   "nbconvert_exporter": "python",
   "pygments_lexer": "ipython3",
   "version": "3.13.0"
  }
 },
 "nbformat": 4,
 "nbformat_minor": 2
}
