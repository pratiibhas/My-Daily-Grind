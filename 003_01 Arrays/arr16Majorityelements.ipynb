{
 "cells": [
  {
   "cell_type": "markdown",
   "metadata": {},
   "source": [
    "### Majority element that appears more that floor of n/3 times"
   ]
  },
  {
   "cell_type": "code",
   "execution_count": 20,
   "metadata": {},
   "outputs": [],
   "source": [
    "def maj_ele(arr):\n",
    "    n=len(arr)\n",
    "    cnt=0\n",
    "    ans=[]\n",
    "    \n",
    "    for i in range(n):\n",
    "        if arr[i] not in ans:\n",
    "            cnt=0\n",
    "            for j in range(n):\n",
    "                if(arr[i]==arr[j]):\n",
    "                    cnt+=1\n",
    "            if cnt>n//3:\n",
    "                    ans.append(arr[i])\n",
    "    return ans                    \n",
    "                    "
   ]
  },
  {
   "cell_type": "code",
   "execution_count": 21,
   "metadata": {},
   "outputs": [
    {
     "data": {
      "text/plain": [
       "[1, 3]"
      ]
     },
     "execution_count": 21,
     "metadata": {},
     "output_type": "execute_result"
    }
   ],
   "source": [
    "arr=[1,1,1,1,2,2,3,3,3,3]    \n",
    "maj_ele(arr)   "
   ]
  },
  {
   "cell_type": "markdown",
   "metadata": {},
   "source": [
    "### Better solution "
   ]
  },
  {
   "cell_type": "markdown",
   "metadata": {},
   "source": [
    "Obviously by using hash maps, dictionary in our case.(python)"
   ]
  },
  {
   "cell_type": "code",
   "execution_count": 28,
   "metadata": {},
   "outputs": [],
   "source": [
    "#-- from collections import dict\n",
    "def majority_ele(arr):\n",
    "    n=len(arr)\n",
    "    hashmap=dict()\n",
    "    ans=[]\n",
    "    # more brute kind of approach still \n",
    "    # though there are functions available in python to keep counter\n",
    "    for i in range(n):\n",
    "        if(arr[i] in hashmap):\n",
    "            hashmap[arr[i]]+=1\n",
    "        else:\n",
    "            hashmap[arr[i]]=1   \n",
    "    for key,count in hashmap.items():\n",
    "        if count> n//3:\n",
    "           ans.append(key)\n",
    "    return ans             \n",
    "            "
   ]
  },
  {
   "cell_type": "code",
   "execution_count": 32,
   "metadata": {},
   "outputs": [],
   "source": [
    "from collections import Counter\n",
    "\n",
    "def majorityElement(arr):\n",
    "    # Size of the given array\n",
    "    n = len(arr)\n",
    "\n",
    "    # Count the occurrences of each element using Counter\n",
    "    counter = Counter(arr)\n",
    "\n",
    "    # Searching for the majority element\n",
    "    for num, count in counter.items():\n",
    "        if count > (n // 3):\n",
    "            return num\n",
    "\n",
    "    return -1\n"
   ]
  },
  {
   "cell_type": "code",
   "execution_count": 31,
   "metadata": {},
   "outputs": [
    {
     "data": {
      "text/plain": [
       "[1, 3]"
      ]
     },
     "execution_count": 31,
     "metadata": {},
     "output_type": "execute_result"
    }
   ],
   "source": [
    "arr=[1,1,1,1,2,2,3,3,3,3]    \n",
    "majority_ele(arr)   "
   ]
  },
  {
   "cell_type": "markdown",
   "metadata": {},
   "source": [
    "Though Better solution takes O(n) of time complexity we still need to optimise since it takes O(n) to store the hashmap or dictionary in our case."
   ]
  },
  {
   "cell_type": "code",
   "execution_count": 39,
   "metadata": {},
   "outputs": [],
   "source": [
    "def maj_element(arr):\n",
    "    n=len(arr)\n",
    "    cnt1=0\n",
    "    cnt2=0\n",
    "    el1=None\n",
    "    el2 =None\n",
    "    \n",
    "    for i in range(n):\n",
    "        if(arr[i]!=el2 and cnt1==0):\n",
    "            el1=arr[i]\n",
    "            cnt1+=1\n",
    "            \n",
    "        elif (arr[i]!=el1 and cnt2==0):\n",
    "            el2=arr[i]\n",
    "            cnt2+=1    \n",
    "        elif(arr[i]==el1):\n",
    "            cnt1+=1\n",
    "        elif(arr[i]==el2):\n",
    "            cnt2+=1  \n",
    "        else:\n",
    "            cnt1-=1\n",
    "            cnt2-=1\n",
    "       \n",
    "    # Step 2: Validate the candidates\n",
    "    cnt1 = 0\n",
    "    cnt2 = 0\n",
    "    for num in arr:\n",
    "        if num == el1:\n",
    "            cnt1 += 1\n",
    "        elif num == el2:\n",
    "            cnt2 += 1\n",
    "\n",
    "    result = []\n",
    "    if cnt1 > n // 3:\n",
    "        result.append(el1)\n",
    "    if cnt2 > n // 3:\n",
    "        result.append(el2)\n",
    "\n",
    "    return result ,el1,el2         \n",
    "            "
   ]
  },
  {
   "cell_type": "code",
   "execution_count": 42,
   "metadata": {},
   "outputs": [
    {
     "data": {
      "text/plain": [
       "([5], 4, 5)"
      ]
     },
     "execution_count": 42,
     "metadata": {},
     "output_type": "execute_result"
    }
   ],
   "source": [
    "arr=[1,1,1,1,2,2,3,3,3,3,4,4,4,4,4,4,4,5,5,5,5,5,5,5,5,5]    \n",
    "maj_element(arr) "
   ]
  },
  {
   "cell_type": "markdown",
   "metadata": {},
   "source": [
    "### Best solution\n",
    "similar to hashmaps"
   ]
  },
  {
   "cell_type": "code",
   "execution_count": null,
   "metadata": {},
   "outputs": [],
   "source": [
    "def majorityElement(nums):\n",
    "        n=len(nums)\n",
    "        h={}\n",
    "        t=n//3\n",
    "        output=[]\n",
    "        visit=set()\n",
    "\n",
    "        for num in nums:\n",
    "            if num in h:\n",
    "                h[num]+=1\n",
    "            else:\n",
    "                h[num]=1\n",
    "\n",
    "            if h[num]>t and num not in visit: # to avoid getting duplicates in our answer\n",
    "                output.append(num)\n",
    "                visit.add(num)\n",
    "        return output                  "
   ]
  }
 ],
 "metadata": {
  "kernelspec": {
   "display_name": "Python 3",
   "language": "python",
   "name": "python3"
  },
  "language_info": {
   "codemirror_mode": {
    "name": "ipython",
    "version": 3
   },
   "file_extension": ".py",
   "mimetype": "text/x-python",
   "name": "python",
   "nbconvert_exporter": "python",
   "pygments_lexer": "ipython3",
   "version": "3.13.0"
  }
 },
 "nbformat": 4,
 "nbformat_minor": 2
}
