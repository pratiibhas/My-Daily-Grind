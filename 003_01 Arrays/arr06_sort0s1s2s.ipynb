{
 "cells": [
  {
   "cell_type": "code",
   "execution_count": 22,
   "metadata": {},
   "outputs": [],
   "source": [
    "# sort 0s,1s,2s\n",
    "# Optimal --Dutch National flag Algorithm\n",
    "def sort_zeroes_ones_twos(arr,n):\n",
    "    mid=0\n",
    "    high=n-1\n",
    "    low=0\n",
    "    while(high>=mid): \n",
    "        \n",
    "        if(arr[mid]==0):\n",
    "            arr[low],arr[mid]=arr[mid],arr[low]\n",
    "            low+=1\n",
    "            mid+=1\n",
    "            \n",
    "        elif(arr[mid]==1):\n",
    "            mid+=1    \n",
    "        elif(arr[mid]==2):\n",
    "            arr[mid],arr[high]=arr[high],arr[mid],\n",
    "            high-=1\n",
    "           \n",
    "    return arr         \n",
    "           "
   ]
  },
  {
   "cell_type": "code",
   "execution_count": 21,
   "metadata": {},
   "outputs": [
    {
     "name": "stdout",
     "output_type": "stream",
     "text": [
      "[0, 0, 0, 0, 1, 1, 1, 1, 1, 1, 2, 2, 2]\n"
     ]
    }
   ],
   "source": [
    "arr=[1, 0, 0,1,1,1,0,2,2,2,1,1,0]\n",
    "print(sort_zeroes_ones_twos(arr,len(arr)))"
   ]
  },
  {
   "cell_type": "code",
   "execution_count": null,
   "metadata": {},
   "outputs": [],
   "source": []
  },
  {
   "cell_type": "code",
   "execution_count": null,
   "metadata": {},
   "outputs": [],
   "source": []
  },
  {
   "cell_type": "code",
   "execution_count": null,
   "metadata": {},
   "outputs": [],
   "source": []
  }
 ],
 "metadata": {
  "kernelspec": {
   "display_name": "Python 3",
   "language": "python",
   "name": "python3"
  },
  "language_info": {
   "codemirror_mode": {
    "name": "ipython",
    "version": 3
   },
   "file_extension": ".py",
   "mimetype": "text/x-python",
   "name": "python",
   "nbconvert_exporter": "python",
   "pygments_lexer": "ipython3",
   "version": "3.13.0"
  }
 },
 "nbformat": 4,
 "nbformat_minor": 2
}
