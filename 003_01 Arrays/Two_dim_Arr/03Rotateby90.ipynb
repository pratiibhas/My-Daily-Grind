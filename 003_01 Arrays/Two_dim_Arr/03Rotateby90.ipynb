{
 "cells": [
  {
   "cell_type": "markdown",
   "metadata": {},
   "source": [
    "### Brute force appraoch"
   ]
  },
  {
   "cell_type": "markdown",
   "metadata": {},
   "source": [
    "Well basically observation arr[i][j] of new matrix is equal to arr[j][n-1-i] of the older one "
   ]
  },
  {
   "cell_type": "code",
   "execution_count": null,
   "metadata": {},
   "outputs": [],
   "source": [
    "def rotate( matrix):\n",
    "        n = len(matrix)\n",
    "        m = [row[:] for row in matrix]\n",
    "        for i in range(n):\n",
    "            for j in range(n):\n",
    "                matrix[j][n-1-i]=m[i][j]\n"
   ]
  },
  {
   "cell_type": "markdown",
   "metadata": {},
   "source": [
    "SC-O(N^2)\n",
    "TC-O(N^2)"
   ]
  },
  {
   "cell_type": "markdown",
   "metadata": {},
   "source": [
    "### optimal approach"
   ]
  },
  {
   "cell_type": "markdown",
   "metadata": {},
   "source": [
    "Just Transpose it athen reverse it. (Observations)"
   ]
  },
  {
   "cell_type": "code",
   "execution_count": null,
   "metadata": {},
   "outputs": [],
   "source": [
    "def rotate(matrix):\n",
    "        n = len(matrix)\n",
    "        for i in range(n-1):\n",
    "            for j in range(i+1,n):\n",
    "                matrix[i][j],matrix[j][i]=matrix[j][i],matrix[i][j]\n",
    "\n",
    "        for i in range(n):\n",
    "            matrix[i].reverse()  \n",
    "        return matrix    "
   ]
  }
 ],
 "metadata": {
  "kernelspec": {
   "display_name": "Python 3",
   "language": "python",
   "name": "python3"
  },
  "language_info": {
   "name": "python",
   "version": "3.13.0"
  }
 },
 "nbformat": 4,
 "nbformat_minor": 2
}
