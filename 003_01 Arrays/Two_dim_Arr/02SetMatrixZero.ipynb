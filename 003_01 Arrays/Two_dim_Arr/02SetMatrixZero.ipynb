{
 "cells": [
  {
   "cell_type": "markdown",
   "metadata": {},
   "source": [
    "### Brute Force Approach"
   ]
  },
  {
   "cell_type": "markdown",
   "metadata": {},
   "source": [
    "We are taking the matrix iterating through it and if we find a zero we set it's whole row and column to -1 not 0 since it can overlap with pre-existing zeroes.\n",
    "Then aGAIN ITERATING and setting all -1s to 0s"
   ]
  },
  {
   "cell_type": "code",
   "execution_count": 9,
   "metadata": {},
   "outputs": [],
   "source": [
    "def set_zeroes_brute(arr,m,n):\n",
    "    for i in range(m):\n",
    "        for j in range(n):\n",
    "            if arr[i][j]==0:\n",
    "                for col in range(n):\n",
    "                    arr[i][col]=-1\n",
    "                for row in range(m):\n",
    "                    arr[row][j]=-1\n",
    "    for i in range(m):\n",
    "        for j in range(n):\n",
    "            if arr[i][j]==-1:\n",
    "                arr[i][j]=0\n",
    "    return arr                           \n",
    "                    "
   ]
  },
  {
   "cell_type": "code",
   "execution_count": 10,
   "metadata": {},
   "outputs": [
    {
     "name": "stdout",
     "output_type": "stream",
     "text": [
      "[[1, 0, 3], [0, 0, 0], [7, 0, 9]]\n"
     ]
    }
   ],
   "source": [
    "matrix = [\n",
    "    [1, 2, 3],\n",
    "    [4, 0, 6],\n",
    "    [7, 8, 9]\n",
    "]\n",
    "print(set_zeroes_brute(matrix, 3, 3))"
   ]
  },
  {
   "cell_type": "code",
   "execution_count": 15,
   "metadata": {},
   "outputs": [],
   "source": [
    "# Striver's code\n",
    "def Markrow(arr,i,n):\n",
    "     for j in range(n):\n",
    "        if (arr[i][j]!=0):\n",
    "            arr[i][j]=-1\n",
    "def Markcol(arr,j,m):\n",
    "     for i in range(m):\n",
    "        if (arr[i][j]!=0):\n",
    "            arr[i][j]=-1            \n",
    "         \n",
    "def set_matrix_zero(arr,m,n):\n",
    "    for i in range(m):\n",
    "        for j in range(n):\n",
    "            if arr[i][j]==0:# O(m+n)\n",
    "                Markrow(arr,i,m)\n",
    "                Markcol(arr,j,n)\n",
    "    for i in range(m):  #O(m.n)\n",
    "        for j in range(n):\n",
    "            if arr[i][j]==-1:\n",
    "                arr[i][j]=0\n",
    "                        \n",
    "    return arr           "
   ]
  },
  {
   "cell_type": "code",
   "execution_count": 16,
   "metadata": {},
   "outputs": [
    {
     "name": "stdout",
     "output_type": "stream",
     "text": [
      "[[1, 0, 3], [0, 0, 0], [7, 0, 9]]\n"
     ]
    }
   ],
   "source": [
    "matrix = [\n",
    "    [1, 2, 3],\n",
    "    [4, 0, 6],\n",
    "    [7, 8, 9]\n",
    "]\n",
    "print(set_matrix_zero(matrix, 3, 3))"
   ]
  },
  {
   "cell_type": "markdown",
   "metadata": {},
   "source": [
    "Time complexity: O(n+m).O(m.n)\n",
    "Space complexity: O(1)"
   ]
  },
  {
   "cell_type": "markdown",
   "metadata": {},
   "source": [
    "### Better approach"
   ]
  },
  {
   "cell_type": "markdown",
   "metadata": {},
   "source": [
    "We amke two array one of size of columns, one of size of rows. Then when we found a zero we amrk the corresponding row arr, and col arr.\n",
    "\n",
    "After iteration is done, we will go through arr pf cols and rows and those are marked we'll set all that rows and cols as zeroes."
   ]
  },
  {
   "cell_type": "code",
   "execution_count": 22,
   "metadata": {},
   "outputs": [],
   "source": [
    "def set_zeroes_better(arr,n,m):\n",
    "    col_arr=[0 for _ in range(n)]\n",
    "    row_arr=[0 for _ in range(m)]\n",
    "    for i in range(m):\n",
    "        for j in  range(n):\n",
    "            if arr[i][j]==0:\n",
    "                col_arr[j]=1\n",
    "                row_arr[i]=1\n",
    "    for i in range(m):\n",
    "        for j in  range(n):\n",
    "            if col_arr[j]==1 or row_arr[i]==1:\n",
    "                arr[i][j]=0\n",
    "    return arr            \n",
    "                \n",
    "                       "
   ]
  },
  {
   "cell_type": "code",
   "execution_count": 24,
   "metadata": {},
   "outputs": [
    {
     "name": "stdout",
     "output_type": "stream",
     "text": [
      "[[0, 0, 3], [0, 0, 0], [0, 0, 9]]\n"
     ]
    }
   ],
   "source": [
    "matrix = [\n",
    "    [1, 2, 3],\n",
    "    [0, 0, 6],\n",
    "    [7, 8, 9]\n",
    "]\n",
    "print(set_zeroes_better(matrix, 3, 3))"
   ]
  },
  {
   "cell_type": "markdown",
   "metadata": {},
   "source": [
    "Time Complexity:O(2*m*n)\n",
    "Space Complexity:O(n)+O(m)"
   ]
  },
  {
   "cell_type": "markdown",
   "metadata": {},
   "source": [
    "### Optimal Solution"
   ]
  },
  {
   "cell_type": "markdown",
   "metadata": {},
   "source": [
    "Now we cannot optimize time complexity more than n^2 so here we will try to optimise the space complexity.\n",
    "\n",
    "APPROACH: Similar to the better one but instead of making array to keep track we will try and keep track inside the matrix.\n"
   ]
  },
  {
   "cell_type": "markdown",
   "metadata": {},
   "source": [
    "col0 is defined  to make a extra column to keep track of column0"
   ]
  },
  {
   "cell_type": "code",
   "execution_count": 40,
   "metadata": {},
   "outputs": [],
   "source": [
    "def setZeroes(arr):\n",
    "        n = len(arr[0]) # length of column\n",
    "        m = len(arr) # length of row\n",
    "       \n",
    "        col0=1\n",
    "        for i in range(m):\n",
    "            for j in  range(n):\n",
    "                if arr[i][j]==0:\n",
    "                    arr[i][0]=0\n",
    "                    if (j!=0):\n",
    "                        arr[0][j]=0\n",
    "                    else: \n",
    "                        col0=0 # That one value that we took outside of matrix to avoid overlap\n",
    "                        \n",
    "        for i in range(1,m):\n",
    "            for j in  range(1,n): # Iterating through the matrix the ones which we did not used to keep track so starting from 1\n",
    "                if arr[i][j]!=0:\n",
    "                    if(arr[i][0]==0 or arr[0][j]==0):\n",
    "                        arr[i][j]=0\n",
    "                        \n",
    "        # Now itertaing to col[0] and row[0]\n",
    "        # The first row if arr[0][0]==0 then the whole row will be equal to 0\n",
    "        if arr[0][0] == 0:\n",
    "            for j in range(n):\n",
    "                arr[0][j] = 0\n",
    "        \n",
    "        # Handle the first column\n",
    "        if col0 == 0:\n",
    "            for i in range(m):\n",
    "                arr[i][0] = 0\n",
    "              \n",
    "        \n",
    "        return arr            \n",
    "                "
   ]
  },
  {
   "cell_type": "code",
   "execution_count": 42,
   "metadata": {},
   "outputs": [
    {
     "name": "stdout",
     "output_type": "stream",
     "text": [
      "[[0, 0, 3], [0, 0, 0], [0, 0, 9]]\n"
     ]
    }
   ],
   "source": [
    "matrix = [\n",
    "    [1, 2, 3],\n",
    "    [0, 0, 6],\n",
    "    [7, 8, 9]\n",
    "]\n",
    "print(setZeroes(matrix))"
   ]
  },
  {
   "cell_type": "markdown",
   "metadata": {},
   "source": [
    "Mistakes I made:\n",
    "1. While modifying the first rows and columns, confusing them : so visualize while writing the code.\n",
    "2. Also using == instead of = to make assignments, sillly mistake.\n",
    "3. I did not initialized col0 =1 "
   ]
  },
  {
   "cell_type": "markdown",
   "metadata": {},
   "source": [
    "### Leetcode best solution"
   ]
  },
  {
   "cell_type": "code",
   "execution_count": 43,
   "metadata": {},
   "outputs": [],
   "source": [
    "def setZeroes( matrix):\n",
    "        \"\"\"\n",
    "        Do not return anything, modify matrix in-place instead.\n",
    "        \"\"\"\n",
    "        m = len(matrix)\n",
    "        n = len(matrix[0])\n",
    "        first_col = False\n",
    "\n",
    "        for x in range(m):\n",
    "            if matrix[x][0] == 0:\n",
    "                first_col = True\n",
    "            for y in range(1, n):\n",
    "                if matrix[x][y] == 0:\n",
    "                    matrix[0][y] = 0\n",
    "                    matrix[x][0] = 0\n",
    "\n",
    "        for x in range(1, m):\n",
    "            for y in range(1, n):\n",
    "                if matrix[x][0] == 0 or matrix[0][y] == 0:\n",
    "                    matrix[x][y] = 0\n",
    "\n",
    "        if matrix[0][0] == 0:\n",
    "            for y in range(n):\n",
    "                matrix[0][y] = 0\n",
    "\n",
    "        if first_col:\n",
    "            for x in range(m):\n",
    "                matrix[x][0] = 0\n",
    "        return matrix        "
   ]
  },
  {
   "cell_type": "code",
   "execution_count": 44,
   "metadata": {},
   "outputs": [
    {
     "name": "stdout",
     "output_type": "stream",
     "text": [
      "[[0, 0, 3], [0, 0, 0], [0, 0, 9]]\n"
     ]
    }
   ],
   "source": [
    "matrix = [\n",
    "    [1, 2, 3],\n",
    "    [0, 0, 6],\n",
    "    [7, 8, 9]\n",
    "]\n",
    "print(setZeroes(matrix))"
   ]
  }
 ],
 "metadata": {
  "kernelspec": {
   "display_name": "Python 3",
   "language": "python",
   "name": "python3"
  },
  "language_info": {
   "codemirror_mode": {
    "name": "ipython",
    "version": 3
   },
   "file_extension": ".py",
   "mimetype": "text/x-python",
   "name": "python",
   "nbconvert_exporter": "python",
   "pygments_lexer": "ipython3",
   "version": "3.13.0"
  }
 },
 "nbformat": 4,
 "nbformat_minor": 2
}
