{
 "cells": [
  {
   "cell_type": "code",
   "execution_count": 3,
   "metadata": {},
   "outputs": [],
   "source": [
    "def create(n,m):\n",
    "    c=[]\n",
    "    for i in range(n):\n",
    "        for j in range(m):\n",
    "           x=input()\n",
    "           c.append(x) \n",
    "    return c       "
   ]
  },
  {
   "cell_type": "code",
   "execution_count": 4,
   "metadata": {},
   "outputs": [
    {
     "name": "stdout",
     "output_type": "stream",
     "text": [
      "['3', '4', '2', '4', '5', '2', '', '3', '4', '5', '2', '2']\n"
     ]
    }
   ],
   "source": [
    "x=create(3,4)\n",
    "print(x)"
   ]
  },
  {
   "cell_type": "code",
   "execution_count": 6,
   "metadata": {},
   "outputs": [],
   "source": [
    "# Row-wise inputs\n",
    "def create_n(n, m):\n",
    "    c = []  # Initialize an empty list\n",
    "    for i in range(n):\n",
    "        row = []  # Create a new row for each iteration\n",
    "        for j in range(m):\n",
    "            x = input(f\"Enter value for element ({i}, {j}): \")  # Prompt for input\n",
    "            row.append(x)  # Append element to the current row\n",
    "        c.append(row)  # Append the row to the 2D array\n",
    "    return c\n"
   ]
  },
  {
   "cell_type": "code",
   "execution_count": 8,
   "metadata": {},
   "outputs": [
    {
     "name": "stdout",
     "output_type": "stream",
     "text": [
      "[['3', '2', '4'], ['1', '4', '2'], ['4', '2', '']]\n"
     ]
    }
   ],
   "source": [
    "y=create_n(3,3)\n",
    "print(y)"
   ]
  },
  {
   "cell_type": "code",
   "execution_count": 9,
   "metadata": {},
   "outputs": [],
   "source": [
    "# Column-wise inputs\n",
    "def create_col(n, m):\n",
    "    c = []  # Initialize an empty list\n",
    "    for i in range(m):\n",
    "        row = []  # Create a new row for each iteration\n",
    "        for j in range(n):\n",
    "            x = input(f\"Enter value for element ({i}, {j}): \")  # Prompt for input\n",
    "            row.append(x)  # Append element to the current row\n",
    "        c.append(row)  # Append the row to the 2D array\n",
    "    return c"
   ]
  },
  {
   "cell_type": "code",
   "execution_count": 10,
   "metadata": {},
   "outputs": [
    {
     "name": "stdout",
     "output_type": "stream",
     "text": [
      "[['1', '2', '3'], ['4', '5', '6'], ['7', '8', '9'], ['0', '1', '2']]\n"
     ]
    }
   ],
   "source": [
    "cols=create_col(3, 4)\n",
    "print(cols)"
   ]
  },
  {
   "cell_type": "code",
   "execution_count": 11,
   "metadata": {},
   "outputs": [
    {
     "name": "stdout",
     "output_type": "stream",
     "text": [
      "[['1', '2', '3', '4'], ['5', '6', '7', '8'], ['9', '0', '1', '2']]\n"
     ]
    }
   ],
   "source": [
    "rows=create_n(3,4)\n",
    "print(rows)"
   ]
  },
  {
   "cell_type": "code",
   "execution_count": 12,
   "metadata": {},
   "outputs": [
    {
     "name": "stdout",
     "output_type": "stream",
     "text": [
      "[[1, 2, 3], [2, 3, 4], [5, 6, 7]]\n"
     ]
    }
   ],
   "source": [
    "arr=[[1, 2, 3 ],[2 ,3, 4],[5, 6, 7]]\n",
    "print(arr)"
   ]
  },
  {
   "cell_type": "markdown",
   "metadata": {},
   "source": [
    "### Row wise sum"
   ]
  },
  {
   "cell_type": "code",
   "execution_count": 25,
   "metadata": {},
   "outputs": [],
   "source": [
    "def row_wiseSum(arr,n,m):\n",
    "    row_sums = [] \n",
    "    for i in range(n):\n",
    "        row_sum=0\n",
    "        for j in range(m):\n",
    "            row_sum+=arr[i][j]\n",
    "        row_sums.append(row_sum)    \n",
    "    return row_sums       "
   ]
  },
  {
   "cell_type": "code",
   "execution_count": 26,
   "metadata": {},
   "outputs": [
    {
     "name": "stdout",
     "output_type": "stream",
     "text": [
      "[6, 9, 18]\n"
     ]
    }
   ],
   "source": [
    "arr=[[1, 2, 3 ],[2 ,3, 4],[5, 6, 7]]\n",
    "y=row_wiseSum(arr,3,3)\n",
    "print(y)"
   ]
  },
  {
   "cell_type": "code",
   "execution_count": 29,
   "metadata": {},
   "outputs": [],
   "source": [
    "def col_wise(arr,n,m):\n",
    "    col_sums=[]\n",
    "    for i in range(m):\n",
    "        col_sum=0\n",
    "        for j in range(m):\n",
    "            col_sum+=arr[j][i]\n",
    "        col_sums.append(col_sum)\n",
    "    return col_sums        "
   ]
  },
  {
   "cell_type": "code",
   "execution_count": 30,
   "metadata": {},
   "outputs": [
    {
     "name": "stdout",
     "output_type": "stream",
     "text": [
      "[8, 11, 14]\n"
     ]
    }
   ],
   "source": [
    "arr=[[1, 2, 3 ],[2 ,3, 4],[5, 6, 7]]\n",
    "y=col_wise(arr,3,3)\n",
    "print(y)"
   ]
  },
  {
   "cell_type": "markdown",
   "metadata": {},
   "source": [
    "### Largest Row/Column Sum"
   ]
  },
  {
   "cell_type": "code",
   "execution_count": 38,
   "metadata": {},
   "outputs": [],
   "source": [
    "def Largest_rowSum(arr,n,m):\n",
    "    maxi=float('-inf')\n",
    "    rowIndex=-1\n",
    "    for i in range(n):\n",
    "        row_sum=0\n",
    "        for j in range(m):\n",
    "            row_sum+=arr[i][j]\n",
    "        if(maxi<row_sum):\n",
    "            maxi=row_sum \n",
    "            rowIndex=i \n",
    "    return maxi,rowIndex"
   ]
  },
  {
   "cell_type": "code",
   "execution_count": 39,
   "metadata": {},
   "outputs": [
    {
     "name": "stdout",
     "output_type": "stream",
     "text": [
      "(21, 0)\n"
     ]
    }
   ],
   "source": [
    "arr=[[1, 2, 18 ],[2 ,3, 4],[5, 6, 7]]\n",
    "y=Largest_rowSum(arr,3,3)\n",
    "print(y)"
   ]
  }
 ],
 "metadata": {
  "kernelspec": {
   "display_name": "Python 3",
   "language": "python",
   "name": "python3"
  },
  "language_info": {
   "codemirror_mode": {
    "name": "ipython",
    "version": 3
   },
   "file_extension": ".py",
   "mimetype": "text/x-python",
   "name": "python",
   "nbconvert_exporter": "python",
   "pygments_lexer": "ipython3",
   "version": "3.13.0"
  }
 },
 "nbformat": 4,
 "nbformat_minor": 2
}
