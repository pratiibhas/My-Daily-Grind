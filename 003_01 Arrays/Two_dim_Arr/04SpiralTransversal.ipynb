{
 "cells": [
  {
   "cell_type": "markdown",
   "metadata": {},
   "source": [
    "### Optimal solution "
   ]
  },
  {
   "cell_type": "markdown",
   "metadata": {},
   "source": [
    "Only one solution to the problem"
   ]
  },
  {
   "cell_type": "code",
   "execution_count": 66,
   "metadata": {},
   "outputs": [],
   "source": [
    "def spiral_transversal(arr):\n",
    "    n=len(arr[0])\n",
    "    m=len(arr)\n",
    "    \n",
    "    top=0\n",
    "    left=0\n",
    "    right= n-1\n",
    "    bottom =m-1\n",
    "    \n",
    "    ans=list()\n",
    "    while top<=bottom and left<=right:\n",
    "        for i in range(left,right+1):\n",
    "            ans.append(arr[top][i])\n",
    "        top+=1    \n",
    "        for i in range(top,bottom+1):\n",
    "            ans.append(arr[i][right])   \n",
    "        right-=1 \n",
    "        # For moving left to right\n",
    "        if (top <= bottom):  \n",
    "            for i in range(right,left-1,-1):\n",
    "                ans.append(arr[bottom][i])   \n",
    "            bottom-=1\n",
    "        # For moving top to bottom\n",
    "        if (right >= left):      \n",
    "            for i in range(bottom,top-1,-1):\n",
    "                ans.append(arr[i][left])\n",
    "            left+=1    \n",
    "        \n",
    "    return ans     "
   ]
  },
  {
   "cell_type": "code",
   "execution_count": 54,
   "metadata": {},
   "outputs": [
    {
     "name": "stdout",
     "output_type": "stream",
     "text": [
      "[1, 2, 3, 4, 5, 6, 7, 8, 9, 10, 11, 12, 13, 14, 15, 16, 17, 18, 19, 20, 21, 22, 23, 24, 25, 26, 27, 28, 29, 30, 31, 32, 33, 34, 35, 36]\n"
     ]
    }
   ],
   "source": [
    "arr = [\n",
    "    [1, 2, 3, 4, 5, 6],\n",
    "    [20, 21, 22, 23, 24, 7],\n",
    "    [19, 32, 33, 34, 25, 8],\n",
    "    [18, 31, 36, 35, 26, 9],\n",
    "    [17, 30, 29, 28, 27, 10],\n",
    "    [16, 15, 14, 13, 12, 11]\n",
    "]\n",
    "\n",
    "print(spiral_transversal(arr))\n"
   ]
  },
  {
   "cell_type": "code",
   "execution_count": 67,
   "metadata": {},
   "outputs": [
    {
     "name": "stdout",
     "output_type": "stream",
     "text": [
      "[2, 3, 4, 5, 6, 7, 8, 9, 10, 11, 12, 13, 14, 15, 30, 31, 32, 21, 22, 23, 24, 25, 26, 27, 28, 29, 36, 33, 34, 35]\n"
     ]
    }
   ],
   "source": [
    "arr = [\n",
    "    [ 2, 3, 4, 5, 6],\n",
    "    [ 21, 22, 23, 24, 7],\n",
    "    [ 32, 33, 34, 25, 8],\n",
    "    [ 31, 36, 35, 26, 9],\n",
    "    [ 30, 29, 28, 27, 10],\n",
    "    [ 15, 14, 13, 12, 11]\n",
    "]\n",
    "\n",
    "print(spiral_trans(arr))"
   ]
  },
  {
   "cell_type": "code",
   "execution_count": 68,
   "metadata": {},
   "outputs": [],
   "source": [
    "def spiral_trans(arr):\n",
    "    n=len(arr[0])\n",
    "    m=len(arr)\n",
    "    \n",
    "    top=0\n",
    "    left=0\n",
    "    right= n-1\n",
    "    bottom =m-1\n",
    "    \n",
    "    ans=list()\n",
    "    while top<=bottom and left<=right:\n",
    "        for i in range(left,right+1):\n",
    "            ans.append(arr[top][i])\n",
    "        top+=1    \n",
    "        for i in range(top,bottom+1):\n",
    "            ans.append(arr[i][right])   \n",
    "        right-=1 \n",
    "        # For moving left to right\n",
    "         \n",
    "        for i in range(right,left-1,-1):\n",
    "            ans.append(arr[bottom][i])   \n",
    "        bottom-=1\n",
    "        # For moving top to bottom\n",
    "             \n",
    "        for i in range(bottom,top-1,-1):\n",
    "            ans.append(arr[i][left])\n",
    "        left+=1    \n",
    "        \n",
    "    return ans     "
   ]
  },
  {
   "cell_type": "code",
   "execution_count": 69,
   "metadata": {},
   "outputs": [
    {
     "name": "stdout",
     "output_type": "stream",
     "text": [
      "[2, 3, 4, 5, 6, 7, 8, 9, 10, 11, 12, 13, 14, 15, 30, 31, 32, 21, 22, 23, 24, 25, 26, 27, 28, 29, 36, 33, 34, 35]\n"
     ]
    }
   ],
   "source": [
    "arr = [\n",
    "    [ 2, 3, 4, 5, 6],\n",
    "    [ 21, 22, 23, 24, 7],\n",
    "    [ 32, 33, 34, 25, 8],\n",
    "    [ 31, 36, 35, 26, 9],\n",
    "    [ 30, 29, 28, 27, 10],\n",
    "    [ 15, 14, 13, 12, 11]\n",
    "]\n",
    "\n",
    "print(spiral_trans(arr))"
   ]
  },
  {
   "cell_type": "code",
   "execution_count": 70,
   "metadata": {},
   "outputs": [
    {
     "name": "stdout",
     "output_type": "stream",
     "text": [
      "[1, 2, 3, 6, 5, 4]\n"
     ]
    }
   ],
   "source": [
    "arr = [\n",
    "    [1, 2, 3],\n",
    "    [4, 5, 6]\n",
    "]\n",
    "print(spiral_trans(arr))"
   ]
  },
  {
   "cell_type": "code",
   "execution_count": 71,
   "metadata": {},
   "outputs": [
    {
     "name": "stdout",
     "output_type": "stream",
     "text": [
      "[1]\n"
     ]
    }
   ],
   "source": [
    "arr = [\n",
    "    [1]\n",
    "]\n",
    "print(spiral_trans(arr))"
   ]
  }
 ],
 "metadata": {
  "kernelspec": {
   "display_name": "Python 3",
   "language": "python",
   "name": "python3"
  },
  "language_info": {
   "codemirror_mode": {
    "name": "ipython",
    "version": 3
   },
   "file_extension": ".py",
   "mimetype": "text/x-python",
   "name": "python",
   "nbconvert_exporter": "python",
   "pygments_lexer": "ipython3",
   "version": "3.13.0"
  }
 },
 "nbformat": 4,
 "nbformat_minor": 2
}
