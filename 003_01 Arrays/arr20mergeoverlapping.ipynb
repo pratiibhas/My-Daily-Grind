{
 "cells": [
  {
   "cell_type": "markdown",
   "metadata": {},
   "source": [
    "### Merge overlapping subintervals"
   ]
  },
  {
   "cell_type": "code",
   "execution_count": 15,
   "metadata": {},
   "outputs": [],
   "source": [
    "def merge_overlapping_Arr_brute_force(arr):\n",
    "    n = len(arr)\n",
    "    arr.sort()  # Sort intervals to simplify merging\n",
    "    i = 0\n",
    "    \n",
    "    while i < len(arr) - 1:\n",
    "        # Check if the current interval overlaps with the next interval\n",
    "        if arr[i][1] >= arr[i + 1][0]: \n",
    "            # Merge the two intervals\n",
    "            arr[i] = (arr[i][0], max(arr[i][1], arr[i + 1][1]))\n",
    "            # Remove the next interval since it is now merged\n",
    "            arr.pop(i + 1)\n",
    "        else:\n",
    "            # Move to the next interval\n",
    "            i += 1\n",
    "            \n",
    "    return arr\n"
   ]
  },
  {
   "cell_type": "code",
   "execution_count": 16,
   "metadata": {},
   "outputs": [
    {
     "data": {
      "text/plain": [
       "[(1, 6), (8, 11), (15, 18)]"
      ]
     },
     "execution_count": 16,
     "metadata": {},
     "output_type": "execute_result"
    }
   ],
   "source": [
    "arr=[(1,3),(2,6),(8,9),(9,11),(8,10),(2,4),(15,18)]\n",
    "merge_overlapping_Arr_brute_force(arr)"
   ]
  },
  {
   "cell_type": "code",
   "execution_count": 7,
   "metadata": {},
   "outputs": [],
   "source": [
    "def merge_overlapping_Arr(arr):\n",
    "    # Sort intervals by the starting time\n",
    "    arr.sort()\n",
    "    ans = []\n",
    "    \n",
    "    for interval in arr:\n",
    "        # If ans is empty or the current interval does not overlap with the last interval in ans\n",
    "        if not ans or ans[-1][1] < interval[0]:\n",
    "            ans.append(interval)  # Add the current interval\n",
    "        else:\n",
    "            # Merge the current interval with the last interval in ans\n",
    "            ans[-1] = (ans[-1][0], max(ans[-1][1], interval[1]))\n",
    "    \n",
    "    return ans\n"
   ]
  },
  {
   "cell_type": "code",
   "execution_count": 31,
   "metadata": {},
   "outputs": [],
   "source": [
    "# My solution\n",
    "def merge_overlappings(arr):\n",
    "    n=len(arr)\n",
    "    arr.sort()\n",
    "    ans=[]\n",
    "    init= (arr[0][0],arr[0][1])\n",
    "    for i in range(1,n):\n",
    "        \n",
    "        if arr[i][0]<=init[1]:\n",
    "            init=(init[0],max(arr[i][1],init[1]))\n",
    "        else:\n",
    "            ans.append(init)    \n",
    "            init=(arr[i][0],arr[i][1])\n",
    "    ans.append(init)        \n",
    "    return ans          "
   ]
  },
  {
   "cell_type": "code",
   "execution_count": 32,
   "metadata": {},
   "outputs": [
    {
     "data": {
      "text/plain": [
       "[(1, 6), (8, 11), (15, 18)]"
      ]
     },
     "execution_count": 32,
     "metadata": {},
     "output_type": "execute_result"
    }
   ],
   "source": [
    "arr=[(1,3),(2,6),(8,9),(9,11),(8,10),(2,4),(15,18)]\n",
    "merge_overlappings(arr)"
   ]
  }
 ],
 "metadata": {
  "kernelspec": {
   "display_name": "Python 3",
   "language": "python",
   "name": "python3"
  },
  "language_info": {
   "codemirror_mode": {
    "name": "ipython",
    "version": 3
   },
   "file_extension": ".py",
   "mimetype": "text/x-python",
   "name": "python",
   "nbconvert_exporter": "python",
   "pygments_lexer": "ipython3",
   "version": "3.13.0"
  }
 },
 "nbformat": 4,
 "nbformat_minor": 2
}
