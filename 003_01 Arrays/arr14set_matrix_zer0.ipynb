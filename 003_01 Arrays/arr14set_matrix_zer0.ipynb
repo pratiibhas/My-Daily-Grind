{
 "cells": [
  {
   "cell_type": "markdown",
   "metadata": {},
   "source": [
    "### Brute force approach"
   ]
  },
  {
   "cell_type": "code",
   "execution_count": 2,
   "metadata": {},
   "outputs": [],
   "source": [
    "def set_zeroes_brute_force(matrix):\n",
    "    rows = len(matrix)\n",
    "    cols = len(matrix[0])\n",
    "    \n",
    "    # Step 1: Initialize helper arrays\n",
    "    row_flag = [0] * rows\n",
    "    col_flag = [0] * cols\n",
    "    \n",
    "    # Step 2: Mark rows and columns to be zeroed\n",
    "    for i in range(rows):\n",
    "        for j in range(cols):\n",
    "            if matrix[i][j] == 0:\n",
    "                row_flag[i] = 1\n",
    "                col_flag[j] = 1\n",
    "    \n",
    "    # Step 3: Update matrix\n",
    "    for i in range(rows):\n",
    "        for j in range(cols):\n",
    "            if row_flag[i] == 1 or col_flag[j] == 1:\n",
    "                matrix[i][j] = 0\n",
    "    \n",
    "    return matrix\n"
   ]
  },
  {
   "cell_type": "code",
   "execution_count": 4,
   "metadata": {},
   "outputs": [
    {
     "name": "stdout",
     "output_type": "stream",
     "text": [
      "[[1, 0, 3], [0, 0, 0], [7, 0, 9]]\n"
     ]
    }
   ],
   "source": [
    "matrix = [\n",
    "    [1, 2, 3],\n",
    "    [4, 0, 6],\n",
    "    [7, 8, 9]\n",
    "]\n",
    "print(set_zeroes_brute_force(matrix))"
   ]
  },
  {
   "cell_type": "code",
   "execution_count": null,
   "metadata": {},
   "outputs": [],
   "source": [
    "def setZeroes(arr) -> None:\n",
    "        n = len(arr[0])  # m is the number of rows \n",
    "        m = len(arr) # n is the number of columns\n",
    "       \n",
    "        col0=1\n",
    "        for i in range(m):\n",
    "            for j in  range(n):\n",
    "                if arr[i][j]==0:\n",
    "                    arr[i][0]=0\n",
    "                    if (j!=0):\n",
    "                        arr[0][j]=0\n",
    "                    else: \n",
    "                        col0=0 # That one value that we took outside of matrix to avoid overlap\n",
    "                        \n",
    "        for i in range(1,m):\n",
    "            for j in  range(1,n): # Iterating through the matrix the ones which we did not used to keep track so starting from 1\n",
    "                if arr[i][j]!=0:\n",
    "                    if(arr[i][0]==0 or arr[0][j]==0):\n",
    "                        arr[i][j]=0\n",
    "                        \n",
    "        # Now itertaing to col[0] and row[0]\n",
    "        # The first row if arr[0][0]==0 then the whole row will be equal to 0\n",
    "        if arr[0][0] == 0:\n",
    "            for j in range(n):\n",
    "                arr[0][j] = 0\n",
    "        \n",
    "        # Handle the first column\n",
    "        if col0 == 0:\n",
    "            for i in range(m):\n",
    "                arr[i][0] = 0\n",
    "              \n",
    "        "
   ]
  },
  {
   "cell_type": "code",
   "execution_count": 20,
   "metadata": {},
   "outputs": [],
   "source": [
    "def all_subarr(arr,n):\n",
    "    subs=[]\n",
    "    for i in range(n):\n",
    "        \n",
    "        for j in range(i,n):\n",
    "           subs.append(arr[i:j+1])\n",
    "    return subs    "
   ]
  },
  {
   "cell_type": "code",
   "execution_count": 21,
   "metadata": {},
   "outputs": [
    {
     "name": "stdout",
     "output_type": "stream",
     "text": [
      "[[1], [1, 2], [1, 2, 3], [2], [2, 3], [3]]\n"
     ]
    }
   ],
   "source": [
    "arr=[1,2,3]\n",
    "print(all_subarr(arr,len(arr)))"
   ]
  }
 ],
 "metadata": {
  "kernelspec": {
   "display_name": "Python 3",
   "language": "python",
   "name": "python3"
  },
  "language_info": {
   "codemirror_mode": {
    "name": "ipython",
    "version": 3
   },
   "file_extension": ".py",
   "mimetype": "text/x-python",
   "name": "python",
   "nbconvert_exporter": "python",
   "pygments_lexer": "ipython3",
   "version": "3.13.0"
  }
 },
 "nbformat": 4,
 "nbformat_minor": 2
}
