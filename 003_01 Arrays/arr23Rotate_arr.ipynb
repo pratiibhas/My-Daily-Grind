{
 "cells": [
  {
   "cell_type": "code",
   "execution_count": null,
   "metadata": {},
   "outputs": [],
   "source": [
    "# Rotate array by one place\n",
    "#[1,2,3,4,5]--> [2,3,4,5,1]"
   ]
  },
  {
   "cell_type": "markdown",
   "metadata": {},
   "source": [
    "### Brute force"
   ]
  },
  {
   "cell_type": "code",
   "execution_count": 15,
   "metadata": {},
   "outputs": [],
   "source": [
    "def brute_rotate(arr,n):\n",
    "    temp=[0]*n\n",
    "    first=arr[0]\n",
    "    for i in range(n):\n",
    "            temp[i-1]=arr[i]\n",
    "    temp[n-1]=first        \n",
    "    return temp      \n",
    "            "
   ]
  },
  {
   "cell_type": "code",
   "execution_count": 16,
   "metadata": {},
   "outputs": [
    {
     "data": {
      "text/plain": [
       "[2, 3, 4, 5, 1]"
      ]
     },
     "execution_count": 16,
     "metadata": {},
     "output_type": "execute_result"
    }
   ],
   "source": [
    "brute_rotate([1,2,3,4,5],5)"
   ]
  },
  {
   "cell_type": "markdown",
   "metadata": {},
   "source": [
    "### Optimal Approach"
   ]
  },
  {
   "cell_type": "code",
   "execution_count": 22,
   "metadata": {},
   "outputs": [],
   "source": [
    "def optimal_app(arr,n):\n",
    "    first_ele=arr[0]\n",
    "    for i in range(n-1):\n",
    "        arr[i]=arr[i+1]\n",
    "    arr[n-1]=first_ele\n",
    "    return arr    \n",
    "        "
   ]
  },
  {
   "cell_type": "code",
   "execution_count": 23,
   "metadata": {},
   "outputs": [
    {
     "data": {
      "text/plain": [
       "[2, 3, 4, 5, 1]"
      ]
     },
     "execution_count": 23,
     "metadata": {},
     "output_type": "execute_result"
    }
   ],
   "source": [
    "optimal_app([1,2,3,4,5],5)"
   ]
  },
  {
   "cell_type": "markdown",
   "metadata": {},
   "source": [
    "### Rotate the array by k places"
   ]
  },
  {
   "cell_type": "code",
   "execution_count": null,
   "metadata": {},
   "outputs": [],
   "source": [
    "\n",
    "def rotate( arr, k: int) -> None:\n",
    "        n = len(arr)\n",
    "        k = k % n  # Handle cases where k > n\n",
    "\n",
    "        # Step 1: Save the last k elements\n",
    "        l = arr[-k:]\n",
    "\n",
    "        # Step 2: Shift the first n-k elements to the left\n",
    "        for i in range(n-k-1, -1, -1):\n",
    "            arr[i+k] = arr[i]\n",
    "\n",
    "        # Step 3: Place the saved k elements at the beginning\n",
    "        for i in range(k):\n",
    "            arr[i] = l[i]\n"
   ]
  },
  {
   "cell_type": "code",
   "execution_count": null,
   "metadata": {},
   "outputs": [],
   "source": []
  }
 ],
 "metadata": {
  "kernelspec": {
   "display_name": "Python 3",
   "language": "python",
   "name": "python3"
  },
  "language_info": {
   "codemirror_mode": {
    "name": "ipython",
    "version": 3
   },
   "file_extension": ".py",
   "mimetype": "text/x-python",
   "name": "python",
   "nbconvert_exporter": "python",
   "pygments_lexer": "ipython3",
   "version": "3.13.0"
  }
 },
 "nbformat": 4,
 "nbformat_minor": 2
}
