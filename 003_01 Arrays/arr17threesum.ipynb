{
 "cells": [
  {
   "cell_type": "markdown",
   "metadata": {},
   "source": [
    "### Three sum problem "
   ]
  },
  {
   "cell_type": "markdown",
   "metadata": {},
   "source": [
    "Brute force approach"
   ]
  },
  {
   "cell_type": "code",
   "execution_count": 12,
   "metadata": {},
   "outputs": [],
   "source": [
    "def three_sum(arr):\n",
    "    # here sorting to avoid duplicate arrays\n",
    "    arr.sort()\n",
    "    n=len(arr)\n",
    "    ans=set()\n",
    "    \n",
    "    for i in range(n):\n",
    "        for j in range(i+1,n):\n",
    "            for k in range(j+1,n):\n",
    "                if (arr[i]+arr[j]+arr[k]==0):\n",
    "                    #if([arr[i],arr[j],arr[k]]not in ans): # if that pair already exists in the list,skip \n",
    "                       ans.add((arr[i],arr[j],arr[k])) # or use a set to store your answer \n",
    "    return ans                "
   ]
  },
  {
   "cell_type": "code",
   "execution_count": 13,
   "metadata": {},
   "outputs": [
    {
     "data": {
      "text/plain": [
       "{(-1, -1, 2), (-1, 0, 1)}"
      ]
     },
     "execution_count": 13,
     "metadata": {},
     "output_type": "execute_result"
    }
   ],
   "source": [
    "arr=[-1,0,1,2,-1,-4]\n",
    "three_sum(arr)"
   ]
  },
  {
   "cell_type": "markdown",
   "metadata": {},
   "source": [
    "### Better approach (using hashing)"
   ]
  },
  {
   "cell_type": "markdown",
   "metadata": {},
   "source": [
    "arr[k]= -(arr[i]+arr[j])"
   ]
  },
  {
   "cell_type": "code",
   "execution_count": 18,
   "metadata": {},
   "outputs": [],
   "source": [
    "def hash_three_sum(arr):\n",
    "    arr.sort()\n",
    "    n=len(arr)\n",
    "    ans=set()\n",
    "    for i in range(n):\n",
    "        hashmap=set()\n",
    "        for j in range(i+1,n):\n",
    "            third=-(arr[i]+arr[j])\n",
    "            if third in hashmap:\n",
    "                ans.add((arr[i],arr[j],third))\n",
    "            else:\n",
    "                hashmap.add(arr[j])    \n",
    "    return ans        \n",
    "                \n",
    "        "
   ]
  },
  {
   "cell_type": "code",
   "execution_count": 19,
   "metadata": {},
   "outputs": [
    {
     "data": {
      "text/plain": [
       "{(-1, 1, 0), (-1, 2, -1)}"
      ]
     },
     "execution_count": 19,
     "metadata": {},
     "output_type": "execute_result"
    }
   ],
   "source": [
    "arr=[-1,0,1,2,-1,-4]\n",
    "hash_three_sum(arr)"
   ]
  },
  {
   "cell_type": "markdown",
   "metadata": {},
   "source": [
    "The time complexity for this code is O(n^2)\n",
    "and space complexity -O(n^2) as well,\n",
    "\n",
    "so we might improved the time but space used is a big issue here so we need a more optimal solution"
   ]
  },
  {
   "cell_type": "markdown",
   "metadata": {},
   "source": [
    "### Optimal solution"
   ]
  },
  {
   "cell_type": "code",
   "execution_count": 27,
   "metadata": {},
   "outputs": [],
   "source": [
    "def opt_three_sum(arr):\n",
    "    arr.sort()\n",
    "    n=len(arr)\n",
    "    ans=[]\n",
    "    \n",
    "    \n",
    "    for i in range(n):\n",
    "        if(i>0 and arr[i]==arr[i-1]): \n",
    "            continue\n",
    "        j=i+1\n",
    "        k=n-1\n",
    "        while j<k:\n",
    "            curr_sum=arr[i]+arr[j]+arr[k]\n",
    "            if(curr_sum==0):\n",
    "                ans.append((arr[i],arr[j],arr[k]))\n",
    "                j+=1\n",
    "                k-=1\n",
    "                while(j<k and arr[j]==arr[j-1]):\n",
    "                    j+=1\n",
    "                while(j<k and arr[k]==arr[k+1]):\n",
    "                    k-=1    \n",
    "            elif(curr_sum<0):\n",
    "                j+=1\n",
    "            else:\n",
    "                k-=1   \n",
    "    return ans                 \n",
    "            \n",
    "                "
   ]
  },
  {
   "cell_type": "code",
   "execution_count": 28,
   "metadata": {},
   "outputs": [
    {
     "data": {
      "text/plain": [
       "[(-2, 0, 2), (0, 0, 0)]"
      ]
     },
     "execution_count": 28,
     "metadata": {},
     "output_type": "execute_result"
    }
   ],
   "source": [
    "arr=[-2,-2,-2,0,0,0,2,2,2,2,2]\n",
    "opt_three_sum(arr)"
   ]
  },
  {
   "cell_type": "code",
   "execution_count": null,
   "metadata": {},
   "outputs": [],
   "source": []
  },
  {
   "cell_type": "code",
   "execution_count": null,
   "metadata": {},
   "outputs": [],
   "source": []
  }
 ],
 "metadata": {
  "kernelspec": {
   "display_name": "Python 3",
   "language": "python",
   "name": "python3"
  },
  "language_info": {
   "codemirror_mode": {
    "name": "ipython",
    "version": 3
   },
   "file_extension": ".py",
   "mimetype": "text/x-python",
   "name": "python",
   "nbconvert_exporter": "python",
   "pygments_lexer": "ipython3",
   "version": "3.13.0"
  }
 },
 "nbformat": 4,
 "nbformat_minor": 2
}
