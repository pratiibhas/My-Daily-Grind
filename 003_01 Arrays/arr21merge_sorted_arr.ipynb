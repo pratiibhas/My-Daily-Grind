{
 "cells": [
  {
   "cell_type": "markdown",
   "metadata": {},
   "source": [
    "### Merge two sorted arrays with no extra space"
   ]
  },
  {
   "cell_type": "code",
   "execution_count": 3,
   "metadata": {},
   "outputs": [],
   "source": [
    "# brute force approach\n",
    "def merge_sorted(arr1,arr2,n,m):\n",
    "    arr3=[0]*(m+n) # empty array to store the result\n",
    "    i=0\n",
    "    j=0\n",
    "    k=0\n",
    "    while(i<n and j<m):\n",
    "        if(arr1[i]<=arr2[j]):\n",
    "            arr3[k]=arr1[i]\n",
    "            k+=1\n",
    "            i+=1\n",
    "        else:\n",
    "            arr3[k]=arr2[j]\n",
    "            k+=1\n",
    "            j+=1    \n",
    "    while(j<m):\n",
    "        arr3[k]=arr2[j]\n",
    "        j+=1\n",
    "        k+=1\n",
    "    while(i<n):\n",
    "        arr3[k]=arr1[i]\n",
    "        i+=1\n",
    "        k+=1  \n",
    "    return arr3      \n",
    "        \n",
    "                 \n",
    "                "
   ]
  },
  {
   "cell_type": "code",
   "execution_count": 13,
   "metadata": {},
   "outputs": [],
   "source": [
    "def opt_approach(arr1,arr2,n,m):\n",
    "    left=n-1\n",
    "    right=0\n",
    "    \n",
    "    while(left>=0 and right<m):\n",
    "        if(arr1[left]>arr2[right]):\n",
    "            arr1[left],arr2[right]=arr2[right],arr1[left]\n",
    "            left-=1\n",
    "            right+=1\n",
    "        else:\n",
    "            break\n",
    "    arr1.sort()\n",
    "    arr2.sort()\n",
    "    return arr1,arr2      \n",
    "    "
   ]
  },
  {
   "cell_type": "code",
   "execution_count": 48,
   "metadata": {},
   "outputs": [],
   "source": [
    "import math\n",
    "def merge_two_sorted(arr1,arr2,n,m):# gap method(took from shell method)\n",
    "    gap=math.ceil((m+n)/2)\n",
    "   \n",
    "    \n",
    "    while(gap>0):\n",
    "        left=0\n",
    "        right=gap\n",
    "        while right < m + n:\n",
    "            # Left in arr1, Right in arr1\n",
    "            if left < n and right < n:\n",
    "                if arr1[left] > arr1[right]:\n",
    "                    arr1[left], arr1[right] = arr1[right], arr1[left]\n",
    "            \n",
    "            # Left in arr1, Right in arr2\n",
    "            elif left < n <= right:\n",
    "                if arr1[left] > arr2[right - n]:\n",
    "                    arr1[left], arr2[right - n] = arr2[right - n], arr1[left]\n",
    "            \n",
    "            # Left in arr2, Right in arr2\n",
    "            elif left >= n:\n",
    "                if arr2[left - n] > arr2[right - n]:\n",
    "                    arr2[left - n], arr2[right - n] = arr2[right - n], arr2[left - n]\n",
    "            \n",
    "            left += 1\n",
    "            right += 1\n",
    "        \n",
    "        # Update the gap\n",
    "        if gap == 1:\n",
    "            break\n",
    "        gap = math.ceil(gap / 2)\n",
    "    \n",
    "    return arr1, arr2\n",
    "                  \n",
    "                \n",
    "            "
   ]
  },
  {
   "cell_type": "code",
   "execution_count": 49,
   "metadata": {},
   "outputs": [
    {
     "data": {
      "text/plain": [
       "([0, 1, 2, 3], [5, 6, 7, 8, 9])"
      ]
     },
     "execution_count": 49,
     "metadata": {},
     "output_type": "execute_result"
    }
   ],
   "source": [
    "arr1=[1,3,5,7]\n",
    "arr2=[0,2,6,8,9]\n",
    "merge_two_sorted(arr1,arr2,len(arr1),len(arr2))"
   ]
  }
 ],
 "metadata": {
  "kernelspec": {
   "display_name": "Python 3",
   "language": "python",
   "name": "python3"
  },
  "language_info": {
   "codemirror_mode": {
    "name": "ipython",
    "version": 3
   },
   "file_extension": ".py",
   "mimetype": "text/x-python",
   "name": "python",
   "nbconvert_exporter": "python",
   "pygments_lexer": "ipython3",
   "version": "3.13.0"
  }
 },
 "nbformat": 4,
 "nbformat_minor": 2
}
