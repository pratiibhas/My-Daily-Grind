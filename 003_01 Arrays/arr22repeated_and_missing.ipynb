{
 "cells": [
  {
   "cell_type": "code",
   "execution_count": 18,
   "metadata": {},
   "outputs": [],
   "source": [
    "def repeated_missing_nums(arr):\n",
    "    repeated=-1\n",
    "    missing=-1\n",
    "    \n",
    "    n=len(arr)\n",
    "    for i in range(1, n + 1):\n",
    "        count=0\n",
    "        for j in range(n):\n",
    "            if(arr[j]==i):\n",
    "                count+=1\n",
    "    # here come out of the loop when you finish counting             \n",
    "        if count == 2: \n",
    "                repeated=i \n",
    "        elif count == 0 :\n",
    "                missing=i            \n",
    "        if(repeated!=-1 and missing!=-1): \n",
    "            break\n",
    "    return repeated,missing            \n",
    "                      "
   ]
  },
  {
   "cell_type": "code",
   "execution_count": 19,
   "metadata": {},
   "outputs": [
    {
     "data": {
      "text/plain": [
       "(2, 5)"
      ]
     },
     "execution_count": 19,
     "metadata": {},
     "output_type": "execute_result"
    }
   ],
   "source": [
    "arr=[1,2,2,3,4,6]\n",
    "repeated_missing_nums(arr)"
   ]
  },
  {
   "cell_type": "markdown",
   "metadata": {},
   "source": [
    "### Better solution obviously hashing"
   ]
  },
  {
   "cell_type": "code",
   "execution_count": 54,
   "metadata": {},
   "outputs": [],
   "source": [
    "def hash_repeating_missing(arr,n):\n",
    "    missing=-1\n",
    "    repeated=-1\n",
    "    \n",
    "    hashmap = {i: 0 for i in range(1, n + 1)}\n",
    "    for num in arr:\n",
    "        hashmap[num]+=1\n",
    "        \n",
    "    for key,value in hashmap.items():\n",
    "        if value==2:\n",
    "            repeated= key\n",
    "        elif value==0:\n",
    "            missing= key     \n",
    "    return f\"missing number is: {missing} ,and repeated number is: {repeated}\"  "
   ]
  },
  {
   "cell_type": "code",
   "execution_count": 55,
   "metadata": {},
   "outputs": [
    {
     "data": {
      "text/plain": [
       "'missing number is: 5 ,and repeated number is: 2'"
      ]
     },
     "execution_count": 55,
     "metadata": {},
     "output_type": "execute_result"
    }
   ],
   "source": [
    "hash_repeating_missing(arr,len(arr))"
   ]
  },
  {
   "cell_type": "markdown",
   "metadata": {},
   "source": [
    "The problem here with this code is it's space complexity that O(2n)\n",
    "time complexity is O(n)"
   ]
  },
  {
   "cell_type": "markdown",
   "metadata": {},
   "source": [
    "### Optimal solutions"
   ]
  },
  {
   "cell_type": "code",
   "execution_count": 75,
   "metadata": {},
   "outputs": [],
   "source": [
    "def math_opt_repeat_missing(arr,n):\n",
    "    sn=n*(n+1)/2\n",
    "    sn2=n*(n+1)*(2*n+1)/6\n",
    "    x=0\n",
    "    s=0\n",
    "    for i in range(n):\n",
    "       x+=arr[i]\n",
    "       s+=arr[i]**2\n",
    "    val1= x-sn # X-Y\n",
    "    val2=s-sn2\n",
    "    val2=(s-sn2)/val1# X^2-Y^2\n",
    "    x=(val1+val2)/2\n",
    "    y=val2-x\n",
    "    return x,y"
   ]
  },
  {
   "cell_type": "code",
   "execution_count": 76,
   "metadata": {},
   "outputs": [
    {
     "data": {
      "text/plain": [
       "(2.0, 5.0)"
      ]
     },
     "execution_count": 76,
     "metadata": {},
     "output_type": "execute_result"
    }
   ],
   "source": [
    "arr=[1,2,2,3,4,6]\n",
    "math_opt_repeat_missing(arr,len(arr))"
   ]
  },
  {
   "cell_type": "markdown",
   "metadata": {},
   "source": [
    "### Optimal solution-2 using XOR"
   ]
  },
  {
   "cell_type": "code",
   "execution_count": 94,
   "metadata": {},
   "outputs": [],
   "source": [
    "def xor_opt_repeat_missing(arr, n):\n",
    "    xor = 0\n",
    "\n",
    "    # Step 1: XOR all elements of arr and numbers from 1 to n\n",
    "    for i in range(n):\n",
    "        xor ^= arr[i]\n",
    "    for i in range(1, n + 1):\n",
    "        xor ^= i\n",
    "    bitNo=0\n",
    "    while(1):\n",
    "        if xor &(1<<bitNo)!=0:\n",
    "            break\n",
    "        bitNo+=1 # the first most differentiating bit from the right\n",
    "        \n",
    "    zero=0\n",
    "    one=0\n",
    "    for i in range(n):\n",
    "        #part of one club\n",
    "        if(arr[i] & (1<<bitNo))!=0:\n",
    "           one=one^arr[i]\n",
    "        # part of 0 club    \n",
    "        else:\n",
    "            zero=zero^arr[i]\n",
    "    for i in range(1,n+1):        \n",
    "        if(i & (1<<bitNo))!=0:\n",
    "           one=one^i\n",
    "        # part of 0 club    \n",
    "        else:\n",
    "            zero=zero^i  \n",
    "    cnt=0        \n",
    "    for i in range(n):           \n",
    "        if(arr[i]==zero):\n",
    "            cnt+=1\n",
    "    if(cnt==2):\n",
    "        return zero,one                \n",
    "         \n",
    "    return one,zero\n",
    "      "
   ]
  },
  {
   "cell_type": "code",
   "execution_count": 95,
   "metadata": {},
   "outputs": [
    {
     "data": {
      "text/plain": [
       "(1, 5)"
      ]
     },
     "execution_count": 95,
     "metadata": {},
     "output_type": "execute_result"
    }
   ],
   "source": [
    "arr=[1,1,2,3,4,6]\n",
    "xor_opt_repeat_missing(arr,len(arr))"
   ]
  },
  {
   "cell_type": "code",
   "execution_count": null,
   "metadata": {},
   "outputs": [],
   "source": []
  },
  {
   "cell_type": "code",
   "execution_count": null,
   "metadata": {},
   "outputs": [],
   "source": []
  },
  {
   "cell_type": "code",
   "execution_count": 37,
   "metadata": {},
   "outputs": [
    {
     "name": "stdout",
     "output_type": "stream",
     "text": [
      "[1, 2]\n",
      "4\n"
     ]
    }
   ],
   "source": [
    "def count(child_dict, i):\n",
    "    if i not in child_dict.keys():\n",
    "       return 1 # Base case: If `i` has no children, return 1 (count itself)\n",
    "    \n",
    "    ans = 1\n",
    "    for j in child_dict[i]: # Iterate over children of node `i`\n",
    "       ans += count(child_dict, j) # Recursively count all descendants\n",
    "    return ans\n",
    "child_dict = dict()\n",
    "child_dict[0] = [1,2]\n",
    "child_dict[1] = [3,4,5]\n",
    "child_dict[2] = [6,7,8]\n",
    "print(child_dict[0])\n",
    "print(count(child_dict,2))"
   ]
  },
  {
   "cell_type": "code",
   "execution_count": 38,
   "metadata": {},
   "outputs": [],
   "source": [
    "def computeS(X):\n",
    "    n = len(X)\n",
    "    S = [1] * n  # Initialize S with 1s\n",
    "    \n",
    "    for i in range(1, n):  # Loop from index 1 to n-1\n",
    "        if X[i - 1] <= X[i]:\n",
    "            S[i] = S[i] + S[i - 1]\n",
    "    \n",
    "    return S"
   ]
  },
  {
   "cell_type": "code",
   "execution_count": 39,
   "metadata": {},
   "outputs": [
    {
     "data": {
      "text/plain": [
       "[1, 1, 2, 1, 2]"
      ]
     },
     "execution_count": 39,
     "metadata": {},
     "output_type": "execute_result"
    }
   ],
   "source": [
    "arr=[6, 3, 5, 4, 10]\n",
    "computeS(arr)"
   ]
  }
 ],
 "metadata": {
  "kernelspec": {
   "display_name": "Python 3",
   "language": "python",
   "name": "python3"
  },
  "language_info": {
   "codemirror_mode": {
    "name": "ipython",
    "version": 3
   },
   "file_extension": ".py",
   "mimetype": "text/x-python",
   "name": "python",
   "nbconvert_exporter": "python",
   "pygments_lexer": "ipython3",
   "version": "3.13.0"
  }
 },
 "nbformat": 4,
 "nbformat_minor": 2
}
