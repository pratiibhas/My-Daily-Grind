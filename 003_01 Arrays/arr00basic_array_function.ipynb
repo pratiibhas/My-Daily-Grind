{
 "cells": [
  {
   "cell_type": "code",
   "execution_count": null,
   "metadata": {},
   "outputs": [
    {
     "data": {
      "text/plain": [
       "1"
      ]
     },
     "execution_count": 8,
     "metadata": {},
     "output_type": "execute_result"
    }
   ],
   "source": [
    "# largest element in an array\n",
    "def largest_val(arr,n):\n",
    "    largest=arr[0]\n",
    "    for i in range(n):\n",
    "        if arr[i]>largest:\n",
    "            largest= arr[i]\n",
    "    return largest \n",
    "\n",
    "def smallest_val(arr,n):\n",
    "    smallest=arr[0]\n",
    "    for i in range(n):\n",
    "        if arr[i]<smallest:\n",
    "            smallest= arr[i]\n",
    "    return smallest         \n",
    "      \n",
    " \n",
    "arr=[8,5,7,2,5,1]\n",
    "smallest_val(arr,6)           "
   ]
  },
  {
   "cell_type": "code",
   "execution_count": 16,
   "metadata": {},
   "outputs": [
    {
     "data": {
      "text/plain": [
       "7"
      ]
     },
     "execution_count": 16,
     "metadata": {},
     "output_type": "execute_result"
    }
   ],
   "source": [
    "# second largest in the array without sorting\n",
    "def secondlargest(arr,n):\n",
    "    largest =largest_val(arr,n)\n",
    "    secondl= -1\n",
    "    for i in range(n):\n",
    "        if arr[i]<largest and secondl<arr[i]:\n",
    "            secondl=arr[i]\n",
    "    return secondl     \n",
    "\n",
    "arr=[8,5,6,2,5,7]\n",
    "secondlargest(arr,6) "
   ]
  },
  {
   "cell_type": "code",
   "execution_count": 14,
   "metadata": {},
   "outputs": [
    {
     "name": "stdout",
     "output_type": "stream",
     "text": [
      "6\n"
     ]
    },
    {
     "data": {
      "text/plain": [
       "7"
      ]
     },
     "execution_count": 14,
     "metadata": {},
     "output_type": "execute_result"
    }
   ],
   "source": [
    "# second smallest in the array without sorting\n",
    "def secondsmallest(arr,n):\n",
    "    largest =smallest_val(arr,n)\n",
    "    seconds= 999999\n",
    "    for i in range(n):\n",
    "        if arr[i]>largest and seconds>arr[i]:\n",
    "            secondl=arr[i]\n",
    "    return secondl     \n",
    "\n",
    "arr=[8,5,6,2,5,7]\n",
    "print(len(arr))\n",
    "secondlargest(arr,6) "
   ]
  },
  {
   "cell_type": "code",
   "execution_count": 15,
   "metadata": {},
   "outputs": [
    {
     "name": "stdout",
     "output_type": "stream",
     "text": [
      "False\n"
     ]
    }
   ],
   "source": [
    "### BRUTE FORCE\n",
    "def is_sorted(arr,n):\n",
    "    for i in range(n):\n",
    "        for j in range(i+1,n):\n",
    "            if arr[i]<arr[j]:\n",
    "                return False\n",
    "    return True\n",
    "arr= [8,6,4,3,2,9]       \n",
    "print(is_sorted(arr,6))              "
   ]
  },
  {
   "cell_type": "code",
   "execution_count": null,
   "metadata": {},
   "outputs": [
    {
     "name": "stdout",
     "output_type": "stream",
     "text": [
      "False\n",
      "False\n"
     ]
    }
   ],
   "source": [
    "# check if array is sorted \n",
    "def is_sorted(nums,n) -> bool:\n",
    "        n=len(nums)\n",
    "        count_drops=0\n",
    "        \n",
    "\n",
    "        for i in range(n):\n",
    "            # Check for a \"drop\"\n",
    "            if nums[i] > nums[(i + 1) % n]:\n",
    "                count_drops += 1\n",
    "                if count_drops > 1:  # More than one drop means it's not valid\n",
    "                    return False\n",
    "        \n",
    "        return True  \n",
    "           \n",
    "       \n",
    "def is_Sorted(arr, n):\n",
    "    for i in range(1, n):\n",
    "        if arr[i] < arr[i - 1]:\n",
    "            return False\n",
    "    return True       \n",
    "\n",
    "arr=[8,5,6,2,5,7]\n",
    "print(is_sorted(arr,6))       \n",
    "\n",
    "arr1=[1,6,4,2,1,0]\n",
    "print(is_sorted(arr1,6))  "
   ]
  },
  {
   "cell_type": "code",
   "execution_count": null,
   "metadata": {},
   "outputs": [],
   "source": [
    "def check(arr,n) -> bool:\n",
    "        n=len(arr)\n",
    "        BigCounter=0\n",
    "        SmallCounter=0\n",
    "\n",
    "        for i in range(n):\n",
    "            if arr[i]-arr[i-1]==1:\n",
    "                BigCounter+=1\n",
    "           \n",
    "        for i in range(n):\n",
    "             if arr[i]<arr[i-1]:\n",
    "                SmallCounter+=(arr[i-1]-arr[i])\n",
    "        if(BigCounter== SmallCounter):\n",
    "            return True\n",
    "        return False     \n"
   ]
  },
  {
   "cell_type": "code",
   "execution_count": null,
   "metadata": {},
   "outputs": [
    {
     "name": "stdout",
     "output_type": "stream",
     "text": [
      "run\n",
      "run\n",
      "run\n",
      "run\n",
      "run\n"
     ]
    },
    {
     "data": {
      "text/plain": [
       "{0, 1, 2, 4}"
      ]
     },
     "execution_count": 33,
     "metadata": {},
     "output_type": "execute_result"
    }
   ],
   "source": [
    "#Remove duplicates in-place sorted array\n",
    "# return unique elements and number of unique elements\n",
    "def unique_elements(arr,n):\n",
    "    s=set()\n",
    "    k=arr[0]\n",
    "    s.add(arr[0])\n",
    "    for i in range(1,n):\n",
    "        #print('run')\n",
    "        print('hence T.C =O(n)')\n",
    "        if (arr[i]!=k):\n",
    "            s.add(arr[i])\n",
    "            k= arr[i]\n",
    "            \n",
    "    return s      \n",
    "\n",
    "arr1=[1,1,4,2,1,0]\n",
    "unique_elements(arr1,6)    "
   ]
  },
  {
   "cell_type": "markdown",
   "metadata": {},
   "source": [
    "### Video 2"
   ]
  },
  {
   "cell_type": "code",
   "execution_count": 38,
   "metadata": {},
   "outputs": [
    {
     "data": {
      "text/plain": [
       "[4, 5, 6, 7, 8, 3]"
      ]
     },
     "execution_count": 38,
     "metadata": {},
     "output_type": "execute_result"
    }
   ],
   "source": [
    "# lEFT rotate an array by one place \n",
    "# [1 2 3 4 5]--> [2 3 4 5 1]\n",
    "\n",
    "def rotate_one_place(arr,n):\n",
    "  \n",
    "    for i in range(n-1):\n",
    "        arr[i],arr[i+1]=arr[i+1],arr[i]\n",
    "    return arr    \n",
    "        \n",
    "arr1=[3,4,5,6,7,8]\n",
    "rotate_one_place(arr1,6)           "
   ]
  },
  {
   "cell_type": "code",
   "execution_count": 46,
   "metadata": {},
   "outputs": [
    {
     "data": {
      "text/plain": [
       "[4, 5, 6, 7, 8, 2]"
      ]
     },
     "execution_count": 46,
     "metadata": {},
     "output_type": "execute_result"
    }
   ],
   "source": [
    "# Another approach \n",
    "def rotate_one_place(arr,n):\n",
    "    k= arr[0]\n",
    "    \n",
    "    for i in range(1,n):\n",
    "        arr[i-1]=arr[i]\n",
    "    arr[n-1]=k    \n",
    "    return arr    \n",
    "        \n",
    "arr1=[2,4,5,6,7,8]\n",
    "rotate_one_place(arr1,6)  "
   ]
  },
  {
   "cell_type": "code",
   "execution_count": 3,
   "metadata": {},
   "outputs": [
    {
     "name": "stdout",
     "output_type": "stream",
     "text": [
      "[5, 6, 7, 8, 2, 4]\n"
     ]
    }
   ],
   "source": [
    "def rotate_k_places(arr, n, k):\n",
    "    k = k % n  # Handle cases where k > n\n",
    "    temp = arr[:k]  # Store first k elements\n",
    "\n",
    "    # Shift elements left\n",
    "    for i in range(k, n):\n",
    "        arr[i - k] = arr[i]\n",
    "\n",
    "    # Restore k elements at the end\n",
    "    arr[-k:] = temp\n",
    "\n",
    "    return arr  \n",
    "\n",
    "arr1 = [2, 4, 5, 6, 7, 8]\n",
    "print(rotate_k_places(arr1, len(arr1), 2)) \n",
    "\n"
   ]
  },
  {
   "cell_type": "code",
   "execution_count": null,
   "metadata": {},
   "outputs": [
    {
     "data": {
      "text/plain": [
       "[5, 6, 7, 8, 2, 4]"
      ]
     },
     "execution_count": 85,
     "metadata": {},
     "output_type": "execute_result"
    }
   ],
   "source": [
    "def rotate_k_places(arr,n,k):\n",
    "    temp=[]\n",
    "    for i in range(k):\n",
    "        temp.append(arr[i])\n",
    "    for j in range(k,n):\n",
    "        arr[j-k]=arr[j]      \n",
    "    for l in range(k):\n",
    "        arr[n-k+l]=temp[l]   \n",
    "    return arr       \n",
    "        \n",
    "arr1=[2,4,5,6,7,8]\n",
    "rotate_k_places(arr1,6,2)         "
   ]
  },
  {
   "cell_type": "code",
   "execution_count": null,
   "metadata": {},
   "outputs": [],
   "source": [
    "# python version\n",
    "def rotate_k_places(arr, n, k):\n",
    "    # Ensure k is within bounds\n",
    "    k = k % n  # Handle cases where k > n\n",
    "    # Perform the rotation\n",
    "    return arr[k:] + arr[:k]\n",
    "\n",
    "# Test the function\n",
    "arr1 = [2, 4, 5, 6, 7, 8]\n",
    "result = rotate_k_places(arr1, len(arr1), 2)\n",
    "print(result)\n"
   ]
  },
  {
   "cell_type": "code",
   "execution_count": 92,
   "metadata": {},
   "outputs": [
    {
     "name": "stdout",
     "output_type": "stream",
     "text": [
      "[4, 2, 5, 6, 7, 8]\n",
      "[4, 2, 8, 7, 6, 5]\n",
      "[5, 6, 7, 8, 2, 4]\n"
     ]
    }
   ],
   "source": [
    "#Optimized solution\n",
    "def rotate_k(arr,n,k):\n",
    "    arr= reverse(arr,0,k-1)\n",
    "    print(arr)\n",
    "    arr= reverse(arr,k,n-1)\n",
    "    print(arr)\n",
    "    arr= reverse(arr,0,n-1)\n",
    "    return arr  \n",
    "    \n",
    "def reverse(arr,low,high):\n",
    "    while low < high:\n",
    "        # Swap elements at indices low and high\n",
    "        arr[low], arr[high] = arr[high], arr[low]\n",
    "        low += 1\n",
    "        high -= 1\n",
    "    return arr\n",
    "\n",
    "arr1 = [2, 4, 5, 6, 7, 8]\n",
    "result = rotate_k(arr1, len(arr1), 2)\n",
    "print(result)"
   ]
  },
  {
   "cell_type": "code",
   "execution_count": null,
   "metadata": {},
   "outputs": [],
   "source": [
    "# Rotate the array to the right "
   ]
  },
  {
   "cell_type": "code",
   "execution_count": 97,
   "metadata": {},
   "outputs": [
    {
     "name": "stdout",
     "output_type": "stream",
     "text": [
      "[2, 5, 7, 8, 0, 0]\n"
     ]
    }
   ],
   "source": [
    "#Move all the zeroes at the end\n",
    "\n",
    "# Brute force\n",
    "def move_brute_zero(arr,n):\n",
    "    temp=[]\n",
    "    for i in range(n):\n",
    "        if arr[i]!=0:\n",
    "            temp.append(arr[i])\n",
    "    for i in range(len(temp)):\n",
    "        arr[i]=temp[i]     \n",
    "    for i in range(len(temp),n):\n",
    "        arr[i]=0\n",
    "    return arr    \n",
    "  \n",
    "arr1 = [2, 0, 5, 0, 7, 8]\n",
    "result = move_brute_zero(arr1, len(arr1))\n",
    "print(result) \n"
   ]
  },
  {
   "cell_type": "code",
   "execution_count": 95,
   "metadata": {},
   "outputs": [
    {
     "name": "stdout",
     "output_type": "stream",
     "text": [
      "[2, 5, 7, 8, 0, 0]\n"
     ]
    }
   ],
   "source": [
    "def move_zero(arr, n):\n",
    "    # Initialize a pointer for the position of the next non-zero element\n",
    "    non_zero_index = 0\n",
    "\n",
    "    # Traverse the array\n",
    "    for i in range(n):\n",
    "        if arr[i] != 0:\n",
    "            # Swap non-zero element with the element at the non_zero_index\n",
    "            arr[non_zero_index], arr[i] = arr[i], arr[non_zero_index]\n",
    "            non_zero_index += 1\n",
    "\n",
    "    return arr\n",
    "\n",
    "# Example usage\n",
    "arr1 = [2, 0, 5, 0, 7, 8]\n",
    "result = move_zero(arr1, len(arr1))\n",
    "print(result)\n"
   ]
  },
  {
   "cell_type": "code",
   "execution_count": 5,
   "metadata": {},
   "outputs": [
    {
     "name": "stdout",
     "output_type": "stream",
     "text": [
      "[2, 5, 7, 8, 0, 0]\n"
     ]
    }
   ],
   "source": [
    "# Striver's version\n",
    "def move_zeroes(arr,n):\n",
    "    for i in range(n):\n",
    "        j=-1\n",
    "        if(arr[i]==0):\n",
    "            j=i\n",
    "            break # finds the first zero\n",
    "    for i in range(j+1,n):\n",
    "        if arr[i]!=0:\n",
    "            arr[i],arr[j]=arr[j],arr[i] # swaps all zeroes to the right\n",
    "            j+=1 # move j to next zero\n",
    "    return arr\n",
    "            \n",
    "arr1 = [2, 0, 5, 0, 7, 8]\n",
    "result = move_zeroes(arr1, len(arr1))\n",
    "print(result)            "
   ]
  },
  {
   "cell_type": "code",
   "execution_count": 103,
   "metadata": {},
   "outputs": [
    {
     "name": "stdout",
     "output_type": "stream",
     "text": [
      "2\n"
     ]
    }
   ],
   "source": [
    "# Linear search - first occurence\n",
    "def linear_search(arr,n,val):\n",
    "    for i in range(n):\n",
    "        if arr[i]== val:\n",
    "            return i\n",
    "    return -1\n",
    "arr1 = [2, 0, 5, 0, 7, 8]\n",
    "result = linear_search(arr1, len(arr1),5)\n",
    "print(result)   "
   ]
  },
  {
   "cell_type": "code",
   "execution_count": null,
   "metadata": {},
   "outputs": [
    {
     "name": "stdout",
     "output_type": "stream",
     "text": [
      "{0, 1, 2, 5, 6, 7, 8, 9}\n"
     ]
    }
   ],
   "source": [
    "# Find union and intersection of two sorted arrays\n",
    "def union(arr1,arr2):\n",
    "    result= set()\n",
    "    for i in range(len(arr1)):\n",
    "        result.add(arr1[i])\n",
    "    for j in range(len(arr2)):   \n",
    "        result.add(arr2[j])\n",
    "    return list(result)\n",
    "arr1 = [2,  5, 0, 7, 8]\n",
    "arr2= [1, 2, 5, 6, 7, 8,9]\n",
    "result = union(arr1, arr2)\n",
    "print(result)    "
   ]
  },
  {
   "cell_type": "code",
   "execution_count": null,
   "metadata": {},
   "outputs": [
    {
     "name": "stdout",
     "output_type": "stream",
     "text": [
      "[0, 1, 2, 5, 6, 7, 8, 9]\n"
     ]
    }
   ],
   "source": [
    "def optimized_union(arr1, arr2):\n",
    "    i, j = 0, 0\n",
    "    uni = []\n",
    "\n",
    "    while i < len(arr1) and j < len(arr2):\n",
    "        if arr1[i] < arr2[j]:\n",
    "            if len(uni) == 0 or uni[-1] != arr1[i]:  # Avoid duplicates\n",
    "                uni.append(arr1[i])\n",
    "            i += 1\n",
    "        elif arr1[i] > arr2[j]:\n",
    "            if len(uni) == 0 or uni[-1] != arr2[j]:  # Avoid duplicates\n",
    "                uni.append(arr2[j])\n",
    "            j += 1\n",
    "        else:\n",
    "            # If arr1[i] == arr2[j], add only once\n",
    "            if len(uni) == 0 or uni[-1] != arr1[i]:\n",
    "                uni.append(arr1[i])\n",
    "            i += 1\n",
    "            j += 1\n",
    "\n",
    "    # Add remaining elements from arr1\n",
    "    while i < len(arr1):\n",
    "        if len(uni) == 0 or uni[-1] != arr1[i]:\n",
    "            uni.append(arr1[i])\n",
    "        i += 1\n",
    "\n",
    "    # Add remaining elements from arr2\n",
    "    while j < len(arr2):\n",
    "        if len(uni) == 0 or uni[-1] != arr2[j]:\n",
    "            uni.append(arr2[j])\n",
    "        j += 1\n",
    "\n",
    "    return uni\n",
    "\n",
    "# Example usage\n",
    "arr1 = [0, 2, 5, 7, 8]\n",
    "arr2 = [1, 2, 5, 6, 7, 8, 9]\n",
    "result = optimized_union(arr1, arr2)\n",
    "print(result)\n"
   ]
  },
  {
   "cell_type": "code",
   "execution_count": 9,
   "metadata": {},
   "outputs": [
    {
     "name": "stdout",
     "output_type": "stream",
     "text": [
      "[2, 5, 7, 8]\n"
     ]
    }
   ],
   "source": [
    "# Intersection of two arrays\n",
    "def intersection(arr1, arr2):\n",
    "    n1=len(arr1)\n",
    "    n2 = len(arr2)\n",
    "    val=[]\n",
    "    visit= [0]*max(len(arr1),len(arr2))\n",
    "    \n",
    "    for i in range(n1):\n",
    "        for j in range(n2):\n",
    "            if arr1[i]==arr2[j] and visit[j]==0:\n",
    "                val.append(arr1[i]) \n",
    "                visit[j]=1\n",
    "                break\n",
    "            \n",
    "    return val   \n",
    "arr1 = [0, 2, 5, 7, 8]\n",
    "arr2 = [1, 2, 5, 6, 7, 8, 9]\n",
    "result = intersection(arr1, arr2)\n",
    "print(result)\n",
    "    \n",
    "        "
   ]
  },
  {
   "cell_type": "code",
   "execution_count": null,
   "metadata": {},
   "outputs": [
    {
     "name": "stdout",
     "output_type": "stream",
     "text": [
      "Intersection: [3, 3, 4, 4, 5]\n"
     ]
    }
   ],
   "source": [
    "def intersection_of_arrays(A, B):\n",
    "    # List to store the intersection result\n",
    "    ans = []\n",
    "    \n",
    "    # To maintain visited status for elements in B\n",
    "    visited = [0] * len(B)\n",
    "    \n",
    "    # Iterate over elements in A\n",
    "    for i in range(len(A)):\n",
    "        for j in range(len(B)):\n",
    "            # Check if elements match and B[j] is not visited\n",
    "            if A[i] == B[j] and visited[j] == 0:\n",
    "                ans.append(B[j])  # Add to result\n",
    "                visited[j] = 1  # Mark B[j] as visited\n",
    "                break # this break statement will return one out of multiple matched values say 4 was macthed multiple times it will stop if first 4 matched\n",
    "            elif B[j] > A[i]:\n",
    "                break  # Stop further comparison since arrays are sorted\n",
    "             # Skip duplicates in A\n",
    "       \n",
    "\n",
    "    return (ans)\n",
    "\n",
    "# Array Initialization\n",
    "A = [1, 2, 3, 3, 4, 5, 6, 7]\n",
    "B = [3, 3, 4, 4, 5, 8]\n",
    "\n",
    "# Call the function\n",
    "result = intersection_of_arrays(A, B)\n",
    "\n",
    "# Print the result\n",
    "print(\"Intersection:\", result)\n"
   ]
  },
  {
   "cell_type": "code",
   "execution_count": 133,
   "metadata": {},
   "outputs": [
    {
     "name": "stdout",
     "output_type": "stream",
     "text": [
      "[8, 2, 5, 7]\n"
     ]
    }
   ],
   "source": [
    "def intersection(arr1, arr2):\n",
    "    n1 = len(arr1)\n",
    "    n2 = len(arr2)\n",
    "    val = set()\n",
    "    i, j = 0, 0\n",
    "\n",
    "    # Use two-pointer technique for sorted arrays\n",
    "    while i < n1 and j < n2:\n",
    "        if arr1[i] == arr2[j]:\n",
    "            val.add(arr1[i])  # Add common element\n",
    "            i += 1\n",
    "            j += 1\n",
    "        elif arr1[i] < arr2[j]:\n",
    "            i += 1  # Advance the pointer in arr1\n",
    "        else:\n",
    "            j += 1  # Advance the pointer in arr2\n",
    "\n",
    "    return list(val)\n",
    "\n",
    "# Example usage\n",
    "arr1 = [0, 2, 5, 7, 8]\n",
    "arr2 = [1, 2, 5, 6, 7, 8, 9]\n",
    "result = intersection(arr1, arr2)\n",
    "print(result)\n"
   ]
  }
 ],
 "metadata": {
  "kernelspec": {
   "display_name": "Python 3",
   "language": "python",
   "name": "python3"
  },
  "language_info": {
   "codemirror_mode": {
    "name": "ipython",
    "version": 3
   },
   "file_extension": ".py",
   "mimetype": "text/x-python",
   "name": "python",
   "nbconvert_exporter": "python",
   "pygments_lexer": "ipython3",
   "version": "3.13.0"
  }
 },
 "nbformat": 4,
 "nbformat_minor": 2
}
