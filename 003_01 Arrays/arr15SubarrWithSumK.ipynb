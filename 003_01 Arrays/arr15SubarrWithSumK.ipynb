{
 "cells": [
  {
   "cell_type": "code",
   "execution_count": 5,
   "metadata": {},
   "outputs": [],
   "source": [
    "def subarr(arr):\n",
    "    ans = [[]] \n",
    "    n=len(arr)\n",
    "    for i in range(n):\n",
    "        for j in range(i,n):\n",
    "            ans.append(arr[i:j+1])\n",
    "    return ans        \n",
    "            "
   ]
  },
  {
   "cell_type": "code",
   "execution_count": 6,
   "metadata": {},
   "outputs": [
    {
     "name": "stdout",
     "output_type": "stream",
     "text": [
      "[[], [1], [1, 2], [1, 2, 3], [1, 2, 3, 4], [1, 2, 3, 4, 5], [2], [2, 3], [2, 3, 4], [2, 3, 4, 5], [3], [3, 4], [3, 4, 5], [4], [4, 5], [5]]\n"
     ]
    }
   ],
   "source": [
    "arr=[1,2,3,4,5]\n",
    "print(subarr(arr))"
   ]
  },
  {
   "cell_type": "markdown",
   "metadata": {},
   "source": [
    "### Number of subarray with sum k"
   ]
  },
  {
   "cell_type": "code",
   "execution_count": null,
   "metadata": {},
   "outputs": [],
   "source": [
    "def subar_w_sum_k(arr):\n",
    "   n=len(arr)\n",
    "   subarr=subarr(arr)\n",
    "   \n",
    "   "
   ]
  },
  {
   "cell_type": "code",
   "execution_count": 7,
   "metadata": {},
   "outputs": [],
   "source": [
    "def subar_w_sum_k(arr, k):\n",
    "    n = len(arr)\n",
    "    result = []  # To store subarrays whose sum equals k\n",
    "    \n",
    "    for i in range(n):  # Start of the subarray\n",
    "        curr_sum = 0  # Initialize sum for the current subarray\n",
    "        for j in range(i, n):  # End of the subarray\n",
    "            curr_sum += arr[j]  # Add the current element to the sum\n",
    "            if curr_sum == k:  # Check if the sum equals k\n",
    "                result.append(arr[i:j+1])  # Append the subarray to the result\n",
    "    \n",
    "    return result\n"
   ]
  },
  {
   "cell_type": "code",
   "execution_count": 9,
   "metadata": {},
   "outputs": [
    {
     "name": "stdout",
     "output_type": "stream",
     "text": [
      "[[1, 2], [3]]\n"
     ]
    }
   ],
   "source": [
    "arr=[1,2,3,4,5]\n",
    "print(subar_w_sum_k(arr,3))"
   ]
  },
  {
   "cell_type": "markdown",
   "metadata": {},
   "source": [
    "### The Optimal solution"
   ]
  },
  {
   "cell_type": "code",
   "execution_count": 16,
   "metadata": {},
   "outputs": [],
   "source": [
    "def subarr_k(arr,k):\n",
    "    prefix_sum={}\n",
    "    current_sum=0\n",
    "    cnt=0\n",
    "    n=len(arr)\n",
    "    for i in range(n):\n",
    "        current_sum+=arr[i]\n",
    "        if current_sum==k:\n",
    "            cnt+=1\n",
    "        if current_sum-k in prefix_sum:\n",
    "            cnt+=prefix_sum[current_sum - k] # say one value say 6 is present twice then we will update the count by 2 hence we use this format\n",
    "        \n",
    "        # Update the frequency of the current prefix sum in the dictionary\n",
    "        prefix_sum[current_sum] = prefix_sum.get(current_sum, 0) + 1\n",
    "    return cnt        "
   ]
  },
  {
   "cell_type": "code",
   "execution_count": 17,
   "metadata": {},
   "outputs": [
    {
     "name": "stdout",
     "output_type": "stream",
     "text": [
      "2\n"
     ]
    }
   ],
   "source": [
    "arr=[1,2,3,4,5]\n",
    "print(subarr_k(arr,3))"
   ]
  },
  {
   "cell_type": "markdown",
   "metadata": {},
   "source": [
    "TC: O(n)\n",
    "SC:O(n)"
   ]
  },
  {
   "cell_type": "code",
   "execution_count": null,
   "metadata": {},
   "outputs": [],
   "source": []
  }
 ],
 "metadata": {
  "kernelspec": {
   "display_name": "Python 3",
   "language": "python",
   "name": "python3"
  },
  "language_info": {
   "codemirror_mode": {
    "name": "ipython",
    "version": 3
   },
   "file_extension": ".py",
   "mimetype": "text/x-python",
   "name": "python",
   "nbconvert_exporter": "python",
   "pygments_lexer": "ipython3",
   "version": "3.13.0"
  }
 },
 "nbformat": 4,
 "nbformat_minor": 2
}
