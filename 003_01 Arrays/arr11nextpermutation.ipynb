{
 "cells": [
  {
   "cell_type": "markdown",
   "metadata": {},
   "source": [
    "### Next Permutation \n",
    "\n",
    "The next permutation of an array of integers is the next lexicographically greater permutation of its integer. More formally, if all the permutations of the array are sorted in one container according to their lexicographical order, then the next permutation of that array is the permutation that follows it in the sorted container. If such arrangement is not possible, the array must be rearranged as the lowest possible order (i.e., sorted in ascending order).\n",
    "\n",
    "- For example, the next permutation of arr = [1,2,3] is [1,3,2].\n",
    "- Similarly, the next permutation of arr = [2,3,1] is [3,1,2].\n",
    "- While the next permutation of arr = [3,2,1] is [1,2,3] because [3,2,1] does not have a lexicographical larger rearrangement."
   ]
  },
  {
   "cell_type": "markdown",
   "metadata": {},
   "source": [
    "1. Longer prefix sum, unless we reach a place where the array chosen has a number bigger then the number just right out of the chosen array.\n",
    "2. If no number is found means we are at the last permutated value\n",
    "3. now in the chosen array, find a number that is greater than the righout number but also minimum possible in the chosen array. for example , say we have [2 1 5 4 3 0 0], the longer array is [2 1], [5 4 3 0 0] -> now we chose 3 here to replace 1 here"
   ]
  },
  {
   "cell_type": "code",
   "execution_count": null,
   "metadata": {},
   "outputs": [],
   "source": [
    "def next_perm(arr,n):\n",
    "    ind=-1\n",
    "    # longer prefix sum a[i]<a[i+1]\n",
    "    for i in range(n-2,-1,-1): # n-2 to not get to out of bound error\n",
    "        if arr[i]<arr[i+1]:\n",
    "            ind=i\n",
    "            break\n",
    "    #if array is the last permutated value it will return the initial value    \n",
    "    if(ind==-1):\n",
    "        arr[:] = arr[::-1]\n",
    "        return\n",
    "    # Find the rightmost element greater than arr[ind] and swap/areplace the value \n",
    "    for i in range(n-1,ind,-1):\n",
    "        if(arr[i]>arr[ind]):\n",
    "            arr[i],arr[ind] = arr[ind],arr[i]  \n",
    "            break\n",
    "    # Reverse the elements after ind\n",
    "    arr[ind+1:] = arr[ind+1:][::-1] # since reversing is faster than sorting \n",
    "    return arr   "
   ]
  },
  {
   "cell_type": "markdown",
   "metadata": {},
   "source": [
    "arr = [1, 3, 5, 4, 2]  \n",
    "ind = 1  # (because 3 < 5)\n",
    "\n",
    "After swap with 4: [1, 4, 5, 3, 2]  \n",
    "Right part: [5, 3, 2] — already descending\n",
    "\n",
    "So just reverse → [1, 4, 2, 3, 5]\n"
   ]
  },
  {
   "cell_type": "code",
   "execution_count": 3,
   "metadata": {},
   "outputs": [
    {
     "name": "stdout",
     "output_type": "stream",
     "text": [
      "[3, 2, 1]\n"
     ]
    }
   ],
   "source": [
    "arr=[3,1,2]\n",
    "next_perm(arr,len(arr))\n",
    "print(arr)"
   ]
  }
 ],
 "metadata": {
  "kernelspec": {
   "display_name": "Python 3",
   "language": "python",
   "name": "python3"
  },
  "language_info": {
   "codemirror_mode": {
    "name": "ipython",
    "version": 3
   },
   "file_extension": ".py",
   "mimetype": "text/x-python",
   "name": "python",
   "nbconvert_exporter": "python",
   "pygments_lexer": "ipython3",
   "version": "3.13.0"
  }
 },
 "nbformat": 4,
 "nbformat_minor": 2
}
