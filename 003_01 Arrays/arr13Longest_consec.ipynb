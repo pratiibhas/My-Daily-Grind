{
 "cells": [
  {
   "cell_type": "markdown",
   "metadata": {},
   "source": [
    "### Brute Force\n",
    "longest consecutive elements in an array"
   ]
  },
  {
   "cell_type": "code",
   "execution_count": null,
   "metadata": {},
   "outputs": [],
   "source": [
    "def linearSearch(a, num):\n",
    "    n = len(a)  # size of array\n",
    "    for i in range(n):\n",
    "        if a[i] == num:\n",
    "            return True\n",
    "    return False\n",
    "\n",
    "\n",
    "def longestSuccessiveElements(a):\n",
    "    n = len(a)  # size of array\n",
    "    longest = 1\n",
    "    # pick an element and search for its consecutive numbers\n",
    "    for i in range(n):\n",
    "        x = a[i]\n",
    "        cnt = 1\n",
    "        # search for consecutive numbers using linear search\n",
    "        while linearSearch(a, x + 1):\n",
    "            x += 1\n",
    "            cnt += 1\n",
    "\n",
    "        longest = max(longest, cnt)\n",
    "    return longest\n",
    "\n",
    "\n",
    "a = [100, 200, 1, 2, 3, 4]\n",
    "ans = longestSuccessiveElements(a)\n",
    "print(\"The longest consecutive sequence is\", ans)\n",
    "\n"
   ]
  },
  {
   "cell_type": "code",
   "execution_count": null,
   "metadata": {},
   "outputs": [],
   "source": [
    "class Solution(object):\n",
    "    def longestConsecutive(self, arr):\n",
    "        arr_set = set(arr)\n",
    "        max_len = 0\n",
    "\n",
    "        for i in range(len(arr)):\n",
    "            start = arr[i]\n",
    "            cnt = 1\n",
    "            while (start + 1) in arr_set:\n",
    "                start += 1\n",
    "                cnt += 1\n",
    "            max_len = max(max_len, cnt)\n",
    "\n",
    "        return max_len"
   ]
  },
  {
   "cell_type": "markdown",
   "metadata": {},
   "source": [
    "### Better Solution\n",
    "sort and then iterating"
   ]
  },
  {
   "cell_type": "code",
   "execution_count": 14,
   "metadata": {},
   "outputs": [],
   "source": [
    "def better_long_consec(arr,n):\n",
    "    if(len(arr)==0):\n",
    "        return 0\n",
    "    arr.sort()\n",
    "    least_val=float('-inf')\n",
    "    cnt=0\n",
    "    longest=1\n",
    "    for i in range(n):\n",
    "        # check if the number is 1 greater than the current element\n",
    "        if(arr[i]-1 ==least_val):\n",
    "            cnt+=1\n",
    "            least_val=arr[i]\n",
    "            \n",
    "            # If the number is not  duplicate and not consecutive \n",
    "            # starts of the new count\n",
    "        elif(least_val!=arr[i]):\n",
    "            cnt=1\n",
    "            least_val=arr[i]\n",
    "        # keeping the track of the longest    \n",
    "        longest=max(longest,cnt)\n",
    "    return longest            "
   ]
  },
  {
   "cell_type": "code",
   "execution_count": 15,
   "metadata": {},
   "outputs": [
    {
     "name": "stdout",
     "output_type": "stream",
     "text": [
      "4\n"
     ]
    }
   ],
   "source": [
    "arr=[102,4,100,101,1,3,2,2,1]\n",
    "res=better_long_consec(arr,len(arr))\n",
    "print(res)"
   ]
  },
  {
   "cell_type": "markdown",
   "metadata": {},
   "source": [
    "### Optimal\n",
    "Hash maps\n"
   ]
  },
  {
   "cell_type": "code",
   "execution_count": null,
   "metadata": {},
   "outputs": [
    {
     "name": "stdout",
     "output_type": "stream",
     "text": [
      "The longest consecutive sequence is 4\n"
     ]
    }
   ],
   "source": [
    "def longestSuccessiveElements(a):\n",
    "    n = len(a)\n",
    "    if n == 0:\n",
    "        return 0\n",
    "\n",
    "    longest = 1\n",
    "    st = set()\n",
    "    # put all the array elements into set\n",
    "    for i in range(n):\n",
    "        st.add(a[i])\n",
    "\n",
    "    # Find the longest sequence\n",
    "    for it in st:\n",
    "        # if 'it' is a starting number ,\n",
    "        if it - 1 not in st:\n",
    "            # find consecutive numbers\n",
    "            cnt = 1\n",
    "            x = it\n",
    "            while x + 1 in st:\n",
    "                x += 1\n",
    "                cnt += 1\n",
    "            longest = max(longest, cnt)\n",
    "    return longest\n",
    "\n",
    "a = [100, 200, 1, 2, 3, 4]\n",
    "ans = longestSuccessiveElements(a)\n",
    "print(\"The longest consecutive sequence is\", ans)\n"
   ]
  },
  {
   "cell_type": "code",
   "execution_count": 4,
   "metadata": {},
   "outputs": [
    {
     "name": "stdout",
     "output_type": "stream",
     "text": [
      "4\n"
     ]
    }
   ],
   "source": [
    "arr=[102,4,100,101,1,3,2,2,1]\n",
    "res=longestSuccessiveElements(arr)\n",
    "print(res)"
   ]
  }
 ],
 "metadata": {
  "kernelspec": {
   "display_name": "Python 3",
   "language": "python",
   "name": "python3"
  },
  "language_info": {
   "codemirror_mode": {
    "name": "ipython",
    "version": 3
   },
   "file_extension": ".py",
   "mimetype": "text/x-python",
   "name": "python",
   "nbconvert_exporter": "python",
   "pygments_lexer": "ipython3",
   "version": "3.13.0"
  }
 },
 "nbformat": 4,
 "nbformat_minor": 2
}
