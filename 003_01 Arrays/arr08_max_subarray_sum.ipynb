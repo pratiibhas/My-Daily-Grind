{
 "cells": [
  {
   "cell_type": "code",
   "execution_count": null,
   "metadata": {},
   "outputs": [],
   "source": [
    "# Brute force\n",
    "def max_sum(arr,n):\n",
    "    maxi= -9999999999\n",
    "    \n",
    "    for i in range(n):\n",
    "        for j in  range(i,n):\n",
    "            sum=0\n",
    "            for k in range(i,j):\n",
    "                sum+=arr[k]\n",
    "                maxi=max(maxi,sum)\n",
    "    return maxi            "
   ]
  },
  {
   "cell_type": "code",
   "execution_count": 9,
   "metadata": {},
   "outputs": [
    {
     "name": "stdout",
     "output_type": "stream",
     "text": [
      "6\n"
     ]
    }
   ],
   "source": [
    "arr = [-2, 1, -3, 4, -1, 2, 1, -5, 4]\n",
    "print(max_sum(arr,len(arr)))"
   ]
  },
  {
   "cell_type": "code",
   "execution_count": null,
   "metadata": {},
   "outputs": [],
   "source": [
    "# better\n",
    "def max_sum_better(arr,n):\n",
    "    maxi= -9999999999\n",
    "    \n",
    "    for i in range(n):\n",
    "        sum=0\n",
    "        for j in range(i,n):\n",
    "            sum+=arr[j]\n",
    "            maxi=max(maxi,sum)\n",
    "    return maxi "
   ]
  },
  {
   "cell_type": "code",
   "execution_count": null,
   "metadata": {},
   "outputs": [
    {
     "name": "stdout",
     "output_type": "stream",
     "text": [
      "6\n"
     ]
    }
   ],
   "source": [
    "arr = [-2, 1, -3, 4, -1, 2, 1, -5, 4]\n",
    "print(max_sum_better(arr,len(arr)))"
   ]
  },
  {
   "cell_type": "code",
   "execution_count": 33,
   "metadata": {},
   "outputs": [],
   "source": [
    "# kadane's optimal\n",
    "def kadanes(arr,n):\n",
    "    maxi= -9999999999\n",
    "    sum=0\n",
    "    for i in range(n):\n",
    "        sum+=arr[i]\n",
    "        \n",
    "        if(sum<0):\n",
    "            sum=0\n",
    "            start=i\n",
    "        if(sum>maxi):\n",
    "            maxi=sum\n",
    "            start= start \n",
    "            end= i  \n",
    "    return maxi ,start,end       "
   ]
  },
  {
   "cell_type": "code",
   "execution_count": 35,
   "metadata": {},
   "outputs": [
    {
     "name": "stdout",
     "output_type": "stream",
     "text": [
      "(0, 3, 0)\n"
     ]
    }
   ],
   "source": [
    "arr = [-2,-3,-2,-1]\n",
    "print(kadanes(arr,len(arr)))"
   ]
  },
  {
   "cell_type": "code",
   "execution_count": 34,
   "metadata": {},
   "outputs": [
    {
     "name": "stdout",
     "output_type": "stream",
     "text": [
      "(6, 2, 6)\n"
     ]
    }
   ],
   "source": [
    "arr = [-2, 1, -3, 4, -1, 2, 1, -5, 4]\n",
    "print(kadanes(arr,len(arr)))"
   ]
  },
  {
   "cell_type": "markdown",
   "metadata": {},
   "source": [
    "### Follow up Question\n",
    "There might be more than one subarray with the maximum sum. We need to print any of them."
   ]
  },
  {
   "cell_type": "markdown",
   "metadata": {},
   "source": [
    "Intuition: Our approach is to store the starting index and the ending index of the subarray. Thus we can easily get the subarray afterward without actually storing the subarray elements."
   ]
  },
  {
   "cell_type": "code",
   "execution_count": 1,
   "metadata": {},
   "outputs": [
    {
     "name": "stdout",
     "output_type": "stream",
     "text": [
      "The subarray is: [4 -1 2 1 ]\n",
      "The maximum subarray sum is: 6\n"
     ]
    }
   ],
   "source": [
    "def maxSubarraySum(arr, n):\n",
    "    maxi = -9999999999999999 # maximum sum\n",
    "    sum = 0\n",
    "\n",
    "    start = 0\n",
    "    ansStart, ansEnd = -1, -1\n",
    "    for i in range(n):\n",
    "\n",
    "        if sum == 0:\n",
    "            start = i  # starting index\n",
    "\n",
    "        sum += arr[i]\n",
    "\n",
    "        if sum > maxi:\n",
    "            maxi = sum\n",
    "\n",
    "            ansStart = start\n",
    "            ansEnd = i\n",
    "\n",
    "        # If sum < 0: discard the sum calculated\n",
    "        if sum < 0:\n",
    "            sum = 0\n",
    "\n",
    "    # printing the subarray:\n",
    "    print(\"The subarray is: [\", end=\"\")\n",
    "    for i in range(ansStart, ansEnd + 1):\n",
    "        print(arr[i], end=\" \")\n",
    "    print(\"]\")\n",
    "\n",
    "    # To consider the sum of the empty subarray\n",
    "    # uncomment the following check:\n",
    "\n",
    "    # if maxi < 0:\n",
    "    #     maxi = 0\n",
    "\n",
    "    return maxi\n",
    "\n",
    "arr = [-2, 1, -3, 4, -1, 2, 1, -5, 4]\n",
    "n = len(arr)\n",
    "maxSum = maxSubarraySum(arr, n)\n",
    "print(\"The maximum subarray sum is:\", maxSum)\n",
    "\n"
   ]
  }
 ],
 "metadata": {
  "kernelspec": {
   "display_name": "Python 3",
   "language": "python",
   "name": "python3"
  },
  "language_info": {
   "codemirror_mode": {
    "name": "ipython",
    "version": 3
   },
   "file_extension": ".py",
   "mimetype": "text/x-python",
   "name": "python",
   "nbconvert_exporter": "python",
   "pygments_lexer": "ipython3",
   "version": "3.13.0"
  }
 },
 "nbformat": 4,
 "nbformat_minor": 2
}
