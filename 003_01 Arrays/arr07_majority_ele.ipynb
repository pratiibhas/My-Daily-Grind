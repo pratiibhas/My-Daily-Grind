{
 "cells": [
  {
   "cell_type": "code",
   "execution_count": 10,
   "metadata": {},
   "outputs": [],
   "source": [
    "def max_cnt(arr,n):\n",
    "    \n",
    "    for i in range(n):\n",
    "       cnt=0\n",
    "       for j in range(n):\n",
    "           if (arr[j]==arr[i]):\n",
    "               cnt+=1 \n",
    "       if cnt>n//2:\n",
    "          return arr[i] \n",
    "    return None        "
   ]
  },
  {
   "cell_type": "code",
   "execution_count": 12,
   "metadata": {},
   "outputs": [
    {
     "name": "stdout",
     "output_type": "stream",
     "text": [
      "3\n"
     ]
    }
   ],
   "source": [
    "arr=[1, 1,2,2,2,2,2,3,3,3,3,3,3,3,3,3,3,3,3,6, 4]\n",
    "print(max_cnt(arr,len(arr)))"
   ]
  },
  {
   "cell_type": "markdown",
   "metadata": {},
   "source": [
    "Better solution, obviously hashmaps"
   ]
  },
  {
   "cell_type": "code",
   "execution_count": 29,
   "metadata": {},
   "outputs": [
    {
     "name": "stdout",
     "output_type": "stream",
     "text": [
      "{1: 2, 2: 3, 3: 4, 4: 1, 5: 1}\n"
     ]
    }
   ],
   "source": [
    "from collections import defaultdict\n",
    "\n",
    "def hash_maj(arr, n):\n",
    "    count = defaultdict(int)\n",
    "    for i in range(n):\n",
    "        count[arr[i]] += 1\n",
    "    return dict(count)  # Convert to a regular dictionary if desired\n",
    "\n",
    "# Example usage\n",
    "arr = [1, 1, 2, 2, 2, 3, 3, 3, 3, 4, 5]\n",
    "n = len(arr)\n",
    "result = hash_maj(arr, n)\n",
    "print(result)  # Output: {1: 2, 2: 3, 3: 4, 4: 1, 5: 1}\n"
   ]
  },
  {
   "cell_type": "code",
   "execution_count": null,
   "metadata": {},
   "outputs": [],
   "source": [
    "def hash_maj(arr, n):\n",
    "    count = {}\n",
    "    for i in range(n):\n",
    "        count[arr[i]] = count.get(arr[i], 0) + 1\n",
    "\n",
    "    # Find the element with the maximum count\n",
    "    cnt = max(count, key=count.get)  # Key with the maximum count\n",
    "\n",
    "    # Check if its count is greater than n // 2\n",
    "    if count[cnt] > n // 2:\n",
    "        return cnt\n",
    "    return -1  # Return -1 if no majority element exists\n",
    "\n",
    "# Example usage\n",
    "arr = [1, 1, 2, 2, 2, 2, 2, 3, 3, 3, 3, 3, 3, 6, 4]\n",
    "n = len(arr)\n",
    "result = hash_maj(arr, n)\n",
    "if result != -1:\n",
    "    print(f\"The majority element is {result}.\")\n",
    "else:\n",
    "    print(\"No majority element exists.\")\n"
   ]
  },
  {
   "cell_type": "code",
   "execution_count": 38,
   "metadata": {},
   "outputs": [],
   "source": [
    "def hash_maj(arr,n):\n",
    "    ct={}\n",
    "    for i in range(n):\n",
    "       ct[arr[i]] = ct.get(arr[i], 0) + 1\n",
    "    cnt=max(ct, key=ct.get)\n",
    "    if(ct[cnt]>n//2):\n",
    "        return cnt\n",
    "    return -1\n",
    "       \n",
    "        "
   ]
  },
  {
   "cell_type": "code",
   "execution_count": 39,
   "metadata": {},
   "outputs": [
    {
     "name": "stdout",
     "output_type": "stream",
     "text": [
      "3\n"
     ]
    }
   ],
   "source": [
    "arr=[1, 1,2,2,2,2,2,3,3,3,3,3,3,3,3,3,3,3,3,6,4]\n",
    "print(hash_maj(arr,len(arr)))"
   ]
  },
  {
   "cell_type": "markdown",
   "metadata": {},
   "source": [
    "### Moore's Voting Algorithm"
   ]
  },
  {
   "cell_type": "code",
   "execution_count": null,
   "metadata": {},
   "outputs": [],
   "source": [
    "# Optimal\n",
    "def moore_voting(arr,n):\n",
    "    cnt=0\n",
    "    \n",
    "    for i in range(n):\n",
    "        \n",
    "        if(cnt==0):\n",
    "            el=arr[i]\n",
    "            cnt=1\n",
    "        elif(arr[i]==el):\n",
    "            cnt+=1\n",
    "        else:\n",
    "            cnt-=1\n",
    "    cnt1=0       \n",
    "    for i in range(n):\n",
    "        if(arr[i]==el):\n",
    "            cnt1+=1\n",
    "    if cnt1>n//2:\n",
    "        return el\n",
    "    return -1"
   ]
  },
  {
   "cell_type": "code",
   "execution_count": 47,
   "metadata": {},
   "outputs": [
    {
     "name": "stdout",
     "output_type": "stream",
     "text": [
      "3\n"
     ]
    }
   ],
   "source": [
    "arr=[1,1,2,2,2,2,2,3,3,3,3,3,3,3,3,3,3,3,3,6,4]\n",
    "print(moore_voting(arr,len(arr)))"
   ]
  },
  {
   "cell_type": "code",
   "execution_count": null,
   "metadata": {},
   "outputs": [],
   "source": []
  }
 ],
 "metadata": {
  "kernelspec": {
   "display_name": "Python 3",
   "language": "python",
   "name": "python3"
  },
  "language_info": {
   "codemirror_mode": {
    "name": "ipython",
    "version": 3
   },
   "file_extension": ".py",
   "mimetype": "text/x-python",
   "name": "python",
   "nbconvert_exporter": "python",
   "pygments_lexer": "ipython3",
   "version": "3.13.0"
  }
 },
 "nbformat": 4,
 "nbformat_minor": 2
}
