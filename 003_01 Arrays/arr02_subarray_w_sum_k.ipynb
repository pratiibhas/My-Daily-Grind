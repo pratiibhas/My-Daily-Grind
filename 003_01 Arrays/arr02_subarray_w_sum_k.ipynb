{
 "cells": [
  {
   "cell_type": "code",
   "execution_count": 10,
   "metadata": {},
   "outputs": [
    {
     "name": "stdout",
     "output_type": "stream",
     "text": [
      "[2]\n",
      "[2, 3]\n",
      "[2, 3, 5]\n",
      "[2, 3, 5, 6]\n",
      "[2, 3, 5, 6, 7]\n",
      "[3]\n",
      "[3, 5]\n",
      "[3, 5, 6]\n",
      "[3, 5, 6, 7]\n",
      "[5]\n",
      "[5, 6]\n",
      "[5, 6, 7]\n",
      "[6]\n",
      "[6, 7]\n",
      "[7]\n"
     ]
    }
   ],
   "source": [
    "# generate all subarrays\n",
    "def subarray(arr,n):\n",
    "    \n",
    "    for i in range(n):\n",
    "        for j in range(i,n):\n",
    "          print(arr[i:j+1])         \n",
    "    \n",
    "arr=[2,3,5,6,7]    \n",
    "subarray(arr,5)        "
   ]
  },
  {
   "cell_type": "code",
   "execution_count": 11,
   "metadata": {},
   "outputs": [
    {
     "data": {
      "text/plain": [
       "[[2],\n",
       " [2, 3],\n",
       " [2, 3, 5],\n",
       " [2, 3, 5, 6],\n",
       " [2, 3, 5, 6, 7],\n",
       " [3],\n",
       " [3, 5],\n",
       " [3, 5, 6],\n",
       " [3, 5, 6, 7],\n",
       " [5],\n",
       " [5, 6],\n",
       " [5, 6, 7],\n",
       " [6],\n",
       " [6, 7],\n",
       " [7]]"
      ]
     },
     "execution_count": 11,
     "metadata": {},
     "output_type": "execute_result"
    }
   ],
   "source": [
    "# Generate all subarrays\n",
    "def subarray(arr, n):\n",
    "    result = []  # To store all subarrays\n",
    "    for i in range(n):\n",
    "        for j in range(i, n):\n",
    "            result.append(arr[i:j+1])  # Add each subarray to the list\n",
    "    return result\n",
    "\n",
    "    \n",
    "arr=[2,3,5,6,7]    \n",
    "subarray(arr,5)    "
   ]
  },
  {
   "cell_type": "code",
   "execution_count": 32,
   "metadata": {},
   "outputs": [
    {
     "name": "stdout",
     "output_type": "stream",
     "text": [
      "3\n"
     ]
    }
   ],
   "source": [
    "\n",
    "#print(len(arr))\n",
    "# Generate length of the longest subarray with sum k\n",
    "def subarray_sum_k(arr, n, k):\n",
    "    max_len = 0  # To track the longest subarray length\n",
    "    for i in range(n):\n",
    "        for j in range(i, n):\n",
    "            current_sum = 0  # Initialize sum for each subarray\n",
    "            for l in range(i, j + 1):  # Calculate sum of subarray from i to j\n",
    "                current_sum += arr[l]\n",
    "            if current_sum == k:\n",
    "                max_len = max(max_len, j - i + 1)  # Update max_len if sum equals k\n",
    "    return max_len\n",
    "\n",
    "arr = [1, 1, 1, 5, 6, 7]\n",
    "result = subarray_sum_k(arr, len(arr), 3)\n",
    "print(result)  # Output the result\n"
   ]
  },
  {
   "cell_type": "code",
   "execution_count": 36,
   "metadata": {},
   "outputs": [
    {
     "data": {
      "text/plain": [
       "3"
      ]
     },
     "execution_count": 36,
     "metadata": {},
     "output_type": "execute_result"
    }
   ],
   "source": [
    "# generate length of longest subarray\n",
    "def subarray_sum_k(arr,n,k):\n",
    "    alen=0\n",
    "    for i in range(n):\n",
    "        \n",
    "        for j in range(i,n):\n",
    "            s=0\n",
    "            for l in range(i,j+1):\n",
    "                s+=arr[l]\n",
    "            if (s==k):\n",
    "                  alen =max(alen,j-i+1)     \n",
    "    return alen\n",
    "arr=[1,1,1,3,5,6,7]    \n",
    "subarray_sum_k(arr,len(arr),3) "
   ]
  },
  {
   "cell_type": "code",
   "execution_count": 39,
   "metadata": {},
   "outputs": [
    {
     "name": "stdout",
     "output_type": "stream",
     "text": [
      "4\n"
     ]
    }
   ],
   "source": [
    "# Generate length of longest subarray with sum k\n",
    "def subarray_sum_k(arr, n, k):\n",
    "    max_len = 0  # To track the longest subarray length\n",
    "    for i in range(n):\n",
    "        current_sum = 0  # Reset sum for each starting index\n",
    "        for j in range(i, n):\n",
    "            current_sum += arr[j]  # Add current element to the sum\n",
    "            if current_sum == k:\n",
    "                max_len = max(max_len, j - i + 1)  # Update max_len if condition is met\n",
    "    return max_len\n",
    "\n",
    "arr = [1, 0, 2, 0, 2, 7]\n",
    "result = subarray_sum_k(arr, len(arr), 4)\n",
    "print(result)  # Output the result\n"
   ]
  },
  {
   "cell_type": "code",
   "execution_count": 38,
   "metadata": {},
   "outputs": [
    {
     "name": "stdout",
     "output_type": "stream",
     "text": [
      "4\n"
     ]
    }
   ],
   "source": [
    "# Better approach\n",
    "from collections import defaultdict\n",
    "\n",
    "def longest_subarray_with_sum_k(a, k):\n",
    "    pres_map = defaultdict(int)  # To store the prefix sum and its index\n",
    "    sum_ = 0\n",
    "    max_len = 0\n",
    "    \n",
    "    for i in range(len(a)):\n",
    "        sum_ += a[i]\n",
    "        \n",
    "        if sum_ == k:\n",
    "            max_len = max(max_len, i + 1)\n",
    "        \n",
    "        rem = sum_ - k\n",
    "        if rem in pres_map:\n",
    "            length = i - pres_map[rem]\n",
    "            max_len = max(max_len, length)\n",
    "        \n",
    "        if sum_ not in pres_map:\n",
    "            pres_map[sum_] = i\n",
    "    \n",
    "    return max_len\n",
    "arr = [1, 0, 2, 0, 2, 7]\n",
    "result = subarray_sum_k(arr, len(arr), 4)\n",
    "print(result)\n"
   ]
  },
  {
   "cell_type": "code",
   "execution_count": 41,
   "metadata": {},
   "outputs": [
    {
     "name": "stdout",
     "output_type": "stream",
     "text": [
      "4\n"
     ]
    }
   ],
   "source": [
    "# most optimal(considerable for positives and zeroes)\n",
    "\n",
    "def subarr(arr,n,k):\n",
    "    left=0\n",
    "    right=0\n",
    "    sum=arr[0]\n",
    "    \n",
    "    maxLen=0\n",
    "    \n",
    "    while(right<n):\n",
    "        while(left<=right and sum>k):\n",
    "            sum-=arr[left]\n",
    "            left+=1\n",
    "            \n",
    "        if sum==k:\n",
    "            maxLen= max(maxLen,right-left+1)\n",
    "        right+=1\n",
    "        if right<n :\n",
    "            sum+= arr[right]\n",
    "            \n",
    "    return maxLen \n",
    "\n",
    "arr = [1, 0, 2, 0, 2, 7]\n",
    "result = subarr(arr, len(arr), 4)\n",
    "print(result)"
   ]
  },
  {
   "cell_type": "code",
   "execution_count": null,
   "metadata": {},
   "outputs": [],
   "source": [
    "# count of Subarray with given sum k\n"
   ]
  }
 ],
 "metadata": {
  "kernelspec": {
   "display_name": "Python 3",
   "language": "python",
   "name": "python3"
  },
  "language_info": {
   "codemirror_mode": {
    "name": "ipython",
    "version": 3
   },
   "file_extension": ".py",
   "mimetype": "text/x-python",
   "name": "python",
   "nbconvert_exporter": "python",
   "pygments_lexer": "ipython3",
   "version": "3.13.0"
  }
 },
 "nbformat": 4,
 "nbformat_minor": 2
}
