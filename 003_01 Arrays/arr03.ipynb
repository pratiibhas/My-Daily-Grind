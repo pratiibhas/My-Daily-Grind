{
 "cells": [
  {
   "cell_type": "code",
   "execution_count": null,
   "metadata": {},
   "outputs": [
    {
     "data": {
      "text/plain": [
       "1"
      ]
     },
     "execution_count": 30,
     "metadata": {},
     "output_type": "execute_result"
    }
   ],
   "source": [
    "# Find missing element  # this code needs optimization\n",
    "def missing(arr,n):\n",
    "    flag =0\n",
    "    \n",
    "    for i in range(1,n+1):\n",
    "        for j in range(len(arr)):\n",
    "            if arr[j]==i:\n",
    "                flag=1\n",
    "                break\n",
    "        return flag  \n",
    "    return flag     \n",
    "\n",
    "arr= [1,3,4,5 ,7,8] \n",
    "missing(arr,7)      "
   ]
  },
  {
   "cell_type": "code",
   "execution_count": null,
   "metadata": {},
   "outputs": [
    {
     "name": "stdout",
     "output_type": "stream",
     "text": [
      "0\n"
     ]
    }
   ],
   "source": [
    "# optimized which work well\n",
    "def missing(arr, n):\n",
    "    for i in range(1, n + 1):  # Check all numbers from 1 to n\n",
    "        found = False\n",
    "        for j in range(len(arr)):  # Check if `i` exists in the array\n",
    "            if arr[j] == i:\n",
    "                found = True\n",
    "                break\n",
    "        if not found:  # If any number is missing, return 0\n",
    "            return 0\n",
    "    return 1  # If all numbers are found, return 1\n",
    "\n",
    "arr = [1, 2, 3, 4, 5]\n",
    "n = 6\n",
    "print(missing(arr, n))  # Output: 0 (3 is missing)\n"
   ]
  },
  {
   "cell_type": "code",
   "execution_count": 9,
   "metadata": {},
   "outputs": [
    {
     "name": "stdout",
     "output_type": "stream",
     "text": [
      "3\n"
     ]
    }
   ],
   "source": [
    "def missing(arr, n):\n",
    "    for i in range(1, n + 1):  # Check all numbers from 1 to n\n",
    "        flag = 0\n",
    "        for j in range(len(arr)):  # Check if `i` exists in the array\n",
    "            if arr[j] == i:\n",
    "                flag = 1\n",
    "                break\n",
    "        if flag == 0:  # If `i` is not found, return it\n",
    "            return i\n",
    "\n",
    "arr = [1, 2, 4, 5, 6]\n",
    "n = 6\n",
    "print(missing(arr, n))  # Output: 3\n"
   ]
  },
  {
   "cell_type": "code",
   "execution_count": 56,
   "metadata": {},
   "outputs": [
    {
     "name": "stdout",
     "output_type": "stream",
     "text": [
      "4\n"
     ]
    }
   ],
   "source": [
    "# Optimal solution\n",
    "def missing_optimal(arr,n):\n",
    "    k= arr[-1]\n",
    "    sum_of_n_num=k*(k+1)//2\n",
    "    sum_of_arr=0\n",
    "   \n",
    "    for i in range(n):\n",
    "        sum_of_arr = sum_of_arr + arr[i]\n",
    "        \n",
    "    diff = sum_of_n_num - sum_of_arr\n",
    "    return diff\n",
    "arr = [1, 2, 3,5, 6,7]\n",
    "n = 6\n",
    "k=7\n",
    "print(missing_optimal(arr, n))  # Output: 3"
   ]
  },
  {
   "cell_type": "code",
   "execution_count": 59,
   "metadata": {},
   "outputs": [
    {
     "name": "stdout",
     "output_type": "stream",
     "text": [
      "4\n"
     ]
    }
   ],
   "source": [
    "#most optimal XOR (due to space)\n",
    "\n",
    "def xor_missing(arr,n):\n",
    "    xor1= 0\n",
    "    xor2 =0\n",
    "    c=n-1\n",
    "    for i in range(c):\n",
    "        xor2=xor1^[i]\n",
    "        xor1=xor1^(i+1)\n",
    "    xor1=xor1^n    \n",
    "    return xor1^xor2 \n",
    "   \n",
    "arr = [1, 2, 3,5, 6,7]\n",
    "n = 6\n",
    "\n",
    "print(missing_optimal(arr, n)) "
   ]
  },
  {
   "cell_type": "code",
   "execution_count": null,
   "metadata": {},
   "outputs": [
    {
     "name": "stdout",
     "output_type": "stream",
     "text": [
      "3\n"
     ]
    }
   ],
   "source": [
    "#Max consecutive ones\n",
    "def max_consec_ones(arr,n):\n",
    "    max_count=0\n",
    "    cnt=0\n",
    "    for i in range(n):\n",
    "        if arr[i]==1:\n",
    "            cnt+=1\n",
    "            max_count=max(max_count,cnt)\n",
    "        else:\n",
    "            cnt=0\n",
    "    return max_count      \n",
    "arr = [1, 1,0,0,1,1,1,0,0,1,1,0,1]\n",
    "n = 6\n",
    "\n",
    "print(max_consec_ones(arr, len(arr)))       "
   ]
  },
  {
   "cell_type": "code",
   "execution_count": 69,
   "metadata": {},
   "outputs": [
    {
     "name": "stdout",
     "output_type": "stream",
     "text": [
      "2\n"
     ]
    }
   ],
   "source": [
    "# number that appears once but not twice\n",
    "def m_once(arr,n):\n",
    "    xor=0\n",
    "    for i in range(n):\n",
    "        xor=xor^arr[i]\n",
    "        \n",
    "    return xor \n",
    "arr = [1,1,2,3,3,4,4,5,5]\n",
    "\n",
    "print(m_once(arr, len(arr)))       "
   ]
  },
  {
   "cell_type": "code",
   "execution_count": null,
   "metadata": {},
   "outputs": [],
   "source": [
    "# element appearing once (using hashing)\n",
    "def m_hashing_once(arr,n):\n",
    "    hashi=[0]*arr"
   ]
  },
  {
   "cell_type": "code",
   "execution_count": 71,
   "metadata": {},
   "outputs": [
    {
     "name": "stdout",
     "output_type": "stream",
     "text": [
      "None\n"
     ]
    }
   ],
   "source": [
    "def m_once_hashing(arr):\n",
    "    # Create a hash table (dictionary) to count occurrences\n",
    "    frequency = {}\n",
    "    \n",
    "    # Count each number in the array\n",
    "    for num in arr:\n",
    "        frequency[num] = frequency.get(num, 0) + 1\n",
    "    \n",
    "    # Find the number with a count of 1\n",
    "    for key, value in frequency.items():\n",
    "        if value == 1:\n",
    "            return key\n",
    "\n",
    "# Test array\n",
    "arr = [1, 1, 2,2, 3, 3, 4, 4, 5, 5]\n",
    "\n",
    "print(m_once_hashing(arr))\n"
   ]
  }
 ],
 "metadata": {
  "kernelspec": {
   "display_name": "Python 3",
   "language": "python",
   "name": "python3"
  },
  "language_info": {
   "codemirror_mode": {
    "name": "ipython",
    "version": 3
   },
   "file_extension": ".py",
   "mimetype": "text/x-python",
   "name": "python",
   "nbconvert_exporter": "python",
   "pygments_lexer": "ipython3",
   "version": "3.13.0"
  }
 },
 "nbformat": 4,
 "nbformat_minor": 2
}
