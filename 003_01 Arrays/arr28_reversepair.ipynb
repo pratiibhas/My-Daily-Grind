{
 "cells": [
  {
   "cell_type": "markdown",
   "id": "9102794a",
   "metadata": {},
   "source": [
    "- Given an integer array nums, return the number of reverse pairs in the array.\n",
    "\n",
    "A reverse pair is a pair (i, j) where:\n",
    "\n",
    "0 <= i < j < nums.length and\n",
    "nums[i] > 2 * nums[j].\n",
    " \n",
    "\n",
    "- Example 1:\n",
    "\n",
    "Input: nums = [1,3,2,3,1]\n",
    "Output: 2\n",
    "- Explanation: The reverse pairs are:\n",
    "(1, 4) --> nums[1] = 3, nums[4] = 1, 3 > 2 * 1\n",
    "(3, 4) --> nums[3] = 3, nums[4] = 1, 3 > 2 * 1"
   ]
  },
  {
   "cell_type": "markdown",
   "id": "eade1ad2",
   "metadata": {},
   "source": [
    "### Brute force"
   ]
  },
  {
   "cell_type": "code",
   "execution_count": 17,
   "id": "c2035f96",
   "metadata": {},
   "outputs": [],
   "source": [
    "def reversePairs(nums) :\n",
    "    cnt=0\n",
    "    n = len(nums)\n",
    "    for i in range(n):\n",
    "        for j in range(i+1,n):\n",
    "            if nums[i]>nums[j]*2:\n",
    "                cnt +=1\n",
    "    return cnt  "
   ]
  },
  {
   "cell_type": "code",
   "execution_count": 22,
   "id": "06d8f515",
   "metadata": {},
   "outputs": [
    {
     "data": {
      "text/plain": [
       "7"
      ]
     },
     "execution_count": 22,
     "metadata": {},
     "output_type": "execute_result"
    }
   ],
   "source": [
    "reversePairs([30,48,12,7,80,9])"
   ]
  },
  {
   "cell_type": "markdown",
   "id": "7d50bafe",
   "metadata": {},
   "source": [
    "### Optimal approach"
   ]
  },
  {
   "cell_type": "code",
   "execution_count": null,
   "id": "d0de2a05",
   "metadata": {},
   "outputs": [
    {
     "name": "stdout",
     "output_type": "stream",
     "text": [
      "The number of reverse pair is: 3\n"
     ]
    }
   ],
   "source": [
    "def merge(arr, low, mid, high):\n",
    "    temp = []  # temporary array\n",
    "    left = low  # starting index of left half of arr\n",
    "    right = mid + 1  # starting index of right half of arr\n",
    "\n",
    "    # storing elements in the temporary array in a sorted manner\n",
    "    while left <= mid and right <= high:\n",
    "        if arr[left] <= arr[right]:\n",
    "            temp.append(arr[left])\n",
    "            left += 1\n",
    "        else:\n",
    "            temp.append(arr[right])\n",
    "            right += 1\n",
    "\n",
    "    # if elements on the left half are still left\n",
    "    while left <= mid:\n",
    "        temp.append(arr[left])\n",
    "        left += 1\n",
    "\n",
    "    # if elements on the right half are still left\n",
    "    while right <= high:\n",
    "        temp.append(arr[right])\n",
    "        right += 1\n",
    "\n",
    "    # transferring all elements from temporary to arr\n",
    "    for i in range(low, high + 1):\n",
    "        arr[i] = temp[i - low]\n",
    "\n",
    "# checking for our condition if true counting \n",
    "def countPairs(arr, low, mid, high):\n",
    "    right = mid + 1\n",
    "    cnt = 0\n",
    "    for i in range(low, mid + 1):\n",
    "        while right <= high and arr[i] > 2 * arr[right]:\n",
    "            right += 1 # reaching till the point condition vecome false so that we cna get to the right most index\n",
    "            # which will later help in counting how much values are reverse pairs\n",
    "        cnt += (right - (mid + 1)) # also right is updated so we need not worry about previous pairs are being countd or not \n",
    "    return cnt\n",
    "\n",
    "def mergeSort(arr, low, high):\n",
    "    cnt = 0\n",
    "    if low >= high:\n",
    "        return cnt\n",
    "    mid = (low + high) // 2\n",
    "    cnt += mergeSort(arr, low, mid)  # left half\n",
    "    cnt += mergeSort(arr, mid + 1, high)  # right half\n",
    "    cnt += countPairs(arr, low, mid, high)  # Modification\n",
    "    merge(arr, low, mid, high)  # merging sorted halves\n",
    "    return cnt\n",
    "\n",
    "def team(skill, n):\n",
    "    return mergeSort(skill, 0, n - 1)\n",
    "\n",
    "if __name__ == \"__main__\":\n",
    "    a = [4, 1, 2, 3, 1]\n",
    "    n = 5\n",
    "    cnt = team(a, n)\n",
    "    print(\"The number of reverse pair is:\", cnt)"
   ]
  },
  {
   "cell_type": "code",
   "execution_count": 15,
   "id": "9d4c045f",
   "metadata": {},
   "outputs": [
    {
     "data": {
      "text/plain": [
       "4"
      ]
     },
     "execution_count": 15,
     "metadata": {},
     "output_type": "execute_result"
    }
   ],
   "source": [
    "arr=[5,3,2,4,1]\n",
    "a = [5, 4, 6, 6, 1]\n",
    "b = [4, 1, 2, 3, 1]\n",
    "mergeSort(a,0,4) "
   ]
  },
  {
   "cell_type": "code",
   "execution_count": null,
   "id": "bf5d87f1",
   "metadata": {},
   "outputs": [],
   "source": []
  }
 ],
 "metadata": {
  "kernelspec": {
   "display_name": "Python 3",
   "language": "python",
   "name": "python3"
  },
  "language_info": {
   "codemirror_mode": {
    "name": "ipython",
    "version": 3
   },
   "file_extension": ".py",
   "mimetype": "text/x-python",
   "name": "python",
   "nbconvert_exporter": "python",
   "pygments_lexer": "ipython3",
   "version": "3.13.0"
  }
 },
 "nbformat": 4,
 "nbformat_minor": 5
}
