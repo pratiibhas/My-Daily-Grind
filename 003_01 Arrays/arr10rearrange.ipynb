{
 "cells": [
  {
   "cell_type": "code",
   "execution_count": null,
   "metadata": {},
   "outputs": [],
   "source": [
    "arr=[3,1,-2,-5,2,-4]\n"
   ]
  },
  {
   "cell_type": "code",
   "execution_count": 3,
   "metadata": {},
   "outputs": [],
   "source": [
    "def arrange_brute(arr,n):\n",
    "    pos=[]\n",
    "    neg=[]\n",
    "    for i in range(n):\n",
    "       if arr[i]>0:\n",
    "           pos.append(arr[i])\n",
    "       else:\n",
    "           neg.append(arr[i])   \n",
    "    for i in range(n//2):\n",
    "        arr[2*i]=pos[i] \n",
    "        arr[2*i+1]=neg[i] \n",
    "    return arr            "
   ]
  },
  {
   "cell_type": "code",
   "execution_count": 4,
   "metadata": {},
   "outputs": [
    {
     "name": "stdout",
     "output_type": "stream",
     "text": [
      "[3, -2, 1, -5, 2, -4]\n"
     ]
    }
   ],
   "source": [
    "arr=[3,1,-2,-5,2,-4]\n",
    "print(arrange_brute(arr,len(arr)))"
   ]
  },
  {
   "cell_type": "code",
   "execution_count": 21,
   "metadata": {},
   "outputs": [],
   "source": [
    "def arrange_somewhere_optimal(arr,n):\n",
    "    \n",
    "    pos=0\n",
    "    neg=1\n",
    "    ans=[0]*n\n",
    "    for i in range(n):\n",
    "        if (arr[i]>0):\n",
    "            ans[pos]=arr[i]\n",
    "            pos+=2\n",
    "        else:\n",
    "            ans[neg]=arr[i]\n",
    "            neg+=2    \n",
    "    return ans        "
   ]
  },
  {
   "cell_type": "code",
   "execution_count": 22,
   "metadata": {},
   "outputs": [
    {
     "name": "stdout",
     "output_type": "stream",
     "text": [
      "[3, -2, 1, -5, 2, -4]\n"
     ]
    }
   ],
   "source": [
    "arr=[3,1,-2,-5,2,-4]\n",
    "print(arrange_somewhere_optimal(arr,len(arr)))"
   ]
  },
  {
   "cell_type": "markdown",
   "metadata": {},
   "source": [
    "Follow up question can come up like when number of positives and negatives are not equal"
   ]
  },
  {
   "cell_type": "code",
   "execution_count": 25,
   "metadata": {},
   "outputs": [],
   "source": [
    "def unequal_num_rearrangemnt(arr,n):\n",
    "    pos=[]\n",
    "    neg=[]\n",
    "    for i in range(n):\n",
    "       if arr[i]>0:\n",
    "           pos.append(arr[i])\n",
    "       else:\n",
    "           neg.append(arr[i])   \n",
    "    if(len(pos)>len(neg)):\n",
    "        for i in range(len(neg)):\n",
    "            arr[2*i]=pos[i] \n",
    "            arr[2*i+1]=neg[i]\n",
    "            index =len(neg)*2\n",
    "        for j in range(len(neg),len(pos)):\n",
    "            arr[index]  =pos[j]  \n",
    "    if(len(pos)<len(neg)):\n",
    "        for i in range(len(pos)):\n",
    "            arr[2*i]=pos[i] \n",
    "            arr[2*i+1]=neg[i]\n",
    "            index =len(pos)*2\n",
    "        for j in range(len(pos),len(neg)):\n",
    "            arr[index] =neg[j]         \n",
    "    return arr       "
   ]
  },
  {
   "cell_type": "code",
   "execution_count": 27,
   "metadata": {},
   "outputs": [
    {
     "name": "stdout",
     "output_type": "stream",
     "text": [
      "[3, -2, 1, -5, 2, -4, 2, -3, -5, -5]\n"
     ]
    }
   ],
   "source": [
    "arr=[3,1,-2,-5,2,-4,2,-3,-4,-5]\n",
    "print(unequal_num_rearrangemnt(arr,len(arr)))"
   ]
  },
  {
   "cell_type": "code",
   "execution_count": null,
   "metadata": {},
   "outputs": [],
   "source": []
  }
 ],
 "metadata": {
  "kernelspec": {
   "display_name": "Python 3",
   "language": "python",
   "name": "python3"
  },
  "language_info": {
   "codemirror_mode": {
    "name": "ipython",
    "version": 3
   },
   "file_extension": ".py",
   "mimetype": "text/x-python",
   "name": "python",
   "nbconvert_exporter": "python",
   "pygments_lexer": "ipython3",
   "version": "3.13.0"
  }
 },
 "nbformat": 4,
 "nbformat_minor": 2
}
