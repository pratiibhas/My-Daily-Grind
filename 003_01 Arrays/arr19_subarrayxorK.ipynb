{
 "cells": [
  {
   "cell_type": "markdown",
   "metadata": {},
   "source": [
    "### Subarray with xor as k"
   ]
  },
  {
   "cell_type": "code",
   "execution_count": 62,
   "metadata": {},
   "outputs": [],
   "source": [
    "def subarr_xor(arr,target):\n",
    "    n=len(arr)\n",
    "    count=0\n",
    "    for i in range(n):\n",
    "        xor=0\n",
    "        for j in range(i,n):\n",
    "            for k in range(i,j+1):\n",
    "                xor=xor^arr[k]\n",
    "            if(xor==target):\n",
    "                count+=1\n",
    "    return count            \n",
    "                "
   ]
  },
  {
   "cell_type": "code",
   "execution_count": 63,
   "metadata": {},
   "outputs": [
    {
     "name": "stdout",
     "output_type": "stream",
     "text": [
      "2\n"
     ]
    }
   ],
   "source": [
    "arr=[1,2,3,4,5]\n",
    "print(subarr_xor(arr,5))"
   ]
  },
  {
   "cell_type": "code",
   "execution_count": 47,
   "metadata": {},
   "outputs": [],
   "source": [
    "def subarr_better_xor(arr, target):\n",
    "    n = len(arr)\n",
    "    count = 0\n",
    "\n",
    "    for i in range(n):\n",
    "        xor = 0  # Reset XOR for each starting index\n",
    "        for j in range(i, n):\n",
    "            xor ^= arr[j]  # Compute XOR for the current subarray\n",
    "            if xor == target:\n",
    "                count += 1\n",
    "    return count\n"
   ]
  },
  {
   "cell_type": "code",
   "execution_count": 48,
   "metadata": {},
   "outputs": [
    {
     "name": "stdout",
     "output_type": "stream",
     "text": [
      "2\n"
     ]
    }
   ],
   "source": [
    "# Example usage\n",
    "arr = [1, 2, 3, 4, 5]\n",
    "print(subarr_better_xor(arr, 5))  # Output should be 0\n"
   ]
  },
  {
   "cell_type": "code",
   "execution_count": 78,
   "metadata": {},
   "outputs": [
    {
     "name": "stdout",
     "output_type": "stream",
     "text": [
      "2\n"
     ]
    }
   ],
   "source": [
    "arr=[1,2,3,4,5]\n",
    "print(subarr_xor(arr,5))"
   ]
  },
  {
   "cell_type": "markdown",
   "metadata": {},
   "source": [
    "### Optimal solution"
   ]
  },
  {
   "cell_type": "markdown",
   "metadata": {},
   "source": [
    "Hashmaps and a formula is used x=xr^k if x exists in hashmap increament the count"
   ]
  },
  {
   "cell_type": "code",
   "execution_count": 79,
   "metadata": {},
   "outputs": [],
   "source": [
    "def subarr_opt_xor(arr, target):\n",
    "    n = len(arr)\n",
    "    xr=0\n",
    "    cnt=0\n",
    "    hashmap={0:1}\n",
    "    for i in range(n):\n",
    "        xr=xr^arr[i]\n",
    "        x= xr^target\n",
    "        cnt += hashmap.get(x, 0)\n",
    "\n",
    "        # Update the hashmap with the current cumulative XOR\n",
    "        hashmap[xr] = hashmap.get(xr, 0) + 1\n",
    "    return cnt    "
   ]
  },
  {
   "cell_type": "code",
   "execution_count": 80,
   "metadata": {},
   "outputs": [
    {
     "name": "stdout",
     "output_type": "stream",
     "text": [
      "2\n"
     ]
    }
   ],
   "source": [
    "arr=[1,2,3,4,5]\n",
    "print(subarr_opt_xor(arr,5))"
   ]
  },
  {
   "cell_type": "markdown",
   "metadata": {},
   "source": [
    "TC: O(n)\n",
    "SC: O(n)"
   ]
  }
 ],
 "metadata": {
  "kernelspec": {
   "display_name": "Python 3",
   "language": "python",
   "name": "python3"
  },
  "language_info": {
   "codemirror_mode": {
    "name": "ipython",
    "version": 3
   },
   "file_extension": ".py",
   "mimetype": "text/x-python",
   "name": "python",
   "nbconvert_exporter": "python",
   "pygments_lexer": "ipython3",
   "version": "3.13.0"
  }
 },
 "nbformat": 4,
 "nbformat_minor": 2
}
