{
 "cells": [
  {
   "cell_type": "markdown",
   "metadata": {},
   "source": [
    "### Four sum problem; sum equal to agiven target"
   ]
  },
  {
   "cell_type": "code",
   "execution_count": 7,
   "metadata": {},
   "outputs": [],
   "source": [
    "def brute_forcE_4_sum(arr,target):\n",
    "    arr.sort()\n",
    "    n=len(arr)\n",
    "    ans=[]\n",
    "    for i in range(n):\n",
    "       for j in range(i+1,n):\n",
    "           for k in range(j+1,n):\n",
    "               for l in range(k+1,n):\n",
    "                   if arr[i]+arr[j]+arr[k]+arr[l]==target:\n",
    "                       ans.append([arr[i],arr[j],arr[k],arr[l]])\n",
    "    return ans                   \n"
   ]
  },
  {
   "cell_type": "code",
   "execution_count": 8,
   "metadata": {},
   "outputs": [
    {
     "name": "stdout",
     "output_type": "stream",
     "text": [
      "[[-4, 1, 2, 3]]\n"
     ]
    }
   ],
   "source": [
    "arr=[3,1,-2,-5,2,-4]\n",
    "print(brute_forcE_4_sum(arr,2))"
   ]
  },
  {
   "cell_type": "markdown",
   "metadata": {},
   "source": [
    "### Better approach"
   ]
  },
  {
   "cell_type": "code",
   "execution_count": 16,
   "metadata": {},
   "outputs": [],
   "source": [
    "def better_approach_four_sum(arr,target):\n",
    "    arr.sort()\n",
    "    n=len(arr)\n",
    "    ans=set()\n",
    "    for i in range(n):\n",
    "       hashmap=set()\n",
    "       for j in range(i+1,n):\n",
    "           for k in range(j+1,n):\n",
    "               fourth=target-(arr[i]+arr[j]+arr[k])\n",
    "               if fourth in hashmap:\n",
    "                   quadruplet = tuple(sorted([arr[i], arr[j], arr[k], fourth]))\n",
    "                   ans.add(quadruplet)\n",
    "               else:\n",
    "                   hashmap.add(arr[k])   \n",
    "    return ans                \n",
    "    "
   ]
  },
  {
   "cell_type": "code",
   "execution_count": 17,
   "metadata": {},
   "outputs": [
    {
     "name": "stdout",
     "output_type": "stream",
     "text": [
      "{(-5, 1, 3, 3), (-4, 1, 2, 3), (-5, 2, 2, 3)}\n"
     ]
    }
   ],
   "source": [
    "arr=[3,1,-2,-5,2,-4]\n",
    "print(better_approach_four_sum(arr,2))"
   ]
  },
  {
   "cell_type": "markdown",
   "metadata": {},
   "source": [
    "### Optimal solution"
   ]
  },
  {
   "cell_type": "code",
   "execution_count": 43,
   "metadata": {},
   "outputs": [],
   "source": [
    "def opt_four_sum(arr,target):\n",
    "    arr.sort()\n",
    "    n=len(arr) \n",
    "    ans=[]\n",
    "    for i in range(n):\n",
    "        if(i>0 and arr[i]==arr[i-1]):\n",
    "           continue\n",
    "            \n",
    "        for j in range(i+1,n):\n",
    "            if j > i + 1 and arr[j] == arr[j - 1]:\n",
    "               continue\n",
    "            k=j+1\n",
    "            l=n-1\n",
    "            while(l>k):\n",
    "                curr_sum= arr[i]+arr[j]+arr[k]+arr[l]\n",
    "                if(curr_sum>target):\n",
    "                    l=l-1\n",
    "                elif(curr_sum<target):\n",
    "                    k=k+1\n",
    "                else:\n",
    "                    ans.append([arr[i],arr[j],arr[k],arr[l]])\n",
    "                    k+=1\n",
    "                    l-=1\n",
    "                    while(k<l and arr[k]==arr[k-1]):\n",
    "                        k+=1\n",
    "                        \n",
    "                    while(k<l and arr[l]==arr[l+1]):\n",
    "                        l-=1  \n",
    "    return ans                     \n",
    "                   \n",
    "                       "
   ]
  },
  {
   "cell_type": "code",
   "execution_count": 44,
   "metadata": {},
   "outputs": [
    {
     "name": "stdout",
     "output_type": "stream",
     "text": [
      "[[-4, 1, 2, 3]]\n"
     ]
    }
   ],
   "source": [
    "arr=[3,1,-2,-5,2,-4]\n",
    "print(opt_four_sum(arr,2))"
   ]
  },
  {
   "cell_type": "markdown",
   "metadata": {},
   "source": [
    "TC:O(N^2*N)\n",
    "n^ 2 for the two loops\n",
    "and k and l go through the entire part, so n\n",
    "\n",
    "SC: O(number of quards)\n",
    "using the space only to return answers"
   ]
  }
 ],
 "metadata": {
  "kernelspec": {
   "display_name": "Python 3",
   "language": "python",
   "name": "python3"
  },
  "language_info": {
   "codemirror_mode": {
    "name": "ipython",
    "version": 3
   },
   "file_extension": ".py",
   "mimetype": "text/x-python",
   "name": "python",
   "nbconvert_exporter": "python",
   "pygments_lexer": "ipython3",
   "version": "3.13.0"
  }
 },
 "nbformat": 4,
 "nbformat_minor": 2
}
