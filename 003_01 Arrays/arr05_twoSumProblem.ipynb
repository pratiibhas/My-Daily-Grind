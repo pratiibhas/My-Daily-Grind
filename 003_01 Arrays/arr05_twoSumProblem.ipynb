{
 "cells": [
  {
   "cell_type": "code",
   "execution_count": 33,
   "metadata": {},
   "outputs": [],
   "source": [
    "# very brute force\n",
    "def sum_exist(arr,n,k):\n",
    "    n=len(arr)\n",
    "    \n",
    "    for i in range(n):\n",
    "        flag=False\n",
    "        for j in range(n):\n",
    "            if(i==j): continue\n",
    "            if(arr[i]+arr[j]==k):\n",
    "                flag= True\n",
    "                return flag,i,j\n",
    "    return flag      \n",
    "                "
   ]
  },
  {
   "cell_type": "code",
   "execution_count": null,
   "metadata": {},
   "outputs": [],
   "source": [
    "# brute force\n",
    "def sum_exist_better(arr,n,k):\n",
    "    \n",
    "    for i in range(n):\n",
    "        flag=False\n",
    "        for j in range(i,n): \n",
    "            if(arr[i]+arr[j]==k):\n",
    "                flag= True\n",
    "                return flag\n",
    "    return flag       "
   ]
  },
  {
   "cell_type": "code",
   "execution_count": 34,
   "metadata": {},
   "outputs": [
    {
     "name": "stdout",
     "output_type": "stream",
     "text": [
      "(True, 0, 3)\n"
     ]
    }
   ],
   "source": [
    "arr=[1, 2, 6, 4]\n",
    "print(sum_exist(arr,len(arr),5))"
   ]
  },
  {
   "cell_type": "code",
   "execution_count": 45,
   "metadata": {},
   "outputs": [],
   "source": [
    "# Hashing to reduce the time complexity\n",
    "def hash_version(arr,n,k):\n",
    "    seen=set()\n",
    "    for num in arr:\n",
    "        if k - num in seen:  # Check if the complement exists\n",
    "            return True , num\n",
    "        seen.add(num)\n",
    "    return False "
   ]
  },
  {
   "cell_type": "code",
   "execution_count": 57,
   "metadata": {},
   "outputs": [],
   "source": [
    "# to get the index as well as true or false use dictionary instead of set\n",
    "def hash_version_with_indices(arr, n, k):\n",
    "    seen = {}  # Dictionary to store value:index\n",
    "    for i, num in enumerate(arr):\n",
    "        complement = k - num\n",
    "        if complement in seen:  # Check if the complement exists\n",
    "            return True, (seen[complement], i)  # Return indices of the pair\n",
    "        seen[num] = i  # Store the index of the current number\n",
    "    return False, None  # Return False if no such pair exists\n"
   ]
  },
  {
   "cell_type": "code",
   "execution_count": 46,
   "metadata": {},
   "outputs": [
    {
     "name": "stdout",
     "output_type": "stream",
     "text": [
      "(True, 4)\n"
     ]
    }
   ],
   "source": [
    "arr=[1, 2, 6, 4]\n",
    "print(hash_version(arr,len(arr),5))"
   ]
  },
  {
   "cell_type": "code",
   "execution_count": 58,
   "metadata": {},
   "outputs": [
    {
     "name": "stdout",
     "output_type": "stream",
     "text": [
      "(True, (0, 3))\n"
     ]
    }
   ],
   "source": [
    "arr=[1, 2, 6, 4]\n",
    "print(hash_version_with_indices(arr,len(arr),5))"
   ]
  },
  {
   "cell_type": "code",
   "execution_count": 53,
   "metadata": {},
   "outputs": [],
   "source": [
    "# better than hash \n",
    "\n",
    "def better_than_hash(arr,n,k):\n",
    "    left=0\n",
    "    right=n-1\n",
    "    arr=sorted(arr)\n",
    "    \n",
    "    while(left<right):\n",
    "       sum=arr[right]+arr[left]\n",
    "       if (sum==k):\n",
    "           return True\n",
    "       elif(sum>k):\n",
    "           right-=1\n",
    "       else:\n",
    "           left+=1\n",
    "           \n",
    "    return False               "
   ]
  },
  {
   "cell_type": "code",
   "execution_count": 56,
   "metadata": {},
   "outputs": [
    {
     "name": "stdout",
     "output_type": "stream",
     "text": [
      "False\n"
     ]
    }
   ],
   "source": [
    "arr=[1, 2, 6, 6]\n",
    "print(better_than_hash(arr,len(arr),5))"
   ]
  }
 ],
 "metadata": {
  "kernelspec": {
   "display_name": "Python 3",
   "language": "python",
   "name": "python3"
  },
  "language_info": {
   "codemirror_mode": {
    "name": "ipython",
    "version": 3
   },
   "file_extension": ".py",
   "mimetype": "text/x-python",
   "name": "python",
   "nbconvert_exporter": "python",
   "pygments_lexer": "ipython3",
   "version": "3.13.0"
  }
 },
 "nbformat": 4,
 "nbformat_minor": 2
}
