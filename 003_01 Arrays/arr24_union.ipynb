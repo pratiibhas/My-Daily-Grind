{
 "cells": [
  {
   "cell_type": "code",
   "execution_count": 1,
   "metadata": {},
   "outputs": [],
   "source": [
    "# Two pointer approach \n",
    "def findUnion(self, a, b):\n",
    "        uni = []\n",
    "        \n",
    "        i, j = 0, 0\n",
    "        while i < len(a) and j < len(b):\n",
    "            if a[i] < b[j]:\n",
    "                uni.append(a[i])\n",
    "                i += 1\n",
    "            elif a[i] > b[j]:\n",
    "                uni.append(b[j])\n",
    "                j += 1\n",
    "            else:\n",
    "                # If elements are equal, add only once to avoid duplicates\n",
    "                uni.append(a[i])\n",
    "                i += 1\n",
    "                j += 1\n",
    "        \n",
    "        # Add remaining elements from `a`, if any\n",
    "        while i < len(a):\n",
    "            uni.append(a[i])\n",
    "            i += 1\n",
    "        \n",
    "        # Add remaining elements from `b`, if any\n",
    "        while j < len(b):\n",
    "            uni.append(b[j])\n",
    "            j += 1\n",
    "        \n",
    "        return uni"
   ]
  },
  {
   "cell_type": "code",
   "execution_count": null,
   "metadata": {},
   "outputs": [],
   "source": [
    "def find_union(arr1, arr2):\n",
    "    freq = {}\n",
    "    union = []\n",
    "    \n",
    "    for num in arr1:\n",
    "        freq[num] = freq.get(num, 0) + 1\n",
    "    \n",
    "    for num in arr2:\n",
    "        freq[num] = freq.get(num, 0) + 1\n",
    "    \n",
    "    for num in freq:\n",
    "        union.append(num)\n",
    "    \n",
    "    return union\n",
    "\n",
    "arr1 = [1, 2, 3, 4, 5, 6, 7, 8, 9, 10]\n",
    "arr2 = [2, 3, 4, 4, 5, 11, 12]\n",
    "\n",
    "union = find_union(arr1, arr2)\n",
    "\n",
    "print(\"Union of arr1 and arr2 is:\")\n",
    "for num in union:\n",
    "    print(num, end=\" \")"
   ]
  },
  {
   "cell_type": "code",
   "execution_count": null,
   "metadata": {},
   "outputs": [],
   "source": [
    "def findUnion(self,arr1, arr2):\n",
    "        \n",
    "        i, j = 0, 0  # Pointers\n",
    "        union = []  # Union list\n",
    "    \n",
    "        while i < len(arr1) and j < len(arr2):\n",
    "            if arr1[i] <= arr2[j]:  # Case 1 and 2\n",
    "                if len(union) == 0 or union[-1] != arr1[i]:\n",
    "                    union.append(arr1[i])\n",
    "                i += 1\n",
    "            else:  # Case 3\n",
    "                if len(union) == 0 or union[-1] != arr2[j]:\n",
    "                    union.append(arr2[j])\n",
    "                j += 1\n",
    "    \n",
    "        while i < len(arr1):  # If any elements left in arr1\n",
    "            if union[-1] != arr1[i]:\n",
    "                union.append(arr1[i])\n",
    "            i += 1\n",
    "    \n",
    "        while j < len(arr2):  # If any elements left in arr2\n",
    "            if union[-1] != arr2[j]:\n",
    "                union.append(arr2[j])\n",
    "            j += 1\n",
    "    \n",
    "        return union\n"
   ]
  },
  {
   "cell_type": "code",
   "execution_count": 27,
   "metadata": {},
   "outputs": [],
   "source": [
    "def longestSubarray(arr, n, k):  \n",
    "    # Initialize variables\n",
    "    maxi = 0  # Maximum length of subarray with sum k\n",
    "    \n",
    "    # Outer loop for starting index\n",
    "    for i in range(n):\n",
    "        s = 0  # Reset sum for each new starting index\n",
    "        \n",
    "        # Inner loop for ending index\n",
    "        for j in range(i, n):\n",
    "            s += arr[j]  # Add current element to the sum\n",
    "            \n",
    "            # Check if the sum equals k\n",
    "            if s == k:\n",
    "                # Update maxi if the current subarray is longer\n",
    "                maxi = max(maxi, j - i + 1)\n",
    "    \n",
    "    # If no subarray with sum k is found, return -1\n",
    "    return maxi if maxi > 0 else -1\n",
    "        \n"
   ]
  },
  {
   "cell_type": "code",
   "execution_count": 28,
   "metadata": {},
   "outputs": [
    {
     "data": {
      "text/plain": [
       "3"
      ]
     },
     "execution_count": 28,
     "metadata": {},
     "output_type": "execute_result"
    }
   ],
   "source": [
    "longestSubarray([1,2,3,4,5],5,6)"
   ]
  }
 ],
 "metadata": {
  "kernelspec": {
   "display_name": "Python 3",
   "language": "python",
   "name": "python3"
  },
  "language_info": {
   "codemirror_mode": {
    "name": "ipython",
    "version": 3
   },
   "file_extension": ".py",
   "mimetype": "text/x-python",
   "name": "python",
   "nbconvert_exporter": "python",
   "pygments_lexer": "ipython3",
   "version": "3.13.0"
  }
 },
 "nbformat": 4,
 "nbformat_minor": 2
}
