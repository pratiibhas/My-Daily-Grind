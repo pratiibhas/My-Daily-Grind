{
 "cells": [
  {
   "cell_type": "markdown",
   "metadata": {},
   "source": [
    "### Longest subarray with sum k (positives)"
   ]
  },
  {
   "cell_type": "code",
   "execution_count": 10,
   "metadata": {},
   "outputs": [
    {
     "name": "stdout",
     "output_type": "stream",
     "text": [
      "All subarrays:\n",
      "[1]\n",
      "[1, 2]\n",
      "[1, 2, 2]\n",
      "[1, 2, 2, 3]\n",
      "[1, 2, 2, 3, 1]\n",
      "[1, 2, 2, 3, 1, 4]\n",
      "[1, 2, 2, 3, 1, 4, 5]\n",
      "[1, 2, 2, 3, 1, 4, 5, 1]\n",
      "[1, 2, 2, 3, 1, 4, 5, 1, 3]\n",
      "[1, 2, 2, 3, 1, 4, 5, 1, 3, 8]\n",
      "[2]\n",
      "[2, 2]\n",
      "[2, 2, 3]\n",
      "[2, 2, 3, 1]\n",
      "[2, 2, 3, 1, 4]\n",
      "[2, 2, 3, 1, 4, 5]\n",
      "[2, 2, 3, 1, 4, 5, 1]\n",
      "[2, 2, 3, 1, 4, 5, 1, 3]\n",
      "[2, 2, 3, 1, 4, 5, 1, 3, 8]\n",
      "[2]\n",
      "[2, 3]\n",
      "[2, 3, 1]\n",
      "[2, 3, 1, 4]\n",
      "[2, 3, 1, 4, 5]\n",
      "[2, 3, 1, 4, 5, 1]\n",
      "[2, 3, 1, 4, 5, 1, 3]\n",
      "[2, 3, 1, 4, 5, 1, 3, 8]\n",
      "[3]\n",
      "[3, 1]\n",
      "[3, 1, 4]\n",
      "[3, 1, 4, 5]\n",
      "[3, 1, 4, 5, 1]\n",
      "[3, 1, 4, 5, 1, 3]\n",
      "[3, 1, 4, 5, 1, 3, 8]\n",
      "[1]\n",
      "[1, 4]\n",
      "[1, 4, 5]\n",
      "[1, 4, 5, 1]\n",
      "[1, 4, 5, 1, 3]\n",
      "[1, 4, 5, 1, 3, 8]\n",
      "[4]\n",
      "[4, 5]\n",
      "[4, 5, 1]\n",
      "[4, 5, 1, 3]\n",
      "[4, 5, 1, 3, 8]\n",
      "[5]\n",
      "[5, 1]\n",
      "[5, 1, 3]\n",
      "[5, 1, 3, 8]\n",
      "[1]\n",
      "[1, 3]\n",
      "[1, 3, 8]\n",
      "[3]\n",
      "[3, 8]\n",
      "[8]\n"
     ]
    }
   ],
   "source": [
    "\n",
    "def generate_subarrays(arr):\n",
    "    n = len(arr)\n",
    "    subarrays = []\n",
    "    sum=0\n",
    "    cnt=0\n",
    "    # Loop through all possible starting points\n",
    "    for start in range(n):\n",
    "        # Loop through all possible ending points\n",
    "        for end in range(start, n):\n",
    "            # Append the subarray to the list\n",
    "            subarrays.append(arr[start:end+1])\n",
    "               \n",
    "    return subarrays\n",
    "\n",
    "# Example usage\n",
    "arr = [1, 2, 2,3,1,4,5,1,3,8]\n",
    "result = generate_subarrays(arr)\n",
    "print(\"All subarrays:\")\n",
    "for subarray in result:\n",
    "    print(subarray)\n",
    "     "
   ]
  },
  {
   "cell_type": "code",
   "execution_count": 20,
   "metadata": {},
   "outputs": [
    {
     "name": "stdout",
     "output_type": "stream",
     "text": [
      "3\n"
     ]
    }
   ],
   "source": [
    "def longest_subaarays(arr,k):\n",
    "    \n",
    "    n=len(arr)\n",
    "    length=0\n",
    "    for i in range(n):\n",
    "        s=0\n",
    "        for j in range(i,n):\n",
    "            s+=arr[j]\n",
    "            if(s==k):\n",
    "                length= max(length,j-i+1)\n",
    "    return length  \n",
    "# Example usage\n",
    "arr = [1, 2,2,3,1,4,5,1,1,1,8]\n",
    "result = longest_subaarays(arr,3)\n",
    "print(result)\n",
    "               "
   ]
  },
  {
   "cell_type": "code",
   "execution_count": null,
   "metadata": {},
   "outputs": [
    {
     "name": "stdout",
     "output_type": "stream",
     "text": [
      "Length of longest subarray: 4\n",
      "Longest subarray with sum k: [1, 1, 1, 1]\n"
     ]
    }
   ],
   "source": [
    "# Returning sub arrays of maximum lenght with that given sum\n",
    "def longest_subarrays(arr,n, k):\n",
    "    \n",
    "    max_length = 0  # Initialize length to store the maximum length of subarrays with sum k\n",
    "    subarray=0\n",
    "    # Iterate through all starting points\n",
    "    for i in range(n):\n",
    "        s = 0  # Reset the sum for each starting point\n",
    "        # Iterate through all possible end points\n",
    "        for j in range(i, n):\n",
    "            s += arr[j]  # Add the current element to the sum\n",
    "            if s == k:  # Check if the sum equals k\n",
    "                current_length = j - i + 1\n",
    "                if current_length > max_length:\n",
    "                    max_length = current_length\n",
    "                    subarray = arr[i:j + 1]  \n",
    "\n",
    "    return max_length,subarray\n",
    "\n",
    "# Example usage\n",
    "arr = [1, 2, 2, 3, 1, 1, 1, 1, 3, 8]\n",
    "length,result = longest_subarrays(arr,len(arr), 4)\n",
    "print(\"Length of longest subarray:\", length)\n",
    "print(\"Longest subarray with sum k:\", subarray)\n"
   ]
  }
 ],
 "metadata": {
  "kernelspec": {
   "display_name": "Python 3",
   "language": "python",
   "name": "python3"
  },
  "language_info": {
   "codemirror_mode": {
    "name": "ipython",
    "version": 3
   },
   "file_extension": ".py",
   "mimetype": "text/x-python",
   "name": "python",
   "nbconvert_exporter": "python",
   "pygments_lexer": "ipython3",
   "version": "3.13.0"
  }
 },
 "nbformat": 4,
 "nbformat_minor": 2
}
