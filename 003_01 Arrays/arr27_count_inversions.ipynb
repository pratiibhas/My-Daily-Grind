{
 "cells": [
  {
   "cell_type": "markdown",
   "id": "f27c4d30",
   "metadata": {},
   "source": [
    "Problem Statement: Given an array of N integers, count the inversion of the array (using merge-sort).\n",
    "\n",
    "What is an inversion of an array? Definition: for all i & j < size of array, if i < j then you have to find pair (A[i],A[j]) such that A[j] < A[i]."
   ]
  },
  {
   "cell_type": "markdown",
   "id": "ed0c4809",
   "metadata": {},
   "source": [
    "### Brute force (netsed loops)"
   ]
  },
  {
   "cell_type": "code",
   "execution_count": 3,
   "id": "bb6685cf",
   "metadata": {},
   "outputs": [],
   "source": [
    "def cnt_inversions(arr,n):\n",
    "    cnt=0\n",
    "    for i in range(n):\n",
    "        for j in range(i,n):\n",
    "            if arr[i]>arr[j]:\n",
    "                cnt+=1\n",
    "    return cnt            "
   ]
  },
  {
   "cell_type": "code",
   "execution_count": null,
   "id": "734998b0",
   "metadata": {},
   "outputs": [
    {
     "data": {
      "text/plain": [
       "8"
      ]
     },
     "execution_count": 4,
     "metadata": {},
     "output_type": "execute_result"
    }
   ],
   "source": [
    "arr=[5,3,2,4,1]\n",
    "cnt_inversions(arr,5) # TC-O(n^2)"
   ]
  },
  {
   "cell_type": "markdown",
   "id": "5c6a490c",
   "metadata": {},
   "source": [
    "### Optimal solution , merge sort with the logic"
   ]
  },
  {
   "cell_type": "code",
   "execution_count": 15,
   "id": "20021d12",
   "metadata": {},
   "outputs": [
    {
     "data": {
      "text/plain": [
       "10"
      ]
     },
     "execution_count": 15,
     "metadata": {},
     "output_type": "execute_result"
    }
   ],
   "source": [
    "def merge(arr,low,mid,high):\n",
    "    cnt=0\n",
    "    left =low \n",
    "    right= mid+1\n",
    "    lst=[]\n",
    "    while(left<=mid and right<=high):\n",
    "        if arr[left]<=arr[right]:\n",
    "            lst.append(arr[left])\n",
    "            left+=1\n",
    "        else:\n",
    "            lst.append(arr[right])\n",
    "            cnt+=(mid-left+1)\n",
    "            right+=1   \n",
    "            \n",
    "    while(left<=mid):\n",
    "        lst.append(arr[left])\n",
    "        left+=1 \n",
    "        \n",
    "    while(right<=high):\n",
    "        lst.append(arr[right]) \n",
    "        right+=1   \n",
    "    for i in range(len(lst)):\n",
    "        arr[low + i] = lst[i] \n",
    "    return cnt   \n",
    "      \n",
    "def opt_cnt_inversion(arr, low, high):\n",
    "    cnt=0\n",
    "    if low < high:\n",
    "        mid = (low + high) // 2  # Correct mid calculation\n",
    "        \n",
    "        # Recursively divide the array into halves\n",
    "        cnt+=opt_cnt_inversion(arr, low, mid)\n",
    "        cnt+=opt_cnt_inversion(arr, mid + 1, high)\n",
    "        \n",
    "        # Merge the sorted halves\n",
    "        cnt +=merge(arr, low, mid, high)\n",
    "    return cnt\n",
    "def numberOfInversions(a , n ):\n",
    "    # Count the number of pairs:\n",
    "    n = len(a)\n",
    "    # Count the number of pairs:\n",
    "    return opt_cnt_inversion(a, 0, n - 1)\n",
    "arr=[5,3,2,4,1]\n",
    "a = [5, 4, 3, 2, 1]\n",
    "numberOfInversions(a,5)             "
   ]
  }
 ],
 "metadata": {
  "kernelspec": {
   "display_name": "Python 3",
   "language": "python",
   "name": "python3"
  },
  "language_info": {
   "codemirror_mode": {
    "name": "ipython",
    "version": 3
   },
   "file_extension": ".py",
   "mimetype": "text/x-python",
   "name": "python",
   "nbconvert_exporter": "python",
   "pygments_lexer": "ipython3",
   "version": "3.13.0"
  }
 },
 "nbformat": 4,
 "nbformat_minor": 5
}
