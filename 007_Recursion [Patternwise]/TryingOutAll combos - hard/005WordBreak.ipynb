{
 "cells": [
  {
   "cell_type": "markdown",
   "id": "6bdee729",
   "metadata": {},
   "source": [
    "## Word break\n",
    "Given a string s and a dictionary of strings wordDict, return true if s can be segmented into a space-separated sequence of one or more dictionary words.\n",
    "\n",
    "Note that the same word in the dictionary may be reused multiple times in the segmentation.\n",
    "\n",
    " \n",
    "\n",
    "- Example 1:\n",
    "\n",
    "Input: s = \"leetcode\", wordDict = [\"leet\",\"code\"]\n",
    "Output: true\n",
    "Explanation: Return true because \"leetcode\" can be segmented as \"leet code\".\n",
    "- Example 2:\n",
    "\n",
    "Input: s = \"applepenapple\", wordDict = [\"apple\",\"pen\"]\n",
    "Output: true\n",
    "Explanation: Return true because \"applepenapple\" can be segmented as \"apple pen apple\".\n",
    "Note that you are allowed to reuse a dictionary word.\n",
    "- Example 3:\n",
    "\n",
    "Input: s = \"catsandog\", wordDict = [\"cats\",\"dog\",\"sand\",\"and\",\"cat\"]\n",
    "Output: false\n"
   ]
  },
  {
   "cell_type": "code",
   "execution_count": 1,
   "id": "09617925",
   "metadata": {},
   "outputs": [
    {
     "data": {
      "text/plain": [
       "False"
      ]
     },
     "execution_count": 1,
     "metadata": {},
     "output_type": "execute_result"
    }
   ],
   "source": [
    "from typing import List\n",
    "\n",
    "\n",
    "def wordBreak( s: str, wordDict: List[str]) -> bool:\n",
    "    n = len(s)\n",
    "    word_set = set(wordDict)  # To speed up lookup\n",
    "    dp = [False] * (n + 1)\n",
    "    dp[0] = True  # Empty string\n",
    "    \n",
    "    for i in range(1, n + 1):  # i is the end index of substring\n",
    "        for j in range(i):     # j splits s[0:i] into s[0:j] + s[j:i]\n",
    "            if dp[j] and s[j:i] in word_set:\n",
    "                dp[i] = True\n",
    "                break  # Found valid segmentation for s[:i], no need to check further\n",
    "            \n",
    "    return dp[n]\n",
    "s = \"catsandog\"\n",
    "wordDict = [\"cats\",\"dog\",\"sand\",\"and\",\"cat\"]        \n",
    "wordBreak(s,wordDict)"
   ]
  },
  {
   "cell_type": "markdown",
   "id": "9d186f2b",
   "metadata": {},
   "source": [
    "### String+ Backtarcking"
   ]
  },
  {
   "cell_type": "code",
   "execution_count": 2,
   "id": "072547a6",
   "metadata": {},
   "outputs": [
    {
     "data": {
      "text/plain": [
       "False"
      ]
     },
     "execution_count": 2,
     "metadata": {},
     "output_type": "execute_result"
    }
   ],
   "source": [
    "from typing import List\n",
    "\n",
    "\n",
    "def wordBreak(s: str, wordDict: List[str]) -> bool:\n",
    "    word_set = set(wordDict)\n",
    "    \n",
    "    def wordBreakRecursion(s: str, word_set: set, start: int) -> bool:\n",
    "        # Base case: if start index reached the end of s, return True\n",
    "        if start == len(s):\n",
    "            return True\n",
    "        \n",
    "        # Try all possible substrings starting from 'start'\n",
    "        for end in range(start, len(s)):\n",
    "            if s[start:end+1] in word_set and wordBreakRecursion(s, word_set, end + 1):\n",
    "                return True\n",
    "        \n",
    "        # If no valid segmentation found, return False\n",
    "        return False\n",
    "    \n",
    "    return wordBreakRecursion(s, word_set, 0)\n",
    "s = \"catsandog\"\n",
    "wordDict = [\"cats\",\"dog\",\"sand\",\"and\",\"cat\"]        \n",
    "wordBreak(s,wordDict)    \n",
    "    "
   ]
  }
 ],
 "metadata": {
  "kernelspec": {
   "display_name": "Python 3",
   "language": "python",
   "name": "python3"
  },
  "language_info": {
   "codemirror_mode": {
    "name": "ipython",
    "version": 3
   },
   "file_extension": ".py",
   "mimetype": "text/x-python",
   "name": "python",
   "nbconvert_exporter": "python",
   "pygments_lexer": "ipython3",
   "version": "3.13.0"
  }
 },
 "nbformat": 4,
 "nbformat_minor": 5
}
