{
 "cells": [
  {
   "cell_type": "markdown",
   "id": "dbbbe3e4",
   "metadata": {},
   "source": [
    "## Palindrome Partitioning\n",
    "Given a string s, partition s such that every substring of the partition is a palindrome. Return all possible palindrome partitioning of s.\n",
    "\n",
    " \n",
    "\n",
    "Example 1:\n",
    "\n",
    "- Input: s = \"aab\"\n",
    "- Output: [[\"a\",\"a\",\"b\"],[\"aa\",\"b\"]]"
   ]
  },
  {
   "cell_type": "code",
   "execution_count": null,
   "id": "b8fb5168",
   "metadata": {
    "vscode": {
     "languageId": "plaintext"
    }
   },
   "outputs": [],
   "source": []
  }
 ],
 "metadata": {
  "language_info": {
   "name": "python"
  }
 },
 "nbformat": 4,
 "nbformat_minor": 5
}
