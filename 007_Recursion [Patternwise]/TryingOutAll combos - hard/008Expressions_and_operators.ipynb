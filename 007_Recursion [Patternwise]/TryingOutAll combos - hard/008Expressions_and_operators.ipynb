{
 "cells": [
  {
   "cell_type": "markdown",
   "id": "29838986",
   "metadata": {},
   "source": [
    "## Expression Add Operators\n",
    "Given a string num that contains only digits and an integer target, return all possibilities to insert the binary operators '+', '-', and/or '*' between the digits of num so that the resultant expression evaluates to the target value.\n",
    "\n",
    "Note that operands in the returned expressions should not contain leading zeros.\n",
    "\n",
    "Note that a number can contain multiple digits.\n",
    "\n",
    " \n",
    "\n",
    "- Example 1:\n",
    "\n",
    "Input: num = \"123\", target = 6\n",
    "Output: [\"1*2*3\",\"1+2+3\"]\n",
    "Explanation: Both \"1*2*3\" and \"1+2+3\" evaluate to 6.\n",
    "- Example 2:\n",
    "\n",
    "Input: num = \"232\", target = 8\n",
    "Output: [\"2*3+2\",\"2+3*2\"]\n",
    "Explanation: Both \"2*3+2\" and \"2+3*2\" evaluate to 8.\n",
    "- Example 3:\n",
    "\n",
    "Input: num = \"3456237490\", target = 9191\n",
    "Output: []\n",
    "Explanation: There are no expressions that can be created from \"3456237490\" to evaluate to 9191."
   ]
  },
  {
   "cell_type": "code",
   "execution_count": null,
   "id": "8d69348d",
   "metadata": {},
   "outputs": [],
   "source": [
    "from typing import List\n",
    "\n",
    "class Solution:\n",
    "    def addOperators(self, num: str, target: int) -> List[str]:\n",
    "        res = []\n",
    "        \n",
    "        def backtrack(index, ds, evaluated, prev, target):\n",
    "            if index == len(num):\n",
    "                if target == 0:\n",
    "                    res.append(\"\".join(ds))\n",
    "                return\n",
    "\n",
    "            for i in range(index, len(num)):\n",
    "                # Avoid numbers with leading zeros\n",
    "                if i != index and num[index] == '0':\n",
    "                    break\n",
    "                \n",
    "                curr_str = num[index:i+1]\n",
    "                curr_num = int(curr_str)\n",
    "                \n",
    "                if index == 0:\n",
    "                    # First number, no operator before it\n",
    "                    ds.append(curr_str)\n",
    "                    backtrack(i + 1, ds, curr_num, curr_num, target - curr_num)\n",
    "                    ds.pop()\n",
    "                else:\n",
    "                    # Add '+'\n",
    "                    ds.append('+')\n",
    "                    ds.append(curr_str)\n",
    "                    backtrack(i + 1, ds, evaluated + curr_num, curr_num, target - curr_num)\n",
    "                    ds.pop()\n",
    "                    ds.pop()\n",
    "                    \n",
    "                    # Add '-'\n",
    "                    ds.append('-')\n",
    "                    ds.append(curr_str)\n",
    "                    backtrack(i + 1, ds, evaluated - curr_num, -curr_num, target + curr_num)\n",
    "                    ds.pop()\n",
    "                    ds.pop()\n",
    "                    \n",
    "                    # Add '*'\n",
    "                    ds.append('*')\n",
    "                    ds.append(curr_str)\n",
    "                    new_eval = evaluated - prev + prev * curr_num\n",
    "                    backtrack(i + 1, ds, new_eval, prev * curr_num, target - prev * curr_num + prev)\n",
    "                    ds.pop()\n",
    "                    ds.pop()\n",
    "\n",
    "        backtrack(0, [], 0, 0, target)\n",
    "        return res\n"
   ]
  },
  {
   "cell_type": "code",
   "execution_count": 1,
   "id": "4a5002aa",
   "metadata": {},
   "outputs": [],
   "source": [
    "from typing import List\n",
    "\n",
    "class Solution:\n",
    "    def addOperators(self, num: str, target: int) -> List[str]:\n",
    "        res = []\n",
    "\n",
    "        def backtrack(index, path, evaluated, prev):\n",
    "            # index: current position in num\n",
    "            # path: expression string built so far\n",
    "            # evaluated: current evaluated result of expression\n",
    "            # prev: last operand value (for multiplication)\n",
    "\n",
    "            if index == len(num):\n",
    "                if evaluated == target:\n",
    "                    res.append(path)\n",
    "                return\n",
    "\n",
    "            for i in range(index, len(num)):\n",
    "                # Avoid numbers with leading zeros\n",
    "                if i != index and num[index] == '0':\n",
    "                    break\n",
    "\n",
    "                curr_str = num[index:i+1]\n",
    "                curr_num = int(curr_str)\n",
    "\n",
    "                if index == 0:\n",
    "                    # First number, does not need operator\n",
    "                    backtrack(i + 1, curr_str, curr_num, curr_num)\n",
    "                else:\n",
    "                    # Add '+'\n",
    "                    backtrack(i + 1, path + '+' + curr_str, evaluated + curr_num, curr_num)\n",
    "                    # Add '-'\n",
    "                    backtrack(i + 1, path + '-' + curr_str, evaluated - curr_num, -curr_num)\n",
    "                    # Add '*'\n",
    "                    backtrack(i + 1, path + '*' + curr_str, evaluated - prev + prev * curr_num, prev * curr_num)\n",
    "\n",
    "        backtrack(0, \"\", 0, 0)\n",
    "        return res"
   ]
  },
  {
   "cell_type": "code",
   "execution_count": 3,
   "id": "21be6440",
   "metadata": {},
   "outputs": [
    {
     "data": {
      "text/plain": [
       "['1+3*2']"
      ]
     },
     "execution_count": 3,
     "metadata": {},
     "output_type": "execute_result"
    }
   ],
   "source": [
    "Solution().addOperators('132',7)"
   ]
  },
  {
   "cell_type": "code",
   "execution_count": 4,
   "id": "04ceb41c",
   "metadata": {},
   "outputs": [
    {
     "data": {
      "text/plain": [
       "['1*3+2']"
      ]
     },
     "execution_count": 4,
     "metadata": {},
     "output_type": "execute_result"
    }
   ],
   "source": [
    "Solution().addOperators('132',5)"
   ]
  }
 ],
 "metadata": {
  "kernelspec": {
   "display_name": "Python 3",
   "language": "python",
   "name": "python3"
  },
  "language_info": {
   "codemirror_mode": {
    "name": "ipython",
    "version": 3
   },
   "file_extension": ".py",
   "mimetype": "text/x-python",
   "name": "python",
   "nbconvert_exporter": "python",
   "pygments_lexer": "ipython3",
   "version": "3.13.0"
  }
 },
 "nbformat": 4,
 "nbformat_minor": 5
}
