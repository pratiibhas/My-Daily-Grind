{
 "cells": [
  {
   "cell_type": "markdown",
   "id": "95aa5e9e",
   "metadata": {},
   "source": [
    "## Sudoku Solver\n",
    "Write a program to solve a Sudoku puzzle by filling the empty cells.\n",
    "\n",
    "A sudoku solution must satisfy all of the following rules:\n",
    "\n",
    "Each of the digits 1-9 must occur exactly once in each row.\n",
    "Each of the digits 1-9 must occur exactly once in each column.\n",
    "Each of the digits 1-9 must occur exactly once in each of the 9 3x3 sub-boxes of the grid.\n",
    "The '.' character indicates empty cells.\n"
   ]
  },
  {
   "cell_type": "markdown",
   "id": "2c600aa5",
   "metadata": {},
   "source": [
    "Input: board = [[\"5\",\"3\",\".\",\".\",\"7\",\".\",\".\",\".\",\".\"],\n",
    "[\"6\",\".\",\".\",\"1\",\"9\",\"5\",\".\",\".\",\".\"],\n",
    "[\".\",\"9\",\"8\",\".\",\".\",\".\",\".\",\"6\",\".\"],\n",
    "[\"8\",\".\",\".\",\".\",\"6\",\".\",\".\",\".\",\"3\"],\n",
    "[\"4\",\".\",\".\",\"8\",\".\",\"3\",\".\",\".\",\"1\"],\n",
    "[\"7\",\".\",\".\",\".\",\"2\",\".\",\".\",\".\",\"6\"],\n",
    "[\".\",\"6\",\".\",\".\",\".\",\".\",\"2\",\"8\",\".\"],\n",
    "[\".\",\".\",\".\",\"4\",\"1\",\"9\",\".\",\".\",\"5\"],\n",
    "[\".\",\".\",\".\",\".\",\"8\",\".\",\".\",\"7\",\"9\"]]\n",
    "\n",
    "Output: [[\"5\",\"3\",\"4\",\"6\",\"7\",\"8\",\"9\",\"1\",\"2\"],\n",
    "[\"6\",\"7\",\"2\",\"1\",\"9\",\"5\",\"3\",\"4\",\"8\"],\n",
    "[\"1\",\"9\",\"8\",\"3\",\"4\",\"2\",\"5\",\"6\",\"7\"],\n",
    "[\"8\",\"5\",\"9\",\"7\",\"6\",\"1\",\"4\",\"2\",\"3\"],\n",
    "[\"4\",\"2\",\"6\",\"8\",\"5\",\"3\",\"7\",\"9\",\"1\"],\n",
    "[\"7\",\"1\",\"3\",\"9\",\"2\",\"4\",\"8\",\"5\",\"6\"],\n",
    "[\"9\",\"6\",\"1\",\"5\",\"3\",\"7\",\"2\",\"8\",\"4\"],\n",
    "[\"2\",\"8\",\"7\",\"4\",\"1\",\"9\",\"6\",\"3\",\"5\"],\n",
    "[\"3\",\"4\",\"5\",\"2\",\"8\",\"6\",\"1\",\"7\",\"9\"]]\n",
    "Explanation: The input board is shown above and the only valid solution is shown below:"
   ]
  },
  {
   "cell_type": "code",
   "execution_count": null,
   "id": "7529ba8f",
   "metadata": {},
   "outputs": [],
   "source": [
    "from typing import List\n",
    "class Solution:\n",
    "    def solveSudoku(self, board: List[List[str]]) -> None:\n",
    "        \"\"\"\n",
    "        Do not return anything, modify board in-place instead.\n",
    "       \"\"\"\n",
    "        return self.solve(board)\n",
    "    def solve(self, board: List[List[str]]) -> bool:\n",
    "        for i in range(9):\n",
    "            for j in range(9):\n",
    "                if board[i][j] == '.':\n",
    "                    for ch in map(str, range(1, 10)):\n",
    "                        if self.isValid(board, i, j, ch):\n",
    "                            board[i][j] = ch\n",
    "                            if self.solve(board):\n",
    "                                return True\n",
    "                            board[i][j] = '.'  # backtrack\n",
    "                    return False  # No valid number means dead end\n",
    "        return True  # All filled, solved\n",
    "\n",
    "\n",
    "    def isValid(self,board,row,col,c):\n",
    "        for i in range(9):\n",
    "            if board[i][col] == c:\n",
    "                return False\n",
    "            if board[row][i] == c:\n",
    "                return False    \n",
    "            if board[3*(row//3)+i//3][3* (col//3)+i%3]==c:\n",
    "                return False\n",
    "        return True        \n",
    "\n",
    "\n",
    "   \n"
   ]
  },
  {
   "cell_type": "code",
   "execution_count": 11,
   "id": "96963539",
   "metadata": {},
   "outputs": [
    {
     "name": "stdout",
     "output_type": "stream",
     "text": [
      "True\n"
     ]
    }
   ],
   "source": [
    "board = [[\"5\",\"3\",\".\",\".\",\"7\",\".\",\".\",\".\",\".\"],\n",
    "[\"6\",\".\",\".\",\"1\",\"9\",\"5\",\".\",\".\",\".\"],\n",
    "[\".\",\"9\",\"8\",\".\",\".\",\".\",\".\",\"6\",\".\"],\n",
    "[\"8\",\".\",\".\",\".\",\"6\",\".\",\".\",\".\",\"3\"],\n",
    "[\"4\",\".\",\".\",\"8\",\".\",\"3\",\".\",\".\",\"1\"],\n",
    "[\"7\",\".\",\".\",\".\",\"2\",\".\",\".\",\".\",\"6\"],\n",
    "[\".\",\"6\",\".\",\".\",\".\",\".\",\"2\",\"8\",\".\"],\n",
    "[\".\",\".\",\".\",\"4\",\"1\",\"9\",\".\",\".\",\"5\"],\n",
    "[\".\",\".\",\".\",\".\",\"8\",\".\",\".\",\"7\",\"9\"]]\n",
    "print(Solution().solveSudoku(board))"
   ]
  },
  {
   "cell_type": "markdown",
   "id": "f8628d99",
   "metadata": {},
   "source": [
    "### Most optimised code"
   ]
  },
  {
   "cell_type": "code",
   "execution_count": 15,
   "id": "973b162e",
   "metadata": {},
   "outputs": [],
   "source": [
    "\n",
    "class Solution:\n",
    "    def solveSudoku(self, board: List[List[str]]) -> None:\n",
    "        rows = [set() for _ in range(9)]\n",
    "        cols = [set() for _ in range(9)]\n",
    "        boxes = [set() for _ in range(9)]\n",
    "\n",
    "        # Fill initial sets\n",
    "        for i in range(9):\n",
    "            for j in range(9):\n",
    "                if board[i][j] != '.':\n",
    "                    val = board[i][j]\n",
    "                    rows[i].add(val)\n",
    "                    cols[j].add(val)\n",
    "                    boxes[(i // 3) * 3 + (j // 3)].add(val)\n",
    "\n",
    "        def backtrack(i=0, j=0):\n",
    "            # Find the next empty cell\n",
    "            while i < 9 and board[i][j] != '.':\n",
    "                j += 1\n",
    "                if j == 9:\n",
    "                    i += 1\n",
    "                    j = 0\n",
    "            if i == 9:   # no empty cells left\n",
    "                return True\n",
    "\n",
    "            box_index = (i // 3) * 3 + (j // 3)\n",
    "            for c in map(str, range(1, 10)):\n",
    "                if c not in rows[i] and c not in cols[j] and c not in boxes[box_index]:\n",
    "                    board[i][j] = c\n",
    "                    rows[i].add(c)\n",
    "                    cols[j].add(c)\n",
    "                    boxes[box_index].add(c)\n",
    "\n",
    "                    if backtrack(i, j):   # solve next cell\n",
    "                        return True\n",
    "\n",
    "                    # undo\n",
    "                    board[i][j] = '.'\n",
    "                    rows[i].remove(c)\n",
    "                    cols[j].remove(c)\n",
    "                    boxes[box_index].remove(c)\n",
    "            return False\n",
    "        return backtrack(0,0)    "
   ]
  },
  {
   "cell_type": "code",
   "execution_count": 16,
   "id": "c0503ea9",
   "metadata": {},
   "outputs": [
    {
     "name": "stdout",
     "output_type": "stream",
     "text": [
      "True\n"
     ]
    }
   ],
   "source": [
    "board = [[\"5\",\"3\",\".\",\".\",\"7\",\".\",\".\",\".\",\".\"],\n",
    "[\"6\",\".\",\".\",\"1\",\"9\",\"5\",\".\",\".\",\".\"],\n",
    "[\".\",\"9\",\"8\",\".\",\".\",\".\",\".\",\"6\",\".\"],\n",
    "[\"8\",\".\",\".\",\".\",\"6\",\".\",\".\",\".\",\"3\"],\n",
    "[\"4\",\".\",\".\",\"8\",\".\",\"3\",\".\",\".\",\"1\"],\n",
    "[\"7\",\".\",\".\",\".\",\"2\",\".\",\".\",\".\",\"6\"],\n",
    "[\".\",\"6\",\".\",\".\",\".\",\".\",\"2\",\"8\",\".\"],\n",
    "[\".\",\".\",\".\",\"4\",\"1\",\"9\",\".\",\".\",\"5\"],\n",
    "[\".\",\".\",\".\",\".\",\"8\",\".\",\".\",\"7\",\"9\"]]\n",
    "print(Solution().solveSudoku(board))"
   ]
  }
 ],
 "metadata": {
  "kernelspec": {
   "display_name": "Python 3",
   "language": "python",
   "name": "python3"
  },
  "language_info": {
   "codemirror_mode": {
    "name": "ipython",
    "version": 3
   },
   "file_extension": ".py",
   "mimetype": "text/x-python",
   "name": "python",
   "nbconvert_exporter": "python",
   "pygments_lexer": "ipython3",
   "version": "3.13.0"
  }
 },
 "nbformat": 4,
 "nbformat_minor": 5
}
