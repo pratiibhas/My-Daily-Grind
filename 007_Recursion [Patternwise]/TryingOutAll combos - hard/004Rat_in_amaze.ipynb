{
 "cells": [
  {
   "cell_type": "markdown",
   "id": "d89fc2e8",
   "metadata": {},
   "source": [
    "## Rat in a maze\n",
    "Given a grid of dimensions n x n. A rat is placed at coordinates (0, 0) and wants to reach at coordinates (n-1, n-1).\n",
    "\n",
    "Find all possible paths that rat can take to travel from (0, 0) to (n-1, n-1). The directions in which rat can move are 'U' (up) , 'D' (down) , 'L' (left) , 'R' (right).\n",
    "\n",
    "The value 0 in grid denotes that the cell is blocked and rat cannot use that cell for travelling, whereas value 1 represents that rat can travel through the cell. If the cell (0, 0) has 0 value, then mouse cannot move to any other cell.\n",
    "\n",
    "- Note :\n",
    "In a path no cell can be visited more than once.\n",
    "If there is no possible path then return empty vector.\n",
    "- Examples:\n",
    "Input : n = 4 , grid = [ [1, 0, 0, 0] , [1, 1, 0, 1], [1, 1, 0, 0], [0, 1, 1, 1] ]\n",
    "Output : [ \"DDRDRR\" , \"DRDDRR\" ]\n",
    "Explanation : The rat has two different path to reach (3, 3).\n",
    "The first path is (0, 0) => (1, 0) => (2, 0) => (2, 1) => (3, 1) => (3, 2) => (3, 3).\n",
    "The second path is (0,0) => (1,0) => (1,1) => (2,1) => (3,1) => (3,2) => (3,3)."
   ]
  },
  {
   "cell_type": "markdown",
   "id": "0130d0a0",
   "metadata": {},
   "source": [
    "### Brute force approach"
   ]
  },
  {
   "cell_type": "code",
   "execution_count": null,
   "id": "f88d39d2",
   "metadata": {},
   "outputs": [
    {
     "name": "stdout",
     "output_type": "stream",
     "text": [
      "DDRDRR DRDDRR \n"
     ]
    }
   ],
   "source": [
    "from typing import List\n",
    "\n",
    "\n",
    "\n",
    "\n",
    "class Solution:\n",
    "\n",
    "\n",
    "    def findPathHelper(self, i: int, j: int, a: List[List[int]], n: int, ans: List[str], move: str, vis: List[List[int]]):\n",
    "        if i == n - 1 and j == n - 1:\n",
    "            ans.append(move)\n",
    "            return\n",
    "\n",
    "\n",
    "        # downward\n",
    "        if i + 1 < n and not vis[i + 1][j] and a[i + 1][j] == 1:\n",
    "            vis[i][j] = 1\n",
    "            self.findPathHelper(i + 1, j, a, n, ans, move + 'D', vis)\n",
    "            vis[i][j] = 0\n",
    "\n",
    "\n",
    "        # left\n",
    "        if j - 1 >= 0 and not vis[i][j - 1] and a[i][j - 1] == 1:\n",
    "            vis[i][j] = 1\n",
    "            self.findPathHelper(i, j - 1, a, n, ans, move + 'L', vis)\n",
    "            vis[i][j] = 0\n",
    "\n",
    "\n",
    "        # right\n",
    "        if j + 1 < n and not vis[i][j + 1] and a[i][j + 1] == 1:\n",
    "            vis[i][j] = 1\n",
    "            self.findPathHelper(i, j + 1, a, n, ans, move + 'R', vis)\n",
    "            vis[i][j] = 0\n",
    "\n",
    "\n",
    "        # upward\n",
    "        if i - 1 >= 0 and not vis[i - 1][j] and a[i - 1][j] == 1:\n",
    "            vis[i][j] = 1\n",
    "            self.findPathHelper(i - 1, j, a, n, ans, move + 'U', vis)\n",
    "            vis[i][j] = 0\n",
    "\n",
    "\n",
    "    def findPath(self, m: List[List[int]], n: int) -> List[str]:\n",
    "        ans = []\n",
    "        vis = [[0 for _ in range(n)] for _ in range(n)]\n",
    "\n",
    "\n",
    "        if m[0][0] == 1:\n",
    "            self.findPathHelper(0, 0, m, n, ans, \"\", vis)\n",
    "        return ans\n",
    "\n",
    "\n",
    "\n",
    "\n",
    "if __name__ == '__main__':\n",
    "    n = 4\n",
    "\n",
    "\n",
    "    m = [[1, 0, 0, 0], [1, 1, 0, 1], [1, 1, 0, 0], [0, 1, 1, 1]]\n",
    "\n",
    "\n",
    "    obj = Solution()\n",
    "    result = obj.findPath(m, n)\n",
    "    if len(result) == 0:\n",
    "        print(-1)\n",
    "    else:\n",
    "        for i in range(len(result)):\n",
    "            print(result[i], end=\" \")\n",
    "    print()"
   ]
  },
  {
   "cell_type": "code",
   "execution_count": null,
   "id": "34508228",
   "metadata": {},
   "outputs": [
    {
     "name": "stdout",
     "output_type": "stream",
     "text": [
      "DDRDRR DRDDRR \n"
     ]
    }
   ],
   "source": [
    "from typing import List\n",
    "class Solution:\n",
    "    def solve(self, i: int, j: int, a: List[List[int]], n: int, ans: List[str], move: str, vis: List[List[int]], di: List[int], dj: List[int]):\n",
    "        if i == n - 1 and j == n - 1:\n",
    "            n\n",
    "            return\n",
    "        dir = \"DLRU\"\n",
    "        for ind in range(4):\n",
    "            nexti = i + di[ind]\n",
    "            nextj = j + dj[ind]\n",
    "            if nexti >= 0 and nextj >= 0 and nexti < n and nextj < n and not vis[nexti][nextj] and a[nexti][nextj] == 1:\n",
    "                vis[i][j] = 1\n",
    "                self.solve(nexti, nextj, a, n, ans,\n",
    "                           move + dir[ind], vis, di, dj)\n",
    "                vis[i][j] = 0\n",
    "\n",
    "\n",
    "    def findPath(self, m: List[List[int]], n: int) -> List[str]:\n",
    "        ans = []\n",
    "        vis = [[0 for _ in range(n)] for _ in range(n)]\n",
    "        di = [+1, 0, 0, -1]\n",
    "        dj = [0, -1, 1, 0]\n",
    "        if m[0][0] == 1:\n",
    "            self.solve(0, 0, m, n, ans, \"\", vis, di, dj)\n",
    "        return ans\n",
    "\n",
    "\n",
    "\n",
    "\n",
    "if __name__ == \"__main__\":\n",
    "    n = 4\n",
    "    m = [[1, 0, 0, 0], [1, 1, 0, 1], [1, 1, 0, 0], [0, 1, 1, 1]]\n",
    "    obj = Solution()\n",
    "    result = obj.findPath(m, n)\n",
    "    if len(result) == 0:\n",
    "        print(-1)\n",
    "    else:\n",
    "        for i in range(len(result)):\n",
    "            print(result[i], end=\" \")\n",
    "    print()"
   ]
  }
 ],
 "metadata": {
  "kernelspec": {
   "display_name": "Python 3",
   "language": "python",
   "name": "python3"
  },
  "language_info": {
   "codemirror_mode": {
    "name": "ipython",
    "version": 3
   },
   "file_extension": ".py",
   "mimetype": "text/x-python",
   "name": "python",
   "nbconvert_exporter": "python",
   "pygments_lexer": "ipython3",
   "version": "3.13.0"
  }
 },
 "nbformat": 4,
 "nbformat_minor": 5
}
