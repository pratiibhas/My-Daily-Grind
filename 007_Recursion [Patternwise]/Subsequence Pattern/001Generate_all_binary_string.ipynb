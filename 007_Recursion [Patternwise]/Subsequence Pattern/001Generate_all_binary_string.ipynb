{
 "cells": [
  {
   "cell_type": "markdown",
   "id": "8233925f",
   "metadata": {},
   "source": [
    "## Generate Binary Strings Without Consecutive 1s\n",
    "Given an integer n, return all binary strings of length n that do not contain consecutive 1s. Return the result in lexicographically increasing order.\n",
    "\n",
    "A binary string is a string consisting only of characters '0' and '1'.\n"
   ]
  },
  {
   "cell_type": "markdown",
   "id": "fd375bc6",
   "metadata": {},
   "source": [
    "- Input: n = 3\n",
    "- Output: [\"000\", \"001\", \"010\", \"100\", \"101\"]\n",
    "- Explanation: All strings are of length 3 and do not contain consecutive 1s."
   ]
  },
  {
   "cell_type": "code",
   "execution_count": 3,
   "id": "e6e69023",
   "metadata": {},
   "outputs": [],
   "source": [
    "\n",
    "def findBinaryStrings(n: int):\n",
    "    result = []\n",
    "    \n",
    "    def backtrack(s):\n",
    "        if len(s) == n:\n",
    "            result.append(s)\n",
    "            return\n",
    "        \n",
    "        # Always add '0'\n",
    "        backtrack(s + '0')\n",
    "        \n",
    "        # Add '1' only if last char is not '1'\n",
    "        if not s or s[-1] == '0':\n",
    "            backtrack(s + '1')\n",
    "    \n",
    "    backtrack(\"\")\n",
    "    return result\n"
   ]
  },
  {
   "cell_type": "code",
   "execution_count": null,
   "id": "3f887eae",
   "metadata": {},
   "outputs": [
    {
     "name": "stdout",
     "output_type": "stream",
     "text": [
      "['000', '001', '010', '100', '101']\n"
     ]
    }
   ],
   "source": [
    "print(findBinaryStrings(3))"
   ]
  }
 ],
 "metadata": {
  "kernelspec": {
   "display_name": "Python 3",
   "language": "python",
   "name": "python3"
  },
  "language_info": {
   "codemirror_mode": {
    "name": "ipython",
    "version": 3
   },
   "file_extension": ".py",
   "mimetype": "text/x-python",
   "name": "python",
   "nbconvert_exporter": "python",
   "pygments_lexer": "ipython3",
   "version": "3.13.0"
  }
 },
 "nbformat": 4,
 "nbformat_minor": 5
}
