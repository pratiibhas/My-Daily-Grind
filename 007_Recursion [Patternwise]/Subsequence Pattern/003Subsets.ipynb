{
 "cells": [
  {
   "cell_type": "markdown",
   "id": "beba3be2",
   "metadata": {},
   "source": [
    "## Subsets\n",
    "\n",
    "Given an integer array nums of unique elements, return all possible subsets (the power set).\n",
    "\n",
    "The solution set must not contain duplicate subsets. Return the solution in any order.\n",
    "\n"
   ]
  },
  {
   "cell_type": "markdown",
   "id": "419a879c",
   "metadata": {},
   "source": [
    "### Using brute force"
   ]
  },
  {
   "cell_type": "code",
   "execution_count": 1,
   "id": "2ad5be3a",
   "metadata": {},
   "outputs": [],
   "source": [
    "def subsets(nums):\n",
    "    n = len(nums)\n",
    "    result = []\n",
    "    for mask in range(1 << n):  # 0 to 2^n - 1\n",
    "        subset = []\n",
    "        for i in range(n):\n",
    "            if (mask >> i) & 1:  # If the i-th bit of mask is set\n",
    "                subset.append(nums[i])\n",
    "        result.append(subset)\n",
    "    return result\n"
   ]
  },
  {
   "cell_type": "code",
   "execution_count": 2,
   "id": "e4ffdbb5",
   "metadata": {},
   "outputs": [],
   "source": [
    "import itertools\n",
    "\n",
    "def subsets(nums):\n",
    "    result = []\n",
    "    n = len(nums)\n",
    "    for k in range(n + 1):\n",
    "        # Generate all subsets of size k\n",
    "        for combo in itertools.combinations(nums, k):\n",
    "            result.append(list(combo))\n",
    "    return result\n"
   ]
  },
  {
   "cell_type": "markdown",
   "id": "63f64b3e",
   "metadata": {},
   "source": [
    "### Using recursion"
   ]
  },
  {
   "cell_type": "code",
   "execution_count": 3,
   "id": "ccbacacc",
   "metadata": {},
   "outputs": [],
   "source": [
    "def subsets(nums):\n",
    "    result = []\n",
    "\n",
    "    def backtrack(start, path):\n",
    "        result.append(path[:])  # Make a copy of current subset\n",
    "        for i in range(start, len(nums)):\n",
    "            path.append(nums[i])\n",
    "            backtrack(i + 1, path)\n",
    "            path.pop()  # Remove last element, backtrack\n",
    "\n",
    "    backtrack(0, [])\n",
    "    return result\n"
   ]
  },
  {
   "cell_type": "markdown",
   "id": "bbfd07f7",
   "metadata": {},
   "source": [
    "### OR"
   ]
  },
  {
   "cell_type": "code",
   "execution_count": null,
   "id": "85146e0d",
   "metadata": {},
   "outputs": [],
   "source": [
    "def subsetRecur(i, arr, res, subset):\n",
    "    \n",
    "    # add subset at end of array\n",
    "    if i == len(arr):\n",
    "        res.append(list(subset))\n",
    "        return\n",
    "    \n",
    "    # include the current value and recursively find all subsets\n",
    "    subset.append(arr[i])\n",
    "    subsetRecur(i + 1, arr, res, subset)\n",
    "    \n",
    "    # exclude the current value and recursively find all subsets\n",
    "    subset.pop()\n",
    "    subsetRecur(i + 1, arr, res, subset)\n",
    "\n",
    "def subsets(arr):\n",
    "    subset = []\n",
    "    arr.sort()\n",
    "    res = []\n",
    "    subsetRecur(0, arr, res, subset)\n",
    "    res.sort()\n",
    "    return res\n",
    "\n",
    "if __name__ == \"__main__\":\n",
    "    arr = [1, 2, 3]\n",
    "    res = subsets(arr)\n",
    "    \n",
    "    for subset in res:\n",
    "        for num in subset:\n",
    "            print(num, end=\" \")\n",
    "        print()"
   ]
  },
  {
   "cell_type": "code",
   "execution_count": 4,
   "id": "213b7fca",
   "metadata": {},
   "outputs": [
    {
     "data": {
      "text/plain": [
       "[[], [1], [1, 2], [1, 2, 4], [1, 4], [2], [2, 4], [4]]"
      ]
     },
     "execution_count": 4,
     "metadata": {},
     "output_type": "execute_result"
    }
   ],
   "source": [
    "subsets([1,2,4])"
   ]
  }
 ],
 "metadata": {
  "kernelspec": {
   "display_name": "Python 3",
   "language": "python",
   "name": "python3"
  },
  "language_info": {
   "codemirror_mode": {
    "name": "ipython",
    "version": 3
   },
   "file_extension": ".py",
   "mimetype": "text/x-python",
   "name": "python",
   "nbconvert_exporter": "python",
   "pygments_lexer": "ipython3",
   "version": "3.13.0"
  }
 },
 "nbformat": 4,
 "nbformat_minor": 5
}
