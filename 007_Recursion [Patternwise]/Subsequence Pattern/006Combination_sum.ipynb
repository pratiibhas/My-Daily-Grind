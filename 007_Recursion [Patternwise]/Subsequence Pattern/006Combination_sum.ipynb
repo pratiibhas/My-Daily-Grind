{
 "cells": [
  {
   "cell_type": "markdown",
   "id": "f35f3b61",
   "metadata": {},
   "source": [
    "## Combination Sum \n",
    "Given an array of distinct integers candidates and a target integer target, return a list of all unique combinations of candidates where the chosen numbers sum to target. You may return the combinations in any order.\n",
    "\n",
    "The same number may be chosen from candidates an unlimited number of times. Two combinations are unique if the frequency of at least one of the chosen numbers is different.\n",
    "\n",
    "The test cases are generated such that the number of unique combinations that sum up to target is less than 150 combinations for the given input."
   ]
  },
  {
   "cell_type": "code",
   "execution_count": 2,
   "id": "8ed2f519",
   "metadata": {},
   "outputs": [],
   "source": [
    "\n",
    "def combinationSum( candidates, target: int):\n",
    "\n",
    "    res= []\n",
    "    f(0, candidates, target, [], res)\n",
    "    return res\n",
    "    \n",
    "def f(ind,arr,target,ds,res):\n",
    "    if target == 0:\n",
    "        res.append(ds.copy())\n",
    "        return\n",
    "    if ind == len(arr) or target < 0:\n",
    "        return \n",
    "\n",
    "    ds.append(arr[ind])\n",
    "    f(ind,arr,target-arr[ind],ds,res) \n",
    "    \n",
    "    ds.pop()\n",
    "\n",
    "    f(ind+1,arr,target,ds,res)       \n"
   ]
  },
  {
   "cell_type": "code",
   "execution_count": 3,
   "id": "80654cfa",
   "metadata": {},
   "outputs": [
    {
     "data": {
      "text/plain": [
       "[[2, 2, 3], [7]]"
      ]
     },
     "execution_count": 3,
     "metadata": {},
     "output_type": "execute_result"
    }
   ],
   "source": [
    "combinationSum([2,3,6,7],7)"
   ]
  }
 ],
 "metadata": {
  "kernelspec": {
   "display_name": "Python 3",
   "language": "python",
   "name": "python3"
  },
  "language_info": {
   "codemirror_mode": {
    "name": "ipython",
    "version": 3
   },
   "file_extension": ".py",
   "mimetype": "text/x-python",
   "name": "python",
   "nbconvert_exporter": "python",
   "pygments_lexer": "ipython3",
   "version": "3.13.0"
  }
 },
 "nbformat": 4,
 "nbformat_minor": 5
}
