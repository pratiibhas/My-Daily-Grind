{
 "cells": [
  {
   "cell_type": "markdown",
   "id": "01bfe200",
   "metadata": {},
   "source": [
    "## Generate Parentheses\n",
    "Given n pairs of parentheses, write a function to generate all combinations of well-formed parentheses."
   ]
  },
  {
   "cell_type": "markdown",
   "id": "fb5e1068",
   "metadata": {},
   "source": [
    "- Input: n = 3\n",
    "- Output: [\"((()))\",\"(()())\",\"(())()\",\"()(())\",\"()()()\"]"
   ]
  },
  {
   "cell_type": "code",
   "execution_count": null,
   "id": "b644b5d1",
   "metadata": {},
   "outputs": [],
   "source": [
    "def GenerateParentheis(n):"
   ]
  },
  {
   "cell_type": "code",
   "execution_count": null,
   "id": "dba5a0bc",
   "metadata": {},
   "outputs": [],
   "source": [
    "class Solution:\n",
    "    def generateParenthesis(self, n: int) -> List[str]:\n",
    "        result =[]\n",
    "        cnt =0\n",
    "        def backtrack(s,open_cnt,close_cnt):\n",
    "            \n",
    "            if len(s) == 2* n:\n",
    "                result.append(s)\n",
    "                return \n",
    "\n",
    "            if open_cnt<n:\n",
    "                backtrack(s+'(',open_cnt+1,close_cnt)   \n",
    "                open_cnt+=1\n",
    "\n",
    "            if close_cnt < open_cnt:\n",
    "                backtrack(s+')',open_cnt,close_cnt+1)\n",
    "               \n",
    "        backtrack('',0,0)\n",
    "\n",
    "        return result     "
   ]
  },
  {
   "cell_type": "code",
   "execution_count": null,
   "id": "b3652efa",
   "metadata": {},
   "outputs": [],
   "source": [
    "from typing import List\n",
    "\n",
    "class Solution:\n",
    "    def generateParenthesis(self, n: int) -> List[str]:\n",
    "        result = []\n",
    "        \n",
    "        def backtrack(s, open_count, close_count):\n",
    "            # If the current string s is of length 2*n, it's a valid combination\n",
    "            if len(s) == 2 * n:\n",
    "                result.append(s)\n",
    "                return\n",
    "            \n",
    "            # If we can still add an opening bracket, add it and recurse\n",
    "            if open_count < n:\n",
    "                backtrack(s + '(', open_count + 1, close_count)\n",
    "            \n",
    "            # If we can add a closing bracket without breaking the rules, add it and recurse            \n",
    "            if close_count < open_count:\n",
    "                backtrack(s + ')', open_count, close_count + 1)\n",
    "        \n",
    "        backtrack(\"\", 0, 0)\n",
    "        return result\n"
   ]
  }
 ],
 "metadata": {
  "kernelspec": {
   "display_name": "Python 3",
   "language": "python",
   "name": "python3"
  },
  "language_info": {
   "name": "python",
   "version": "3.13.0"
  }
 },
 "nbformat": 4,
 "nbformat_minor": 5
}
