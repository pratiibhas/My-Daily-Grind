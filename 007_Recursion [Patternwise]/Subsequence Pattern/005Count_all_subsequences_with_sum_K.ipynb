{
 "cells": [
  {
   "cell_type": "markdown",
   "id": "cdd7b668",
   "metadata": {},
   "source": [
    "### Print all subsequences whose sum is equal to s"
   ]
  },
  {
   "cell_type": "code",
   "execution_count": 33,
   "id": "6bc56e7e",
   "metadata": {},
   "outputs": [],
   "source": [
    "def Subseq(i,ds,s,sum,arr,n):\n",
    "     \n",
    "    if i == n:\n",
    "        if s == sum:\n",
    "            print(*ds)\n",
    "            return \n",
    "        return \n",
    "    ds.append(arr[i])\n",
    "    s+= arr[i]\n",
    "    Subseq(i+1,ds,s,sum,arr,n)\n",
    "      \n",
    "    \n",
    "    s-= arr[i]\n",
    "    ds.pop()\n",
    "    Subseq(i+1,ds,s,sum,arr,n)\n",
    "        \n",
    "        "
   ]
  },
  {
   "cell_type": "code",
   "execution_count": 36,
   "id": "ac9bd335",
   "metadata": {},
   "outputs": [
    {
     "name": "stdout",
     "output_type": "stream",
     "text": [
      "1 1\n",
      "2\n"
     ]
    }
   ],
   "source": [
    "if __name__ == \"__main__\":\n",
    "    arr = [1, 2, 1]\n",
    "    n = 3\n",
    "    sum_ = 2\n",
    "    ds=[]\n",
    "    \n",
    "    Subseq(0,ds,0, sum_, arr, n)"
   ]
  },
  {
   "cell_type": "markdown",
   "id": "28845339",
   "metadata": {},
   "source": [
    "### Print any subsequences whose sum is equal to s\n",
    "Can be done using global variables but not preferred."
   ]
  },
  {
   "cell_type": "code",
   "execution_count": 18,
   "id": "6f06d0e4",
   "metadata": {},
   "outputs": [],
   "source": [
    "def Subseq(i,ds,s,sum,arr,n):\n",
    "     \n",
    "    if i == n:\n",
    "        if s == sum:\n",
    "            print(*ds)\n",
    "            return True\n",
    "        return False\n",
    "    ds.append(arr[i])\n",
    "    s+= arr[i]\n",
    "    if (Subseq(i+1,ds,s,sum,arr,n)== True):\n",
    "        return True\n",
    "    \n",
    "    s-= arr[i]\n",
    "    ds.pop()\n",
    "    if Subseq(i+1,ds,s,sum,arr,n) == True:\n",
    "        return True\n",
    "    return False"
   ]
  },
  {
   "cell_type": "code",
   "execution_count": 19,
   "id": "32b66bab",
   "metadata": {},
   "outputs": [
    {
     "name": "stdout",
     "output_type": "stream",
     "text": [
      "1 1\n"
     ]
    }
   ],
   "source": [
    "if __name__ == \"__main__\":\n",
    "    arr = [1, 2, 1]\n",
    "    n = 3\n",
    "    sum_ = 2\n",
    "    ds = []\n",
    "    Subseq(0, ds, 0, sum_, arr, n)"
   ]
  },
  {
   "cell_type": "markdown",
   "id": "f1e00eb2",
   "metadata": {},
   "source": [
    "### Print number of subsequences whose sum is equal to s"
   ]
  },
  {
   "cell_type": "code",
   "execution_count": 44,
   "id": "f3dc3443",
   "metadata": {},
   "outputs": [],
   "source": [
    "def NumOfSubseq(i,s,sum,arr,n):\n",
    " \n",
    "    if i == n:\n",
    "        if s == sum:\n",
    "            return 1\n",
    "        return 0\n",
    "   \n",
    "    s+= arr[i]\n",
    "    \n",
    "    l= NumOfSubseq(i+1,s,sum,arr,n)\n",
    "    \n",
    "    s-= arr[i]\n",
    "    r= NumOfSubseq(i+1,s,sum,arr,n)\n",
    "    \n",
    "    return l+r"
   ]
  },
  {
   "cell_type": "code",
   "execution_count": 45,
   "id": "8ca1e1e9",
   "metadata": {},
   "outputs": [
    {
     "data": {
      "text/plain": [
       "2"
      ]
     },
     "execution_count": 45,
     "metadata": {},
     "output_type": "execute_result"
    }
   ],
   "source": [
    "arr = [1, 2, 1]\n",
    "n = 3\n",
    "sum_ = 2\n",
    "\n",
    "NumOfSubseq(0, 0, sum_, arr, n)"
   ]
  },
  {
   "cell_type": "code",
   "execution_count": null,
   "id": "d07333bd",
   "metadata": {},
   "outputs": [],
   "source": [
    "def NumOfSubseq(i,sum,arr,n):\n",
    "    s=0 # cannot be inside since each recursion call will make s 0 everytime and nevere accumulates to get our desired result\n",
    "    if i == n:\n",
    "        if s == sum:\n",
    "            return 1\n",
    "        return 0\n",
    "   \n",
    "    s+= arr[i]\n",
    "    \n",
    "    l= NumOfSubseq(i+1,sum,arr,n)\n",
    "    \n",
    "    s-= arr[i]\n",
    "    r= NumOfSubseq(i+1,sum,arr,n)\n",
    "    \n",
    "    return l+r"
   ]
  },
  {
   "cell_type": "code",
   "execution_count": 48,
   "id": "40675809",
   "metadata": {},
   "outputs": [
    {
     "data": {
      "text/plain": [
       "0"
      ]
     },
     "execution_count": 48,
     "metadata": {},
     "output_type": "execute_result"
    }
   ],
   "source": [
    "arr = [1, 2, 1]\n",
    "n = 3\n",
    "sum_ = 2\n",
    "\n",
    "NumOfSubseq(0,  sum_, arr, n)"
   ]
  }
 ],
 "metadata": {
  "kernelspec": {
   "display_name": "Python 3",
   "language": "python",
   "name": "python3"
  },
  "language_info": {
   "codemirror_mode": {
    "name": "ipython",
    "version": 3
   },
   "file_extension": ".py",
   "mimetype": "text/x-python",
   "name": "python",
   "nbconvert_exporter": "python",
   "pygments_lexer": "ipython3",
   "version": "3.13.0"
  }
 },
 "nbformat": 4,
 "nbformat_minor": 5
}
