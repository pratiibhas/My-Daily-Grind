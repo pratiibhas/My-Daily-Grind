{
 "cells": [
  {
   "cell_type": "markdown",
   "id": "b607d74c",
   "metadata": {},
   "source": [
    "## Sort an array\n",
    "You are given a stack of integers. Your task is to sort the stack in descending order using recursion, such that the top of the stack contains the greatest element. You are not allowed to use any loop-based sorting methods (e.g., quicksort, mergesort). You may only use recursive operations and the standard stack operations (push, pop, peek/top, and isEmpty)."
   ]
  },
  {
   "cell_type": "markdown",
   "id": "e0015ff5",
   "metadata": {},
   "source": [
    "Input: stack = [4, 1, 3, 2]\n",
    "Output: [4, 3, 2, 1]\n",
    "Explanation:\n",
    "After sorting, the largest element (4) is at the top, and the smallest (1) is at the bottom."
   ]
  },
  {
   "cell_type": "code",
   "execution_count": 20,
   "id": "2ebdcb4d",
   "metadata": {},
   "outputs": [],
   "source": [
    "def sortStack(stack):\n",
    "    # Base case: stack empty\n",
    "    if not stack:\n",
    "        return\n",
    "    \n",
    "    # Pop top element\n",
    "    top = stack.pop()\n",
    "    \n",
    "    # Recursive sort the rest\n",
    "    sortStack(stack)\n",
    "    \n",
    "    # Insert the popped element in sorted way\n",
    "    insertInSortedOrder(stack, top)\n",
    "\n",
    "\n",
    "def insertInSortedOrder(stack, element):\n",
    "    # If stack empty or element >= top element, insert it\n",
    "    if not stack or stack[-1] >= element:\n",
    "        stack.append(element)\n",
    "    else:\n",
    "        # Pop top and recurse to insert\n",
    "        top = stack.pop()\n",
    "        \n",
    "        insertInSortedOrder(stack, element)# made the stack smaller and if condition is not satisfied again became even samller \n",
    "        \n",
    "        # Push popped element back\n",
    "        stack.append(top)\n"
   ]
  },
  {
   "cell_type": "code",
   "execution_count": 21,
   "id": "119d9190",
   "metadata": {},
   "outputs": [
    {
     "name": "stdout",
     "output_type": "stream",
     "text": [
      "[2134, 332, 4, 1]\n"
     ]
    }
   ],
   "source": [
    "stack = [4, 1, 332, 2134]\n",
    "sortStack(stack)\n",
    "print(stack)\n"
   ]
  }
 ],
 "metadata": {
  "kernelspec": {
   "display_name": "Python 3",
   "language": "python",
   "name": "python3"
  },
  "language_info": {
   "codemirror_mode": {
    "name": "ipython",
    "version": 3
   },
   "file_extension": ".py",
   "mimetype": "text/x-python",
   "name": "python",
   "nbconvert_exporter": "python",
   "pygments_lexer": "ipython3",
   "version": "3.13.0"
  }
 },
 "nbformat": 4,
 "nbformat_minor": 5
}
