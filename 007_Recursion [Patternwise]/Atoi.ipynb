{
 "cells": [
  {
   "cell_type": "markdown",
   "id": "3028b29b",
   "metadata": {},
   "source": [
    "## String to Integer (atoi)\n",
    "Implement the myAtoi(string s) function, which converts a string to a 32-bit signed integer.\n",
    "\n",
    "The algorithm for myAtoi(string s) is as follows:\n",
    "\n",
    "1. Whitespace: Ignore any leading whitespace (\" \").\n",
    "2. Signedness: Determine the sign by checking if the next character is '-' or '+', assuming positivity if neither present.\n",
    "3. Conversion: Read the integer by skipping leading zeros until a non-digit character is encountered or the end of the string is reached. If no digits were read, then the result is 0.\n",
    "Rounding: If the integer is out of the 32-bit signed integer range [-231, 231 - 1], then round the integer to remain in the range. Specifically, integers less than -231 should be rounded to -231, and integers greater than 231 - 1 should be rounded to 231 - 1.\n",
    "Return the integer as the final result."
   ]
  },
  {
   "cell_type": "code",
   "execution_count": 3,
   "id": "8bec0908",
   "metadata": {},
   "outputs": [],
   "source": [
    "def myAtoi(s):\n",
    "    \"\"\"\n",
    "    :type s: str\n",
    "    :rtype: int\n",
    "    \"\"\"\n",
    "    i = 0\n",
    "    n = len(s)\n",
    "    while i<n and s[i]==\" \":\n",
    "        i+=1\n",
    "\n",
    "    sign =1   \n",
    "    if i < n and (s[i] == '-' or s[i] == '+'):\n",
    "        sign = -1 if s[i] == '-' else 1\n",
    "        i += 1\n",
    "    \n",
    "    result = 0\n",
    "    while i < n and s[i].isdigit():\n",
    "        result = result * 10 + int(s[i])\n",
    "        if result * sign > 2**31 - 1:\n",
    "            return 2**31 - 1\n",
    "        if result * sign < -2**31:\n",
    "            return -2**31\n",
    "        i += 1\n",
    "    \n",
    "    return result * sign\n"
   ]
  },
  {
   "cell_type": "code",
   "execution_count": 6,
   "id": "2db82ab5",
   "metadata": {},
   "outputs": [
    {
     "data": {
      "text/plain": [
       "-1333"
      ]
     },
     "execution_count": 6,
     "metadata": {},
     "output_type": "execute_result"
    }
   ],
   "source": [
    "myAtoi(\"-1333s3e42\")"
   ]
  }
 ],
 "metadata": {
  "kernelspec": {
   "display_name": "Python 3",
   "language": "python",
   "name": "python3"
  },
  "language_info": {
   "codemirror_mode": {
    "name": "ipython",
    "version": 3
   },
   "file_extension": ".py",
   "mimetype": "text/x-python",
   "name": "python",
   "nbconvert_exporter": "python",
   "pygments_lexer": "ipython3",
   "version": "3.13.0"
  }
 },
 "nbformat": 4,
 "nbformat_minor": 5
}
