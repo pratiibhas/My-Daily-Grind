{
 "cells": [
  {
   "cell_type": "code",
   "execution_count": null,
   "id": "801dcd22",
   "metadata": {},
   "outputs": [],
   "source": [
    "# Brute force involves Power set, have not yet studied"
   ]
  },
  {
   "cell_type": "markdown",
   "id": "3394747b",
   "metadata": {},
   "source": [
    "### Generating all subsets"
   ]
  },
  {
   "cell_type": "code",
   "execution_count": 10,
   "id": "a8c05d3e",
   "metadata": {},
   "outputs": [],
   "source": [
    "def subsets(candidates) :\n",
    "    res =[]\n",
    "    f(0,candidates,[],res)\n",
    "    return res\n",
    "\n",
    "def f(ind, arr,ds,res):\n",
    "    res.append(ds.copy())\n",
    "    \n",
    "    for i in range(ind,len(arr)):\n",
    "        ds.append(arr[i])\n",
    "        f(i+1,arr,ds,res) \n",
    "    \n",
    "        ds.pop()"
   ]
  },
  {
   "cell_type": "code",
   "execution_count": 11,
   "id": "b09bd8e4",
   "metadata": {},
   "outputs": [
    {
     "data": {
      "text/plain": [
       "[[], [1], [1, 2], [1, 2, 3], [1, 3], [2], [2, 3], [3]]"
      ]
     },
     "execution_count": 11,
     "metadata": {},
     "output_type": "execute_result"
    }
   ],
   "source": [
    "subsets([1,2,3])"
   ]
  },
  {
   "cell_type": "markdown",
   "id": "9fc8c4d1",
   "metadata": {},
   "source": [
    "### Optimal approach, for a given target"
   ]
  },
  {
   "cell_type": "code",
   "execution_count": 12,
   "id": "7c485142",
   "metadata": {},
   "outputs": [],
   "source": [
    "def subsetsum(candidates,target) :\n",
    "    res =[]\n",
    "    f(0,candidates,target,[],res)\n",
    "    return res\n",
    "\n",
    "def f(ind, arr,target,ds,res):\n",
    "    if target==0:\n",
    "        res.append(ds.copy())\n",
    "        return\n",
    "    \n",
    "    for i in range(ind,len(arr)):\n",
    "        ds.append(arr[i])\n",
    "        f(i+1,arr,target-arr[i],ds,res) \n",
    "    \n",
    "        ds.pop()"
   ]
  },
  {
   "cell_type": "code",
   "execution_count": 15,
   "id": "5e68c757",
   "metadata": {},
   "outputs": [
    {
     "data": {
      "text/plain": [
       "[[1, 3], [2, 2], [4]]"
      ]
     },
     "execution_count": 15,
     "metadata": {},
     "output_type": "execute_result"
    }
   ],
   "source": [
    "subsetsum([1,2,2,3,4,5],4) "
   ]
  },
  {
   "cell_type": "code",
   "execution_count": 16,
   "id": "0df209f9",
   "metadata": {},
   "outputs": [
    {
     "data": {
      "text/plain": [
       "[[3, 1]]"
      ]
     },
     "execution_count": 16,
     "metadata": {},
     "output_type": "execute_result"
    }
   ],
   "source": [
    "subsetsum([3,1,2],4) "
   ]
  },
  {
   "cell_type": "markdown",
   "id": "6799f416",
   "metadata": {},
   "source": [
    "## Subset Sum-I\n",
    "Given an array print all the sum of the subset generated from it, in the increasing order.\n",
    "\n",
    "Examples:\n",
    "\n",
    "Example 1:\n",
    "\n",
    "Input: N = 3, arr[] = {5,2,1}\n",
    "\n",
    "Output: 0,1,2,3,5,6,7,8\n",
    "\n",
    "Explanation: We have to find all the subset’s sum and print them.in this case the generated subsets are [ [], [1], [2], [2,1], [5], [5,1], [5,2]. [5,2,1],so the sums we get will be  0,1,2,3,5,6,7,8\n"
   ]
  },
  {
   "cell_type": "code",
   "execution_count": 22,
   "id": "f6893e25",
   "metadata": {},
   "outputs": [],
   "source": [
    "def subsetSums(arr, n) :\n",
    "    ans = []\n",
    "\n",
    "\n",
    "    def subsetSumsHelper(ind: int, sum: int):\n",
    "        if ind == n:\n",
    "            ans.append(sum)\n",
    "            return\n",
    "        # element is picked\n",
    "        subsetSumsHelper(ind + 1, sum + arr[ind])\n",
    "        # element is not picked\n",
    "        subsetSumsHelper(ind + 1, sum)\n",
    "    subsetSumsHelper(0, 0)\n",
    "    ans.sort()\n",
    "    return ans"
   ]
  },
  {
   "cell_type": "code",
   "execution_count": 25,
   "id": "37cb5909",
   "metadata": {},
   "outputs": [
    {
     "data": {
      "text/plain": [
       "[0, 1, 2, 3, 3, 4, 5, 6]"
      ]
     },
     "execution_count": 25,
     "metadata": {},
     "output_type": "execute_result"
    }
   ],
   "source": [
    "subsetSums([3,1,2],3) "
   ]
  }
 ],
 "metadata": {
  "kernelspec": {
   "display_name": "Python 3",
   "language": "python",
   "name": "python3"
  },
  "language_info": {
   "codemirror_mode": {
    "name": "ipython",
    "version": 3
   },
   "file_extension": ".py",
   "mimetype": "text/x-python",
   "name": "python",
   "nbconvert_exporter": "python",
   "pygments_lexer": "ipython3",
   "version": "3.13.0"
  }
 },
 "nbformat": 4,
 "nbformat_minor": 5
}
