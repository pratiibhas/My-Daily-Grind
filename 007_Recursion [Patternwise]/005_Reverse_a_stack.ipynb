{
 "cells": [
  {
   "cell_type": "markdown",
   "id": "3937c49f",
   "metadata": {},
   "source": [
    "## Reverse a stack\n",
    "You are given a stack of integers. Your task is to reverse the stack using recursion. You may only use standard stack operations (push, pop, top/peek, isEmpty). You are not allowed to use any loop constructs or additional data structures like arrays or queues.\n",
    "\n",
    "Your solution must modify the input stack in-place to reverse the order of its elements."
   ]
  },
  {
   "cell_type": "markdown",
   "id": "97989a9e",
   "metadata": {},
   "source": [
    "Input: stack = [4, 1, 3, 2]\n",
    "Output: [2, 3, 1, 4]"
   ]
  },
  {
   "cell_type": "code",
   "execution_count": 7,
   "id": "493bd7ea",
   "metadata": {},
   "outputs": [],
   "source": [
    "def ReverseStack(stack):\n",
    "    # Base case: stack empty\n",
    "    if not stack:\n",
    "        return\n",
    "    \n",
    "    # Pop top element\n",
    "    top = stack.pop()\n",
    "    \n",
    "    # Recursive sort the rest\n",
    "    ReverseStack(stack)\n",
    "    \n",
    "    # Insert the popped element in sorted way\n",
    "    Reverse(stack, top)\n",
    "    \n",
    "def Reverse(stack,element):\n",
    "    if not stack :\n",
    "        stack.append(element)\n",
    "        return\n",
    "    top = stack.pop()\n",
    "    Reverse(stack, element)\n",
    "    \n",
    "    stack.append(top)\n",
    "    "
   ]
  },
  {
   "cell_type": "code",
   "execution_count": 8,
   "id": "c2b416c2",
   "metadata": {},
   "outputs": [
    {
     "name": "stdout",
     "output_type": "stream",
     "text": [
      "[2, 3, 1, 4]\n"
     ]
    }
   ],
   "source": [
    "stack = [4, 1, 3, 2]\n",
    "ReverseStack(stack)\n",
    "print(stack)"
   ]
  }
 ],
 "metadata": {
  "kernelspec": {
   "display_name": "Python 3",
   "language": "python",
   "name": "python3"
  },
  "language_info": {
   "codemirror_mode": {
    "name": "ipython",
    "version": 3
   },
   "file_extension": ".py",
   "mimetype": "text/x-python",
   "name": "python",
   "nbconvert_exporter": "python",
   "pygments_lexer": "ipython3",
   "version": "3.13.0"
  }
 },
 "nbformat": 4,
 "nbformat_minor": 5
}
