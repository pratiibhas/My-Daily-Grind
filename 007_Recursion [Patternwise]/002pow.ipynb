{
 "cells": [
  {
   "cell_type": "markdown",
   "id": "aa5145ae",
   "metadata": {},
   "source": [
    "## pow(x,n)\n",
    "mplement pow(x, n), which calculates x raised to the power n (i.e., xn).\n",
    "\n",
    " \n",
    "\n",
    "Example 1:\n",
    "\n",
    "Input: x = 2.00000, n = 10\n",
    "Output: 1024.00000\n",
    "Example 2:\n",
    "\n",
    "Input: x = 2.10000, n = 3\n",
    "Output: 9.26100\n",
    "Example 3:\n",
    "\n",
    "Input: x = 2.00000, n = -2\n",
    "Output: 0.25000\n",
    "Explanation: 2-2 = 1/22 = 1/4 = 0.25\n",
    " "
   ]
  },
  {
   "cell_type": "markdown",
   "id": "dd12b43e",
   "metadata": {},
   "source": [
    "### Brute force"
   ]
  },
  {
   "cell_type": "code",
   "execution_count": 13,
   "id": "114f0c06",
   "metadata": {},
   "outputs": [],
   "source": [
    "def myPow(x, n): \n",
    "    ans = 1\n",
    "    if n < 0:\n",
    "        # Handle negative power: x^(-n) = 1 / (x^n)\n",
    "        return 1 / myPow(x, -n)\n",
    "    \n",
    "    for i in range(n):\n",
    "        ans = ans * x\n",
    "    return ans    "
   ]
  },
  {
   "cell_type": "code",
   "execution_count": 14,
   "id": "10748a21",
   "metadata": {},
   "outputs": [
    {
     "data": {
      "text/plain": [
       "0.125"
      ]
     },
     "execution_count": 14,
     "metadata": {},
     "output_type": "execute_result"
    }
   ],
   "source": [
    "myPow(2, -3)"
   ]
  },
  {
   "cell_type": "markdown",
   "id": "5add7d16",
   "metadata": {},
   "source": [
    "### Optimal approach"
   ]
  },
  {
   "cell_type": "code",
   "execution_count": 6,
   "id": "8e1ec719",
   "metadata": {},
   "outputs": [],
   "source": [
    "\n",
    "def myPow(x, n):\n",
    "    \"\"\"\n",
    "    :type x: float\n",
    "    :type n: int\n",
    "    :rtype: float\n",
    "    \"\"\"\n",
    "    if n == 0:\n",
    "        return 1.0\n",
    "    if n < 0:\n",
    "        return 1 / myPow(x, -n) # Flip the sign of n to make it positive (-(-2) = 2)\n",
    "\n",
    "    half = myPow(x, n // 2)\n",
    "\n",
    "    if n % 2 == 0:\n",
    "        return half * half\n",
    "    else:\n",
    "        return half * half * x\n"
   ]
  },
  {
   "cell_type": "code",
   "execution_count": null,
   "id": "309539ea",
   "metadata": {},
   "outputs": [
    {
     "data": {
      "text/plain": [
       "0.125"
      ]
     },
     "execution_count": 8,
     "metadata": {},
     "output_type": "execute_result"
    }
   ],
   "source": [
    "myPow(2, -3)"
   ]
  },
  {
   "cell_type": "code",
   "execution_count": null,
   "id": "3572285b",
   "metadata": {},
   "outputs": [],
   "source": [
    "##### OR #####"
   ]
  },
  {
   "cell_type": "code",
   "execution_count": 2,
   "id": "73b15418",
   "metadata": {},
   "outputs": [],
   "source": [
    "def myPow( x, n):\n",
    "    if n == 0:\n",
    "        return 1.0\n",
    "    if n < 0:\n",
    "        x = 1 / x\n",
    "        n = abs(n)\n",
    "    if n % 2 == 0:\n",
    "        return myPow(x * x, n // 2)\n",
    "    else:\n",
    "        return x * myPow(x, n - 1)"
   ]
  }
 ],
 "metadata": {
  "kernelspec": {
   "display_name": "Python 3",
   "language": "python",
   "name": "python3"
  },
  "language_info": {
   "codemirror_mode": {
    "name": "ipython",
    "version": 3
   },
   "file_extension": ".py",
   "mimetype": "text/x-python",
   "name": "python",
   "nbconvert_exporter": "python",
   "pygments_lexer": "ipython3",
   "version": "3.13.0"
  }
 },
 "nbformat": 4,
 "nbformat_minor": 5
}
