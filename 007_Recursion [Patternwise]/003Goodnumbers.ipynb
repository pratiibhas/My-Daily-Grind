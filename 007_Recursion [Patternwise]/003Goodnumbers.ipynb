{
 "cells": [
  {
   "cell_type": "markdown",
   "id": "9287e5f3",
   "metadata": {},
   "source": [
    "## Count Good Numbers\n",
    "A digit string is good if the digits (0-indexed) at even indices are even and the digits at odd indices are prime (2, 3, 5, or 7).\n",
    "\n",
    "For example, \"2582\" is good because the digits (2 and 8) at even positions are even and the digits (5 and 2) at odd positions are prime. However, \"3245\" is not good because 3 is at an even index but is not even.\n",
    "Given an integer n, return the total number of good digit strings of length n. Since the answer may be large, return it modulo 109 + 7.\n",
    "\n",
    "A digit string is a string consisting of digits 0 through 9 that may contain leading zeros.\n",
    "\n",
    " \n",
    "\n",
    "- Example 1:\n",
    "\n",
    "Input: n = 1\n",
    "Output: 5\n",
    "Explanation: The good numbers of length 1 are \"0\", \"2\", \"4\", \"6\", \"8\".\n",
    "- Example 2:\n",
    "\n",
    "Input: n = 4\n",
    "Output: 400\n"
   ]
  },
  {
   "cell_type": "markdown",
   "id": "3529620a",
   "metadata": {},
   "source": [
    "### Recusrsive approach"
   ]
  },
  {
   "cell_type": "markdown",
   "id": "f98788e6",
   "metadata": {},
   "source": [
    "Let observe something for n = 5.\n",
    "Options : 5 4 5 4 5\n",
    "Position : 0 1 2 3 4\n",
    "So, our answer will be (5 x 4) x (5 x 4) x 5\n",
    "This can be seen as we have 20 options for every n/2 positions if we group positions in 2.\n",
    "Since we are following 0-indexing ==> last position will be even for odd n and will have 5 options.\n",
    "\n",
    "For even n we will have perfectly n/2 groups each having 20 options.\n",
    "\n",
    "Thus we first find out 20^(n/2). If n is odd multiply it by 5. Then return.\n",
    "\n",
    "For calculating power we will use recursive binary exponentiation.\n",
    "\n"
   ]
  },
  {
   "cell_type": "code",
   "execution_count": 1,
   "id": "b118044d",
   "metadata": {},
   "outputs": [],
   "source": [
    "class Solution:\n",
    "    M = int(1e9 + 7)\n",
    "\n",
    "    def power(self, b: int, e: int, ans: int) -> int:\n",
    "        if e == 0:\n",
    "            return ans\n",
    "        if e & 1:\n",
    "            return self.power(b, e - 1, (ans * b) % self.M)\n",
    "        else:\n",
    "            return self.power((b * b) % self.M, e // 2, ans)\n",
    "\n",
    "    def countGoodNumbers(self, n: int) -> int:\n",
    "        temp = self.power(20, n // 2, 1)\n",
    "        return (temp * 5) % self.M if n & 1 else temp"
   ]
  },
  {
   "cell_type": "code",
   "execution_count": 2,
   "id": "a0387b99",
   "metadata": {},
   "outputs": [
    {
     "data": {
      "text/plain": [
       "400"
      ]
     },
     "execution_count": 2,
     "metadata": {},
     "output_type": "execute_result"
    }
   ],
   "source": [
    "Solution().countGoodNumbers(4)"
   ]
  },
  {
   "cell_type": "markdown",
   "id": "a4d5bf06",
   "metadata": {},
   "source": [
    "### Other approach"
   ]
  },
  {
   "cell_type": "code",
   "execution_count": 3,
   "id": "1437b7e7",
   "metadata": {},
   "outputs": [],
   "source": [
    "class Solution:\n",
    "    MOD = 10**9 + 7\n",
    "    \n",
    "    def countGoodNumbers(self, n: int) -> int:\n",
    "        even_positions = (n + 1) // 2  # number of even indices\n",
    "        odd_positions = n // 2          # number of odd indices\n",
    "        \n",
    "        # pow(base, exponent, mod) efficiently computes (base^exponent) % mod\n",
    "        ans = pow(5, even_positions, self.MOD) * pow(4, odd_positions, self.MOD)\n",
    "        return ans % self.MOD\n"
   ]
  },
  {
   "cell_type": "code",
   "execution_count": 4,
   "id": "1930a892",
   "metadata": {},
   "outputs": [
    {
     "data": {
      "text/plain": [
       "8000"
      ]
     },
     "execution_count": 4,
     "metadata": {},
     "output_type": "execute_result"
    }
   ],
   "source": [
    "Solution().countGoodNumbers(6)"
   ]
  }
 ],
 "metadata": {
  "kernelspec": {
   "display_name": "Python 3",
   "language": "python",
   "name": "python3"
  },
  "language_info": {
   "codemirror_mode": {
    "name": "ipython",
    "version": 3
   },
   "file_extension": ".py",
   "mimetype": "text/x-python",
   "name": "python",
   "nbconvert_exporter": "python",
   "pygments_lexer": "ipython3",
   "version": "3.13.0"
  }
 },
 "nbformat": 4,
 "nbformat_minor": 5
}
