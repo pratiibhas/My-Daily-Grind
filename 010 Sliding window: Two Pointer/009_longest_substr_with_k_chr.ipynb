{
 "cells": [
  {
   "cell_type": "markdown",
   "id": "40553499",
   "metadata": {},
   "source": [
    "## Longest Substring With At Most K Distinct Characters\n",
    "Given a string s and an integer k.Find the length of the longest substring with at most k distinct characters.\n",
    "- Examples:\n",
    "Input : s = \"aababbcaacc\" , k = 2\n",
    "Output : 6\n",
    "- Explanation : The longest substring with at most two distinct characters is \"aababb\".\n",
    "The length of the string 6."
   ]
  },
  {
   "cell_type": "code",
   "execution_count": null,
   "id": "cbb8c0f4",
   "metadata": {},
   "outputs": [],
   "source": [
    "def Longest_substr(s, k):\n"
   ]
  }
 ],
 "metadata": {
  "kernelspec": {
   "display_name": "Python 3",
   "language": "python",
   "name": "python3"
  },
  "language_info": {
   "name": "python",
   "version": "3.13.0"
  }
 },
 "nbformat": 4,
 "nbformat_minor": 5
}
