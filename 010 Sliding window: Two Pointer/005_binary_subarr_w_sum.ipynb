{
 "cells": [
  {
   "cell_type": "markdown",
   "id": "575659e1",
   "metadata": {},
   "source": [
    "## Binary Subarrays With Sum\n",
    "Given a binary array nums and an integer goal, return the number of non-empty subarrays with a sum goal.\n",
    "\n",
    "A subarray is a contiguous part of the array."
   ]
  },
  {
   "cell_type": "markdown",
   "id": "c81e186d",
   "metadata": {},
   "source": [
    "- Input: nums = [1,0,1,0,1], goal = 2\n",
    "- Output: 4\n",
    "Explanation: The 4 subarrays are bolded and underlined below:\n",
    "- [1,0,1,0,1]\n",
    "- [1,0,1,0,1]\n",
    "- [1,0,1,0,1]\n",
    "- [1,0,1,0,1]\n"
   ]
  },
  {
   "cell_type": "code",
   "execution_count": null,
   "id": "32f70413",
   "metadata": {},
   "outputs": [],
   "source": [
    "def numSubarraysWithSum(nums, goal):\n",
    "    n = len(nums)\n",
    "    cnt=0\n",
    "    l,r =0,0\n",
    "    sumi=0\n",
    "\n",
    "    while r<n:\n",
    "        if sumi > goal and nums[l]==0:\n",
    "            l = l+1\n",
    "            sumi -= nums[l]\n",
    "        elif sumi == goal:\n",
    "            cnt+=1\n",
    "        sumi = sumi + nums[r]\n",
    "        r= r+1\n",
    "    return cnt      "
   ]
  },
  {
   "cell_type": "markdown",
   "id": "0d198695",
   "metadata": {},
   "source": [
    "### Optimal approach"
   ]
  },
  {
   "cell_type": "code",
   "execution_count": null,
   "id": "105340e2",
   "metadata": {},
   "outputs": [],
   "source": [
    "# Better approach\n",
    "from collections import defaultdict\n",
    "\n",
    "def numSubarraysWithSum(nums, goal: int) -> int:\n",
    "    n = len(nums)\n",
    "    cnt=0\n",
    "    sumi =0\n",
    "    hash_map = defaultdict(int) # generating hashmap \n",
    "    hash_map[0] = 1 # for case when sumi == goal\n",
    "    \n",
    "    for i in range(n):\n",
    "        sumi += nums[i] # add value to sumi\n",
    "        if (sumi - goal) in hash_map:\n",
    "            cnt += hash_map[sumi - goal]  # add the number of times sumi-goal exixts in the hashmap\n",
    "        hash_map[sumi] += 1\n",
    "\n",
    "    return cnt   \n",
    "# TC- O(N)\n",
    "# SC- O(N)"
   ]
  },
  {
   "cell_type": "markdown",
   "id": "f7b095e9",
   "metadata": {},
   "source": [
    "### Most Optimal approach\n",
    "- number of subarrays where sum <= goal\n",
    "- number of subarrayw with sum< goal , then subtract both\n"
   ]
  },
  {
   "cell_type": "code",
   "execution_count": null,
   "id": "8a921d5c",
   "metadata": {},
   "outputs": [],
   "source": [
    "\n",
    "def numSubarraysWithSum(self, nums, goal: int) -> int:\n",
    "    return self.func(nums,goal)- self.func(nums,goal-1)\n",
    "\n",
    "def func(self,nums,goal):\n",
    "    if goal < 0:\n",
    "        return 0\n",
    "    n = len(nums)\n",
    "    cnt=0\n",
    "    sumi =0\n",
    "    l,r= 0,0\n",
    "    while r < n:\n",
    "        sumi = sumi + nums[r]\n",
    "        while sumi > goal: # here if will not work , since it will step up only one step, since it ran only once,\n",
    "            # but in case of while it ran until sumi became <= goal \n",
    "            sumi -= nums[l]\n",
    "            l += 1\n",
    "        cnt += r - l + 1\n",
    "        r = r+1\n",
    "    return cnt        \n",
    "\n",
    "           \n"
   ]
  }
 ],
 "metadata": {
  "language_info": {
   "name": "python"
  }
 },
 "nbformat": 4,
 "nbformat_minor": 5
}
