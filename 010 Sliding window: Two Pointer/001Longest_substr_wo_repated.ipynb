{
 "cells": [
  {
   "cell_type": "markdown",
   "id": "457f2244",
   "metadata": {},
   "source": [
    "### Longest Substring Without Repeating Characters"
   ]
  },
  {
   "cell_type": "markdown",
   "id": "0bed30c5",
   "metadata": {},
   "source": [
    "- Given a string s, find the length of the longest substring without duplicate characters.\n",
    "\n",
    " \n",
    "\n",
    " Example 1:\n",
    "\n",
    "- Input: s = \"abcabcbb\"\n",
    "Output: 3\n",
    "Explanation: The answer is \"abc\", with the length of 3.\n",
    "Example 2:\n",
    "\n",
    "- Input: s = \"bbbbb\"\n",
    "Output: 1\n",
    "Explanation: The answer is \"b\", with the length of 1.\n",
    "Example 3:\n",
    "\n",
    "- Input: s = \"pwwkew\"\n",
    "Output: 3\n",
    "Explanation: The answer is \"wke\", with the length of 3.\n",
    "Notice that the answer must be a substring, \"pwke\" is a subsequence and not a substring."
   ]
  },
  {
   "cell_type": "markdown",
   "id": "ccd2a40b",
   "metadata": {},
   "source": [
    "**USING HASHMAPS**"
   ]
  },
  {
   "cell_type": "code",
   "execution_count": 3,
   "id": "f6e6b42d",
   "metadata": {},
   "outputs": [],
   "source": [
    "def lengthOfLongestSubstring( s: str) -> int:\n",
    "        maxlen =0\n",
    "        l=0\n",
    "        r=0\n",
    "        n = len(s)\n",
    "        seen = set()\n",
    "        while (r<n):\n",
    "            while s[r] in seen:\n",
    "               seen.remove(s[l])\n",
    "               l = l+1\n",
    "            seen.add(s[r])   \n",
    "            r= r+1\n",
    "            maxlen = max(maxlen,r-l) \n",
    "        return maxlen       \n"
   ]
  },
  {
   "cell_type": "code",
   "execution_count": null,
   "id": "f37af2a5",
   "metadata": {},
   "outputs": [],
   "source": [
    "def lengthOfLongestSubstring(s: str) -> int:\n",
    "        maxlen =0\n",
    "        l=0\n",
    "        r=0\n",
    "        n = len(s)\n",
    "        seen = set()\n",
    "        while (r<n):\n",
    "            while s[r] in seen:\n",
    "               seen.remove(s[l])\n",
    "               l = l+1\n",
    "            \n",
    "            maxlen = max(maxlen,r-l+1)\n",
    "            seen.add(s[r])   \n",
    "            r= r+1 \n",
    "        return maxlen   "
   ]
  },
  {
   "cell_type": "code",
   "execution_count": null,
   "id": "86fd8f7f",
   "metadata": {},
   "outputs": [],
   "source": [
    "if __name__ == \"__main__\":\n",
    "    s = \"takeUforward\"\n",
    "    print(\"The length of the longest substring without repeating characters is\",lengthOfLongestSubstring(s))"
   ]
  },
  {
   "cell_type": "markdown",
   "id": "5d2516ad",
   "metadata": {},
   "source": [
    "### BETTER "
   ]
  },
  {
   "cell_type": "code",
   "execution_count": 8,
   "id": "f4ba2c3d",
   "metadata": {},
   "outputs": [],
   "source": [
    "def lengthOfLongestSubstring(s: str) -> int:\n",
    "    maxlen =0\n",
    "    l=0\n",
    "    n = len(s)\n",
    "    seen = {}\n",
    "    \n",
    "    for r in range(n):\n",
    "        if s[r] in seen and seen[s[r]]>=l: # see only in the window not before it \n",
    "            l= seen[s[r]]+1 # will go one place ahead to where it was seen in seen hashmao\n",
    "        seen[s[r]]=r    \n",
    "        maxlen = max(maxlen,r-l+1) \n",
    "    return maxlen       \n"
   ]
  },
  {
   "cell_type": "code",
   "execution_count": 9,
   "id": "a5aed6d7",
   "metadata": {},
   "outputs": [
    {
     "name": "stdout",
     "output_type": "stream",
     "text": [
      "The length of the longest substring without repeating characters is 9\n"
     ]
    }
   ],
   "source": [
    "if __name__ == \"__main__\":\n",
    "    s = \"takeUforward\"\n",
    "    print(\"The length of the longest substring without repeating characters is\",lengthOfLongestSubstring(s))"
   ]
  }
 ],
 "metadata": {
  "kernelspec": {
   "display_name": "Python 3",
   "language": "python",
   "name": "python3"
  },
  "language_info": {
   "codemirror_mode": {
    "name": "ipython",
    "version": 3
   },
   "file_extension": ".py",
   "mimetype": "text/x-python",
   "name": "python",
   "nbconvert_exporter": "python",
   "pygments_lexer": "ipython3",
   "version": "3.13.0"
  }
 },
 "nbformat": 4,
 "nbformat_minor": 5
}
