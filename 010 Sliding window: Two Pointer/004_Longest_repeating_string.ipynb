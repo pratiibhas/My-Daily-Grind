{
 "cells": [
  {
   "cell_type": "markdown",
   "id": "036a2af5",
   "metadata": {},
   "source": [
    "## Longest Repeating Character Replacement\n",
    "You are given a string s and an integer k. You can choose any character of the string and change it to any other uppercase English character. You can perform this operation at most k times.\n",
    "\n",
    "Return the length of the longest substring containing the same letter you can get after performing the above operations.\n",
    "\n",
    " \n",
    "\n",
    "Example :\n",
    "\n",
    "- Input: s = \"ABAB\", k = 2\n",
    "Output: 4\n",
    "Explanation: Replace the two 'A's with two 'B's or vice versa.\n",
    "\n",
    "\n",
    "- Input: s = \"AABABBA\", k = 1\n",
    "Output: 4\n",
    "Explanation: Replace the one 'A' in the middle with 'B' and form \"AABBBBA\".\n",
    "The substring \"BBBB\" has the longest repeating letters, which is 4.\n",
    "There may exists other ways to achieve this answer too.-"
   ]
  },
  {
   "cell_type": "markdown",
   "id": "5addf0cd",
   "metadata": {},
   "source": [
    "### Brute force\n",
    "- generating all substrings\n",
    "- figure out how many characters are needed to be replace to make all characters of that string equal. (length- max_frequency)\n",
    "- then from the substrings which qualify that k number of replacement will make all characters equal, the longest one will be the required answer."
   ]
  },
  {
   "cell_type": "code",
   "execution_count": null,
   "id": "d98dbc4d",
   "metadata": {},
   "outputs": [],
   "source": [
    "def characterReplacement(string,s):\n",
    "    \n"
   ]
  },
  {
   "cell_type": "code",
   "execution_count": null,
   "id": "977137a9",
   "metadata": {},
   "outputs": [],
   "source": []
  },
  {
   "cell_type": "code",
   "execution_count": null,
   "id": "1bdba498",
   "metadata": {},
   "outputs": [],
   "source": []
  }
 ],
 "metadata": {
  "kernelspec": {
   "display_name": "Python 3",
   "language": "python",
   "name": "python3"
  },
  "language_info": {
   "name": "python",
   "version": "3.13.0"
  }
 },
 "nbformat": 4,
 "nbformat_minor": 5
}
