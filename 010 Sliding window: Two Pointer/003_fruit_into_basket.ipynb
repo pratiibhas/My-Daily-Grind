{
 "cells": [
  {
   "cell_type": "markdown",
   "id": "dc7dbe6b",
   "metadata": {},
   "source": [
    "### Max length subarray with atmost 2 types of number"
   ]
  },
  {
   "cell_type": "markdown",
   "id": "f803f892",
   "metadata": {},
   "source": [
    "### Brute force \n",
    "- generate all possible subarrays\n",
    "- add the array values to a set to check the type of numbers already exists.\n",
    "- check the type of numbers already exist with each iteration"
   ]
  },
  {
   "cell_type": "code",
   "execution_count": null,
   "id": "242b434f",
   "metadata": {},
   "outputs": [],
   "source": [
    "def max_subarr(arr,n):\n",
    "  \n",
    "    maxlen =0\n",
    "    for i in range(n):\n",
    "        seen =set()\n",
    "        for j in range(i,n):\n",
    "            if arr[j] not in seen:\n",
    "                if len(seen) == 2:\n",
    "                    break\n",
    "            \n",
    "                seen.add(arr[j])   \n",
    "            maxlen = max(maxlen,j-i+1)    \n",
    "    return maxlen    \n",
    "            \n",
    "        "
   ]
  },
  {
   "cell_type": "code",
   "execution_count": 20,
   "id": "e0e07543",
   "metadata": {},
   "outputs": [
    {
     "data": {
      "text/plain": [
       "5"
      ]
     },
     "execution_count": 20,
     "metadata": {},
     "output_type": "execute_result"
    }
   ],
   "source": [
    "arr= [3,3,3,1,2,1,1,2,3,4]\n",
    "max_subarr(arr,len(arr))"
   ]
  },
  {
   "cell_type": "markdown",
   "id": "9610ccdd",
   "metadata": {},
   "source": [
    "### Optimal approach"
   ]
  },
  {
   "cell_type": "code",
   "execution_count": 31,
   "id": "1637caae",
   "metadata": {},
   "outputs": [],
   "source": [
    "from collections import defaultdict"
   ]
  },
  {
   "cell_type": "code",
   "execution_count": null,
   "id": "e1afb3a2",
   "metadata": {},
   "outputs": [],
   "source": [
    "def opt_fruit_basket(arr, n):\n",
    "    l = 0\n",
    "    r = 0\n",
    "    maxlen = 0\n",
    "    seen = defaultdict(int)\n",
    "\n",
    "    while r < n:\n",
    "        seen[arr[r]] += 1\n",
    "        # seen[arr[r]] = seen.get(arr[r], 0) + 1, if seen ={}\n",
    "\n",
    "        if len(seen) > 2:\n",
    "            seen[arr[l]] -= 1\n",
    "            if seen[arr[l]] == 0:\n",
    "                del seen[arr[l]]\n",
    "            l += 1\n",
    "\n",
    "        maxlen = max(maxlen, r - l + 1)\n",
    "        r += 1\n",
    "\n",
    "    return maxlen\n"
   ]
  },
  {
   "cell_type": "code",
   "execution_count": null,
   "id": "04af22f6",
   "metadata": {},
   "outputs": [],
   "source": [
    "def opt_fruit_basket(arr, n):\n",
    "   \n",
    "\n",
    "    l = 0\n",
    "    maxlen = 0\n",
    "    count = defaultdict(int)\n",
    "\n",
    "    for r in range(n):\n",
    "        count[arr[r]] += 1\n",
    "\n",
    "        # Shrink window if we have more than 2 types\n",
    "        while len(count) > 2:\n",
    "            count[arr[l]] -= 1\n",
    "            if count[arr[l]] == 0:\n",
    "                del count[arr[l]]\n",
    "            l += 1\n",
    "\n",
    "        maxlen = max(maxlen, r - l + 1)\n",
    "\n",
    "    return maxlen"
   ]
  },
  {
   "cell_type": "code",
   "execution_count": 34,
   "id": "ebf469e1",
   "metadata": {},
   "outputs": [
    {
     "data": {
      "text/plain": [
       "5"
      ]
     },
     "execution_count": 34,
     "metadata": {},
     "output_type": "execute_result"
    }
   ],
   "source": [
    "arr= [3,3,3,1,2,1,1,2,3,4]\n",
    "opt_fruit_basket(arr,len(arr))"
   ]
  }
 ],
 "metadata": {
  "kernelspec": {
   "display_name": "Python 3",
   "language": "python",
   "name": "python3"
  },
  "language_info": {
   "codemirror_mode": {
    "name": "ipython",
    "version": 3
   },
   "file_extension": ".py",
   "mimetype": "text/x-python",
   "name": "python",
   "nbconvert_exporter": "python",
   "pygments_lexer": "ipython3",
   "version": "3.13.0"
  }
 },
 "nbformat": 4,
 "nbformat_minor": 5
}
