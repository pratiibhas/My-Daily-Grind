{
 "cells": [
  {
   "cell_type": "markdown",
   "id": "13790967",
   "metadata": {},
   "source": [
    "## Max Consecutive Ones III\n",
    "Given a binary array nums and an integer k, return the maximum number of consecutive 1's in the array if you can flip at most k 0's.\n",
    "Example 1:\n",
    "\n",
    "- Input: nums = [1,1,1,0,0,0,1,1,1,1,0], k = 2\n",
    "Output: 6\n",
    "Explanation: [1,1,1,0,0,1,1,1,1,1,1]\n",
    "Bolded numbers were flipped from 0 to 1. The longest subarray is underlined.\n",
    "Example 2:\n",
    "\n",
    "- Input: nums = [0,0,1,1,0,0,1,1,1,0,1,1,0,0,0,1,1,1,1], k = 3\n",
    "Output: 10\n",
    "Explanation: [0,0,1,1,1,1,1,1,1,1,1,1,0,0,0,1,1,1,1]\n",
    "Bolded numbers were flipped from 0 to 1. The longest subarray is underlined."
   ]
  },
  {
   "cell_type": "markdown",
   "id": "8181adfb",
   "metadata": {},
   "source": [
    "We can also say that what is the longest subarray with maximum of 'k' zeroes."
   ]
  },
  {
   "cell_type": "markdown",
   "id": "a3b04104",
   "metadata": {},
   "source": [
    "### Brute force"
   ]
  },
  {
   "cell_type": "code",
   "execution_count": 1,
   "id": "77be20d0",
   "metadata": {},
   "outputs": [],
   "source": [
    "def longestOnes(nums, k: int) -> int:\n",
    "        maxlen =0\n",
    "        n = len(nums)\n",
    "        \n",
    "        for i in range(n):\n",
    "            ln =0\n",
    "            zeroes =0\n",
    "            for j in range(i,n):\n",
    "                if nums[j] == 1:\n",
    "                    ln+=1\n",
    "                elif nums[j]==0 and zeroes<k:\n",
    "                    zeroes +=1\n",
    "                    ln+=1   \n",
    "                else:\n",
    "                    break\n",
    "            maxlen = max(ln,maxlen)\n",
    "        return maxlen                 \n"
   ]
  },
  {
   "cell_type": "code",
   "execution_count": 3,
   "id": "628bf0fe",
   "metadata": {},
   "outputs": [
    {
     "data": {
      "text/plain": [
       "9"
      ]
     },
     "execution_count": 3,
     "metadata": {},
     "output_type": "execute_result"
    }
   ],
   "source": [
    "longestOnes([0,1,1,1,1,1,1,0,1,0,0], 2)"
   ]
  },
  {
   "cell_type": "markdown",
   "id": "17218e2d",
   "metadata": {},
   "source": [
    "### Optimal "
   ]
  },
  {
   "cell_type": "code",
   "execution_count": null,
   "id": "6ca40ef3",
   "metadata": {},
   "outputs": [],
   "source": [
    "def longestOnes(nums, k: int) -> int:\n",
    "        maxlen = 0\n",
    "        l = 0\n",
    "        zeroes = 0\n",
    "\n",
    "        for r in range(len(nums)):\n",
    "            if nums[r] == 0:\n",
    "                zeroes += 1\n",
    "\n",
    "            while zeroes > k:\n",
    "                if nums[l] == 0:\n",
    "                    zeroes -= 1\n",
    "                l += 1\n",
    "\n",
    "            maxlen = max(maxlen, r - l + 1)\n",
    "\n",
    "        return maxlen"
   ]
  },
  {
   "cell_type": "markdown",
   "id": "f957edd7",
   "metadata": {},
   "source": [
    "### most Optimal TC- O(N)"
   ]
  },
  {
   "cell_type": "code",
   "execution_count": null,
   "id": "fbee79ed",
   "metadata": {},
   "outputs": [],
   "source": [
    "def longestOnes(nums, k: int) -> int:\n",
    "    maxlen =0\n",
    "    n = len(nums)\n",
    "    r,l=0,0\n",
    "    zeroes =0\n",
    "\n",
    "    while r<n:\n",
    "        if nums[r] == 0:\n",
    "            zeroes +=1\n",
    "        \n",
    "        if zeroes > k:   \n",
    "            if nums[l]==0:\n",
    "                zeroes -=1\n",
    "            l = l+1    \n",
    "\n",
    "        maxlen = max(maxlen, r - l + 1)\n",
    "        r += 1\n",
    "    return maxlen    "
   ]
  },
  {
   "cell_type": "code",
   "execution_count": 6,
   "id": "3b7fc9ba",
   "metadata": {},
   "outputs": [
    {
     "data": {
      "text/plain": [
       "11"
      ]
     },
     "execution_count": 6,
     "metadata": {},
     "output_type": "execute_result"
    }
   ],
   "source": [
    "longestOnes([0,1,1,1,1,1,1,0,1,0,1], 3)"
   ]
  }
 ],
 "metadata": {
  "kernelspec": {
   "display_name": "Python 3",
   "language": "python",
   "name": "python3"
  },
  "language_info": {
   "codemirror_mode": {
    "name": "ipython",
    "version": 3
   },
   "file_extension": ".py",
   "mimetype": "text/x-python",
   "name": "python",
   "nbconvert_exporter": "python",
   "pygments_lexer": "ipython3",
   "version": "3.13.0"
  }
 },
 "nbformat": 4,
 "nbformat_minor": 5
}
