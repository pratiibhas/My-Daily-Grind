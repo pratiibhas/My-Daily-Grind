{
 "cells": [
  {
   "cell_type": "markdown",
   "metadata": {},
   "source": [
    "# Split Array - Largest Sum / painter's partition\n",
    "\n",
    "\n",
    "Problem Statement: Given an integer array ‘A’ of size ‘N’ and an integer ‘K'. Split the array ‘A’ into ‘K’ non-empty subarrays such that the largest sum of any subarray is minimized. Your task is to return the minimized largest sum of the split.\n",
    "A subarray is a contiguous part of the array.\n",
    "\n"
   ]
  },
  {
   "cell_type": "code",
   "execution_count": null,
   "metadata": {},
   "outputs": [],
   "source": [
    "# similar to the book allocation problem, with different problem statement"
   ]
  },
  {
   "cell_type": "code",
   "execution_count": 25,
   "metadata": {},
   "outputs": [],
   "source": [
    "def allocate_jobs(arr,n,k):\n",
    "    \n",
    "    if k>n:\n",
    "        return -1 #if number of painter's is nore than number of jobs available\n",
    "    \n",
    "    low=max(arr)\n",
    "    high= sum(arr)\n",
    "    \n",
    "    for jobs in range(low,high+1):\n",
    "        if numberofjobs (arr,jobs)==k:\n",
    "            return jobs\n",
    "    return low\n",
    "\n",
    "def numberofjobs (arr,jobs):\n",
    "    n=len(arr)\n",
    "    painter=1\n",
    "    jobsperpainter=0\n",
    "    for i in range(n):\n",
    "        if  jobsperpainter+arr[i]<=jobs:\n",
    "            jobsperpainter+=arr[i]\n",
    "        else:\n",
    "            painter+=1\n",
    "            jobsperpainter=arr[i]\n",
    "    return painter          "
   ]
  },
  {
   "cell_type": "code",
   "execution_count": 26,
   "metadata": {},
   "outputs": [
    {
     "data": {
      "text/plain": [
       "60"
      ]
     },
     "execution_count": 26,
     "metadata": {},
     "output_type": "execute_result"
    }
   ],
   "source": [
    "arr= [10, 20, 30, 40]\n",
    "k=2\n",
    "n=len(arr)\n",
    "allocate_jobs(arr,n,k)"
   ]
  },
  {
   "cell_type": "code",
   "execution_count": null,
   "metadata": {},
   "outputs": [],
   "source": [
    "def countPainters(boards, time):\n",
    "    n = len(boards)  # size of array\n",
    "    painters = 1\n",
    "    boardsPainter = 0\n",
    "    for i in range(n):\n",
    "        if boardsPainter + boards[i] <= time:\n",
    "            # allocate board to current painter\n",
    "            boardsPainter += boards[i]\n",
    "        else:\n",
    "            # allocate board to next painter\n",
    "            painters += 1\n",
    "            boardsPainter = boards[i]\n",
    "    return painters\n",
    "\n",
    "def findLargestMinDistance(boards, k):\n",
    "    low = max(boards)\n",
    "    high = sum(boards)\n",
    "    # Apply binary search\n",
    "    while low <= high:\n",
    "        mid = (low + high) // 2\n",
    "        painters = countPainters(boards, mid)\n",
    "        if painters > k:\n",
    "            low = mid + 1\n",
    "        else:\n",
    "            high = mid - 1\n",
    "    return low\n",
    "\n",
    "boards = [10, 20, 30, 40]\n",
    "k = 2\n",
    "ans = findLargestMinDistance(boards, k)\n",
    "print(\"The answer is:\", ans)\n",
    "\n",
    "\n"
   ]
  },
  {
   "cell_type": "code",
   "execution_count": 6,
   "metadata": {},
   "outputs": [
    {
     "name": "stdout",
     "output_type": "stream",
     "text": [
      "60\n"
     ]
    }
   ],
   "source": [
    "def allocate_jobs(arr, n, k):\n",
    "    if k > n:  # If painters are more than the number of boards\n",
    "        return -1  \n",
    "\n",
    "    low = max(arr)  # The minimum possible max load (largest board)\n",
    "    high = sum(arr)  # The maximum possible max load (sum of all boards)\n",
    "\n",
    "    while low < high:\n",
    "        mid = (low + high) // 2\n",
    "        if number_of_painters(arr, mid) <= k:\n",
    "            high = mid  # Try to minimize the max load\n",
    "        else:\n",
    "            low = mid + 1  # Increase the load capacity\n",
    "\n",
    "    return low\n",
    "\n",
    "def number_of_painters(arr, max_load):\n",
    "    painters = 1\n",
    "    current_load = 0\n",
    "\n",
    "    for board in arr:\n",
    "        if current_load + board <= max_load:\n",
    "            current_load += board\n",
    "        else:\n",
    "            painters += 1\n",
    "            current_load = board\n",
    "\n",
    "    return painters\n",
    "\n",
    "# Example usage:\n",
    "arr = [10, 20, 30, 40]  # Board lengths\n",
    "n = len(arr)\n",
    "k = 2  # Number of painters\n",
    "print(allocate_jobs(arr, n, k))  # Output: Minimum time required\n"
   ]
  }
 ],
 "metadata": {
  "kernelspec": {
   "display_name": "Python 3",
   "language": "python",
   "name": "python3"
  },
  "language_info": {
   "codemirror_mode": {
    "name": "ipython",
    "version": 3
   },
   "file_extension": ".py",
   "mimetype": "text/x-python",
   "name": "python",
   "nbconvert_exporter": "python",
   "pygments_lexer": "ipython3",
   "version": "3.13.0"
  }
 },
 "nbformat": 4,
 "nbformat_minor": 2
}
