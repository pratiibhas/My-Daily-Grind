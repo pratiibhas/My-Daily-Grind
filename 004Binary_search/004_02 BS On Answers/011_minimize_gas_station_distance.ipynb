{
 "cells": [
  {
   "cell_type": "markdown",
   "metadata": {},
   "source": [
    "# Minimise Maximum Distance between Gas Stations\n",
    "\n",
    "\n",
    "Problem Statement: You are given a sorted array ‘arr’ of length ‘n’, which contains positive integer positions of ‘n’ gas stations on the X-axis. You are also given an integer ‘k’. You have to place 'k' new gas stations on the X-axis. You can place them anywhere on the non-negative side of the X-axis, even on non-integer positions. Let 'dist' be the maximum value of the distance between adjacent gas stations after adding k new gas stations.\n",
    "Find the minimum value of ‘dist’.\n",
    "\n",
    "Note: Answers within 10^-6 of the actual answer will be accepted. For example, if the actual answer is 0.65421678124, it is okay to return 0.654216. Our answer will be accepted if that is the same as the actual answer up to the 6th decimal place."
   ]
  },
  {
   "cell_type": "markdown",
   "metadata": {},
   "source": [
    "Algorithm:\n",
    "- First, we will declare an array ‘howMany[]’ of size n-1, to keep track of the number of placed gas stations.\n",
    "- Next, using a loop we will pick k gas stations one at a time.\n",
    "- Then, using another loop, we will find the index 'i' where the distance (arr[i+1] - arr[i]) is the maximum and insert the current gas station between arr[i] and arr[i+1] (i.e. howMany[i]++).\n",
    "- Finally, after placing all the new stations, we will find the distance between two consecutive gas stations. For a particular section,\n",
    "distance = section_length / (number_of_stations_ inserted+1)\n",
    "    = (arr[i+1]-arr[i]) / (howMany[i]+1)\n",
    "- Among all the distances, the maximum one will be the answer.\n"
   ]
  },
  {
   "cell_type": "code",
   "execution_count": null,
   "metadata": {},
   "outputs": [],
   "source": [
    "def minimiseMaxDistance(arr, k):\n",
    "    n = len(arr)  # size of array\n",
    "    howMany = [0] * (n - 1)\n",
    "\n",
    "    # Pick and place k gas stations:\n",
    "    for gasStations in range(1, k + 1):\n",
    "        # Find the maximum section and insert the gas station:\n",
    "        maxSection = -1\n",
    "        maxInd = -1\n",
    "        for i in range(n - 1):\n",
    "            diff = arr[i + 1] - arr[i]\n",
    "            sectionLength = diff / (howMany[i] + 1)\n",
    "            if sectionLength > maxSection:\n",
    "                maxSection = sectionLength\n",
    "                maxInd = i\n",
    "        # insert the current gas station:\n",
    "        howMany[maxInd] += 1\n",
    "\n",
    "    # Find the maximum distance i.e. the answer:\n",
    "    maxAns = -1\n",
    "    for i in range(n - 1):\n",
    "        diff = arr[i + 1] - arr[i]\n",
    "        sectionLength = diff / (howMany[i] + 1)\n",
    "        maxAns = max(maxAns, sectionLength)\n",
    "    return maxAns\n",
    "\n",
    "arr = [1, 2, 3, 4, 5]\n",
    "k = 4\n",
    "ans = minimiseMaxDistance(arr, k)\n",
    "print(\"The answer is:\", ans)\n",
    "\n"
   ]
  }
 ],
 "metadata": {
  "kernelspec": {
   "display_name": "Python 3",
   "language": "python",
   "name": "python3"
  },
  "language_info": {
   "name": "python",
   "version": "3.13.0"
  }
 },
 "nbformat": 4,
 "nbformat_minor": 2
}
