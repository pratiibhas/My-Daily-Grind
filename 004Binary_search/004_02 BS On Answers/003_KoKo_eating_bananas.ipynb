{
 "cells": [
  {
   "cell_type": "markdown",
   "metadata": {},
   "source": [
    "### Koko Eating Bananas"
   ]
  },
  {
   "cell_type": "markdown",
   "metadata": {},
   "source": [
    "Problem Statement: A monkey is given ‘n’ piles of bananas, whereas the 'ith' pile has ‘a[i]’ bananas. An integer ‘h’ is also given, which denotes the time (in hours) for all the bananas to be eaten.\n",
    "\n",
    "Each hour, the monkey chooses a non-empty pile of bananas and eats ‘k’ bananas. If the pile contains less than ‘k’ bananas, then the monkey consumes all the bananas and won’t eat any more bananas in that hour.\n",
    "\n",
    "Find the minimum number of bananas ‘k’ to eat per hour so that the monkey can eat all the bananas within ‘h’ hours."
   ]
  },
  {
   "cell_type": "code",
   "execution_count": 2,
   "metadata": {},
   "outputs": [],
   "source": [
    "import math\n",
    "def findMax(v):\n",
    "    maxi = float('-inf')\n",
    "    n = len(v)\n",
    "    # Find the maximum\n",
    "    for i in range(n):\n",
    "        maxi = max(maxi, v[i])\n",
    "    return maxi\n",
    "\n",
    "def calculateTotalHours(v, hourly):\n",
    "    totalH = 0\n",
    "    n = len(v)\n",
    "    # Find total hours\n",
    "    for i in range(n):\n",
    "        totalH += math.ceil(v[i] / hourly)\n",
    "    return totalH\n",
    "\n",
    "def minimumRateToEatBananas(v, h):\n",
    "    # Find the maximum number\n",
    "    maxi = findMax(v)\n",
    "\n",
    "    # Find the minimum value of k\n",
    "    for i in range(1, maxi+1):\n",
    "        reqTime = calculateTotalHours(v, i)\n",
    "        if reqTime <= h:\n",
    "            return i\n",
    "\n",
    "    # Dummy return statement\n",
    "    return maxi"
   ]
  },
  {
   "cell_type": "code",
   "execution_count": null,
   "metadata": {},
   "outputs": [
    {
     "name": "stdout",
     "output_type": "stream",
     "text": [
      "Koko should eat at least 5 bananas/hr.\n"
     ]
    }
   ],
   "source": [
    "v = [7, 15, 6, 3]\n",
    "h = 8\n",
    "ans = minimumRateToEatBananas(v, h)\n",
    "print(\"Koko should eat at least\", ans, \"bananas/hr.\")"
   ]
  },
  {
   "cell_type": "markdown",
   "metadata": {},
   "source": [
    "### Optimal approach (Binary search algortith)"
   ]
  },
  {
   "cell_type": "code",
   "execution_count": 8,
   "metadata": {},
   "outputs": [],
   "source": [
    "def findMax(v):\n",
    "    maxi = float('-inf')\n",
    "    n = len(v)\n",
    "    # Find the maximum\n",
    "    for i in range(n):\n",
    "        maxi = max(maxi, v[i])\n",
    "    return maxi\n",
    "\n",
    "def calculateTotalHours(v, hourly):\n",
    "    totalH = 0\n",
    "    n = len(v)\n",
    "    # Find total hours\n",
    "    for i in range(n):\n",
    "        totalH += math.ceil(v[i] / hourly)\n",
    "    return totalH\n",
    "\n",
    "def koko_BS(arr,h):\n",
    "    start = 1\n",
    "    end = findMax(arr)\n",
    "    ans = -1\n",
    "    \n",
    "    while(start<=end):\n",
    "        mid=(start+end)//2\n",
    "        totalhrs= calculateTotalHours(arr,mid)\n",
    "        \n",
    "        if (totalhrs<=h):\n",
    "            ans=mid\n",
    "            end = mid-1\n",
    "        else:\n",
    "            start=mid+1  \n",
    "    return ans          \n",
    "        "
   ]
  },
  {
   "cell_type": "code",
   "execution_count": 9,
   "metadata": {},
   "outputs": [
    {
     "name": "stdout",
     "output_type": "stream",
     "text": [
      "Koko should eat at least 5 bananas/hr.\n"
     ]
    }
   ],
   "source": [
    "v = [7, 15, 6, 3]\n",
    "h = 8 \n",
    "ans= koko_BS(v, h)\n",
    "print(\"Koko should eat at least\", ans, \"bananas/hr.\")"
   ]
  },
  {
   "cell_type": "code",
   "execution_count": 10,
   "metadata": {},
   "outputs": [
    {
     "name": "stdout",
     "output_type": "stream",
     "text": [
      "Koko should eat at least 5 bananas/hr.\n"
     ]
    }
   ],
   "source": [
    "import math\n",
    "\n",
    "def findMax(v):\n",
    "    maxi = float('-inf')\n",
    "    n = len(v)\n",
    "    # Find the maximum\n",
    "    for i in range(n):\n",
    "        maxi = max(maxi, v[i])\n",
    "    return maxi\n",
    "\n",
    "def calculateTotalHours(v, hourly):\n",
    "    totalH = 0\n",
    "    n = len(v)\n",
    "    # Find total hours\n",
    "    for i in range(n):\n",
    "        totalH += math.ceil(v[i] / hourly)\n",
    "    return totalH\n",
    "\n",
    "def minimumRateToEatBananas(v, h):\n",
    "    low = 1\n",
    "    high = findMax(v)\n",
    "\n",
    "    # Apply binary search\n",
    "    while low <= high:\n",
    "        mid = (low + high) // 2\n",
    "        totalH = calculateTotalHours(v, mid)\n",
    "        if totalH <= h:\n",
    "            high = mid - 1\n",
    "        else:\n",
    "            low = mid + 1\n",
    "    return low\n",
    "\n",
    "v = [7, 15, 6, 3]\n",
    "h = 8\n",
    "ans = minimumRateToEatBananas(v, h)\n",
    "print(\"Koko should eat at least\", ans, \"bananas/hr.\")\n",
    "\n"
   ]
  },
  {
   "cell_type": "markdown",
   "metadata": {},
   "source": [
    "O(N log M), where:\n",
    "\n",
    "- N = Number of piles of bananas (len(arr))\n",
    "- M = Maximum number of bananas in any pile (findMax(arr))\n"
   ]
  }
 ],
 "metadata": {
  "kernelspec": {
   "display_name": "Python 3",
   "language": "python",
   "name": "python3"
  },
  "language_info": {
   "codemirror_mode": {
    "name": "ipython",
    "version": 3
   },
   "file_extension": ".py",
   "mimetype": "text/x-python",
   "name": "python",
   "nbconvert_exporter": "python",
   "pygments_lexer": "ipython3",
   "version": "3.13.0"
  }
 },
 "nbformat": 4,
 "nbformat_minor": 2
}
