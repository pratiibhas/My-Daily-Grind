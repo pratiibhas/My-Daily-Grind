{
 "cells": [
  {
   "cell_type": "markdown",
   "metadata": {},
   "source": [
    "### Kth Missing Positive Number"
   ]
  },
  {
   "cell_type": "markdown",
   "metadata": {},
   "source": [
    "You are given a strictly increasing array ‘vec’ and a positive integer 'k'. Find the 'kth' positive integer missing from 'vec'."
   ]
  },
  {
   "cell_type": "markdown",
   "metadata": {},
   "source": [
    "### Bryte force approach"
   ]
  },
  {
   "cell_type": "code",
   "execution_count": 6,
   "metadata": {},
   "outputs": [],
   "source": [
    "# printing missing numbers\n",
    "def kth_missing(arr,n,k):\n",
    "    maxi =max(arr)\n",
    "    ans=[]\n",
    "    for num in range(1, maxi + 1):  # Iterate through all numbers from 1 to max(arr)\n",
    "        if num not in arr:\n",
    "            ans.append(num)\n",
    "    \n",
    "    return ans          \n",
    "    "
   ]
  },
  {
   "cell_type": "code",
   "execution_count": 7,
   "metadata": {},
   "outputs": [
    {
     "data": {
      "text/plain": [
       "[1, 2, 4, 8, 9, 10]"
      ]
     },
     "execution_count": 7,
     "metadata": {},
     "output_type": "execute_result"
    }
   ],
   "source": [
    "arr=[3,5,6,7,11]\n",
    "kth_missing(arr,6,4)"
   ]
  },
  {
   "cell_type": "code",
   "execution_count": 23,
   "metadata": {},
   "outputs": [],
   "source": [
    "# printing kth missing element\n",
    "def k_th(arr,n,k):\n",
    "    maxi =max(arr)\n",
    "    ans=[]\n",
    "    for num in range(1, maxi + 1):  # Iterate through all numbers from 1 to max(arr)\n",
    "        if num not in arr:\n",
    "            ans.append(num)\n",
    "    return ans[k-1]        "
   ]
  },
  {
   "cell_type": "code",
   "execution_count": 24,
   "metadata": {},
   "outputs": [
    {
     "data": {
      "text/plain": [
       "9"
      ]
     },
     "execution_count": 24,
     "metadata": {},
     "output_type": "execute_result"
    }
   ],
   "source": [
    "arr=[3,5,6,7,11]\n",
    "k_th(arr,6,5)"
   ]
  },
  {
   "cell_type": "code",
   "execution_count": 8,
   "metadata": {},
   "outputs": [],
   "source": [
    "def k_th_missing(arr,k):\n",
    "    for i in range(len(arr)):\n",
    "        if(arr[i]<=k):\n",
    "          k+=1\n",
    "        else:\n",
    "            break \n",
    "    return k      "
   ]
  },
  {
   "cell_type": "code",
   "execution_count": 9,
   "metadata": {},
   "outputs": [
    {
     "data": {
      "text/plain": [
       "2"
      ]
     },
     "execution_count": 9,
     "metadata": {},
     "output_type": "execute_result"
    }
   ],
   "source": [
    "arr=[3,5,6,7,11]\n",
    "k_th_missing(arr,2)"
   ]
  },
  {
   "cell_type": "markdown",
   "metadata": {},
   "source": [
    "- 3 <= 5  ✅  -> k=k+1=6\n",
    "- 5 <= 6 ✅ -> k=k+1= 7\n",
    "- 6 <= 7 ✅ -> k=k+1= 8\n",
    "- 7 <= 8 ✅ -> k=k+1= 9\n",
    "- 9 <= 11 ❌ -> return k\n"
   ]
  }
 ],
 "metadata": {
  "kernelspec": {
   "display_name": "Python 3",
   "language": "python",
   "name": "python3"
  },
  "language_info": {
   "codemirror_mode": {
    "name": "ipython",
    "version": 3
   },
   "file_extension": ".py",
   "mimetype": "text/x-python",
   "name": "python",
   "nbconvert_exporter": "python",
   "pygments_lexer": "ipython3",
   "version": "3.13.0"
  }
 },
 "nbformat": 4,
 "nbformat_minor": 2
}
