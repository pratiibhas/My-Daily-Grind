{
 "cells": [
  {
   "cell_type": "markdown",
   "id": "55f76255",
   "metadata": {},
   "source": [
    "### Brute approach"
   ]
  },
  {
   "cell_type": "code",
   "execution_count": 11,
   "id": "db60b9bb",
   "metadata": {},
   "outputs": [
    {
     "name": "stdout",
     "output_type": "stream",
     "text": [
      "The median of two sorted arrays is 6.0\n"
     ]
    }
   ],
   "source": [
    "def median(a, b):\n",
    "    # size of two given arrays:\n",
    "    n1, n2 = len(a), len(b)\n",
    "\n",
    "    arr3 = []\n",
    "    # apply the merge step:\n",
    "    i, j = 0, 0\n",
    "    while i < n1 and j < n2:\n",
    "        if a[i] < b[j]:\n",
    "            arr3.append(a[i])\n",
    "            i += 1\n",
    "        else:\n",
    "            arr3.append(b[j])\n",
    "            j += 1\n",
    "\n",
    "    # copy the left-out elements:\n",
    "    arr3.extend(a[i:])\n",
    "    arr3.extend(b[j:])\n",
    "\n",
    "    # Find the median:\n",
    "    n = n1 + n2\n",
    "    if n % 2 == 1:\n",
    "        return float(arr3[n // 2])\n",
    "\n",
    "    median = (arr3[n // 2] + arr3[(n // 2) - 1]) / 2.0\n",
    "    return median\n",
    "\n",
    "\n",
    "if __name__ == \"__main__\":\n",
    "    a = [1, 4, 7, 10, 12]\n",
    "    b = [2, 3, 6, 15]\n",
    "    print(\"The median of two sorted arrays is\", \"{:.1f}\".format(median(a, b)))\n"
   ]
  },
  {
   "cell_type": "markdown",
   "id": "18bb54ec",
   "metadata": {},
   "source": [
    "### Better approach"
   ]
  },
  {
   "cell_type": "code",
   "execution_count": 10,
   "id": "84fbe020",
   "metadata": {},
   "outputs": [
    {
     "name": "stdout",
     "output_type": "stream",
     "text": [
      "The median of two sorted arrays is 6.0\n"
     ]
    }
   ],
   "source": [
    "def median_two_sorted(arr1,arr2,n,m):\n",
    "    cnt =0\n",
    "    i,j=0,0\n",
    "    l = n+m\n",
    "    val1= l//2\n",
    "    val2 = val1-1\n",
    "    indel1 =-1\n",
    "    indel2 =-1\n",
    "    while (i<n and j<m):\n",
    "        if (arr1[i]<arr2[j]):\n",
    "            if cnt == val1:\n",
    "                indel1 = arr1[i]\n",
    "            if cnt == val2:\n",
    "                indel2 = arr1[i]\n",
    "                \n",
    "            cnt +=1\n",
    "            i+=1\n",
    "        else:\n",
    "            if cnt == val1:\n",
    "                indel1 = arr2[j]\n",
    "            if cnt == val2:\n",
    "                indel2 = arr2[j]\n",
    "                \n",
    "            cnt +=1\n",
    "            j+=1\n",
    "            \n",
    "    while i<n:     \n",
    "        if cnt == val1:\n",
    "            indel1 = arr1[i]\n",
    "        if cnt == val2:\n",
    "            indel2 = arr1[i]\n",
    "                \n",
    "        cnt +=1\n",
    "        i+=1  \n",
    "    while j <m:\n",
    "        if cnt == val1:\n",
    "            indel1 = arr2[j]\n",
    "        if cnt == val2:\n",
    "            indel2 = arr2[j]\n",
    "                \n",
    "        cnt +=1\n",
    "        j+=1    \n",
    "                \n",
    "    if l %2==0:\n",
    "        return (indel1 +indel2) /2.0 \n",
    "    else:\n",
    "        return indel1       \n",
    "            \n",
    "  \n",
    "                   \n",
    "                \n",
    "                \n",
    "if __name__ == \"__main__\":\n",
    "    a = [1, 4, 7, 10,12]\n",
    "    b = [2, 3, 6, 15]\n",
    "    print(\"The median of two sorted arrays is\", \"{:.1f}\".format(median_two_sorted(a, b,5,4)))           \n",
    "        \n"
   ]
  },
  {
   "cell_type": "markdown",
   "id": "a1b14806",
   "metadata": {},
   "source": [
    "### Optimal approach (Binary search)"
   ]
  },
  {
   "cell_type": "code",
   "execution_count": null,
   "id": "453166b6",
   "metadata": {},
   "outputs": [],
   "source": [
    "def median(a, b):\n",
    "    n1, n2 = len(a), len(b)\n",
    "    # if n1 is bigger swap the arrays:\n",
    "    if n1 > n2:\n",
    "        return median(b, a)\n",
    "\n",
    "    n = n1 + n2  # total length\n",
    "    left = (n1 + n2 + 1) // 2  # length of left half\n",
    "    # apply binary search:\n",
    "    low, high = 0, n1\n",
    "    while low <= high:\n",
    "        mid1 = (low + high) // 2\n",
    "        mid2 = left - mid1\n",
    "        # calculate l1, l2, r1, and r2;\n",
    "        l1, l2, r1, r2 = float('-inf'), float('-inf'), float('inf'), float('inf')\n",
    "        \n",
    "        # check for valid mid for the case when the whole array is being used mid1<n1 since n1 started from 1 and mid started with 0 since it is used based on index\n",
    "        if mid1 < n1:\n",
    "            r1 = a[mid1]\n",
    "        if mid2 < n2:\n",
    "            r2 = b[mid2]\n",
    "        if mid1 - 1 >= 0:\n",
    "            l1 = a[mid1 - 1]\n",
    "        if mid2 - 1 >= 0:\n",
    "            l2 = b[mid2 - 1]\n",
    "\n",
    "        if l1 <= r2 and l2 <= r1: # checking the conditions \n",
    "            if n % 2 == 1:\n",
    "                return max(l1, l2)\n",
    "            else:\n",
    "                return (float(max(l1, l2)) + float(min(r1, r2))) / 2.0\n",
    "\n",
    "        # eliminate the halves:\n",
    "        elif l1 > r2:\n",
    "            high = mid1 - 1\n",
    "        else:\n",
    "            low = mid1 + 1\n",
    "    return 0  # dummy statement\n",
    "\n",
    "\n",
    "a = [1, 4, 7, 10, 12]\n",
    "b = [2, 3, 6, 15]\n",
    "print(\"The median of two sorted arrays is {:.1f}\".format(median(a, b)))    \n",
    "        "
   ]
  }
 ],
 "metadata": {
  "kernelspec": {
   "display_name": "Python 3",
   "language": "python",
   "name": "python3"
  },
  "language_info": {
   "codemirror_mode": {
    "name": "ipython",
    "version": 3
   },
   "file_extension": ".py",
   "mimetype": "text/x-python",
   "name": "python",
   "nbconvert_exporter": "python",
   "pygments_lexer": "ipython3",
   "version": "3.13.0"
  }
 },
 "nbformat": 4,
 "nbformat_minor": 5
}
