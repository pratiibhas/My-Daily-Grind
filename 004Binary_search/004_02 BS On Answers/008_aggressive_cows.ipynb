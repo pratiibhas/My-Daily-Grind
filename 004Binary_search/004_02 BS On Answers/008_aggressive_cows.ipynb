{
 "cells": [
  {
   "cell_type": "markdown",
   "metadata": {},
   "source": [
    "# Aggressive Cows : Detailed Solution\n",
    "\n",
    "\n",
    "\n",
    "Problem Statement: You are given an array 'arr' of size 'n' which denotes the position of stalls.\n",
    "You are also given an integer 'k' which denotes the number of aggressive cows.\n",
    "You are given the task of assigning stalls to 'k' cows such that the minimum distance between any two of them is the maximum possible.\n",
    "Find the maximum possible minimum distance."
   ]
  },
  {
   "cell_type": "markdown",
   "metadata": {},
   "source": [
    "MINIMUM Distance is the maximum possible distance."
   ]
  },
  {
   "cell_type": "markdown",
   "metadata": {},
   "source": [
    "Example Input Format:\n",
    "- N = 6, k = 4, arr[] = {0,3,4,7,10,9}\n",
    "- Result:\n",
    " 3\n",
    "- Explanation:\n",
    " The maximum possible minimum distance between any two cows will be 3 when 4 cows are placed at positions {0, 3, 7, 10}. Here the distances between cows are 3, 4, and 3 respectively. We cannot make the minimum distance greater than 3 in any ways."
   ]
  },
  {
   "cell_type": "markdown",
   "metadata": {},
   "source": [
    "approach:\n",
    "- check for distance1 distance 2 till it is not possible to give that much space for given number of cows."
   ]
  },
  {
   "cell_type": "markdown",
   "metadata": {},
   "source": [
    "### Brute force approach"
   ]
  },
  {
   "cell_type": "markdown",
   "metadata": {},
   "source": [
    "- Example:\n",
    "- [0,3,4,7,10] ,k=3\n",
    "- if c1 at 0 , c2 at 3 , c3 at 7 , c4 at 10 =3,4,3 - required answer =min(3,4,3)=3"
   ]
  },
  {
   "cell_type": "markdown",
   "metadata": {},
   "source": [
    "### Brute force approach\n",
    "Linear search"
   ]
  },
  {
   "cell_type": "code",
   "execution_count": 2,
   "metadata": {},
   "outputs": [
    {
     "name": "stdout",
     "output_type": "stream",
     "text": [
      "The maximum possible minimum distance is: 3\n"
     ]
    }
   ],
   "source": [
    "def CanWePlace(stalls,dist,cows):\n",
    "    n=len(stalls)\n",
    "    Cntcows=1\n",
    "    last=stalls[0]\n",
    "    for i in range(1,n):\n",
    "        if(stalls[i]-last)>=dist:\n",
    "           Cntcows+=1\n",
    "           last = stalls[i]\n",
    "        if Cntcows >=cows:\n",
    "            return True\n",
    "    return False \n",
    "          \n",
    "\n",
    "def aggressive_cows(stalls,cows):\n",
    "    n=len(stalls)\n",
    "    stalls.sort()\n",
    "    \n",
    "    limit=stalls[n-1]-stalls[0]\n",
    "    for i in range(1,limit+1):\n",
    "        if CanWePlace(stalls,i,cows)==True:\n",
    "            continue\n",
    "        else:\n",
    "            return i-1\n",
    "    return limit    \n",
    "        \n",
    "stalls = [0, 3, 4, 7, 10, 9]\n",
    "k = 4\n",
    "ans = aggressive_cows(stalls, k)\n",
    "print(\"The maximum possible minimum distance is:\", ans)    \n",
    "    \n",
    "    "
   ]
  },
  {
   "cell_type": "markdown",
   "metadata": {},
   "source": [
    "### Binary search approach (Optimal Approach )"
   ]
  },
  {
   "cell_type": "code",
   "execution_count": null,
   "metadata": {},
   "outputs": [],
   "source": [
    "def bs_cows(arr,cows):\n",
    "    n=len(arr)\n",
    "    start=arr[0]\n",
    "    end=arr[n-1]\n",
    "    # high = stalls[n - 1] - stalls[0]\n",
    "    \n",
    "    while(start<=end):\n",
    "        mid=(start+end)//2\n",
    "        if CanWePlace(arr,mid,cows):\n",
    "             start=mid+1 \n",
    "        else:\n",
    "            end=mid-1\n",
    "    return end              "
   ]
  },
  {
   "cell_type": "code",
   "execution_count": 8,
   "metadata": {},
   "outputs": [
    {
     "name": "stdout",
     "output_type": "stream",
     "text": [
      "The maximum possible minimum distance is: 3\n"
     ]
    }
   ],
   "source": [
    "stalls = [0, 3, 4, 7, 10, 9]\n",
    "k = 4\n",
    "ans = bs_cows(stalls, k)\n",
    "print(\"The maximum possible minimum distance is:\", ans) "
   ]
  },
  {
   "cell_type": "markdown",
   "metadata": {},
   "source": [
    "TC: Sorting(nlog n), binary search O(logn), Can we place 0(n)\n",
    "SC: O(1)"
   ]
  }
 ],
 "metadata": {
  "kernelspec": {
   "display_name": "Python 3",
   "language": "python",
   "name": "python3"
  },
  "language_info": {
   "codemirror_mode": {
    "name": "ipython",
    "version": 3
   },
   "file_extension": ".py",
   "mimetype": "text/x-python",
   "name": "python",
   "nbconvert_exporter": "python",
   "pygments_lexer": "ipython3",
   "version": "3.13.0"
  }
 },
 "nbformat": 4,
 "nbformat_minor": 2
}
