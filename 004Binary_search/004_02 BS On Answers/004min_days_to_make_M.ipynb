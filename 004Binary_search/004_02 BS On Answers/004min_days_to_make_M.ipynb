{
 "cells": [
  {
   "cell_type": "markdown",
   "metadata": {},
   "source": [
    "### Minimum Number of Days to Make m Bouquets"
   ]
  },
  {
   "cell_type": "markdown",
   "metadata": {},
   "source": [
    "You are given an integer array bloomDay, an integer m and an integer k.\n",
    "\n",
    "You want to make m bouquets. To make a bouquet, you need to use k adjacent flowers from the garden.\n",
    "\n",
    "The garden consists of n flowers, the ith flower will bloom in the bloomDay[i] and then can be used in exactly one bouquet.\n",
    "\n",
    "Return the minimum number of days you need to wait to be able to make m bouquets from the garden. If it is impossible to make m bouquets return -1."
   ]
  },
  {
   "cell_type": "code",
   "execution_count": 2,
   "metadata": {},
   "outputs": [],
   "source": [
    "def FindMin(arr,n):\n",
    "    mini=9999999\n",
    "    for i in range(len(arr)):\n",
    "        if mini>arr[i]:\n",
    "            mini=arr[i]\n",
    "    return mini        "
   ]
  },
  {
   "cell_type": "code",
   "execution_count": 12,
   "metadata": {},
   "outputs": [],
   "source": [
    "def FindMax(arr,n):\n",
    "    maxi=-9999999\n",
    "    for i in range(len(arr)):\n",
    "        if maxi<arr[i]:\n",
    "            maxi=arr[i]\n",
    "    return maxi "
   ]
  },
  {
   "cell_type": "code",
   "execution_count": 35,
   "metadata": {},
   "outputs": [],
   "source": [
    "def possible(arr, day, m, k):\n",
    "    n = len(arr)  # size of the array\n",
    "    cnt = 0\n",
    "    noOfB = 0\n",
    "    # count the number of bouquets\n",
    "    for i in range(n):\n",
    "        if arr[i] <= day:\n",
    "            cnt += 1\n",
    "        else:\n",
    "            noOfB += cnt // k\n",
    "            cnt = 0\n",
    "    noOfB += cnt // k\n",
    "    return noOfB >= m\n"
   ]
  },
  {
   "cell_type": "code",
   "execution_count": 32,
   "metadata": {},
   "outputs": [],
   "source": [
    "def Make(arr,m,k):\n",
    "    n=len(arr)\n",
    "    a=FindMin(arr,n)\n",
    "    b=FindMax(arr,n)\n",
    "    \n",
    "    for i in range(a,b+1):\n",
    "        if possible(arr,i,m,k)== True:\n",
    "            return i\n",
    "    return -1    "
   ]
  },
  {
   "cell_type": "code",
   "execution_count": 36,
   "metadata": {},
   "outputs": [
    {
     "data": {
      "text/plain": [
       "-1"
      ]
     },
     "execution_count": 36,
     "metadata": {},
     "output_type": "execute_result"
    }
   ],
   "source": [
    "arr=[7, 7, 7, 7, 13, 11, 12, 7]\n",
    "Make(arr,3,3)"
   ]
  },
  {
   "cell_type": "markdown",
   "metadata": {},
   "source": [
    "### Optimal approach"
   ]
  },
  {
   "cell_type": "code",
   "execution_count": null,
   "metadata": {},
   "outputs": [],
   "source": [
    "def Makem(arr,m,k):\n",
    "    n=len(arr)\n",
    "    \n",
    "    mini = float('inf')\n",
    "    maxi = float('-inf')\n",
    "    for i in range(n):\n",
    "        mini = min(mini, arr[i])\n",
    "        maxi = max(maxi, arr[i])\n",
    "    start=mini \n",
    "    end=maxi    \n",
    "    if(m*k>=n):\n",
    "        return -1\n",
    "    while start < end:\n",
    "            mid = (start + end) // 2\n",
    "            if possible(arr, mid, m, k):  \n",
    "                end = mid  # Try smaller days if possible\n",
    "            else:\n",
    "                start = mid + 1  # Increase days if not possible\n",
    "        \n",
    "    return start  "
   ]
  },
  {
   "cell_type": "code",
   "execution_count": 55,
   "metadata": {},
   "outputs": [
    {
     "data": {
      "text/plain": [
       "12"
      ]
     },
     "execution_count": 55,
     "metadata": {},
     "output_type": "execute_result"
    }
   ],
   "source": [
    "arr = [7, 7, 7, 7, 13, 11, 12, 7]\n",
    "k = 3\n",
    "m = 2\n",
    "Makem(arr, k, m)"
   ]
  },
  {
   "cell_type": "code",
   "execution_count": 56,
   "metadata": {},
   "outputs": [
    {
     "data": {
      "text/plain": [
       "3"
      ]
     },
     "execution_count": 56,
     "metadata": {},
     "output_type": "execute_result"
    }
   ],
   "source": [
    "arr= [1,10,3,10,2]\n",
    "k=3\n",
    "m=1\n",
    "Makem(arr, k, m)"
   ]
  }
 ],
 "metadata": {
  "kernelspec": {
   "display_name": "Python 3",
   "language": "python",
   "name": "python3"
  },
  "language_info": {
   "codemirror_mode": {
    "name": "ipython",
    "version": 3
   },
   "file_extension": ".py",
   "mimetype": "text/x-python",
   "name": "python",
   "nbconvert_exporter": "python",
   "pygments_lexer": "ipython3",
   "version": "3.13.0"
  }
 },
 "nbformat": 4,
 "nbformat_minor": 2
}
