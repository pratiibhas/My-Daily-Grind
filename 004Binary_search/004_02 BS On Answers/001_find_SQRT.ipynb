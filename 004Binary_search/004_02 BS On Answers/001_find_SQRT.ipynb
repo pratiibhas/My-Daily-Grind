{
 "cells": [
  {
   "cell_type": "markdown",
   "metadata": {},
   "source": [
    "### Finding Sqrt of a number using Binary Search"
   ]
  },
  {
   "cell_type": "code",
   "execution_count": null,
   "metadata": {},
   "outputs": [],
   "source": [
    "import math\n",
    "\n",
    "def floorSqrt(n):\n",
    "    ans = int(math.sqrt(n))\n",
    "    return ans"
   ]
  },
  {
   "cell_type": "code",
   "execution_count": 1,
   "metadata": {},
   "outputs": [
    {
     "name": "stdout",
     "output_type": "stream",
     "text": [
      "The floor of square root of 28 is: 5\n"
     ]
    }
   ],
   "source": [
    "def floorSqrt(n):\n",
    "    low = 1\n",
    "    high = n\n",
    "    # Binary search on the answers:\n",
    "    while low <= high:\n",
    "        mid = (low + high) // 2\n",
    "        val = mid * mid\n",
    "        if val <= n:\n",
    "            # Eliminate the left half:\n",
    "            low = mid + 1\n",
    "        else:\n",
    "            # Eliminate the right half:\n",
    "            high = mid - 1\n",
    "    return high\n",
    "\n",
    "n = 28\n",
    "ans = floorSqrt(n)\n",
    "print(\"The floor of square root of\", n, \"is:\", ans)"
   ]
  }
 ],
 "metadata": {
  "kernelspec": {
   "display_name": "Python 3",
   "language": "python",
   "name": "python3"
  },
  "language_info": {
   "codemirror_mode": {
    "name": "ipython",
    "version": 3
   },
   "file_extension": ".py",
   "mimetype": "text/x-python",
   "name": "python",
   "nbconvert_exporter": "python",
   "pygments_lexer": "ipython3",
   "version": "3.13.0"
  }
 },
 "nbformat": 4,
 "nbformat_minor": 2
}
