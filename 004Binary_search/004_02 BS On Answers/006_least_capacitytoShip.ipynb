{
 "cells": [
  {
   "cell_type": "markdown",
   "metadata": {},
   "source": [
    "### Capacity to Ship Packages within D Days"
   ]
  },
  {
   "cell_type": "markdown",
   "metadata": {},
   "source": [
    "Problem Statement: You are the owner of a Shipment company. You use conveyor belts to ship packages from one port to another. The packages must be shipped within 'd' days.\n",
    "The weights of the packages are given in an array 'of weights'. The packages are loaded on the conveyor belts every day in the same order as they appear in the array. The loaded weights must not exceed the maximum weight capacity of the ship.\n",
    "Find out the least-weight capacity so that you can ship all the packages within 'd' days."
   ]
  },
  {
   "cell_type": "code",
   "execution_count": 3,
   "metadata": {},
   "outputs": [],
   "source": [
    "def findDays(weights,capacity):\n",
    "    day = 1\n",
    "    load = 0\n",
    "    n=len(weights)\n",
    "    for i in range(n):\n",
    "        if load+weights[i]>capacity:\n",
    "            day =day+1\n",
    "            load= weights[i]\n",
    "        else:\n",
    "            load+=weights[i]    \n",
    "    return day        \n"
   ]
  },
  {
   "cell_type": "code",
   "execution_count": 8,
   "metadata": {},
   "outputs": [],
   "source": [
    "def to_ship(arr,d):\n",
    "    n=len(arr)\n",
    "    sum=0\n",
    "    for i in range(n):\n",
    "        sum+=arr[i]\n",
    "    for i in range(max(arr),sum+1):\n",
    "        DaysReq=findDays(arr,i)\n",
    "        if DaysReq<=d:\n",
    "            return i\n",
    "        "
   ]
  },
  {
   "cell_type": "code",
   "execution_count": 9,
   "metadata": {},
   "outputs": [
    {
     "name": "stdout",
     "output_type": "stream",
     "text": [
      "The minimum capacity should be: 9\n"
     ]
    }
   ],
   "source": [
    "weights = [5, 4, 5, 2, 3, 4, 5, 6]\n",
    "d = 5\n",
    "ans = to_ship(weights, d)\n",
    "print(\"The minimum capacity should be:\", ans)"
   ]
  },
  {
   "cell_type": "markdown",
   "metadata": {},
   "source": [
    "### Optimal approach"
   ]
  },
  {
   "cell_type": "code",
   "execution_count": 14,
   "metadata": {},
   "outputs": [],
   "source": [
    "def min_days(weight,days):\n",
    "    start=max(weight)\n",
    "    end=sum(weight)\n",
    "    \n",
    "    while(start<=end):\n",
    "        mid=(start+end)//2\n",
    "        \n",
    "        if findDays(weight,mid)<=days:\n",
    "            end=mid-1\n",
    "        else:\n",
    "            start=mid+1\n",
    "    return start            "
   ]
  },
  {
   "cell_type": "code",
   "execution_count": 15,
   "metadata": {},
   "outputs": [
    {
     "name": "stdout",
     "output_type": "stream",
     "text": [
      "The minimum capacity should be: 9\n"
     ]
    }
   ],
   "source": [
    "weights = [5, 4, 5, 2, 3, 4, 5, 6]\n",
    "d = 5\n",
    "ans = min_days(weights, d)\n",
    "print(\"The minimum capacity should be:\", ans)"
   ]
  }
 ],
 "metadata": {
  "kernelspec": {
   "display_name": "Python 3",
   "language": "python",
   "name": "python3"
  },
  "language_info": {
   "codemirror_mode": {
    "name": "ipython",
    "version": 3
   },
   "file_extension": ".py",
   "mimetype": "text/x-python",
   "name": "python",
   "nbconvert_exporter": "python",
   "pygments_lexer": "ipython3",
   "version": "3.13.0"
  }
 },
 "nbformat": 4,
 "nbformat_minor": 2
}
