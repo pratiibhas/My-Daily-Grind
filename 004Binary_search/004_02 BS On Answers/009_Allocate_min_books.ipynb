{
 "cells": [
  {
   "cell_type": "markdown",
   "metadata": {},
   "source": [
    "# Allocate Minimum Number of Pages\n",
    "\n",
    "Problem Statement: Given an array ‘arr of integer numbers, ‘ar[i]’ represents the number of pages in the ‘i-th’ book. There are a ‘m’ number of students, and the task is to allocate all the books to the students.\n",
    "Allocate books in such a way that:\n",
    "\n",
    "- Each student gets at least one book.\n",
    "- Each book should be allocated to only one student.\n",
    "- Book allocation should be in a contiguous manner.\n",
    "You have to allocate the book to ‘m’ students such that the maximum number of pages assigned to a student is minimum. If the allocation of books is not possible. return -1"
   ]
  },
  {
   "cell_type": "markdown",
   "metadata": {},
   "source": [
    "### Brute force approach"
   ]
  },
  {
   "cell_type": "code",
   "execution_count": 27,
   "metadata": {},
   "outputs": [],
   "source": [
    "def allocated_books(arr,k):\n",
    "    n=len(arr)\n",
    "    if (n<k):\n",
    "        return -1\n",
    "   \n",
    "    maxi= float('-inf')\n",
    "    for i in range(n):\n",
    "       maxi=max(maxi,arr[i]) \n",
    "    if (n==k):\n",
    "        return maxi    \n",
    "    max_comp=arr[0]+arr[1]\n",
    "    for i in range(1,n-1):\n",
    "        max_comp=min(max_comp,arr[i]+arr[i+1]) \n",
    "        \n",
    "    return max_comp           "
   ]
  },
  {
   "cell_type": "markdown",
   "metadata": {},
   "source": [
    "**GPT's APPROACH**"
   ]
  },
  {
   "cell_type": "code",
   "execution_count": null,
   "metadata": {},
   "outputs": [],
   "source": [
    "def is_possible(arr, n, m, max_pages):\n",
    "    student_count = 1\n",
    "    pages_sum = 0\n",
    "    \n",
    "    for pages in arr:\n",
    "        if pages_sum + pages > max_pages:\n",
    "            student_count += 1\n",
    "            pages_sum = pages\n",
    "            if student_count > m:\n",
    "                return False\n",
    "        else:\n",
    "            pages_sum += pages\n",
    "            \n",
    "    return True\n",
    "\n",
    "def allocated_books(arr, m):\n",
    "    n = len(arr)\n",
    "    if n < m:\n",
    "        return -1  # Impossible to allocate\n",
    "\n",
    "    # Maximum possible number of pages in a brute force manner\n",
    "    start, end = max(arr), sum(arr)\n",
    "    result = end\n",
    "\n",
    "    for max_pages in range(start, end + 1):\n",
    "        if is_possible(arr, n, m, max_pages):\n",
    "            result = min(result, max_pages)\n",
    "\n",
    "    return result"
   ]
  },
  {
   "cell_type": "markdown",
   "metadata": {},
   "source": [
    "**Striver's approach**"
   ]
  },
  {
   "cell_type": "code",
   "execution_count": 30,
   "metadata": {},
   "outputs": [
    {
     "name": "stdout",
     "output_type": "stream",
     "text": [
      "The answer is: 71\n"
     ]
    }
   ],
   "source": [
    "def countStudents(arr, pages):\n",
    "    n = len(arr)  # size of array\n",
    "    students = 1\n",
    "    pagesStudent = 0\n",
    "    for i in range(n):\n",
    "        if pagesStudent + arr[i] <= pages:\n",
    "            # add pages to current student\n",
    "            pagesStudent += arr[i]\n",
    "        else:\n",
    "            # add pages to next student\n",
    "            students += 1\n",
    "            pagesStudent = arr[i]\n",
    "    return students\n",
    "\n",
    "def findPages(arr, n, m):\n",
    "    # book allocation impossible\n",
    "    if m > n:\n",
    "        return -1\n",
    "\n",
    "    low = max(arr)\n",
    "    high = sum(arr)\n",
    "\n",
    "    for pages in range(low, high + 1):\n",
    "        if countStudents(arr, pages) == m:\n",
    "            return pages\n",
    "    return low\n",
    "\n",
    "arr = [25, 46, 28, 49,56]\n",
    "n = 5\n",
    "m = 4\n",
    "ans = findPages(arr, n, m)\n",
    "print(\"The answer is:\", ans)\n"
   ]
  },
  {
   "cell_type": "markdown",
   "metadata": {},
   "source": [
    "O(MAX-SUM+1) N"
   ]
  },
  {
   "cell_type": "code",
   "execution_count": 29,
   "metadata": {},
   "outputs": [
    {
     "data": {
      "text/plain": [
       "49"
      ]
     },
     "execution_count": 29,
     "metadata": {},
     "output_type": "execute_result"
    }
   ],
   "source": [
    "allocated_books([25,46,28,49],4)\n"
   ]
  },
  {
   "cell_type": "code",
   "execution_count": 31,
   "metadata": {},
   "outputs": [
    {
     "data": {
      "text/plain": [
       "204"
      ]
     },
     "execution_count": 31,
     "metadata": {},
     "output_type": "execute_result"
    }
   ],
   "source": [
    "sum([25, 46, 28, 49,56])"
   ]
  },
  {
   "cell_type": "markdown",
   "metadata": {},
   "source": [
    "### binary search approach"
   ]
  },
  {
   "cell_type": "code",
   "execution_count": null,
   "metadata": {},
   "outputs": [],
   "source": [
    "def bin_search(arr,n,k):\n",
    "    if k > n:\n",
    "        return -1\n",
    "    start=max(arr)\n",
    "    end=sum(arr)\n",
    "    \n",
    "    while(start<=end):\n",
    "        mid=(start+end)//2\n",
    "        if (countStudents(arr,mid)>k):\n",
    "            start= mid+1    \n",
    "        else: # cases when ==k and <k to capture both less than and equal to cases to get the lowest possible solution\n",
    "            end=mid-1    \n",
    "    return start         "
   ]
  },
  {
   "cell_type": "code",
   "execution_count": 65,
   "metadata": {},
   "outputs": [
    {
     "data": {
      "text/plain": [
       "71"
      ]
     },
     "execution_count": 65,
     "metadata": {},
     "output_type": "execute_result"
    }
   ],
   "source": [
    "bin_search([25,46,28,49,24],5,4)"
   ]
  }
 ],
 "metadata": {
  "kernelspec": {
   "display_name": "Python 3",
   "language": "python",
   "name": "python3"
  },
  "language_info": {
   "codemirror_mode": {
    "name": "ipython",
    "version": 3
   },
   "file_extension": ".py",
   "mimetype": "text/x-python",
   "name": "python",
   "nbconvert_exporter": "python",
   "pygments_lexer": "ipython3",
   "version": "3.13.0"
  }
 },
 "nbformat": 4,
 "nbformat_minor": 2
}
