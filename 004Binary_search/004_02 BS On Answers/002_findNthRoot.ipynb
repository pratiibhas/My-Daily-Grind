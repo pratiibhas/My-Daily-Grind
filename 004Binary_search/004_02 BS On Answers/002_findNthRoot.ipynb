{
 "cells": [
  {
   "cell_type": "markdown",
   "metadata": {},
   "source": [
    "### Find Nth root"
   ]
  },
  {
   "cell_type": "markdown",
   "metadata": {},
   "source": [
    "### Brute force approach"
   ]
  },
  {
   "cell_type": "code",
   "execution_count": 6,
   "metadata": {},
   "outputs": [],
   "source": [
    "def f(b,exp):\n",
    "    base =b\n",
    "    ans=1\n",
    "    while exp>0:\n",
    "        if exp % 2:\n",
    "            exp -=1\n",
    "            ans = ans * base\n",
    "        else:\n",
    "            exp //=2\n",
    "            base = base*base    \n",
    "    return ans   "
   ]
  },
  {
   "cell_type": "code",
   "execution_count": 12,
   "metadata": {},
   "outputs": [],
   "source": [
    "def f(i,n):\n",
    "    ans=1\n",
    "    for j in range(n):\n",
    "        ans *=i\n",
    "    return ans    "
   ]
  },
  {
   "cell_type": "code",
   "execution_count": 13,
   "metadata": {},
   "outputs": [],
   "source": [
    "def find_nth_root(n,m):\n",
    "    for i in range(1,m+1):\n",
    "        if f(i,n)==m:\n",
    "            return i\n",
    "        elif f(i,n)>m:\n",
    "            break\n",
    "    return -1    \n",
    "    "
   ]
  },
  {
   "cell_type": "code",
   "execution_count": 14,
   "metadata": {},
   "outputs": [
    {
     "name": "stdout",
     "output_type": "stream",
     "text": [
      "The answer is: 3\n"
     ]
    }
   ],
   "source": [
    "n = 3\n",
    "m = 27\n",
    "ans = find_nth_root(n, m)\n",
    "print(\"The answer is:\", ans)"
   ]
  },
  {
   "cell_type": "markdown",
   "metadata": {},
   "source": [
    "### Optimal Approach"
   ]
  },
  {
   "cell_type": "code",
   "execution_count": 28,
   "metadata": {},
   "outputs": [],
   "source": [
    "def opt_nth_root(n,m): #n=3  ,m=27\n",
    "    start=1\n",
    "    end= m\n",
    "    ans=-1 \n",
    "    while(start<=end):\n",
    "        mid = (start+end)//2\n",
    "        if f(mid,n) ==m:\n",
    "            return mid\n",
    "        if (f(mid,n) >m):\n",
    "            end=mid-1\n",
    "        else:\n",
    "            start=mid+1      \n",
    "    return ans "
   ]
  },
  {
   "cell_type": "code",
   "execution_count": 29,
   "metadata": {},
   "outputs": [
    {
     "name": "stdout",
     "output_type": "stream",
     "text": [
      "The answer is: 3\n"
     ]
    }
   ],
   "source": [
    "n = 3\n",
    "m = 27\n",
    "ans = opt_nth_root(n, m)\n",
    "print(\"The answer is:\", ans)"
   ]
  },
  {
   "cell_type": "code",
   "execution_count": null,
   "metadata": {},
   "outputs": [],
   "source": []
  }
 ],
 "metadata": {
  "kernelspec": {
   "display_name": "Python 3",
   "language": "python",
   "name": "python3"
  },
  "language_info": {
   "codemirror_mode": {
    "name": "ipython",
    "version": 3
   },
   "file_extension": ".py",
   "mimetype": "text/x-python",
   "name": "python",
   "nbconvert_exporter": "python",
   "pygments_lexer": "ipython3",
   "version": "3.13.0"
  }
 },
 "nbformat": 4,
 "nbformat_minor": 2
}
