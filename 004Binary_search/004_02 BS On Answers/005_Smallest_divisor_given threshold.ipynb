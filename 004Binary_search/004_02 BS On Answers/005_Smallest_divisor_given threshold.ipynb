{
 "cells": [
  {
   "cell_type": "markdown",
   "metadata": {},
   "source": [
    "### Find the Smallest Divisor Given a Threshold"
   ]
  },
  {
   "cell_type": "code",
   "execution_count": null,
   "metadata": {},
   "outputs": [],
   "source": [
    "import math\n",
    "def min_divisor(arr,k):\n",
    "    n=len(arr)\n",
    "    maxi=float('-inf')\n",
    "    for i in range(n):\n",
    "        maxi=max(maxi,arr[i])\n",
    "    \n",
    "    \n",
    "    for j in range(1,maxi+1):\n",
    "        sum=0  \n",
    "        for i in range(n):\n",
    "            sum+=math.ceil(arr[i]/j)\n",
    "        if sum<k:\n",
    "            return j\n",
    "    return -1        "
   ]
  },
  {
   "cell_type": "code",
   "execution_count": 4,
   "metadata": {},
   "outputs": [
    {
     "data": {
      "text/plain": [
       "3"
      ]
     },
     "execution_count": 4,
     "metadata": {},
     "output_type": "execute_result"
    }
   ],
   "source": [
    "arr = [1, 2, 3, 4, 5]\n",
    "limit = 8\n",
    "min_divisor(arr, limit)"
   ]
  },
  {
   "cell_type": "markdown",
   "metadata": {},
   "source": [
    "### Optimal solution"
   ]
  },
  {
   "cell_type": "code",
   "execution_count": 8,
   "metadata": {},
   "outputs": [],
   "source": [
    "def sums(arr,div):\n",
    "    sum=0\n",
    "    n=len(arr)\n",
    "    for i in range(n):\n",
    "        sum+=math.ceil(arr[i]/div)\n",
    "   \n",
    "    return sum"
   ]
  },
  {
   "cell_type": "code",
   "execution_count": 20,
   "metadata": {},
   "outputs": [],
   "source": [
    "def opt_min_divisor(arr,k):\n",
    "    n=len(arr)\n",
    "    if n>k:\n",
    "        return -1\n",
    "    start= 1\n",
    "    end= max(arr)\n",
    "\n",
    "    while(start<=end):\n",
    "        mid=(start+end)//2\n",
    "        if sums(arr,mid)<=k:\n",
    "            end=mid-1\n",
    "        else:\n",
    "            start=mid+1\n",
    "    return start           \n",
    "    "
   ]
  },
  {
   "cell_type": "code",
   "execution_count": 21,
   "metadata": {},
   "outputs": [
    {
     "name": "stdout",
     "output_type": "stream",
     "text": [
      "The minimum divisor is: 3\n"
     ]
    }
   ],
   "source": [
    "arr = [1, 2, 3, 4, 5]\n",
    "limit = 8\n",
    "ans = opt_min_divisor(arr, limit)\n",
    "print(\"The minimum divisor is:\", ans)"
   ]
  },
  {
   "cell_type": "markdown",
   "metadata": {},
   "source": [
    " end = mid → Incorrect because it doesn't shrink the search space, leading to infinite loops.\n",
    "✅ end = mid - 1 → Correct because it ensures progress in binary search."
   ]
  }
 ],
 "metadata": {
  "kernelspec": {
   "display_name": "Python 3",
   "language": "python",
   "name": "python3"
  },
  "language_info": {
   "codemirror_mode": {
    "name": "ipython",
    "version": 3
   },
   "file_extension": ".py",
   "mimetype": "text/x-python",
   "name": "python",
   "nbconvert_exporter": "python",
   "pygments_lexer": "ipython3",
   "version": "3.13.0"
  }
 },
 "nbformat": 4,
 "nbformat_minor": 2
}
