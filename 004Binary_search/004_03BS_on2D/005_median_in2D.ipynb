{
 "cells": [
  {
   "cell_type": "markdown",
   "metadata": {},
   "source": [
    "### Matrix Median"
   ]
  },
  {
   "cell_type": "markdown",
   "metadata": {},
   "source": [
    "1. row wise sorted \n",
    "2. number of rows and columns is always odd"
   ]
  },
  {
   "cell_type": "markdown",
   "metadata": {},
   "source": [
    "### Brute force approach"
   ]
  },
  {
   "cell_type": "markdown",
   "metadata": {},
   "source": [
    "Converting 2-D into 1-D array then returning the middle value in this array"
   ]
  },
  {
   "cell_type": "code",
   "execution_count": 37,
   "metadata": {},
   "outputs": [],
   "source": [
    "def median(arr,):\n",
    "    n=len(arr)\n",
    "    m=len(arr[0])\n",
    "    res=[] \n",
    "    for i in range(n):\n",
    "        for j in range(m):\n",
    "            res.append(arr[i][j])\n",
    "    res.sort()   \n",
    "    n=len(res)//2 \n",
    "    return res"
   ]
  },
  {
   "cell_type": "code",
   "execution_count": 38,
   "metadata": {},
   "outputs": [
    {
     "data": {
      "text/plain": [
       "[1, 2, 3, 4, 5, 8, 9, 11, 12, 13, 21, 23, 25, 27, 29]"
      ]
     },
     "execution_count": 38,
     "metadata": {},
     "output_type": "execute_result"
    }
   ],
   "source": [
    "matrix = [\n",
    "    [1, 2, 3, 4, 5],\n",
    "    [8, 9, 11, 12, 13],\n",
    "    [21, 23, 25, 27, 29]\n",
    "]\n",
    "median(matrix)"
   ]
  },
  {
   "cell_type": "markdown",
   "metadata": {},
   "source": [
    "### Optimal approach"
   ]
  },
  {
   "cell_type": "code",
   "execution_count": 18,
   "metadata": {},
   "outputs": [],
   "source": [
    "def opt_med(arr):\n",
    "    n=len(arr)\n",
    "    m=len(arr[0])\n",
    "    low=0\n",
    "    high=n*m-1\n",
    "    total_nums=n*m-1\n",
    "    while(low<=high):\n",
    "        mid=(low+high)//2\n",
    "        \n",
    "        row = mid // m\n",
    "        col = mid % m\n",
    "        if(row*col-1== total_nums//2):\n",
    "            return arr[row][col]\n",
    "        if(row*col-1 < total_nums//2):\n",
    "            low=mid+1\n",
    "        else:\n",
    "            high= mid-1 \n",
    "               "
   ]
  },
  {
   "cell_type": "code",
   "execution_count": 19,
   "metadata": {},
   "outputs": [
    {
     "data": {
      "text/plain": [
       "29"
      ]
     },
     "execution_count": 19,
     "metadata": {},
     "output_type": "execute_result"
    }
   ],
   "source": [
    "matrix = [\n",
    "    [1, 2, 3, 4, 5],\n",
    "    [8, 9, 11, 12, 13],\n",
    "    [21, 23, 25, 27, 29]\n",
    "]\n",
    "opt_med(matrix)"
   ]
  },
  {
   "cell_type": "code",
   "execution_count": null,
   "metadata": {},
   "outputs": [
    {
     "name": "stdout",
     "output_type": "stream",
     "text": [
      "11\n"
     ]
    }
   ],
   "source": [
    "import bisect\n",
    "\n",
    "def count_smaller_or_equal(matrix, mid, n, m):\n",
    "    \"\"\" Count elements ≤ mid in the matrix \"\"\"\n",
    "    count = 0\n",
    "    for i in range(n):\n",
    "        count += bisect.bisect_right(matrix[i], mid)  # Upper bound search\n",
    "    return count\n",
    "\n",
    "def find_median(matrix):\n",
    "    n = len(matrix)\n",
    "    m = len(matrix[0])\n",
    "    \n",
    "    # Min value in matrix\n",
    "    low = matrix[0][0]\n",
    "    # Max value in matrix\n",
    "    high = matrix[n-1][m-1]\n",
    "    # the max element in the last row is not necessarily the largest in the matrix (because rows are sorted, but column-wise sorting is not guaranteed).\n",
    "    \n",
    "    while low <= high:\n",
    "        mid = (low + high) // 2\n",
    "        count = count_smaller_or_equal(matrix, mid, n, m)  # Count elements ≤ mid\n",
    "        \n",
    "        if count >= (n * m // 2) + 1:  # Median condition\n",
    "            high = mid - 1\n",
    "        else:\n",
    "            low = mid + 1\n",
    "    \n",
    "    return low  # The median\n",
    "\n",
    "# Test Case\n",
    "matrix = [\n",
    "    [1, 2, 3, 4, 5],\n",
    "    [8, 9, 11, 12, 13],\n",
    "    [21, 23, 25, 27, 29]\n",
    "]\n",
    "print(find_median(matrix))  # Output: 5\n"
   ]
  },
  {
   "cell_type": "code",
   "execution_count": 31,
   "metadata": {},
   "outputs": [
    {
     "name": "stdout",
     "output_type": "stream",
     "text": [
      "The median element is: 11\n"
     ]
    }
   ],
   "source": [
    "                                    \n",
    "def upperBound(arr, x, n):\n",
    "    low = 0\n",
    "    high = n - 1\n",
    "    ans = n\n",
    "\n",
    "    while low <= high:\n",
    "        mid = (low + high) // 2\n",
    "        # maybe an answer\n",
    "        if arr[mid] > x:\n",
    "            ans = mid\n",
    "            # look for a smaller index on the left\n",
    "            high = mid - 1\n",
    "        else:\n",
    "            low = mid + 1  # look on the right\n",
    "\n",
    "    return ans\n",
    "\n",
    "def countSmallEqual(matrix, m, n, x):\n",
    "    cnt = 0\n",
    "    for i in range(m):\n",
    "        cnt += upperBound(matrix[i], x, n)\n",
    "    return cnt\n",
    "\n",
    "def median(matrix,m,n):\n",
    "    \n",
    "    low = float('inf')\n",
    "    high = float('-inf')\n",
    "\n",
    "    # point low and high to the right elements\n",
    "    for i in range(m):\n",
    "        low = min(low, matrix[i][0])\n",
    "        high = max(high, matrix[i][n - 1])\n",
    "\n",
    "    req = (n * m) // 2\n",
    "    while low <= high:\n",
    "        mid = (low + high) // 2\n",
    "        smallEqual = countSmallEqual(matrix, m, n, mid)\n",
    "        if smallEqual <= req:\n",
    "            low = mid + 1\n",
    "        else:\n",
    "            high = mid - 1\n",
    "\n",
    "    return low\n",
    "\n",
    "if __name__ == \"__main__\":\n",
    "    matrix = [\n",
    "        [1, 2, 3, 4, 5],\n",
    "        [8, 9, 11, 12, 13],\n",
    "        [21, 23, 25, 27, 29]\n",
    "    ]\n",
    "    m = len(matrix)\n",
    "    n = len(matrix[0])\n",
    "    ans = median(matrix, m, n)\n",
    "    print(\"The median element is:\", ans)                      "
   ]
  },
  {
   "cell_type": "code",
   "execution_count": 36,
   "metadata": {},
   "outputs": [
    {
     "name": "stdout",
     "output_type": "stream",
     "text": [
      "The median element is: 11\n"
     ]
    }
   ],
   "source": [
    "import bisect\n",
    "\n",
    "def count_smaller_or_equal(matrix, mid, m, n):\n",
    "    \"\"\" Count elements ≤ mid in the matrix \"\"\"\n",
    "    count = 0\n",
    "    for i in range(m):\n",
    "        count += bisect.bisect_right(matrix[i], mid)  # Upper bound search\n",
    "    return count\n",
    "\n",
    "def median(matrix, m, n):\n",
    "    low = float('inf')\n",
    "    high = float('-inf')\n",
    "\n",
    "    # point low and high to the right elements\n",
    "    for i in range(m):\n",
    "        low = min(low, matrix[i][0])\n",
    "        high = max(high, matrix[i][n - 1])\n",
    "\n",
    "    req = (n * m) // 2\n",
    "    while low <= high:\n",
    "        mid = (low + high) // 2\n",
    "        smallEqual = count_smaller_or_equal(matrix, mid,m,n)\n",
    "        if smallEqual <= req:\n",
    "            low = mid + 1\n",
    "        else:\n",
    "            high = mid - 1\n",
    "\n",
    "    return low\n",
    "\n",
    "if __name__ == \"__main__\":\n",
    "    matrix = [\n",
    "        [1, 2, 3, 4, 5],\n",
    "        [8, 9, 11, 12, 13],\n",
    "        [21, 23, 25, 27, 29]\n",
    "    ]\n",
    "    m = len(matrix)\n",
    "    n = len(matrix[0])\n",
    "    ans = median(matrix, m, n)\n",
    "    print(\"The median element is:\", ans)     "
   ]
  }
 ],
 "metadata": {
  "kernelspec": {
   "display_name": "Python 3",
   "language": "python",
   "name": "python3"
  },
  "language_info": {
   "codemirror_mode": {
    "name": "ipython",
    "version": 3
   },
   "file_extension": ".py",
   "mimetype": "text/x-python",
   "name": "python",
   "nbconvert_exporter": "python",
   "pygments_lexer": "ipython3",
   "version": "3.13.0"
  }
 },
 "nbformat": 4,
 "nbformat_minor": 2
}
