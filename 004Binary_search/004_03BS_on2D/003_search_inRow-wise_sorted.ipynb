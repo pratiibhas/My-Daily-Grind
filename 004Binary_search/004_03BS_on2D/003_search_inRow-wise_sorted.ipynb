{
 "cells": [
  {
   "cell_type": "markdown",
   "metadata": {},
   "source": [
    "### Search in a row and column-wise sorted matrix"
   ]
  },
  {
   "cell_type": "markdown",
   "metadata": {},
   "source": [
    "### Brute force \n",
    "- same as previous question"
   ]
  },
  {
   "cell_type": "markdown",
   "metadata": {},
   "source": [
    "### Better approach"
   ]
  },
  {
   "cell_type": "code",
   "execution_count": 7,
   "metadata": {},
   "outputs": [
    {
     "name": "stdout",
     "output_type": "stream",
     "text": [
      "true\n"
     ]
    }
   ],
   "source": [
    "def binarySearch(nums, target):\n",
    "    low, high = 0, len(nums) - 1\n",
    "\n",
    "    while low <= high:\n",
    "        mid = (low + high) // 2\n",
    "        if nums[mid] == target:\n",
    "            return True\n",
    "        elif target > nums[mid]:\n",
    "            low = mid + 1\n",
    "        else:\n",
    "            high = mid - 1\n",
    "    return False\n",
    "\n",
    "def searchMatrix(matrix, target):\n",
    "    n = len(matrix)\n",
    "    \n",
    "    for i in range(n):\n",
    "        flag = binarySearch(matrix[i], target)\n",
    "        if flag:\n",
    "            return True\n",
    "    return False\n",
    "\n",
    "# Test case\n",
    "matrix = [\n",
    "    [1, 4, 7, 11, 15],\n",
    "    [2, 5, 8, 12, 19],\n",
    "    [3, 6, 9, 16, 22],\n",
    "    [10, 13, 14, 17, 24],\n",
    "    [18, 21, 23, 26, 30]\n",
    "]\n",
    "result = searchMatrix(matrix, 8)\n",
    "print(\"true\" if result else \"false\")  # Output: true\n"
   ]
  },
  {
   "cell_type": "markdown",
   "metadata": {},
   "source": [
    "### Optimal solution"
   ]
  },
  {
   "cell_type": "markdown",
   "metadata": {},
   "source": [
    "Observations:\n",
    "\n",
    "1. Cell (0, 0): Assume we are starting traversal from (0, 0) and we are searching for 14. Now, this row and column are both sorted in increasing order. So, we cannot determine, how to move i.e. row-wise or column-wise. That is why, we cannot start traversal from (0, 0).\n",
    "\n",
    "2. Cell (0, m-1): Assume we are starting traversal from (0, m-1) and we are searching for 14. Now, in this case, the row is in decreasing order and the column is in increasing order. Therefore, if we start traversal from (0, m-1), in the following way, we can easily determine how we should move.\n",
    "If matrix[0][m-1] > target: We should move row-wise.\n",
    "If matrix[0][m-1] < target: We need bigger elements and so we should move column-wise.\n",
    "\n",
    "3. Cell (n-1, m-1): Assume we are starting traversal from (n-1, m-1) and we are searching for 14. Now, this row and column are both sorted in decreasing order. So, we cannot determine, how to move i.e. row-wise or column-wise. That is why, we cannot start traversal from (n-1, m-1).\n",
    "\n",
    "4. Cell (n-1, 0): Assume we are starting traversal from (n-1, 0) and we are searching for 14. Now, in this case, the row is in increasing order and the column is in decreasing order. Therefore, if we start traversal from (n-1, 0), in the following way,  we can easily determine how we should move.\n",
    "If matrix[n-1][0] < target: We should move row-wise.\n",
    "If matrix[n-1][0] > target: We need smaller elements and so we should move column-wise.\n",
    "\n"
   ]
  },
  {
   "cell_type": "code",
   "execution_count": 12,
   "metadata": {},
   "outputs": [],
   "source": [
    "def searchElement(matrix, target):\n",
    "    n = len(matrix)\n",
    "    m = len(matrix[0])\n",
    "    row = 0\n",
    "    col = m - 1\n",
    "    \n",
    "    while row<n and col>=0:\n",
    "        if matrix[row][col]== target:\n",
    "            return True\n",
    "        if matrix[row][col]< target:\n",
    "            row+=1\n",
    "        else:\n",
    "            col-=1\n",
    "    return False             "
   ]
  },
  {
   "cell_type": "code",
   "execution_count": 13,
   "metadata": {},
   "outputs": [
    {
     "data": {
      "text/plain": [
       "True"
      ]
     },
     "execution_count": 13,
     "metadata": {},
     "output_type": "execute_result"
    }
   ],
   "source": [
    "matrix = [\n",
    "    [1, 4, 7, 11, 15],\n",
    "    [2, 5, 8, 12, 19],\n",
    "    [3, 6, 9, 16, 22],\n",
    "    [10, 13, 14, 17, 24],\n",
    "    [18, 21, 23, 26, 30]\n",
    "]\n",
    "searchElement(matrix, 26)"
   ]
  }
 ],
 "metadata": {
  "kernelspec": {
   "display_name": "Python 3",
   "language": "python",
   "name": "python3"
  },
  "language_info": {
   "codemirror_mode": {
    "name": "ipython",
    "version": 3
   },
   "file_extension": ".py",
   "mimetype": "text/x-python",
   "name": "python",
   "nbconvert_exporter": "python",
   "pygments_lexer": "ipython3",
   "version": "3.13.0"
  }
 },
 "nbformat": 4,
 "nbformat_minor": 2
}
