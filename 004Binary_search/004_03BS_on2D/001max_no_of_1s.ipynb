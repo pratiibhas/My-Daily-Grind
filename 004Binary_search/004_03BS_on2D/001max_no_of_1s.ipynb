{
 "cells": [
  {
   "cell_type": "markdown",
   "metadata": {},
   "source": [
    "### Row with max 1s\n"
   ]
  },
  {
   "cell_type": "markdown",
   "metadata": {},
   "source": [
    "### Brute force approach\n",
    "- Iterate form 1 row to next and count number of ones in each"
   ]
  },
  {
   "cell_type": "code",
   "execution_count": null,
   "metadata": {},
   "outputs": [],
   "source": [
    "def max_ones(arr,n,m): # n= no. of rows , m= no. of columns\n",
    "    max_one_count = 0\n",
    "    max_one_row=-1\n",
    "    \n",
    "    for i in range(n):\n",
    "        cnt=0\n",
    "        for j in range(m):\n",
    "            if (arr[i][j]==1):\n",
    "                cnt+=1\n",
    "            if cnt > max_one_count: # not equal to for cases when two rows have same number of 1s the minimum numbered row should be slected\n",
    "                max_one_count = cnt\n",
    "                max_one_row =i  \n",
    "    return  max_one_row                           "
   ]
  },
  {
   "cell_type": "code",
   "execution_count": 10,
   "metadata": {},
   "outputs": [
    {
     "data": {
      "text/plain": [
       "1"
      ]
     },
     "execution_count": 10,
     "metadata": {},
     "output_type": "execute_result"
    }
   ],
   "source": [
    "arr=[[0,0,1],[1,1,1],[0,1,1]]\n",
    "n=3\n",
    "m=3\n",
    "max_ones(arr,n,m)"
   ]
  },
  {
   "cell_type": "markdown",
   "metadata": {},
   "source": [
    "### Optimal solution (binary search)\n",
    "- since rows are sorted in ascending order, the outer loop will stay the same but we need to optimize counting the number of 1s"
   ]
  },
  {
   "cell_type": "markdown",
   "metadata": {},
   "source": [
    "**My Approach**"
   ]
  },
  {
   "cell_type": "code",
   "execution_count": null,
   "metadata": {},
   "outputs": [],
   "source": [
    "def max_ones_row(arr):\n",
    "    \n",
    "    n=len(arr)\n",
    "    m=len(arr[0])\n",
    "    \n",
    "    maxi_ones=0\n",
    "    ind= -1\n",
    "    for i in range(n):\n",
    "        start=0\n",
    "        end=n-1\n",
    "        \n",
    "        no_of_ones= m # no 1s was found , if we get to last index searching for 1 while going from 1st, hence visulaise ti like that\n",
    "        while(start<=end):\n",
    "            mid=(start+end)//2\n",
    "            if arr[i][mid]==1:\n",
    "               no_of_ones= mid\n",
    "               end=mid-1\n",
    "            else:   \n",
    "            \n",
    "                start=mid+1\n",
    "            ones_count = m - no_of_ones # Number of 1s in this row\n",
    "\n",
    "            if ones_count > maxi_ones:\n",
    "                maxi_ones = ones_count\n",
    "                ind = i    \n",
    "    return ind                \n",
    "                        "
   ]
  },
  {
   "cell_type": "code",
   "execution_count": 22,
   "metadata": {},
   "outputs": [
    {
     "data": {
      "text/plain": [
       "1"
      ]
     },
     "execution_count": 22,
     "metadata": {},
     "output_type": "execute_result"
    }
   ],
   "source": [
    "arr=[[0,0,1],[1,1,1],[0,1,1]]\n",
    "max_ones_row(arr)"
   ]
  },
  {
   "cell_type": "markdown",
   "metadata": {},
   "source": [
    "**Striver's Approach**"
   ]
  },
  {
   "cell_type": "code",
   "execution_count": 12,
   "metadata": {},
   "outputs": [],
   "source": [
    "def lowerBound(arr, n, x):\n",
    "    low = 0\n",
    "    high = n - 1\n",
    "    ans = n\n",
    "\n",
    "    while low <= high:\n",
    "        mid = (low + high) // 2\n",
    "        # maybe an answer\n",
    "        if arr[mid] >= x:\n",
    "            ans = mid\n",
    "            # look for smaller index on the left\n",
    "            high = mid - 1\n",
    "        else:\n",
    "            low = mid + 1  # look on the right\n",
    "    return ans\n",
    "\n",
    "def rowWithMax1s(matrix, n, m):\n",
    "    cnt_max = 0\n",
    "    index = -1\n",
    "\n",
    "    # traverse the rows:\n",
    "    for i in range(n):\n",
    "        # get the number of 1's:\n",
    "        cnt_ones = m - lowerBound(matrix[i], m, 1)\n",
    "        if cnt_ones > cnt_max:\n",
    "            cnt_max = cnt_ones\n",
    "            index = i\n",
    "    return index"
   ]
  },
  {
   "cell_type": "code",
   "execution_count": 14,
   "metadata": {},
   "outputs": [
    {
     "data": {
      "text/plain": [
       "2"
      ]
     },
     "execution_count": 14,
     "metadata": {},
     "output_type": "execute_result"
    }
   ],
   "source": [
    "arr=[[0,0,1],[0,0,0],[0,1,1]]\n",
    "n=3\n",
    "m=3\n",
    "rowWithMax1s(arr,n,m)"
   ]
  },
  {
   "cell_type": "markdown",
   "metadata": {},
   "source": []
  }
 ],
 "metadata": {
  "kernelspec": {
   "display_name": "Python 3",
   "language": "python",
   "name": "python3"
  },
  "language_info": {
   "codemirror_mode": {
    "name": "ipython",
    "version": 3
   },
   "file_extension": ".py",
   "mimetype": "text/x-python",
   "name": "python",
   "nbconvert_exporter": "python",
   "pygments_lexer": "ipython3",
   "version": "3.13.0"
  }
 },
 "nbformat": 4,
 "nbformat_minor": 2
}
