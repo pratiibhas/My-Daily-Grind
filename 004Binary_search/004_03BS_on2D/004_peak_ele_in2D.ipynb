{
 "cells": [
  {
   "cell_type": "markdown",
   "metadata": {},
   "source": [
    "### Find Peak Element (2D Matrix)"
   ]
  },
  {
   "cell_type": "markdown",
   "metadata": {},
   "source": [
    "### Brute force approach"
   ]
  },
  {
   "cell_type": "code",
   "execution_count": 7,
   "metadata": {},
   "outputs": [],
   "source": [
    "def findPeakGrid(mat):\n",
    "    n = len(mat)\n",
    "    m = len(mat[0])\n",
    "\n",
    "    for i in range(n):\n",
    "        for j in range(m):\n",
    "            # Check boundaries before accessing neighbors\n",
    "            top = mat[i-1][j] if i > 0 else float('-inf')\n",
    "            bottom = mat[i+1][j] if i < n-1 else float('-inf')\n",
    "            left = mat[i][j-1] if j > 0 else float('-inf')\n",
    "            right = mat[i][j+1] if j < m-1 else float('-inf')\n",
    "\n",
    "            # Check if current element is greater than all its neighbors\n",
    "            if mat[i][j] > top and mat[i][j] > bottom and mat[i][j] > left and mat[i][j] > right:\n",
    "                return [i, j]  # Return coordinates of peak\n",
    "\n",
    "    return [-1, -1]  # Return -1 if no peak is found (shouldn't happen)\n",
    "\n",
    "                "
   ]
  },
  {
   "cell_type": "code",
   "execution_count": 8,
   "metadata": {},
   "outputs": [
    {
     "data": {
      "text/plain": [
       "[0, 1]"
      ]
     },
     "execution_count": 8,
     "metadata": {},
     "output_type": "execute_result"
    }
   ],
   "source": [
    "mat = [[1,4],[3,2]]\n",
    "n=2\n",
    "m=2\n",
    "findPeakGrid(mat)"
   ]
  },
  {
   "cell_type": "markdown",
   "metadata": {},
   "source": [
    "### Optimal approach"
   ]
  },
  {
   "cell_type": "code",
   "execution_count": 25,
   "metadata": {},
   "outputs": [
    {
     "data": {
      "text/plain": [
       "2"
      ]
     },
     "execution_count": 25,
     "metadata": {},
     "output_type": "execute_result"
    }
   ],
   "source": [
    "def max_in_column(matrix, col_index):\n",
    "    max_value = float('-inf')\n",
    "    max_index = -1  # To store the row index of max value\n",
    "    for i in range(len(matrix)):  # Iterate over rows\n",
    "        if matrix[i][col_index] > max_value:\n",
    "            max_value = matrix[i][col_index]\n",
    "            max_index = i  # Update max index\n",
    "    return max_index\n",
    "mat = [\n",
    "    [2, 3],\n",
    "    [5, 6],\n",
    "    [1, 7]\n",
    "]\n",
    "max_in_column(mat, 1)"
   ]
  },
  {
   "cell_type": "code",
   "execution_count": null,
   "metadata": {},
   "outputs": [
    {
     "name": "stdout",
     "output_type": "stream",
     "text": [
      "[-1, -1]\n"
     ]
    }
   ],
   "source": [
    "def opt_peak(arr):\n",
    "    n = len(arr)\n",
    "    m = len(arr[0]) \n",
    "    start, end = 0, m - 1  # Binary search on columns\n",
    "\n",
    "    while start <= end:\n",
    "        mid = (start + end) // 2\n",
    "        row = max_in_column(arr, mid)  # Find row with max value in column `mid`\n",
    "\n",
    "        # Check boundary conditions before accessing neighbors\n",
    "        left = arr[row][mid - 1] if mid > 0 else float('-inf')\n",
    "        right = arr[row][mid + 1] if mid < m - 1 else float('-inf')\n",
    "        top = arr[row - 1][mid] if row > 0 else float('-inf')\n",
    "        bottom = arr[row + 1][mid] if row < n - 1 else float('-inf')\n",
    "\n",
    "        # Peak condition: greater than all neighbors\n",
    "        if arr[row][mid] > left and arr[row][mid] > right and arr[row][mid] > top and arr[row][mid] > bottom:\n",
    "            return [row, mid]  # Return peak element's position\n",
    "\n",
    "        # Move towards the larger neighbor\n",
    "        if right > arr[row][mid]:  \n",
    "            start = mid + 1  # Move right\n",
    "        else:\n",
    "            end = mid - 1  # Move left\n",
    "\n",
    "    return [-1, -1]  # No peak found\n",
    "\n",
    "# Example matrix\n",
    "mat = [\n",
    "    [19, 20, 15],\n",
    "    [20, 10, 44],\n",
    "    [7, 16, 32]\n",
    "]\n",
    "\n",
    "print(opt_peak(mat))  # Example output: [1,1] (Position of peak)\n"
   ]
  },
  {
   "cell_type": "code",
   "execution_count": 35,
   "metadata": {},
   "outputs": [
    {
     "name": "stdout",
     "output_type": "stream",
     "text": [
      "[1, 2]\n"
     ]
    }
   ],
   "source": [
    "mat = [\n",
    "    [10, 20, 15],\n",
    "    [20, 40, 44],\n",
    "    [27, 36, 32]\n",
    "]\n",
    "\n",
    "print(opt_peak(mat))  # Should return a valid peak position\n"
   ]
  }
 ],
 "metadata": {
  "kernelspec": {
   "display_name": "Python 3",
   "language": "python",
   "name": "python3"
  },
  "language_info": {
   "codemirror_mode": {
    "name": "ipython",
    "version": 3
   },
   "file_extension": ".py",
   "mimetype": "text/x-python",
   "name": "python",
   "nbconvert_exporter": "python",
   "pygments_lexer": "ipython3",
   "version": "3.13.0"
  }
 },
 "nbformat": 4,
 "nbformat_minor": 2
}
