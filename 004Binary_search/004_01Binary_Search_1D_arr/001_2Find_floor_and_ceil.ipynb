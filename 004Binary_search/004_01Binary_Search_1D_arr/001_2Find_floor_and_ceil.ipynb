{
 "cells": [
  {
   "cell_type": "markdown",
   "metadata": {},
   "source": [
    "### Floor and Ceil in Sorted Array"
   ]
  },
  {
   "cell_type": "code",
   "execution_count": 1,
   "metadata": {},
   "outputs": [
    {
     "name": "stdout",
     "output_type": "stream",
     "text": [
      "The floor and ceil are: 4 7\n"
     ]
    }
   ],
   "source": [
    "def findFloor(arr, n, x):\n",
    "    low = 0\n",
    "    high = n - 1\n",
    "    ans = -1\n",
    "\n",
    "    while low <= high:\n",
    "        mid = (low + high) // 2\n",
    "        # maybe an answer\n",
    "        if arr[mid] <= x:\n",
    "            ans = arr[mid]\n",
    "            # look for smaller index on the left\n",
    "            low = mid + 1\n",
    "        else:\n",
    "            high = mid - 1  # look on the right\n",
    "\n",
    "    return ans\n",
    "\n",
    "\n",
    "def findCeil(arr, n, x):\n",
    "    low = 0\n",
    "    high = n - 1\n",
    "    ans = -1\n",
    "\n",
    "    while low <= high:\n",
    "        mid = (low + high) // 2\n",
    "        # maybe an answer\n",
    "        if arr[mid] >= x:\n",
    "            ans = arr[mid]\n",
    "            # look for smaller index on the left\n",
    "            high = mid - 1\n",
    "        else:\n",
    "            low = mid + 1  # look on the right\n",
    "\n",
    "    return ans\n",
    "\n",
    "\n",
    "def getFloorAndCeil(arr, n, x):\n",
    "    f = findFloor(arr, n, x)\n",
    "    c = findCeil(arr, n, x)\n",
    "    return (f, c)\n",
    "\n",
    "\n",
    "arr = [3, 4, 4, 7, 8, 10]\n",
    "n = 6\n",
    "x = 5\n",
    "ans = getFloorAndCeil(arr, n, x)\n",
    "print(\"The floor and ceil are:\", ans[0], ans[1])"
   ]
  }
 ],
 "metadata": {
  "kernelspec": {
   "display_name": "Python 3",
   "language": "python",
   "name": "python3"
  },
  "language_info": {
   "codemirror_mode": {
    "name": "ipython",
    "version": 3
   },
   "file_extension": ".py",
   "mimetype": "text/x-python",
   "name": "python",
   "nbconvert_exporter": "python",
   "pygments_lexer": "ipython3",
   "version": "3.13.0"
  }
 },
 "nbformat": 4,
 "nbformat_minor": 2
}
