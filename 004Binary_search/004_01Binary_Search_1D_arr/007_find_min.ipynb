{
 "cells": [
  {
   "cell_type": "markdown",
   "metadata": {},
   "source": [
    "### Minimum in Rotated array"
   ]
  },
  {
   "cell_type": "code",
   "execution_count": 5,
   "metadata": {},
   "outputs": [
    {
     "name": "stdout",
     "output_type": "stream",
     "text": [
      "The minimum element is: 0\n"
     ]
    }
   ],
   "source": [
    "import sys\n",
    "def findMin(arr: int):\n",
    "    low = 0\n",
    "    high = len(arr) - 1\n",
    "    ans = sys.maxsize\n",
    "\n",
    "    while low <= high:\n",
    "        mid = (low + high) // 2\n",
    "\n",
    "        if arr[low] <= arr[mid]:  # if left part is sorted\n",
    "            ans = min(ans, arr[low])  # keep the minimum\n",
    "            low = mid + 1  # eliminate left half\n",
    "            \n",
    "        else:  # if right part is sorted\n",
    "            ans = min(ans, arr[mid])  # keep the minimum\n",
    "            high = mid - 1  # eliminate right half\n",
    "\n",
    "    return ans\n",
    "\n",
    "if __name__ == \"__main__\":\n",
    "    arr = [4, 5, 6, 7, 0, 1, 2, 3]\n",
    "    ans = findMin(arr)\n",
    "    print(\"The minimum element is:\", ans)"
   ]
  },
  {
   "cell_type": "code",
   "execution_count": null,
   "metadata": {},
   "outputs": [
    {
     "name": "stdout",
     "output_type": "stream",
     "text": [
      "The minimum element is: 0\n"
     ]
    }
   ],
   "source": [
    "import sys\n",
    "def findMin(arr: int):\n",
    "    low = 0\n",
    "    high = len(arr) - 1\n",
    "    ans = sys.maxsize\n",
    "\n",
    "    while low <= high:\n",
    "        mid = (low + high) // 2\n",
    "        if arr[low] <= arr[high]:\n",
    "            ans = min(ans, arr[low])\n",
    "            break\n",
    "            \n",
    "        if arr[low] <= arr[mid]:  # if left part is sorted\n",
    "            ans = min(ans, arr[low])  # keep the minimum\n",
    "            low = mid + 1  # eliminate left half\n",
    "\n",
    "        else:  # if right part is sorted\n",
    "            ans = min(ans, arr[mid])  # keep the minimum\n",
    "            high = mid - 1  # eliminate right half\n",
    "\n",
    "    return ans\n",
    "\n",
    "if __name__ == \"__main__\":\n",
    "    arr = [4, 5, 6, 7, 0, 1, 2, 3]\n",
    "    ans = findMin(arr)\n",
    "    print(\"The minimum element is:\", ans)"
   ]
  }
 ],
 "metadata": {
  "kernelspec": {
   "display_name": "Python 3",
   "language": "python",
   "name": "python3"
  },
  "language_info": {
   "codemirror_mode": {
    "name": "ipython",
    "version": 3
   },
   "file_extension": ".py",
   "mimetype": "text/x-python",
   "name": "python",
   "nbconvert_exporter": "python",
   "pygments_lexer": "ipython3",
   "version": "3.13.0"
  }
 },
 "nbformat": 4,
 "nbformat_minor": 2
}
