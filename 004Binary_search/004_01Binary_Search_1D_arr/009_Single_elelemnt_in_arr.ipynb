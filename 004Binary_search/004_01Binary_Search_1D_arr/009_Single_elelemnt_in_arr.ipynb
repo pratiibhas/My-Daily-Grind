{
 "cells": [
  {
   "cell_type": "markdown",
   "metadata": {},
   "source": [
    "### Search Single Element in a sorted array"
   ]
  },
  {
   "cell_type": "code",
   "execution_count": null,
   "metadata": {},
   "outputs": [],
   "source": [
    "def singleNonDuplicate(arr):\n",
    "    n = len(arr)  # Size of the array\n",
    "    if n == 1:\n",
    "        return arr[0]\n",
    "\n",
    "    for i in range(n):\n",
    "        # Check for first index\n",
    "        if i == 0:\n",
    "            if arr[i] != arr[i + 1]:\n",
    "                return arr[i]\n",
    "        # Check for last index\n",
    "        elif i == n - 1:\n",
    "            if arr[i] != arr[i - 1]:\n",
    "                return arr[i]\n",
    "        else:\n",
    "            if arr[i] != arr[i - 1] and arr[i] != arr[i + 1]:\n",
    "                return arr[i]\n",
    "\n",
    "    # Dummy return statement\n",
    "    return -1\n",
    "\n",
    "arr = [1, 1, 2, 2, 3, 3, 4, 5, 5, 6, 6]\n",
    "ans = singleNonDuplicate(arr)\n",
    "print(\"The single element is:\", ans)"
   ]
  },
  {
   "cell_type": "markdown",
   "metadata": {},
   "source": [
    "### Brute force "
   ]
  },
  {
   "cell_type": "code",
   "execution_count": null,
   "metadata": {},
   "outputs": [
    {
     "name": "stdout",
     "output_type": "stream",
     "text": [
      "The single element is: 4\n"
     ]
    }
   ],
   "source": [
    "def singleNonDuplicate(arr):\n",
    "    n = len(arr)  # Size of the array\n",
    "    ans = 0\n",
    "    # XOR all the elements\n",
    "    for i in range(n):\n",
    "        ans = ans ^ arr[i]\n",
    "    return ans\n",
    "\n",
    "arr = [1, 1, 2, 2, 3, 3, 4, 5, 5, 6, 6]\n",
    "ans = singleNonDuplicate(arr)\n",
    "print(\"The single element is:\", ans)"
   ]
  },
  {
   "cell_type": "markdown",
   "metadata": {},
   "source": [
    "### Optimal approach"
   ]
  },
  {
   "cell_type": "code",
   "execution_count": 2,
   "metadata": {},
   "outputs": [
    {
     "name": "stdout",
     "output_type": "stream",
     "text": [
      "The single element is: 4\n"
     ]
    }
   ],
   "source": [
    "def singleNonDuplicate(arr):\n",
    "    n = len(arr)  # Size of the array\n",
    "\n",
    "    # Edge cases:\n",
    "    if n == 1:\n",
    "        return arr[0]\n",
    "    if arr[0] != arr[1]:\n",
    "        return arr[0]\n",
    "    if arr[n - 1] != arr[n - 2]:\n",
    "        return arr[n - 1]\n",
    "\n",
    "    low = 1\n",
    "    high = n - 2\n",
    "    while low <= high:\n",
    "        mid = (low + high) // 2\n",
    "\n",
    "        # If arr[mid] is the single element:\n",
    "        if arr[mid] != arr[mid + 1] and arr[mid] != arr[mid - 1]:\n",
    "            return arr[mid]\n",
    "\n",
    "        # We are in the left:\n",
    "        if (mid % 2 == 1 and arr[mid] == arr[mid - 1]) or (mid % 2 == 0 and arr[mid] == arr[mid + 1]):\n",
    "            # Eliminate the left half:\n",
    "            low = mid + 1\n",
    "        # We are in the right:\n",
    "        else:\n",
    "            # Eliminate the right half:\n",
    "            high = mid - 1\n",
    "\n",
    "    # Dummy return statement:\n",
    "    return -1\n",
    "\n",
    "arr = [1, 1, 2, 2, 3, 3, 4, 5, 5, 6, 6]\n",
    "ans = singleNonDuplicate(arr)\n",
    "print(\"The single element is:\", ans)"
   ]
  }
 ],
 "metadata": {
  "kernelspec": {
   "display_name": "Python 3",
   "language": "python",
   "name": "python3"
  },
  "language_info": {
   "codemirror_mode": {
    "name": "ipython",
    "version": 3
   },
   "file_extension": ".py",
   "mimetype": "text/x-python",
   "name": "python",
   "nbconvert_exporter": "python",
   "pygments_lexer": "ipython3",
   "version": "3.13.0"
  }
 },
 "nbformat": 4,
 "nbformat_minor": 2
}
