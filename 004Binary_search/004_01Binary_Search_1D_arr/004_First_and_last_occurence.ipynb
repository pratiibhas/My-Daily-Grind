{
 "cells": [
  {
   "cell_type": "markdown",
   "metadata": {},
   "source": [
    "### Find First and Last Position of Element in Sorted Array"
   ]
  },
  {
   "cell_type": "code",
   "execution_count": null,
   "metadata": {},
   "outputs": [],
   "source": [
    "def searchRange(nums, target: int):\n",
    "        start = -1\n",
    "        end = -1\n",
    "        for i in range(len(nums)):\n",
    "           \n",
    "            if start==-1 and (nums[i]==target):\n",
    "                start=i\n",
    "            if (nums[i]==target) and end<i:\n",
    "                end=i\n",
    "        return start,end    \n",
    "     "
   ]
  },
  {
   "cell_type": "code",
   "execution_count": null,
   "metadata": {},
   "outputs": [
    {
     "data": {
      "text/plain": [
       "(3, 9)"
      ]
     },
     "execution_count": 3,
     "metadata": {},
     "output_type": "execute_result"
    }
   ],
   "source": [
    "nums=[2,4,5,6,7,2,6,3,1,6]\n",
    "searchRange(nums, 6)"
   ]
  },
  {
   "cell_type": "markdown",
   "metadata": {},
   "source": [
    "### Optimal Approach"
   ]
  },
  {
   "cell_type": "code",
   "execution_count": 4,
   "metadata": {},
   "outputs": [
    {
     "name": "stdout",
     "output_type": "stream",
     "text": [
      "4\n"
     ]
    }
   ],
   "source": [
    "def solve(n, key, v):\n",
    "    start = 0\n",
    "    end = n - 1\n",
    "    res = -1\n",
    "\n",
    "    while start <= end:\n",
    "        mid = start + (end - start) // 2\n",
    "        if v[mid] == key:\n",
    "            res = mid\n",
    "            start = mid + 1  # Move right to find the last occurrence\n",
    "        elif key < v[mid]:\n",
    "            end = mid - 1\n",
    "        else:\n",
    "            start = mid + 1\n",
    "\n",
    "    return res\n",
    "\n",
    "# Example usage\n",
    "n = 7\n",
    "key = 13\n",
    "v = [3, 4, 13, 13, 13, 20, 40]\n",
    "\n",
    "# Returning the last occurrence index if the element is present, otherwise -1\n",
    "print(solve(n, key, v))\n"
   ]
  }
 ],
 "metadata": {
  "kernelspec": {
   "display_name": "Python 3",
   "language": "python",
   "name": "python3"
  },
  "language_info": {
   "codemirror_mode": {
    "name": "ipython",
    "version": 3
   },
   "file_extension": ".py",
   "mimetype": "text/x-python",
   "name": "python",
   "nbconvert_exporter": "python",
   "pygments_lexer": "ipython3",
   "version": "3.13.0"
  }
 },
 "nbformat": 4,
 "nbformat_minor": 2
}
