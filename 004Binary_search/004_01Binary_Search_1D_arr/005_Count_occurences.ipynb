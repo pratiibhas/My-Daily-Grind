{
 "cells": [
  {
   "cell_type": "markdown",
   "metadata": {},
   "source": [
    "### Number of occurrence\n"
   ]
  },
  {
   "cell_type": "markdown",
   "metadata": {},
   "source": [
    "### Optimal approach"
   ]
  },
  {
   "cell_type": "code",
   "execution_count": null,
   "metadata": {},
   "outputs": [],
   "source": [
    "def countFreq( nums, target):\n",
    "        start = -1\n",
    "        end = -1\n",
    "        for i in range(len(nums)):\n",
    "           \n",
    "            if start==-1 and (nums[i]==target):\n",
    "                start=i\n",
    "            if (nums[i]==target) and end<i:\n",
    "                end=i\n",
    "        if (start==-1):\n",
    "            start=0\n",
    "        return end-start+1    "
   ]
  },
  {
   "cell_type": "code",
   "execution_count": 1,
   "metadata": {},
   "outputs": [
    {
     "name": "stdout",
     "output_type": "stream",
     "text": [
      "The number of occurrences is: 3\n"
     ]
    }
   ],
   "source": [
    "\n",
    "def firstOccurrence(arr, n, k):\n",
    "    low = 0\n",
    "    high = n - 1\n",
    "    first = -1\n",
    "\n",
    "    while low <= high:\n",
    "        mid = (low + high) // 2\n",
    "        # maybe an answer\n",
    "        if arr[mid] == k:\n",
    "            first = mid\n",
    "            # look for smaller index on the left\n",
    "            high = mid - 1\n",
    "        elif arr[mid] < k:\n",
    "            low = mid + 1  # look on the right\n",
    "        else:\n",
    "            high = mid - 1  # look on the left\n",
    "\n",
    "    return first\n",
    "\n",
    "\n",
    "def lastOccurrence(arr, n, k):\n",
    "    low = 0\n",
    "    high = n - 1\n",
    "    last = -1\n",
    "\n",
    "    while low <= high:\n",
    "        mid = (low + high) // 2\n",
    "        # maybe an answer\n",
    "        if arr[mid] == k:\n",
    "            last = mid\n",
    "            # look for larger index on the right\n",
    "            low = mid + 1\n",
    "        elif arr[mid] < k:\n",
    "            low = mid + 1  # look on the right\n",
    "        else:\n",
    "            high = mid - 1  # look on the left\n",
    "\n",
    "    return last\n",
    "\n",
    "\n",
    "def firstAndLastPosition(arr, n, k):\n",
    "    first = firstOccurrence(arr, n, k)\n",
    "    if first == -1:\n",
    "        return (-1, -1)\n",
    "    last = lastOccurrence(arr, n, k)\n",
    "    return (first, last)\n",
    "\n",
    "def count(arr, n: int, x: int) -> int:\n",
    "    first, last = firstAndLastPosition(arr, n, x)\n",
    "    if first == -1:\n",
    "        return 0\n",
    "    return last - first + 1\n",
    "\n",
    "if __name__ == \"__main__\":\n",
    "    arr = [2, 4, 6, 8, 8, 8, 11, 13]\n",
    "    n = 8\n",
    "    x = 8\n",
    "    ans = count(arr, n, x)\n",
    "    print(\"The number of occurrences is:\", ans)\n"
   ]
  },
  {
   "cell_type": "markdown",
   "metadata": {},
   "source": []
  }
 ],
 "metadata": {
  "kernelspec": {
   "display_name": "Python 3",
   "language": "python",
   "name": "python3"
  },
  "language_info": {
   "codemirror_mode": {
    "name": "ipython",
    "version": 3
   },
   "file_extension": ".py",
   "mimetype": "text/x-python",
   "name": "python",
   "nbconvert_exporter": "python",
   "pygments_lexer": "ipython3",
   "version": "3.13.0"
  }
 },
 "nbformat": 4,
 "nbformat_minor": 2
}
