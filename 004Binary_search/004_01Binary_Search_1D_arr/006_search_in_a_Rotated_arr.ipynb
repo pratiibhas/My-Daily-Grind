{
 "cells": [
  {
   "cell_type": "markdown",
   "metadata": {},
   "source": [
    "### Search Element in a Rotated Sorted Array"
   ]
  },
  {
   "cell_type": "code",
   "execution_count": null,
   "metadata": {},
   "outputs": [],
   "source": [
    "def search(arr, n, k):\n",
    "    for i in range(n):\n",
    "        if arr[i] == k:\n",
    "            return i\n",
    "    return -1\n",
    "\n",
    "if __name__ == \"__main__\":\n",
    "    arr = [7, 8, 9, 1, 2, 3, 4, 5, 6]\n",
    "    n = 9\n",
    "    k = 1\n",
    "    ans = search(arr, n, k)\n",
    "    if ans == -1:\n",
    "        print(\"Target is not present.\")\n",
    "    else:\n",
    "        print(\"The index is:\", ans)"
   ]
  },
  {
   "cell_type": "code",
   "execution_count": null,
   "metadata": {},
   "outputs": [],
   "source": [
    "\n",
    "def search(arr, n, k):\n",
    "    low = 0\n",
    "    high = n - 1\n",
    "    while low <= high:\n",
    "        mid = (low + high) // 2\n",
    "\n",
    "        # if mid points the target\n",
    "        if arr[mid] == k:\n",
    "            return mid\n",
    "\n",
    "        # if left part is sorted\n",
    "        if arr[low] <= arr[mid]:\n",
    "            if arr[low] <= k and k <= arr[mid]:\n",
    "                # element exists\n",
    "                high = mid - 1\n",
    "            else:\n",
    "                # element does not exist\n",
    "                low = mid + 1\n",
    "        else:  # if right part is sorted\n",
    "            if arr[mid] <= k and k <= arr[high]:\n",
    "                # element exists\n",
    "                low = mid + 1\n",
    "            else:\n",
    "                # element does not exist\n",
    "                high = mid - 1\n",
    "    return -1\n",
    "\n",
    "if __name__ == \"__main__\":\n",
    "    arr = [7, 8, 9, 1, 2, 3, 4, 5, 6]\n",
    "    n = 9\n",
    "    k = 1\n",
    "    ans = search(arr, n, k)\n",
    "    if ans == -1:\n",
    "        print(\"Target is not present.\")\n",
    "    else:\n",
    "        print(\"The index is:\", ans)\n",
    "\n"
   ]
  }
 ],
 "metadata": {
  "kernelspec": {
   "display_name": "Python 3",
   "language": "python",
   "name": "python3"
  },
  "language_info": {
   "name": "python",
   "version": "3.13.0"
  }
 },
 "nbformat": 4,
 "nbformat_minor": 2
}
