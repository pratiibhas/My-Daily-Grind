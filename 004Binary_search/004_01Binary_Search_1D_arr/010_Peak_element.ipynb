{
 "cells": [
  {
   "cell_type": "markdown",
   "metadata": {},
   "source": [
    "### Find Peak Element"
   ]
  },
  {
   "cell_type": "markdown",
   "metadata": {},
   "source": [
    "peak element is an element that is strictly greater than its neighbors.\n",
    "\n",
    "Given a 0-indexed integer array nums, find a peak element, and return its index. If the array contains multiple peaks, return the index to any of the peaks"
   ]
  },
  {
   "cell_type": "code",
   "execution_count": null,
   "metadata": {},
   "outputs": [],
   "source": [
    "def peak_element(arr,n):  #  if want the element that is required as output\n",
    "    ans=arr[0]\n",
    "    for i in range(n):\n",
    "        if (arr[i]==0 or arr[i-1]<arr[i]) and (arr[i]==n-1 or arr[i+1]<arr[i]):\n",
    "            ans= arr[i]\n",
    "    return ans        "
   ]
  },
  {
   "cell_type": "code",
   "execution_count": 2,
   "metadata": {},
   "outputs": [
    {
     "data": {
      "text/plain": [
       "7"
      ]
     },
     "execution_count": 2,
     "metadata": {},
     "output_type": "execute_result"
    }
   ],
   "source": [
    "arr=[3,4,5,6,7,2,1]\n",
    "peak_element(arr,len(arr))"
   ]
  },
  {
   "cell_type": "code",
   "execution_count": 3,
   "metadata": {},
   "outputs": [],
   "source": [
    "def peak_element(arr,n):  #  o/p index number\n",
    "    \n",
    "    for i in range(n):\n",
    "        if (arr[i]==0 or arr[i-1]<arr[i]) and (arr[i]==n-1 or arr[i+1]<arr[i]):\n",
    "            return i\n",
    "           "
   ]
  },
  {
   "cell_type": "markdown",
   "metadata": {},
   "source": [
    "### Optimal Approach (binary search)"
   ]
  },
  {
   "cell_type": "code",
   "execution_count": 13,
   "metadata": {},
   "outputs": [],
   "source": [
    "def opt_peak_ele(arr,n):\n",
    "    start=1\n",
    "    end=n-2\n",
    "    if n==1:\n",
    "        return 0\n",
    "    if arr[0]>arr[1]:\n",
    "        return 0\n",
    "    if arr[n-1]>arr[n-2]:\n",
    "        return n-1\n",
    "    \n",
    "    while(start<=end):\n",
    "        mid=(start+end)//2\n",
    "        if (arr[mid]>arr[mid-1] and arr[mid]>arr[mid+1]):\n",
    "            return mid\n",
    "        if arr[mid]>arr[mid-1]:\n",
    "            start=mid+1\n",
    "        else:\n",
    "            end=mid-1\n",
    "    return -1        \n",
    "                   "
   ]
  },
  {
   "cell_type": "code",
   "execution_count": null,
   "metadata": {},
   "outputs": [
    {
     "data": {
      "text/plain": [
       "4"
      ]
     },
     "execution_count": 14,
     "metadata": {},
     "output_type": "execute_result"
    }
   ],
   "source": [
    "arr=[3,4,5,6,7,2,1] # returning index with peak eleement\n",
    "opt_peak_ele(arr,len(arr))"
   ]
  }
 ],
 "metadata": {
  "kernelspec": {
   "display_name": "Python 3",
   "language": "python",
   "name": "python3"
  },
  "language_info": {
   "codemirror_mode": {
    "name": "ipython",
    "version": 3
   },
   "file_extension": ".py",
   "mimetype": "text/x-python",
   "name": "python",
   "nbconvert_exporter": "python",
   "pygments_lexer": "ipython3",
   "version": "3.13.0"
  }
 },
 "nbformat": 4,
 "nbformat_minor": 2
}
