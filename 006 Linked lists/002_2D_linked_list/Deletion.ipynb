{
 "cells": [
  {
   "cell_type": "code",
   "execution_count": 33,
   "id": "e6a90b1c",
   "metadata": {},
   "outputs": [],
   "source": [
    "class Node:\n",
    "    def __init__(self, data=None, next=None, prev=None):\n",
    "        self.data = data\n",
    "        self.next = next\n",
    "        self.prev = prev\n",
    "        \n",
    "class DoublyLinkedList():    \n",
    "    def __init__(self):\n",
    "        self.head=None\n",
    "        \n",
    "    def print_forward(self):\n",
    "        if self.head is None:\n",
    "            print(\"Linked list is empty\")\n",
    "            return\n",
    "        itr=self.head\n",
    "        llstr=' '\n",
    "        while itr:\n",
    "            llstr +=str(itr.data)+'--->'\n",
    "            itr= itr.next \n",
    "        print(llstr)\n",
    "        \n",
    "    def deleteHead(self):  \n",
    "        if self.head is None:\n",
    "            return None \n",
    "        if self.head.next is None:\n",
    "            self.head = None  \n",
    "          \n",
    "        self.head= self.head.next\n",
    "        self.head.prev=None\n",
    "        return self.head\n",
    "    \n",
    "    def deleteTail(self): \n",
    "        if self.head is None:\n",
    "            return None \n",
    "        if self.head.next is None:\n",
    "            self.head = None \n",
    "            return \n",
    "        \n",
    "        temp = self.head\n",
    "        while temp.next.next:\n",
    "            temp = temp.next  \n",
    "        \n",
    "        temp.next = None\n",
    "        return self.print_forward()\n",
    "    \n",
    "    def delete_k(self,k):\n",
    "        temp= self.head\n",
    "        if k==1:\n",
    "            return self.deleteHead()\n",
    "        if temp.next is None:\n",
    "            return self.deleteTail()\n",
    "        l=1   \n",
    "        while temp and temp.next:\n",
    "            if l== k-1:\n",
    "                if temp.next.next:\n",
    "                    temp.next = temp.next.next\n",
    "                    temp.next.prev = temp\n",
    "                \n",
    "                return self.print_forward()\n",
    "            l+=1   \n",
    "            temp= temp.next     "
   ]
  },
  {
   "cell_type": "code",
   "execution_count": 32,
   "id": "fccfeb2c",
   "metadata": {},
   "outputs": [
    {
     "name": "stdout",
     "output_type": "stream",
     "text": [
      " 10--->30--->60--->\n",
      "10\n"
     ]
    }
   ],
   "source": [
    "dll = DoublyLinkedList()\n",
    "dll.head = Node(10)\n",
    "second = Node(40)\n",
    "third = Node(30)\n",
    "fourth= Node(60)\n",
    "\n",
    "dll.head.next = second\n",
    "second.prev = dll.head\n",
    "second.next = third\n",
    "third.prev = second\n",
    "third.next = fourth\n",
    "fourth.prev= third\n",
    "\n",
    "# Delete head\n",
    "# dll.deleteHead()\n",
    "#dll.deleteTail()\n",
    "dll.delete_k(2)\n",
    "# Now the head should be 20\n",
    "print(dll.head.data)  # Output: 20\n"
   ]
  }
 ],
 "metadata": {
  "kernelspec": {
   "display_name": "Python 3",
   "language": "python",
   "name": "python3"
  },
  "language_info": {
   "codemirror_mode": {
    "name": "ipython",
    "version": 3
   },
   "file_extension": ".py",
   "mimetype": "text/x-python",
   "name": "python",
   "nbconvert_exporter": "python",
   "pygments_lexer": "ipython3",
   "version": "3.13.0"
  }
 },
 "nbformat": 4,
 "nbformat_minor": 5
}
