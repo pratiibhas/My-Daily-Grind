{
 "cells": [
  {
   "cell_type": "markdown",
   "id": "3a3cafd0",
   "metadata": {},
   "source": [
    "## Design a browser history\n",
    "- browser(homepage)\n",
    "- visit (url)\n",
    "- back (steps)\n",
    "- forward(steps)"
   ]
  },
  {
   "cell_type": "markdown",
   "id": "e39b16a4",
   "metadata": {},
   "source": [
    "Queries:\n",
    "- homepage (tuf.org)\n",
    "- visit(google.com)\n",
    "- visit(instagram.com)\n",
    "- visit(facebook.com)\n",
    "- back(1)\n",
    "- back(1)\n",
    "- forward(1)\n",
    "- visit(tuf.org)\n",
    "- forward(2)\n",
    "- back(2)\n",
    "- back(2)"
   ]
  },
  {
   "cell_type": "code",
   "execution_count": 2,
   "id": "9ebf4cf7",
   "metadata": {},
   "outputs": [],
   "source": [
    "class Node:\n",
    "    def __init__(self, url):\n",
    "        self.url = url\n",
    "        self.prev = None\n",
    "        self.next = None\n",
    "\n",
    "class BrowserHistory:\n",
    "    def __init__(self, homepage):\n",
    "        self.current = Node(homepage)\n",
    "\n",
    "    def visit(self, url):\n",
    "        new_node = Node(url)\n",
    "        self.current.next = None  # Clear forward history\n",
    "        new_node.prev = self.current\n",
    "        self.current.next = new_node\n",
    "        self.current = new_node\n",
    "\n",
    "    def back(self, steps):\n",
    "        while steps > 0 and self.current.prev:\n",
    "            self.current = self.current.prev\n",
    "            steps -= 1\n",
    "        return self.current.url\n",
    "\n",
    "    def forward(self, steps):\n",
    "        while steps > 0 and self.current.next:\n",
    "            self.current = self.current.next\n",
    "            steps -= 1\n",
    "        return self.current.url\n",
    "\n",
    "    def print_history(self):\n",
    "        temp = self.current\n",
    "        # Go to the beginning\n",
    "        while temp.prev:\n",
    "            temp = temp.prev\n",
    "\n",
    "        history = []\n",
    "        while temp:\n",
    "            marker = \"<- You are here\" if temp == self.current else \"\"\n",
    "            history.append(f\"{temp.url} {marker}\")\n",
    "            temp = temp.next\n",
    "        print(\"\\n\".join(history))\n"
   ]
  },
  {
   "cell_type": "code",
   "execution_count": 3,
   "id": "40f7f4c9",
   "metadata": {},
   "outputs": [
    {
     "name": "stdout",
     "output_type": "stream",
     "text": [
      "\n",
      "Final browsing history:\n",
      "tuf.org <- You are here\n",
      "google.com \n",
      "instagram.com \n",
      "tuf.org \n"
     ]
    }
   ],
   "source": [
    "bh = BrowserHistory(\"tuf.org\")         # homepage\n",
    "bh.visit(\"google.com\")\n",
    "bh.visit(\"instagram.com\")\n",
    "bh.visit(\"facebook.com\")\n",
    "bh.back(1)                             # should take you to instagram.com\n",
    "bh.back(1)                             # should take you to google.com\n",
    "bh.forward(1)                          # should take you to instagram.com\n",
    "bh.visit(\"tuf.org\")                    # forward history is cleared\n",
    "bh.forward(2)                          # should stay at tuf.org\n",
    "bh.back(2)                             # should go back to google.com\n",
    "bh.back(2)                             # should go back to tuf.org (homepage)\n",
    "\n",
    "print(\"\\nFinal browsing history:\")\n",
    "bh.print_history()\n"
   ]
  }
 ],
 "metadata": {
  "kernelspec": {
   "display_name": "Python 3",
   "language": "python",
   "name": "python3"
  },
  "language_info": {
   "codemirror_mode": {
    "name": "ipython",
    "version": 3
   },
   "file_extension": ".py",
   "mimetype": "text/x-python",
   "name": "python",
   "nbconvert_exporter": "python",
   "pygments_lexer": "ipython3",
   "version": "3.13.0"
  }
 },
 "nbformat": 4,
 "nbformat_minor": 5
}
