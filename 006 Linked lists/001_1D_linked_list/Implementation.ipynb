{
 "cells": [
  {
   "cell_type": "markdown",
   "metadata": {},
   "source": [
    "### 1D Linked List and basic operations"
   ]
  },
  {
   "cell_type": "code",
   "execution_count": null,
   "metadata": {},
   "outputs": [],
   "source": [
    "class Node:\n",
    "    def __init__(self,data=None,next=None):\n",
    "        self.data= data\n",
    "        self.next =next\n",
    "class LinkedLists:\n",
    "    def __init__(self):\n",
    "        self.head=None\n",
    "        \n",
    "    def InsertAtBeginning(self,data): \n",
    "        node=Node(data,self.head)\n",
    "        self.head=node\n",
    "          \n",
    "        \n",
    "    def get_length(self):\n",
    "        count=0\n",
    "        itr=self.head\n",
    "        while itr:\n",
    "            count+=1\n",
    "            itr=itr.next\n",
    "            \n",
    "        return count    \n",
    "        \n",
    "    def InsertAtEnd(self,data): \n",
    "        if self.head is None:\n",
    "            self.head= Node(data,None)\n",
    "            return\n",
    "        itr=self.head\n",
    "        while(itr.next):\n",
    "            itr=itr.next\n",
    "        itr.next = Node(data,None) \n",
    "        \n",
    "    def insert_values(self,data_lists):\n",
    "        self.head=None \n",
    "        for data in data_lists:\n",
    "            self.InsertAtEnd(data)    \n",
    "    \n",
    "    def remove_at(self,ind):\n",
    "        if(ind<0 or ind >=self.get_length()):\n",
    "            raise Exception(\"INVALID INDEX\")\n",
    "        \n",
    "        if ind==0:\n",
    "            self.head= self.head.next\n",
    "            return \n",
    "         \n",
    "        count=0\n",
    "        itr=self.head\n",
    "        while itr:\n",
    "            if count==ind-1:\n",
    "                itr.next=itr.next.next\n",
    "                break \n",
    "            itr=itr.next\n",
    "            count+=1\n",
    "     \n",
    "    def insert_at(self,ind,data):  \n",
    "        if(ind<0 or ind >self.get_length()):\n",
    "            raise Exception(\"INVALID INDEX\")\n",
    "        if ind==0:\n",
    "            self.head= self.InsertAtBeginning(data)\n",
    "        itr=self.head \n",
    "        count=0\n",
    "        \n",
    "        while(itr):\n",
    "          \n",
    "            if(count==ind-1):\n",
    "                node =Node(data,itr.next) \n",
    "                itr.next= node\n",
    "                break\n",
    "            itr=itr.next \n",
    "            count+=1\n",
    "    def insert_after_value(self, data_after, data_to_insert):\n",
    "    # Search for first occurance of data_after value in linked list\n",
    "    # Now insert data_to_insert after data_after node\n",
    "        itr=self.head\n",
    "        while(itr):\n",
    "            if(itr.data==data_after ):\n",
    "                node =Node(data_to_insert,itr.next)\n",
    "                itr.next=node\n",
    "                break\n",
    "            itr=itr.next\n",
    "\n",
    "    def remove_by_value(self, data):\n",
    "        # Case 1: Empty list\n",
    "        if self.head is None:\n",
    "            print(\"List is empty.\")\n",
    "            return\n",
    "        \n",
    "        # Case 2: Head node removal\n",
    "        if self.head.data == data:\n",
    "            self.head = self.head.next  # Update the head to the next node\n",
    "            return\n",
    "        \n",
    "        # Case 3: Remove first node that contains data\n",
    "        itr = self.head\n",
    "        while itr and itr.next:  # Continue until we find the data or reach the end\n",
    "            if itr.next.data == data:\n",
    "                if itr.next.next is None:  # If next node is the last one\n",
    "                    itr.next = None  # Remove last node\n",
    "                else:\n",
    "                    itr.next = itr.next.next  # Skip the node\n",
    "                return\n",
    "            itr = itr.next\n",
    "\n",
    "                 \n",
    "    def print(self):\n",
    "        if self.head is None:\n",
    "            print(\"Linked list is empty\")\n",
    "            return\n",
    "        itr=self.head\n",
    "        llstr=' '\n",
    "        while itr:\n",
    "            llstr +=str(itr.data)+'--->'\n",
    "            itr= itr.next \n",
    "        print(llstr)         "
   ]
  },
  {
   "cell_type": "code",
   "execution_count": 55,
   "metadata": {},
   "outputs": [
    {
     "name": "stdout",
     "output_type": "stream",
     "text": [
      " 10--->11--->4--->14--->\n"
     ]
    }
   ],
   "source": [
    "if __name__=='__main__':\n",
    "    ll=LinkedLists()\n",
    "    ll.InsertAtBeginning(9)\n",
    "    ll.InsertAtBeginning(8)\n",
    "    ll.InsertAtBeginning(7)\n",
    "    ll.insert_values([10,11,14]) # Making a new linked list out of this list\n",
    "    ll.insert_at(2,4)\n",
    "    ll.print()\n",
    "     "
   ]
  },
  {
   "cell_type": "code",
   "execution_count": 80,
   "metadata": {},
   "outputs": [
    {
     "name": "stdout",
     "output_type": "stream",
     "text": [
      " 7--->12--->72--->8--->8--->9--->\n",
      " 7--->12--->8--->72--->8--->8--->\n"
     ]
    }
   ],
   "source": [
    "if __name__=='__main__':\n",
    "    ll=LinkedLists()\n",
    "    ll.InsertAtBeginning(9)\n",
    "    ll.InsertAtBeginning(8)\n",
    "    ll.InsertAtBeginning(8)\n",
    "    ll.InsertAtBeginning(72)\n",
    "    ll.InsertAtBeginning(12)\n",
    "    ll.InsertAtBeginning(7)\n",
    "    ll.print()\n",
    "    ll.insert_after_value(12,8)\n",
    "    ll.remove_by_value(9)\n",
    "    ll.print()\n",
    "\n",
    "    #ll.remove_at(ll.get_length()-1)\n",
    "   #ll.print()"
   ]
  },
  {
   "cell_type": "code",
   "execution_count": null,
   "metadata": {},
   "outputs": [],
   "source": [
    "if __name__=='__main__':\n",
    "    ll=LinkedLists()\n",
    "    ll.InsertAtBeginning(9)\n",
    "    ll.InsertAtBeginning(8)\n",
    "    ll.InsertAtBeginning(8)\n",
    "    ll.InsertAtBeginning(72)\n",
    "    ll.InsertAtBeginning(12)\n",
    "    ll.InsertAtBeginning(7)\n",
    "  "
   ]
  },
  {
   "cell_type": "markdown",
   "metadata": {},
   "source": [
    "### insert at beginning"
   ]
  },
  {
   "cell_type": "code",
   "execution_count": 4,
   "metadata": {},
   "outputs": [],
   "source": [
    "# Definition of singly Linked List\n",
    "class ListNode:\n",
    "    def __init__(self, val=0, next=None):\n",
    "        self.val = val\n",
    "        self.next = next\n",
    "\n",
    "class Solution:\n",
    "    def insertAtHead(self, head, X):\n",
    "        new_node = ListNode(X)\n",
    "        new_node.next = head\n",
    "        return new_node\n"
   ]
  },
  {
   "cell_type": "code",
   "execution_count": 5,
   "metadata": {},
   "outputs": [
    {
     "name": "stdout",
     "output_type": "stream",
     "text": [
      "7 -> 1 -> 2 -> 3 -> None\n"
     ]
    }
   ],
   "source": [
    "# Build original list: 1 -> 2 -> 3\n",
    "node3 = ListNode(3)\n",
    "node2 = ListNode(2, node3)\n",
    "node1 = ListNode(1, node2)\n",
    "head = node1\n",
    "\n",
    "# Insert 7 at head\n",
    "sol = Solution()\n",
    "new_head = sol.insertAtHead(head, 7)\n",
    "\n",
    "# Print result\n",
    "current = new_head\n",
    "while current:\n",
    "    print(current.val, end=\" -> \")\n",
    "    current = current.next\n",
    "print(\"None\")\n"
   ]
  }
 ],
 "metadata": {
  "kernelspec": {
   "display_name": "Python 3",
   "language": "python",
   "name": "python3"
  },
  "language_info": {
   "codemirror_mode": {
    "name": "ipython",
    "version": 3
   },
   "file_extension": ".py",
   "mimetype": "text/x-python",
   "name": "python",
   "nbconvert_exporter": "python",
   "pygments_lexer": "ipython3",
   "version": "3.13.0"
  }
 },
 "nbformat": 4,
 "nbformat_minor": 2
}
