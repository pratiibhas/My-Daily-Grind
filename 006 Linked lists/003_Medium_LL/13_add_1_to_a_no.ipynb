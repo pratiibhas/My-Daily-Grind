{
 "cells": [
  {
   "cell_type": "markdown",
   "id": "78a082ea",
   "metadata": {},
   "source": [
    "## Add one to a number represented by LL\n",
    "\n",
    "Given the head of a singly linked list representing a positive integer number. Each node of the linked list represents a digit of the number, with the 1st node containing the leftmost digit of the number and so on. The task is to add one to the value represented by the linked list and return the head of a linked list containing the final value.\n",
    "\n",
    "The number will contain no leading zeroes except when the value represented is zero itself."
   ]
  },
  {
   "cell_type": "markdown",
   "id": "254fa561",
   "metadata": {},
   "source": [
    "### Examples:\n",
    "- Input: head -> 1 -> 2 -> 3\n",
    "- Output: head -> 1 -> 2 -> 4\n",
    "\n",
    "Explanation: The number represented by the linked list = 123.\n",
    "\n",
    "123 + 1 = 124.\n",
    "\n",
    "- Input: head -> 9 -> 9\n",
    "- Output: head -> 1 -> 0 -> 0\n",
    "\n",
    "Explanation: The number represented by the linked list = 99.\n",
    "\n",
    "99 + 1 = 100."
   ]
  },
  {
   "cell_type": "code",
   "execution_count": null,
   "id": "3268151d",
   "metadata": {},
   "outputs": [],
   "source": [
    "class Node:\n",
    "    def __init__(self, data):\n",
    "        self.data = data\n",
    "        self.next = None\n",
    "\n",
    "def reverse(head):\n",
    "    prev = None\n",
    "    curr = head\n",
    "    while curr:\n",
    "        nxt = curr.next\n",
    "        curr.next = prev\n",
    "        prev = curr\n",
    "        curr = nxt\n",
    "    return prev\n",
    "\n",
    "def printList(head):\n",
    "    while head:\n",
    "        print(head.data, end=\"->\" if head.next else \"\")\n",
    "        head = head.next\n",
    "    print()\n",
    "\n",
    "def addition(head):\n",
    "    head = reverse(head)\n",
    "    temp = head\n",
    "    carry = 1\n",
    "\n",
    "    prev = None\n",
    "    while temp:\n",
    "        temp.data += carry\n",
    "        if temp.data < 10:\n",
    "            carry = 0\n",
    "            break\n",
    "        else:\n",
    "            temp.data = 0\n",
    "            carry = 1\n",
    "        prev = temp\n",
    "        temp = temp.next\n",
    "\n",
    "    if carry == 1:\n",
    "        prev.next = Node(1)\n",
    "\n",
    "    return reverse(head)\n",
    "\n",
    "# ---------- Example Usage ----------\n",
    "# Creating a linked list for 9->9\n",
    "head = Node(9)\n",
    "head.next = Node(9)\n",
    "\n",
    "print(\"Original: \", end=\"\")\n",
    "printList(head)\n",
    "\n",
    "result = addition(head)\n",
    "\n",
    "print(\"After Adding One: \", end=\"\")\n",
    "printList(result)\n",
    "       "
   ]
  },
  {
   "cell_type": "markdown",
   "id": "e6032a4e",
   "metadata": {},
   "source": [
    "### Optimal approach "
   ]
  },
  {
   "cell_type": "code",
   "execution_count": 2,
   "id": "333291a0",
   "metadata": {},
   "outputs": [
    {
     "name": "stdout",
     "output_type": "stream",
     "text": [
      "Original: 8->9\n",
      "After Adding One: 9->0\n"
     ]
    }
   ],
   "source": [
    "class Node:\n",
    "    def __init__(self, data):\n",
    "        self.data = data\n",
    "        self.next = None\n",
    "\n",
    "def printList(head):\n",
    "    while head:\n",
    "        print(head.data, end=\"->\" if head.next else \"\")\n",
    "        head = head.next\n",
    "    print()\n",
    "\n",
    "# Recursive utility that adds one and returns carry\n",
    "def addOneUtil(node):\n",
    "    if not node:\n",
    "        return 1  # Initial carry of 1 (we're adding 1)\n",
    "\n",
    "    carry = addOneUtil(node.next)  # Recurse to the end\n",
    "    total = node.data + carry\n",
    "    node.data = total % 10\n",
    "    return total // 10  # Carry to propagate\n",
    "\n",
    "def addition(head):\n",
    "    carry = addOneUtil(head)\n",
    "\n",
    "    # If carry is still left after entire traversal, create a new node\n",
    "    if carry:\n",
    "        new_head = Node(carry)\n",
    "        new_head.next = head\n",
    "        return new_head\n",
    "\n",
    "    return head\n",
    "\n",
    "# ---------- Example Usage ----------\n",
    "# Creating a linked list for 9->9\n",
    "head = Node(8)\n",
    "head.next = Node(9)\n",
    "\n",
    "print(\"Original: \", end=\"\")\n",
    "printList(head)\n",
    "\n",
    "result = addition(head)\n",
    "\n",
    "print(\"After Adding One: \", end=\"\")\n",
    "printList(result)\n"
   ]
  },
  {
   "cell_type": "code",
   "execution_count": null,
   "id": "34f2ace1",
   "metadata": {},
   "outputs": [],
   "source": [
    "def rec_add(temp):\n",
    "    if temp is None:\n",
    "        return 1\n",
    "    carry = rec_add(temp.next)\n",
    "    temp.data = temp.data + carry\n",
    "    \n",
    "    if temp.data < 10:\n",
    "        return 0\n",
    "    temp.data=0\n",
    "    return 1\n",
    "\n",
    "def addOne(head):\n",
    "    carry = rec_add(head)\n",
    "    \n",
    "    if carry ==1 :\n",
    "        new_node = Node(1)\n",
    "        new_node.next =head\n",
    "        return new_node\n",
    "    return head\n",
    "        \n"
   ]
  },
  {
   "cell_type": "code",
   "execution_count": 8,
   "id": "22aef46c",
   "metadata": {},
   "outputs": [
    {
     "name": "stdout",
     "output_type": "stream",
     "text": [
      "Original: 8->9->9\n",
      "After Adding One: 9->0->0\n"
     ]
    }
   ],
   "source": [
    "head = Node(8)\n",
    "head.next = Node(9)\n",
    "head.next.next = Node(9)\n",
    "\n",
    "print(\"Original: \", end=\"\")\n",
    "printList(head)\n",
    "\n",
    "result = addOne(head)\n",
    "\n",
    "print(\"After Adding One: \", end=\"\")\n",
    "printList(result)"
   ]
  },
  {
   "cell_type": "markdown",
   "id": "4cfe9e67",
   "metadata": {},
   "source": [
    "Iterative: \n",
    "- No space\n",
    "- tampering data more than 3 times\n",
    "\n",
    "Recursive\n",
    "- No tampering of data, addition in place  and in faster time\n",
    "- extra space"
   ]
  }
 ],
 "metadata": {
  "kernelspec": {
   "display_name": "Python 3",
   "language": "python",
   "name": "python3"
  },
  "language_info": {
   "codemirror_mode": {
    "name": "ipython",
    "version": 3
   },
   "file_extension": ".py",
   "mimetype": "text/x-python",
   "name": "python",
   "nbconvert_exporter": "python",
   "pygments_lexer": "ipython3",
   "version": "3.13.0"
  }
 },
 "nbformat": 4,
 "nbformat_minor": 5
}
