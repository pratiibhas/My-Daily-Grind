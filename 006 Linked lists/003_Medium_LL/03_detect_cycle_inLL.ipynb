{
 "cells": [
  {
   "cell_type": "markdown",
   "id": "4f6fae1f",
   "metadata": {},
   "source": [
    "## Detect a loop in LL"
   ]
  },
  {
   "cell_type": "markdown",
   "id": "9afbf609",
   "metadata": {},
   "source": [
    "Given the head of a singly linked list. Return true if a loop exists in the linked list or return false.\n",
    "A loop exists in a linked list if some node in the list can be reached again by continuously following the next pointer.\n",
    "Internally, pos is used to denote the index(0-based) of the node from where the loop starts. Note that pos is not passed as a parameter.\n",
    "\n",
    "\n",
    "Examples:\n",
    "- Input: head -> 1 -> 2 -> 3 -> 4 -> 5, pos = 1\n",
    "- Output: true\n",
    "\n",
    "Explanation: The tail of the linked list connects to the node at 1st index."
   ]
  },
  {
   "cell_type": "code",
   "execution_count": null,
   "id": "62727869",
   "metadata": {},
   "outputs": [],
   "source": [
    "class Solution(object):\n",
    "    def hasCycle(self, head):\n",
    "        \"\"\"\n",
    "        :type head: ListNode\n",
    "        :rtype: bool\n",
    "        \"\"\"\n",
    "        s=set()\n",
    "        current = head\n",
    "        while current:\n",
    "            if current in s:\n",
    "                return True\n",
    "            s.add(current)\n",
    "            current=current.next\n",
    "        return False        "
   ]
  },
  {
   "cell_type": "markdown",
   "id": "5847615d",
   "metadata": {},
   "source": [
    "### Alternative solution"
   ]
  },
  {
   "cell_type": "code",
   "execution_count": null,
   "id": "6520b184",
   "metadata": {},
   "outputs": [],
   "source": [
    "class Solution(object):\n",
    "    def hasCycle(self, head):\n",
    "        slow = head\n",
    "        fast = head\n",
    "\n",
    "        while fast is not None and fast.next is not None:\n",
    "            slow = slow.next\n",
    "            fast = fast.next.next\n",
    "            if slow == fast:\n",
    "                return True  # Cycle detected\n",
    "\n",
    "        return False  # No cycle"
   ]
  }
 ],
 "metadata": {
  "kernelspec": {
   "display_name": "Python 3",
   "language": "python",
   "name": "python3"
  },
  "language_info": {
   "name": "python",
   "version": "3.13.0"
  }
 },
 "nbformat": 4,
 "nbformat_minor": 5
}
