{
 "cells": [
  {
   "cell_type": "markdown",
   "id": "f130acd8",
   "metadata": {},
   "source": [
    "### Length of loop in LL\n",
    "\n",
    "Given the head of a singly linked list, find the length of the loop in the linked list if it exists. Return the length of the loop if it exists; otherwise, return 0.\n",
    "\n",
    "A loop exists in a linked list if some node in the list can be reached again by continuously following the next pointer. Internally, pos is used to denote the index (0-based) of the node from where the loop starts.\n",
    "\n",
    "Note that pos is not passed as a parameter."
   ]
  },
  {
   "cell_type": "markdown",
   "id": "f9ed6218",
   "metadata": {},
   "source": [
    "- Input: head -> 1 -> 2 -> 3 -> 4 -> 5, pos = 1\n",
    "- Output: 4\n",
    "\n",
    "Explanation: 2 -> 3 -> 4 -> 5 - >2, length of loop = 4."
   ]
  },
  {
   "cell_type": "code",
   "execution_count": null,
   "id": "8b2bae09",
   "metadata": {},
   "outputs": [],
   "source": [
    "# Definition of singly linked list:\n",
    "# class ListNode:\n",
    "#     def __init__(self, val=0, next=None):\n",
    "#         self.val = val\n",
    "#         self.next = next\n",
    "\n",
    "class Solution:\n",
    "    def findLengthOfLoop(self, head):\n",
    "        current = head\n",
    "        length  = 1\n",
    "        record = {}\n",
    "        index = 0\n",
    "\n",
    "        while current:\n",
    "            if current in record:\n",
    "                # Found the cycle; now count the loop length\n",
    "                loop_start = current\n",
    "                loop_length = 1\n",
    "                current = current.next\n",
    "\n",
    "                while current != loop_start:\n",
    "                    loop_length += 1\n",
    "                    current = current.next\n",
    "\n",
    "                return loop_length\n",
    "\n",
    "            record[current]=index\n",
    "            index+=1\n",
    "            length+=1\n",
    "            current=current.next\n",
    "        return 0    "
   ]
  }
 ],
 "metadata": {
  "language_info": {
   "name": "python"
  }
 },
 "nbformat": 4,
 "nbformat_minor": 5
}
