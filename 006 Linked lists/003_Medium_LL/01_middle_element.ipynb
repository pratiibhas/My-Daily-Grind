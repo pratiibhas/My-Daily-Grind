{
 "cells": [
  {
   "cell_type": "markdown",
   "id": "d7e0754b",
   "metadata": {},
   "source": [
    "### Given the head of a singly Linked List, return the middle node of the Linked List.\n",
    "\n",
    "\n",
    "\n",
    "If the Linked List has an even number of nodes, return the second middle one.\n",
    "\n",
    "\n",
    "Examples:\n",
    "- Input: head -> 3 -> 8 -> 7 -> 1 -> 3\n",
    "- Output(value at returned node): 7\n",
    "\n",
    "Explanation: There are 5 nodes, so the middle node is the 3rd Node, with value 7.\n",
    "\n",
    "- Input: head -> 2 -> 9 -> 1 -> 4 -> 0 -> 4\n",
    "- Output(value at returned node): 4\n",
    "\n",
    "Explanation: There are 6 nodes, thus both the 3rd and 4th nodes are middle. So the 2nd middle node (4th Node) is returned with value 4."
   ]
  },
  {
   "cell_type": "code",
   "execution_count": null,
   "id": "17cbee06",
   "metadata": {},
   "outputs": [],
   "source": [
    "# Definition for singly-linked list.\n",
    "# class ListNode(object):\n",
    "#     def __init__(self, val=0, next=None):\n",
    "#         self.val = val\n",
    "#         self.next = next\n",
    "class Solution(object):\n",
    "    def middleNode(self, head):\n",
    "        \"\"\"\n",
    "        :type head: Optional[ListNode]\n",
    "        :rtype: Optional[ListNode]\n",
    "        \"\"\"\n",
    "        slow= head\n",
    "        fast= head\n",
    "        while fast and fast.next: # first check fast then fast.next, since if fast is None, then doing fast.next will raise an error\n",
    "            slow= slow.next\n",
    "            fast = fast.next.next\n",
    "\n",
    "        return slow  # returns entire sublist from the middle node "
   ]
  }
 ],
 "metadata": {
  "kernelspec": {
   "display_name": "Python 3",
   "language": "python",
   "name": "python3"
  },
  "language_info": {
   "name": "python",
   "version": "3.13.0"
  }
 },
 "nbformat": 4,
 "nbformat_minor": 5
}
