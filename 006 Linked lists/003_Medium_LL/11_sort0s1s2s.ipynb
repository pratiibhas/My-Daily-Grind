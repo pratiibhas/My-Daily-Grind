{
 "cells": [
  {
   "cell_type": "markdown",
   "id": "9cdc3305",
   "metadata": {},
   "source": [
    "## Sort a LL of 0's 1's and 2's\n",
    "\n",
    "Given the head of a singly linked list consisting of only 0, 1 or 2. Sort the given linked list and return the head of the modified list. Do it in-place by changing the links between the nodes without creating new nodes."
   ]
  },
  {
   "cell_type": "markdown",
   "id": "1abd8c3d",
   "metadata": {},
   "source": [
    "- Input: head -> 1 -> 0 -> 2 -> 0 -> 1\n",
    "- Output: head -> 0 -> 0 -> 1 -> 1 -> 2\n",
    "Explanation: The values after sorting are [0, 0, 1, 1, 2]."
   ]
  },
  {
   "cell_type": "markdown",
   "id": "7d6cd3d3",
   "metadata": {},
   "source": [
    "### Brute force approach\n",
    "cnt of zeroes, ones, twos and then just change the linked list according to this cnt"
   ]
  },
  {
   "cell_type": "code",
   "execution_count": 12,
   "id": "9d92c5ba",
   "metadata": {},
   "outputs": [],
   "source": [
    "class Node:\n",
    "    def __init__(self, data, next_node=None):\n",
    "        # Data stored in the node\n",
    "        self.data = data\n",
    "        # Pointer to the next node in the list\n",
    "        self.next = next_node\n",
    "        \n",
    "def sort_acc(head):\n",
    "    cnt0=0\n",
    "    cnt1=0\n",
    "    cnt2=0\n",
    "    tmp=head\n",
    "    while tmp:\n",
    "        if tmp.data==0:\n",
    "            cnt0+=1\n",
    "        elif tmp.data==1:\n",
    "            cnt1+=1\n",
    "        else:\n",
    "            cnt2+=1\n",
    "        tmp=tmp.next    \n",
    "            \n",
    "    tmp2= head\n",
    "    while(tmp2):\n",
    "        if cnt0 !=0:\n",
    "            tmp2.data= 0\n",
    "            cnt0-=1\n",
    "            \n",
    "        elif cnt1 !=0:\n",
    "            tmp2.data= 1\n",
    "            cnt1-=1\n",
    "            \n",
    "        else:\n",
    "            tmp2.data= 2\n",
    "            cnt2-=1 \n",
    "        tmp2=tmp2.next      \n",
    "            \n",
    "    return head             \n",
    "def print_linked_list(head):\n",
    "    temp = head\n",
    "    while temp is not None:\n",
    "        # Print the data of the current node\n",
    "        print(temp.data, end=\" \")\n",
    "        # Move to the next node\n",
    "        temp = temp.next\n",
    "    print()            \n",
    "                \n",
    "                           "
   ]
  },
  {
   "cell_type": "code",
   "execution_count": 13,
   "id": "70371900",
   "metadata": {},
   "outputs": [
    {
     "name": "stdout",
     "output_type": "stream",
     "text": [
      "Original Linked List: 0 2 1 0 1 \n",
      "Sorted Linked List: 0 0 1 1 2 \n"
     ]
    }
   ],
   "source": [
    "head = Node(0)\n",
    "head.next = Node(2)\n",
    "head.next.next = Node(1)\n",
    "head.next.next.next = Node(0)\n",
    "head.next.next.next.next = Node(1)\n",
    "\n",
    "print(\"Original Linked List: \", end=\"\")\n",
    "print_linked_list(head)\n",
    "\n",
    "# Sort the linked list\n",
    "head = sort_acc(head)\n",
    "\n",
    "print(\"Sorted Linked List: \", end=\"\")\n",
    "print_linked_list(head)"
   ]
  },
  {
   "cell_type": "markdown",
   "id": "bc4661ad",
   "metadata": {},
   "source": [
    "### Optimal approach \n",
    "We create like three lists (like segregate our data to three list by changing links)"
   ]
  },
  {
   "cell_type": "code",
   "execution_count": null,
   "id": "c2cf89cb",
   "metadata": {},
   "outputs": [],
   "source": [
    "def sort_acc_opt(head):\n",
    "    if head is None or head.next is None:\n",
    "        return head\n",
    "    zeroHead= Node(-1)\n",
    "    oneHead = Node(-1)\n",
    "    twoHead = Node(-1)\n",
    "    \n",
    "    # Tails to build the three lists\n",
    "    zero = zeroHead\n",
    "    one = oneHead\n",
    "    two = twoHead\n",
    "\n",
    "    # Traverse the original list\n",
    "    temp = head\n",
    "    while temp:\n",
    "        if temp.data == 0:\n",
    "            zero.next = temp\n",
    "            zero = zero.next\n",
    "        elif temp.data == 1:\n",
    "            one.next = temp\n",
    "            one = one.next\n",
    "        else:\n",
    "            two.next = temp\n",
    "            two = two.next\n",
    "        temp = temp.next\n",
    "\n",
    "    # Connect the three sublists\n",
    "    zero.next = oneHead.next if oneHead.next else twoHead.next\n",
    "    one.next = twoHead.next\n",
    "    two.next = None\n",
    "        \n",
    "    newhead= zeroHead.next\n",
    "    return newhead  \n",
    "    \n",
    "def print_linked_list(head):\n",
    "    while head:\n",
    "        print(head.data, end=\" \")\n",
    "        head = head.next\n",
    "    print()"
   ]
  },
  {
   "cell_type": "code",
   "execution_count": 27,
   "id": "e942adda",
   "metadata": {},
   "outputs": [
    {
     "name": "stdout",
     "output_type": "stream",
     "text": [
      "Original Linked List: 0 2 1 0 1 \n",
      "Sorted Linked List: 0 0 1 1 2 \n"
     ]
    }
   ],
   "source": [
    "head = Node(0)\n",
    "head.next = Node(2)\n",
    "head.next.next = Node(1)\n",
    "head.next.next.next = Node(0)\n",
    "head.next.next.next.next = Node(1)\n",
    "\n",
    "print(\"Original Linked List: \", end=\"\")\n",
    "print_linked_list(head)\n",
    "\n",
    "# Sort the linked list\n",
    "head = sort_acc_opt(head)\n",
    "\n",
    "print(\"Sorted Linked List: \", end=\"\")\n",
    "print_linked_list(head)"
   ]
  },
  {
   "cell_type": "markdown",
   "id": "8e1291e8",
   "metadata": {},
   "source": [
    "- TC -O(n)\n",
    "- SC - O(1)"
   ]
  }
 ],
 "metadata": {
  "kernelspec": {
   "display_name": "Python 3",
   "language": "python",
   "name": "python3"
  },
  "language_info": {
   "codemirror_mode": {
    "name": "ipython",
    "version": 3
   },
   "file_extension": ".py",
   "mimetype": "text/x-python",
   "name": "python",
   "nbconvert_exporter": "python",
   "pygments_lexer": "ipython3",
   "version": "3.13.0"
  }
 },
 "nbformat": 4,
 "nbformat_minor": 5
}
