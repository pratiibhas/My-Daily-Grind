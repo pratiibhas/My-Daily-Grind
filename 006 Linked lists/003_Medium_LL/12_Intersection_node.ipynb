{
 "cells": [
  {
   "cell_type": "markdown",
   "id": "616e7b66",
   "metadata": {},
   "source": [
    "## Find the intersection point of Y LL\n",
    "\n",
    "Given the heads of two linked lists A and B, containing positive integers. Find the node at which the two linked lists intersect. If they do intersect, return the node at which the intersection begins, otherwise return null.\n",
    "\n",
    "The Linked List will not contain any cycles. The linked lists must retain their original structure, given as per the input, after the function returns.\n",
    "\n",
    "Note: for custom input, the following parameters are required(your program is not provided with these parameters):\n",
    "\n",
    "- intersectVal - The value of the node where the intersection occurs. This is -1 if there is no intersected node.\n",
    "- skipA - The number of nodes to skip ahead in listA (starting from the head) to get to the intersected node(-1 if no intersection).\n",
    "- skipB - The number of nodes to skip ahead in listB (starting from the head) to get to the intersected node(-1 if no intersection).\n",
    "- listA - The first linked list.\n",
    "- listB - The second linked list."
   ]
  },
  {
   "cell_type": "markdown",
   "id": "07f0b042",
   "metadata": {},
   "source": [
    "###  Using nested loop"
   ]
  },
  {
   "cell_type": "code",
   "execution_count": null,
   "id": "f2d9bb14",
   "metadata": {},
   "outputs": [
    {
     "name": "stdout",
     "output_type": "stream",
     "text": [
      "List1: 1->3->1->2->4\n",
      "List2: 3->2->4\n",
      "The intersection point is 2\n"
     ]
    }
   ],
   "source": [
    "class Node:\n",
    "    def __init__(self, val):\n",
    "        self.val = val\n",
    "        self.next = None\n",
    "\n",
    "\n",
    "# utility function to insert node at the end of the linked list\n",
    "def insertNode(head, val):\n",
    "    newNode = Node(val)\n",
    "    if head == None:\n",
    "        head = newNode\n",
    "        return head\n",
    "    temp = head\n",
    "    while temp.next != None:\n",
    "        temp = temp.next\n",
    "    temp.next = newNode\n",
    "    return head\n",
    "def intersectionPresent(head1, head2):\n",
    "    while head2 != None:\n",
    "        temp = head1\n",
    "        while temp != None:\n",
    "            # if both nodes are same\n",
    "            if temp == head2:\n",
    "                return head2\n",
    "            temp = temp.next\n",
    "        head2 = head2.next\n",
    "    # intersection is not present between the lists\n",
    "    return None\n",
    "# utility function to print linked list created\n",
    "def printList(head):\n",
    "    while head.next != None:\n",
    "        print(head.val, end='->')\n",
    "        head = head.next\n",
    "    print(head.val)"
   ]
  },
  {
   "cell_type": "code",
   "execution_count": 4,
   "id": "ae160e29",
   "metadata": {},
   "outputs": [
    {
     "name": "stdout",
     "output_type": "stream",
     "text": [
      "List1: 1->3->1->2->4\n",
      "List2: 3->2->4\n",
      "The intersection point is 2\n"
     ]
    }
   ],
   "source": [
    "if __name__ == '__main__':\n",
    "    head = None\n",
    "    head = insertNode(head, 1)\n",
    "    head = insertNode(head, 3)\n",
    "    head = insertNode(head, 1)\n",
    "    head = insertNode(head, 2)\n",
    "    head = insertNode(head, 4)\n",
    "    head1 = head\n",
    "    head = head.next.next.next\n",
    "    headSec = None\n",
    "    headSec = insertNode(headSec, 3)\n",
    "    head2 = headSec\n",
    "    headSec.next = head\n",
    "    print('List1: ', end='')\n",
    "    printList(head1)\n",
    "    print('List2: ', end='')\n",
    "    printList(head2)\n",
    "    answerNode = intersectionPresent(head1, head2)\n",
    "    if answerNode == None:\n",
    "        print('No intersection')\n",
    "    else:\n",
    "        print('The intersection point is', answerNode.val)"
   ]
  },
  {
   "cell_type": "markdown",
   "id": "edea5862",
   "metadata": {},
   "source": [
    "- ### using hashing"
   ]
  },
  {
   "cell_type": "code",
   "execution_count": 2,
   "id": "03f2ba6e",
   "metadata": {},
   "outputs": [],
   "source": [
    "def intersection_node(head1,head2):\n",
    "    st=set()\n",
    "    tmp= head1\n",
    "    while tmp:\n",
    "        st.add(tmp)\n",
    "        tmp=tmp.next\n",
    "        temp=head2\n",
    "    while temp:\n",
    "        if temp in st:\n",
    "            return temp\n",
    "        temp=temp.next\n",
    "    return -1      "
   ]
  },
  {
   "cell_type": "code",
   "execution_count": 3,
   "id": "716b534d",
   "metadata": {},
   "outputs": [
    {
     "name": "stdout",
     "output_type": "stream",
     "text": [
      "List1: 1->3->1->2->4\n",
      "List2: 3->2->4\n",
      "The intersection point is 2\n"
     ]
    }
   ],
   "source": [
    "if __name__ == '__main__':\n",
    "    head = None\n",
    "    head = insertNode(head, 1)\n",
    "    head = insertNode(head, 3)\n",
    "    head = insertNode(head, 1)\n",
    "    head = insertNode(head, 2)\n",
    "    head = insertNode(head, 4)\n",
    "    head1 = head\n",
    "    head = head.next.next.next\n",
    "    headSec = None\n",
    "    headSec = insertNode(headSec, 3)\n",
    "    head2 = headSec\n",
    "    headSec.next = head\n",
    "    print('List1: ', end='')\n",
    "    printList(head1)\n",
    "    print('List2: ', end='')\n",
    "    printList(head2)\n",
    "    answerNode = intersection_node(head1, head2)\n",
    "    if answerNode == None:\n",
    "        print('No intersection')\n",
    "    else:\n",
    "        print('The intersection point is', answerNode.val)"
   ]
  },
  {
   "cell_type": "markdown",
   "id": "224ec874",
   "metadata": {},
   "source": [
    "### Difference in length"
   ]
  },
  {
   "cell_type": "code",
   "execution_count": null,
   "id": "9624ab1c",
   "metadata": {},
   "outputs": [],
   "source": [
    "def find_length(head):\n",
    "    cnt=0\n",
    "    while head:\n",
    "        cnt+=1\n",
    "        head= head.next\n",
    "        \n",
    "    return cnt \n",
    "\n",
    "def find_diff(head1,head2):\n",
    "    l1=find_length(head1)\n",
    "    l2=find_length(head2)\n",
    "    return l1-l2 "
   ]
  },
  {
   "cell_type": "code",
   "execution_count": 11,
   "id": "169111cc",
   "metadata": {},
   "outputs": [],
   "source": [
    "def intersection(head1,head2):\n",
    "    \n",
    "    diff= find_diff(head1,head2)\n",
    "    if diff > 0:\n",
    "        for _ in range(diff):\n",
    "            head1 = head1.next\n",
    "    else:\n",
    "        for _ in range(-diff):\n",
    "            head2 = head2.next \n",
    "    while head1:\n",
    "           if head1== head2:\n",
    "               return head1\n",
    "           head2 = head2.next\n",
    "           head1 = head1.next\n",
    "    return head1              \n",
    "    "
   ]
  },
  {
   "cell_type": "code",
   "execution_count": 12,
   "id": "401ec3b6",
   "metadata": {},
   "outputs": [
    {
     "name": "stdout",
     "output_type": "stream",
     "text": [
      "List1: 1->3->1->2->4\n",
      "List2: 3->2->4\n",
      "The intersection point is 2\n"
     ]
    }
   ],
   "source": [
    "if __name__ == '__main__':\n",
    "    head = None\n",
    "    head = insertNode(head, 1)\n",
    "    head = insertNode(head, 3)\n",
    "    head = insertNode(head, 1)\n",
    "    head = insertNode(head, 2)\n",
    "    head = insertNode(head, 4)\n",
    "    head1 = head\n",
    "    head = head.next.next.next\n",
    "    headSec = None\n",
    "    headSec = insertNode(headSec, 3)\n",
    "    head2 = headSec\n",
    "    headSec.next = head\n",
    "    print('List1: ', end='')\n",
    "    printList(head1)\n",
    "    print('List2: ', end='')\n",
    "    printList(head2)\n",
    "    answerNode = intersection(head1, head2)\n",
    "    if answerNode == None:\n",
    "        print('No intersection')\n",
    "    else:\n",
    "        print('The intersection point is', answerNode.val)"
   ]
  },
  {
   "cell_type": "markdown",
   "id": "015e100a",
   "metadata": {},
   "source": [
    "TC- O(N1)+ O(2N2)\n",
    "SC-O(1)"
   ]
  },
  {
   "cell_type": "markdown",
   "id": "b7e28d30",
   "metadata": {},
   "source": [
    "### Optimised version of difference method"
   ]
  },
  {
   "cell_type": "code",
   "execution_count": null,
   "id": "1c538678",
   "metadata": {},
   "outputs": [],
   "source": [
    "# utility function to check presence of intersection\n",
    "def intersectionPresent(head1, head2):\n",
    "    d1 = head1\n",
    "    d2 = head2\n",
    "    while d1 != d2:\n",
    "        d1 = head2 if d1 == None else d1.next\n",
    "        d2 = head1 if d2 == None else d2.next\n",
    "    return d1"
   ]
  },
  {
   "cell_type": "markdown",
   "id": "14fc7e62",
   "metadata": {},
   "source": [
    "TC : O(N1+N2)\n",
    "SC: O(1)"
   ]
  }
 ],
 "metadata": {
  "kernelspec": {
   "display_name": "Python 3",
   "language": "python",
   "name": "python3"
  },
  "language_info": {
   "codemirror_mode": {
    "name": "ipython",
    "version": 3
   },
   "file_extension": ".py",
   "mimetype": "text/x-python",
   "name": "python",
   "nbconvert_exporter": "python",
   "pygments_lexer": "ipython3",
   "version": "3.13.0"
  }
 },
 "nbformat": 4,
 "nbformat_minor": 5
}
