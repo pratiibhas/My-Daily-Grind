{
 "cells": [
  {
   "cell_type": "markdown",
   "id": "18fcb438",
   "metadata": {},
   "source": [
    "## Sort List\n",
    "\n",
    "Given the head of a linked list, return the list after sorting it in ascending order.\n",
    "- Input: head = [4,2,1,3]\n",
    "- Output: [1,2,3,4]"
   ]
  },
  {
   "cell_type": "markdown",
   "id": "e776cc6a",
   "metadata": {},
   "source": [
    "### Brute force approach\n",
    "- Convert the linkedlist to array\n",
    "- sort the array \n",
    "- convert the array back to linkiedlist\n",
    " "
   ]
  },
  {
   "cell_type": "code",
   "execution_count": null,
   "id": "16134e6b",
   "metadata": {},
   "outputs": [
    {
     "name": "stdout",
     "output_type": "stream",
     "text": [
      "Original Linked List: 3 2 5 4 1 \n",
      "Sorted Linked List: 1 2 3 4 5 \n"
     ]
    }
   ],
   "source": [
    "# Node class represents a\n",
    "# node in a linked list\n",
    "class Node:\n",
    "    def __init__(self, data, next_node=None):\n",
    "        # Data stored in the node\n",
    "        self.data = data\n",
    "        # Pointer to the next node in the list\n",
    "        self.next = next_node\n",
    "\n",
    "\n",
    "# Function to sort a linked list\n",
    "# using Brute Force approach\n",
    "def sort_LL(head):\n",
    "    arr = []\n",
    "    temp = head\n",
    "    \n",
    "    while temp is not None:\n",
    "        arr.append(temp.data)\n",
    "        temp = temp.next\n",
    "    \n",
    "    arr.sort()\n",
    "    \n",
    "    temp = head\n",
    "    for i in range(len(arr)):\n",
    "        # Update the node's data\n",
    "        # with the sorted values\n",
    "        temp.data = arr[i]\n",
    "        # Move to the next node\n",
    "        temp = temp.next\n",
    "    \n",
    "    return head\n",
    "\n",
    "\n",
    "# Function to print the linked list\n",
    "def print_linked_list(head):\n",
    "    temp = head\n",
    "    while temp is not None:\n",
    "        # Print the data of the current node\n",
    "        print(temp.data, end=\" \")\n",
    "        # Move to the next node\n",
    "        temp = temp.next\n",
    "    print()\n",
    "\n",
    "\n",
    "# Linked List: 3 2 5 4 1\n",
    "head = Node(3)\n",
    "head.next = Node(2)\n",
    "head.next.next = Node(5)\n",
    "head.next.next.next = Node(4)\n",
    "head.next.next.next.next = Node(1)\n",
    "\n",
    "print(\"Original Linked List: \", end=\"\")\n",
    "print_linked_list(head)\n",
    "\n",
    "# Sort the linked list\n",
    "head = sort_LL(head)\n",
    "\n",
    "print(\"Sorted Linked List: \", end=\"\")\n",
    "print_linked_list(head)\n",
    "                                \n",
    "                            "
   ]
  },
  {
   "cell_type": "markdown",
   "id": "fdab4801",
   "metadata": {},
   "source": [
    "TC : O(N+ N logN +N) = N log N\n",
    "SC: O(N)"
   ]
  },
  {
   "cell_type": "markdown",
   "id": "c1671cae",
   "metadata": {},
   "source": [
    "### Optimal approach (Merge sort) "
   ]
  },
  {
   "cell_type": "code",
   "execution_count": null,
   "id": "9ddb0324",
   "metadata": {},
   "outputs": [],
   "source": [
    "class Node:\n",
    "    def __init__(self, data1, next1=None):\n",
    "        # Data stored in the node\n",
    "        self.data = data1\n",
    "        \n",
    "        # Pointer to the next node in the list\n",
    "        self.next = next1\n",
    "\n",
    "def findMiddle(head):\n",
    "    slow = head\n",
    "    fast = head.next\n",
    "    \n",
    "    while fast and fast.next:\n",
    "        slow=slow.next\n",
    "        fast = fast.next.next\n",
    "    return slow    \n",
    "           \n",
    "def  mergeTwoSortedLinkedLists(list1,list2):\n",
    "    dummyNode = Node(-1)\n",
    "    temp = dummyNode\n",
    "\n",
    "    # Traverse both lists simultaneously\n",
    "    while list1 is not None and list2 is not None:\n",
    "        # Compare elements of both lists and\n",
    "        # link the smaller node to the merged list\n",
    "        if list1.data <= list2.data:\n",
    "            temp.next = list1\n",
    "            list1 = list1.next\n",
    "        else:\n",
    "            temp.next = list2\n",
    "            list2 = list2.next\n",
    "    \n",
    "        temp = temp.next \n",
    "\n",
    "    # If any list still has remaining\n",
    "    # elements, append them to the merged list\n",
    "    if list1 is not None:\n",
    "        temp.next = list1\n",
    "    else:\n",
    "        temp.next = list2\n",
    "    \n",
    "    # Return the merged list starting \n",
    "    # from the next of the dummy node\n",
    "    return dummyNode.next  \n",
    "\n",
    "def sortLL(head):\n",
    "    if head is None or head.next is None:\n",
    "        return head\n",
    "    middle= findMiddle(head)\n",
    "    right= middle.next\n",
    "    middle.next = None\n",
    "    left= head\n",
    "    \n",
    "    left =sortLL(left)\n",
    "    right  = sortLL(right)\n",
    "    \n",
    "    return mergeTwoSortedLinkedLists(left, right)   \n",
    "\n",
    "def printLinkedList(head):\n",
    "    temp = head\n",
    "    while temp is not None:\n",
    "        # Print the data of the current node\n",
    "        print(temp.data, end=\" \")\n",
    "        # Move to the next node\n",
    "        temp = temp.next\n",
    "    print()   "
   ]
  },
  {
   "cell_type": "code",
   "execution_count": 6,
   "id": "6bb53a58",
   "metadata": {},
   "outputs": [
    {
     "name": "stdout",
     "output_type": "stream",
     "text": [
      "Original Linked List: 3 2 5 4 1 \n",
      "Sorted Linked List: 1 2 3 4 5 \n"
     ]
    }
   ],
   "source": [
    "# Linked List: 3 2 5 4 1\n",
    "head = Node(3)\n",
    "head.next = Node(2)\n",
    "head.next.next = Node(5)\n",
    "head.next.next.next = Node(4)\n",
    "head.next.next.next.next = Node(1)\n",
    "\n",
    "print(\"Original Linked List: \", end=\"\")\n",
    "printLinkedList(head)\n",
    "\n",
    "# Sort the linked list\n",
    "head = sortLL(head)\n",
    "\n",
    "print(\"Sorted Linked List: \", end=\"\")\n",
    "printLinkedList(head)"
   ]
  }
 ],
 "metadata": {
  "kernelspec": {
   "display_name": "Python 3",
   "language": "python",
   "name": "python3"
  },
  "language_info": {
   "codemirror_mode": {
    "name": "ipython",
    "version": 3
   },
   "file_extension": ".py",
   "mimetype": "text/x-python",
   "name": "python",
   "nbconvert_exporter": "python",
   "pygments_lexer": "ipython3",
   "version": "3.13.0"
  }
 },
 "nbformat": 4,
 "nbformat_minor": 5
}
