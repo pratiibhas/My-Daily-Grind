{
 "cells": [
  {
   "cell_type": "code",
   "execution_count": null,
   "metadata": {},
   "outputs": [],
   "source": [
    "from collections import deque\n",
    "\n",
    "class Node:\n",
    "    def __init__(self, data, next_node=None):\n",
    "        self.data = data\n",
    "        self.next = next_node\n",
    "\n",
    "\n",
    "def isPalindrome(head):\n",
    "    # Create an empty deque\n",
    "    # to store values\n",
    "    st = deque()\n",
    "\n",
    "    # Initialize a temporary pointer\n",
    "    # to the head of the linked list\n",
    "    temp = head\n",
    "\n",
    "    # Traverse the linked list and\n",
    "    # push values onto the deque\n",
    "    while temp is not None:\n",
    "        # Push the data from the\n",
    "        # current node onto the deque\n",
    "        st.append(temp.data)\n",
    "\n",
    "        # Move to the next node\n",
    "        temp = temp.next\n",
    "\n",
    "    # Reset the temporary pointer back\n",
    "    # to the head of the linked list\n",
    "    temp = head\n",
    "\n",
    "    # Compare values by popping from the deque\n",
    "    # and checking against linked list nodes\n",
    "    while temp is not None:\n",
    "        if temp.data != st.pop():\n",
    "            # If values don't match,\n",
    "            # it's not a palindrome\n",
    "            return False\n",
    "\n",
    "        # Move to the next node\n",
    "        # in the linked list\n",
    "        temp = temp.next\n",
    "\n",
    "    # If all values match,\n",
    "    # it's a palindrome\n",
    "    return True\n",
    "\n",
    "    \n",
    "# Function to print the linked list\n",
    "def print_linked_list(head):\n",
    "    temp = head\n",
    "    while temp is not None:\n",
    "        print(temp.data, end=\" \")\n",
    "        temp = temp.next\n",
    "    print()\n"
   ]
  },
  {
   "cell_type": "code",
   "execution_count": 3,
   "metadata": {},
   "outputs": [
    {
     "name": "stdout",
     "output_type": "stream",
     "text": [
      "Original Linked List: 1 5 2 5 1 \n",
      "The linked list is a palindrome.\n"
     ]
    }
   ],
   "source": [
    "def main():\n",
    "    # Create a linked list with\n",
    "    # values 1, 5, 2, 5, and 1 (15251, a palindrome)\n",
    "    head = Node(1)\n",
    "    head.next = Node(5)\n",
    "    head.next.next = Node(2)\n",
    "    head.next.next.next = Node(5)\n",
    "    head.next.next.next.next = Node(1)\n",
    "\n",
    "    # Print the original linked list\n",
    "    print(\"Original Linked List: \", end=\"\")\n",
    "    print_linked_list(head)\n",
    "\n",
    "    # Check if the linked list is a palindrome\n",
    "    if isPalindrome(head):\n",
    "        print(\"The linked list is a palindrome.\")\n",
    "    else:\n",
    "        print(\"The linked list is not a palindrome.\")\n",
    "\n",
    "if __name__ == \"__main__\":\n",
    "    main()"
   ]
  },
  {
   "cell_type": "code",
   "execution_count": null,
   "metadata": {},
   "outputs": [],
   "source": []
  },
  {
   "cell_type": "code",
   "execution_count": 36,
   "metadata": {},
   "outputs": [],
   "source": [
    "class Node:\n",
    "    def __init__(self, data, next_node=None):\n",
    "        self.data = data\n",
    "        self.next = next_node\n",
    "def reverse(head):\n",
    "    prev = None\n",
    "    temp = head\n",
    "\n",
    "    while temp is not None:\n",
    "        front = temp.next\n",
    "        temp.next = prev\n",
    "        prev = temp\n",
    "        temp = front\n",
    "\n",
    "    return prev   \n",
    "\n",
    "def isPalindrome(head):\n",
    "    if head is None or head.next is None:\n",
    "        return True\n",
    "    slow=head\n",
    "    fast=head\n",
    "    \n",
    "    while(fast and fast.next):\n",
    "        slow=slow.next\n",
    "        fast=fast.next.next\n",
    "        # now it helps us identify the middle of the linked list that is where slow is\n",
    "        #slow.next is the seond half of the ll\n",
    "        # now we will try to reverse the second of the LL\n",
    "    second_half = reverse(slow.next) #come out of the loop to reverse the string we got the middel\n",
    "    first=head  \n",
    "    second_half_copy= second_half\n",
    "        \n",
    "    while(second_half):\n",
    "        if(first.data!=second_half.data):\n",
    "            reverse(second_half_copy)\n",
    "            return False \n",
    "        \n",
    "        first=first.next\n",
    "        second_half=second_half.next\n",
    "    reverse(second_half_copy)        \n",
    "    return True            \n",
    "            \n",
    "        "
   ]
  },
  {
   "cell_type": "code",
   "execution_count": 37,
   "metadata": {},
   "outputs": [
    {
     "name": "stdout",
     "output_type": "stream",
     "text": [
      "True\n",
      "False\n"
     ]
    }
   ],
   "source": [
    "def create_linked_list(lst):\n",
    "    if not lst:\n",
    "        return None\n",
    "    head = Node(lst[0])\n",
    "    current = head\n",
    "    for value in lst[1:]:\n",
    "        current.next = Node(value)\n",
    "        current = current.next\n",
    "    return head\n",
    "\n",
    "# Example usage\n",
    "lst = [1, 2, 3, 2, 1]\n",
    "head = create_linked_list(lst)\n",
    "print(isPalindrome(head))  # Output: True\n",
    "\n",
    "lst2 = [1, 2, 3, 4, 5]\n",
    "head2 = create_linked_list(lst2)\n",
    "print(isPalindrome(head2))  # Output: False"
   ]
  }
 ],
 "metadata": {
  "kernelspec": {
   "display_name": "Python 3",
   "language": "python",
   "name": "python3"
  },
  "language_info": {
   "codemirror_mode": {
    "name": "ipython",
    "version": 3
   },
   "file_extension": ".py",
   "mimetype": "text/x-python",
   "name": "python",
   "nbconvert_exporter": "python",
   "pygments_lexer": "ipython3",
   "version": "3.13.0"
  }
 },
 "nbformat": 4,
 "nbformat_minor": 2
}
