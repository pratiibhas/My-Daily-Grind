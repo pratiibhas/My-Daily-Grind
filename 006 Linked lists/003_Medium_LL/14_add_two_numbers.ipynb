{
 "cells": [
  {
   "cell_type": "markdown",
   "id": "34a68f10",
   "metadata": {},
   "source": [
    "##  Add Two Numbers\n",
    "You are given two non-empty linked lists representing two non-negative integers. The digits are stored in reverse order, and each of their nodes contains a single digit. Add the two numbers and return the sum as a linked list.\n",
    "\n",
    "You may assume the two numbers do not contain any leading zero, except the number 0 itself.\n",
    "\n",
    "- Input: l1 = [2,4,3], l2 = [5,6,4]\n",
    "- Output: [7,0,8]\n",
    "- Explanation: 342 + 465 = 807"
   ]
  },
  {
   "cell_type": "code",
   "execution_count": null,
   "id": "77f41713",
   "metadata": {},
   "outputs": [],
   "source": [
    "class ListNode:\n",
    "    def __init__(self, val=0, next=None):\n",
    "        self.val = val\n",
    "        self.next = next\n",
    "def addTwoNumbers( l1, l2):\n",
    "        dummy=ListNode(0)\n",
    "        current=dummy\n",
    "        carry=0\n",
    "\n",
    "        while(l1 or l2 or carry):\n",
    "            val1 = l1.val if l1 else 0\n",
    "            val2 = l2.val if l2 else 0\n",
    "            total = val1+val2+carry\n",
    "            carry=total //10\n",
    "            current.next=ListNode( total  % 10) \n",
    "            current=current.next\n",
    "\n",
    "            if(l1):\n",
    "                l1=l1.next\n",
    "            if(l2):\n",
    "                l2=l2.next\n",
    "        return dummy.next \n"
   ]
  },
  {
   "cell_type": "code",
   "execution_count": null,
   "id": "6c785233",
   "metadata": {},
   "outputs": [],
   "source": []
  }
 ],
 "metadata": {
  "kernelspec": {
   "display_name": "Python 3",
   "language": "python",
   "name": "python3"
  },
  "language_info": {
   "name": "python",
   "version": "3.13.0"
  }
 },
 "nbformat": 4,
 "nbformat_minor": 5
}

