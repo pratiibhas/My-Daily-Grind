{
 "cells": [
  {
   "cell_type": "markdown",
   "id": "a426cf5f",
   "metadata": {},
   "source": [
    "## Delete the Middle Node of a Linked List\n",
    "\n",
    "You are given the head of a linked list. Delete the middle node, and return the head of the modified linked list.\n",
    "\n",
    "The middle node of a linked list of size n is the ⌊n / 2⌋th node from the start using 0-based indexing, where ⌊x⌋ denotes the largest integer less than or equal to x.\n",
    "\n",
    "For n = 1, 2, 3, 4, and 5, the middle nodes are 0, 1, 1, 2, and 2, respectively."
   ]
  },
  {
   "cell_type": "markdown",
   "id": "89bf3760",
   "metadata": {},
   "source": [
    "Input: head = [1,3,4,7,1,2,6]\n",
    "Output: [1,3,4,1,2,6]"
   ]
  },
  {
   "cell_type": "markdown",
   "id": "d1f3f70f",
   "metadata": {},
   "source": [
    "### Brute force approach\n",
    "- first get length of the linked list\n",
    "- when you reach the middle of linked list (which you find based on the length)\n",
    "- delete the middle node"
   ]
  },
  {
   "cell_type": "code",
   "execution_count": null,
   "id": "16ee992f",
   "metadata": {},
   "outputs": [],
   "source": [
    "class Solution(object):\n",
    "    def deleteMiddle(self, head):\n",
    "        if not head or not head.next:\n",
    "            return None\n",
    "\n",
    "        # Step 1: Count nodes\n",
    "        temp = head\n",
    "        cnt = 0\n",
    "        while temp:\n",
    "            cnt += 1\n",
    "            temp = temp.next\n",
    "\n",
    "        # Step 2: Find node before middle\n",
    "        mid = cnt // 2\n",
    "        secondtemp = head\n",
    "        n = 0\n",
    "        while n < mid - 1:\n",
    "            n += 1\n",
    "            secondtemp = secondtemp.next\n",
    "\n",
    "        # Step 3: Delete middle node\n",
    "        secondtemp.next = secondtemp.next.next\n",
    "\n",
    "        return head\n"
   ]
  },
  {
   "cell_type": "code",
   "execution_count": null,
   "id": "b939a8cb",
   "metadata": {},
   "outputs": [],
   "source": [
    "class Solution(object):\n",
    "    def deleteMiddle(self, head):\n",
    "        \"\"\"\n",
    "        :type head: Optional[ListNode]\n",
    "        :rtype: Optional[ListNode]\n",
    "        \"\"\"\n",
    "        # Edge case: only one node\n",
    "        if not head or not head.next:\n",
    "            return None\n",
    "\n",
    "        # First pass: count the number of nodes\n",
    "        cnt = 0\n",
    "        temp = head\n",
    "        while temp:\n",
    "            cnt += 1\n",
    "            temp = temp.next\n",
    "\n",
    "        # Find the index just before the middle node\n",
    "        mid = cnt // 2\n",
    "        temp = head\n",
    "        for _ in range(mid - 1):\n",
    "            temp = temp.next\n",
    "\n",
    "        # Delete the middle node\n",
    "        temp.next = temp.next.next\n",
    "\n",
    "        return head\n"
   ]
  },
  {
   "cell_type": "markdown",
   "id": "436b7a29",
   "metadata": {},
   "source": [
    "## Optimal appraoch (Hare and tortoise Algorithm)"
   ]
  },
  {
   "cell_type": "code",
   "execution_count": null,
   "id": "6444958b",
   "metadata": {},
   "outputs": [
    {
     "name": "stdout",
     "output_type": "stream",
     "text": [
      "Original Linked List: 1 2 3 4 5 \n",
      "Updated Linked List: 1 2 4 5 \n"
     ]
    }
   ],
   "source": [
    "class Node:\n",
    "    def __init__(self, data, next_node=None):\n",
    "        # Data stored in the node\n",
    "        self.data = data       \n",
    "        # Pointer to the next node in the list\n",
    "        self.next = next_node   \n",
    "    @staticmethod\n",
    "    def deleteMiddle(head):\n",
    "        \"\"\"\n",
    "        :type head: Optional[ListNode]\n",
    "        :rtype: Optional[ListNode]\n",
    "        \"\"\"\n",
    "        if not head or not head.next:\n",
    "            return None\n",
    "        slow=head\n",
    "        fast = head.next.next if head.next else None # a headstart to fast since we want the slow node before the middle node\n",
    "        while fast and fast.next:\n",
    "            fast = fast.next.next\n",
    "            slow= slow.next\n",
    "        slow.next= slow.next.next\n",
    "        return head   \n",
    "    \n",
    "def print_linked_list(head):\n",
    "    temp = head\n",
    "    while temp:\n",
    "        print(temp.data, end=\" \")\n",
    "        temp = temp.next\n",
    "    print() "
   ]
  },
  {
   "cell_type": "code",
   "execution_count": 17,
   "id": "8bd115a0",
   "metadata": {},
   "outputs": [
    {
     "name": "stdout",
     "output_type": "stream",
     "text": [
      "Original Linked List: 1 2 3 4 5 \n",
      "Updated Linked List: 1 2 4 5 \n"
     ]
    }
   ],
   "source": [
    "head = Node(1)\n",
    "head.next = Node(2)\n",
    "head.next.next = Node(3)\n",
    "head.next.next.next = Node(4)\n",
    "head.next.next.next.next = Node(5)\n",
    "\n",
    "# Display the original linked list\n",
    "print(\"Original Linked List: \", end=\"\")\n",
    "print_linked_list(head)\n",
    "\n",
    "# Deleting the middle node\n",
    "head = Node.deleteMiddle(head)\n",
    "\n",
    "# Displaying the updated linked list\n",
    "print(\"Updated Linked List: \", end=\"\")\n",
    "print_linked_list(head)"
   ]
  }
 ],
 "metadata": {
  "kernelspec": {
   "display_name": "Python 3",
   "language": "python",
   "name": "python3"
  },
  "language_info": {
   "codemirror_mode": {
    "name": "ipython",
    "version": 3
   },
   "file_extension": ".py",
   "mimetype": "text/x-python",
   "name": "python",
   "nbconvert_exporter": "python",
   "pygments_lexer": "ipython3",
   "version": "3.13.0"
  }
 },
 "nbformat": 4,
 "nbformat_minor": 5
}
