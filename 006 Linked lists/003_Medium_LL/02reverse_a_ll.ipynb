{
 "cells": [
  {
   "cell_type": "code",
   "execution_count": 39,
   "metadata": {},
   "outputs": [],
   "source": [
    "class Node: \n",
    "  \n",
    "    # Constructor to initialize the node object \n",
    "    def __init__(self, data): \n",
    "        self.data = data \n",
    "        self.next = None\n",
    "  \n",
    "  \n",
    "class LinkedList: \n",
    "  \n",
    "    # Function to initialize head \n",
    "    def __init__(self): \n",
    "        self.head = None\n",
    "     \n",
    "    def push(self,data):\n",
    "        node=Node(data)\n",
    "        if self.head is None:\n",
    "            self.head= node   \n",
    "        itr=self.head\n",
    "        while(itr.next):\n",
    "            itr=itr.next\n",
    "        itr.next=node\n",
    "        node.next=None \n",
    "    def print_list(self):\n",
    "        itr=self.head\n",
    "        llstr=''\n",
    "        while(itr):\n",
    "            llstr+= str(itr.data)+\"---->\"\n",
    "            itr=itr.next         \n",
    "        print(llstr)    \n",
    "           \n",
    "    def reverse(self):\n",
    "        if (self.head is None or self.head.next==None):\n",
    "            return self.head\n",
    "        prev=None\n",
    "        temp=self.head\n",
    "        \n",
    "        while( temp!=None):\n",
    "                front=temp.next\n",
    "                temp.next=prev\n",
    "                prev=temp\n",
    "                temp=front\n",
    "       \n",
    "        self.head = prev \n",
    "        return prev\n",
    "         \n",
    "        \n",
    "    def recursive_reverse(self,head):\n",
    "        if(head is None or head.next is None):\n",
    "            return head\n",
    "        newNode = self.recursive_reverse(head.next)\n",
    "        \n",
    "        front =head.next\n",
    "        front.next=head\n",
    "        head.next=None\n",
    "        \n",
    "        return newNode\n",
    "    \n",
    "    def reversed(self):\n",
    "        self.head = self.recursive_reverse(self.head)\n",
    "\n",
    "\n",
    "\n",
    "    "
   ]
  },
  {
   "cell_type": "code",
   "execution_count": 40,
   "metadata": {},
   "outputs": [
    {
     "name": "stdout",
     "output_type": "stream",
     "text": [
      "Given Linked List\n",
      "20---->4---->15---->85---->\n",
      "85---->15---->4---->20---->\n"
     ]
    }
   ],
   "source": [
    "llist=LinkedList()\n",
    "llist.push(20) \n",
    "llist.push(4) \n",
    "llist.push(15) \n",
    "llist.push(85) \n",
    "  \n",
    "print (\"Given Linked List\")\n",
    "llist.print_list()\n",
    "\n",
    "llist.reversed()\n",
    "llist.print_list()"
   ]
  },
  {
   "cell_type": "code",
   "execution_count": null,
   "metadata": {},
   "outputs": [],
   "source": []
  },
  {
   "cell_type": "code",
   "execution_count": null,
   "metadata": {},
   "outputs": [],
   "source": []
  }
 ],
 "metadata": {
  "kernelspec": {
   "display_name": "Python 3",
   "language": "python",
   "name": "python3"
  },
  "language_info": {
   "codemirror_mode": {
    "name": "ipython",
    "version": 3
   },
   "file_extension": ".py",
   "mimetype": "text/x-python",
   "name": "python",
   "nbconvert_exporter": "python",
   "pygments_lexer": "ipython3",
   "version": "3.13.0"
  }
 },
 "nbformat": 4,
 "nbformat_minor": 2
}
