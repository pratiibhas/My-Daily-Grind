{
 "cells": [
  {
   "cell_type": "markdown",
   "id": "961f6004",
   "metadata": {},
   "source": [
    "## Linked List Cycle II\n",
    "\n",
    "Given the head of a linked list, return the node where the cycle begins. If there is no cycle, return null.\n",
    "\n",
    "There is a cycle in a linked list if there is some node in the list that can be reached again by continuously following the next pointer. Internally, pos is used to denote the index of the node that tail's next pointer is connected to (0-indexed). It is -1 if there is no cycle. Note that pos is not passed as a parameter.\n",
    "\n",
    "Do not modify the linked list."
   ]
  },
  {
   "cell_type": "markdown",
   "id": "c2ada3c0",
   "metadata": {},
   "source": [
    "- Input: head = [3,2,0,-4], pos = 1\n",
    "- Output: tail connects to node index 1\n",
    "Explanation: There is a cycle in the linked list, where tail connects to the second node."
   ]
  },
  {
   "cell_type": "code",
   "execution_count": null,
   "id": "1953c5ec",
   "metadata": {},
   "outputs": [],
   "source": [
    "class Solution(object):\n",
    "    def detectCycle(self, head):\n",
    "        \"\"\"\n",
    "        :type head: ListNode\n",
    "        :rtype: ListNode\n",
    "        \"\"\"\n",
    "        visited={}\n",
    "        current =head\n",
    "        index = 0\n",
    "        while current:\n",
    "            if current in visited:\n",
    "                return current\n",
    "                \n",
    "            visited[current] = index\n",
    "            index += 1\n",
    "            current=current.next\n",
    "        return     \n"
   ]
  },
  {
   "cell_type": "markdown",
   "id": "4d972392",
   "metadata": {},
   "source": [
    "### Alternatively"
   ]
  },
  {
   "cell_type": "code",
   "execution_count": null,
   "id": "1125a48e",
   "metadata": {},
   "outputs": [],
   "source": [
    "class Solution(object):\n",
    "    def detectCycle(self, head):\n",
    "        \n",
    "        slow = head\n",
    "        fast = head\n",
    "\n",
    "        # Phase 1: Detect cycle\n",
    "        while fast and fast.next:\n",
    "            slow = slow.next\n",
    "            fast = fast.next.next\n",
    "            if slow == fast:\n",
    "                break\n",
    "        else:\n",
    "            # No cycle\n",
    "            return None\n",
    "\n",
    "        # Phase 2: Find the start of the cycle\n",
    "        slow = head\n",
    "        while slow != fast:\n",
    "            slow = slow.next\n",
    "            fast = fast.next\n",
    "\n",
    "        return slow\n"
   ]
  }
 ],
 "metadata": {
  "kernelspec": {
   "display_name": "Python 3",
   "language": "python",
   "name": "python3"
  },
  "language_info": {
   "name": "python",
   "version": "3.13.0"
  }
 },
 "nbformat": 4,
 "nbformat_minor": 5
}
