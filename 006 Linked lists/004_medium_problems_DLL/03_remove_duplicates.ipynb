{
 "cells": [
  {
   "cell_type": "markdown",
   "id": "0a7c0ad8",
   "metadata": {},
   "source": [
    "## Remove duplicated from sorted DLL\n",
    "Duplicates will always be in a contagious manner"
   ]
  },
  {
   "cell_type": "code",
   "execution_count": 3,
   "id": "5f783465",
   "metadata": {},
   "outputs": [],
   "source": [
    "# Definition of doubly linked list:\n",
    "class ListNode:\n",
    "    def __init__(self, val=0, next=None, prev=None):\n",
    "        self.val = val\n",
    "        self.next = next\n",
    "        self.prev = prev\n",
    "\n",
    "\n",
    "def removeDuplicates(head):\n",
    "    temp = head\n",
    "    while temp and temp.next:\n",
    "        if temp.val == temp.next.val:\n",
    "            nextNode =  temp.next.next\n",
    "            temp.next = nextNode\n",
    "            if nextNode:\n",
    "                nextNode.prev = temp\n",
    "        else:\n",
    "            temp = temp.next  \n",
    "    return head         \n",
    "        "
   ]
  },
  {
   "cell_type": "markdown",
   "id": "58f7a1cf",
   "metadata": {},
   "source": [
    "### Solution 2:"
   ]
  },
  {
   "cell_type": "code",
   "execution_count": null,
   "id": "8e46a8d1",
   "metadata": {},
   "outputs": [],
   "source": [
    "def remove_dupes(head):\n",
    "    temp = head\n",
    "    while temp and temp.next:\n",
    "        nextNode= temp.next\n",
    "        while nextNode and nextNode.val== temp.val:\n",
    "            duplicate = nextNode\n",
    "            nextNode = nextNode.next\n",
    "        \n",
    "            if duplicate.prev:\n",
    "                duplicate.prev.next = duplicate.next\n",
    "            if duplicate.next:\n",
    "                duplicate.next.prev = duplicate.prev\n",
    "\n",
    "        temp.next = nextNode\n",
    "        if nextNode:\n",
    "            nextNode.prev = temp\n",
    "        temp = temp.next\n",
    "    return head\n",
    "        "
   ]
  },
  {
   "cell_type": "markdown",
   "id": "38554dcb",
   "metadata": {},
   "source": [
    "### Solution 3(Slightly altered code from solution 2):"
   ]
  },
  {
   "cell_type": "code",
   "execution_count": 23,
   "id": "2655e026",
   "metadata": {},
   "outputs": [],
   "source": [
    "def remove_duplicates(head):\n",
    "    temp = head\n",
    "    while temp and temp.next:\n",
    "        nextNode= temp.next\n",
    "        while nextNode and nextNode.val== temp.val:\n",
    "            nextNode = nextNode.next\n",
    "        \n",
    "        temp.next = nextNode\n",
    "        if nextNode:\n",
    "            nextNode.prev = temp\n",
    "        temp = temp.next\n",
    "    return head"
   ]
  },
  {
   "cell_type": "markdown",
   "id": "17004dd1",
   "metadata": {},
   "source": [
    "### Output "
   ]
  },
  {
   "cell_type": "code",
   "execution_count": 18,
   "id": "e8f2144c",
   "metadata": {},
   "outputs": [
    {
     "name": "stdout",
     "output_type": "stream",
     "text": [
      "Original list:\n",
      "1 <-> 2 <-> 2 <-> 3 <-> 4 <-> 4 <-> 5\n",
      "List after removing duplicates:\n",
      "1 <-> 2 <-> 3 <-> 4 <-> 5\n"
     ]
    }
   ],
   "source": [
    "class DoublyLinkedList:\n",
    "    def __init__(self):\n",
    "        self.head = None\n",
    "\n",
    "    def append(self, val):\n",
    "        new_node = ListNode(val)\n",
    "        if not self.head:\n",
    "            self.head = new_node\n",
    "            return\n",
    "        temp = self.head\n",
    "        while temp.next:\n",
    "            temp = temp.next\n",
    "        temp.next = new_node\n",
    "        new_node.prev = temp\n",
    "\n",
    "    def print_list(self):\n",
    "        temp = self.head\n",
    "        while temp:\n",
    "            print(temp.val, end=\" <-> \" if temp.next else \"\\n\")\n",
    "            temp = temp.next\n",
    "\n",
    "# Test the code\n",
    "dll = DoublyLinkedList()\n",
    "for val in [1, 2, 2, 3, 4, 4, 5]:\n",
    "    dll.append(val)\n",
    "\n",
    "print(\"Original list:\")\n",
    "dll.print_list()\n",
    "\n",
    "dll.head = removeDuplicates(dll.head)\n",
    "\n",
    "print(\"List after removing duplicates:\")\n",
    "dll.print_list()\n"
   ]
  },
  {
   "cell_type": "code",
   "execution_count": 25,
   "id": "fb878786",
   "metadata": {},
   "outputs": [
    {
     "name": "stdout",
     "output_type": "stream",
     "text": [
      "Original list:\n",
      "1 <-> 2 <-> 2 <-> 3 <-> 4 <-> 4 <-> 5\n",
      "List after removing duplicates:\n",
      "1 <-> 2 <-> 3 <-> 4 <-> 5\n"
     ]
    }
   ],
   "source": [
    "dll = DoublyLinkedList()\n",
    "for val in [1, 2, 2, 3, 4, 4, 5]:\n",
    "    dll.append(val)\n",
    "print(\"Original list:\")\n",
    "dll.print_list()    \n",
    "dll.head =remove_duplicates(dll.head)\n",
    "print(\"List after removing duplicates:\")\n",
    "dll.print_list()"
   ]
  }
 ],
 "metadata": {
  "kernelspec": {
   "display_name": "Python 3",
   "language": "python",
   "name": "python3"
  },
  "language_info": {
   "codemirror_mode": {
    "name": "ipython",
    "version": 3
   },
   "file_extension": ".py",
   "mimetype": "text/x-python",
   "name": "python",
   "nbconvert_exporter": "python",
   "pygments_lexer": "ipython3",
   "version": "3.13.0"
  }
 },
 "nbformat": 4,
 "nbformat_minor": 5
}
