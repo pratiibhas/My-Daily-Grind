{
 "cells": [
  {
   "cell_type": "code",
   "execution_count": null,
   "metadata": {},
   "outputs": [],
   "source": [
    "# take input array\n",
    "def inp_Arr(n):\n",
    "    lst = []\n",
    "    \n",
    "    # iterating till the range\n",
    "    for i in range(0, n):\n",
    "        ele = int(input())\n",
    "        # adding the element\n",
    "        lst.append(ele)  \n",
    "    return lst\n",
    "    #print(lst)"
   ]
  },
  {
   "cell_type": "code",
   "execution_count": 13,
   "metadata": {},
   "outputs": [
    {
     "data": {
      "text/plain": [
       "[4, 3, 2, 2, 1, 5]"
      ]
     },
     "execution_count": 13,
     "metadata": {},
     "output_type": "execute_result"
    }
   ],
   "source": [
    "#selection sort\n",
    "# select minimum and sort \n",
    "def selection_sort(arr,n):\n",
    "    for i in range(n):\n",
    "        for j in range(n):\n",
    "            if arr[i]>arr[j]:\n",
    "                arr[i],arr[j]=arr[j],arr[i]\n",
    "            \n",
    "    return arr        \n",
    "m=[3,1,4,2,2,5]\n",
    "selection_sort(m,5)"
   ]
  },
  {
   "cell_type": "code",
   "execution_count": 1,
   "metadata": {},
   "outputs": [
    {
     "data": {
      "text/plain": [
       "[1, 2, 2, 3, 4, 5]"
      ]
     },
     "execution_count": 1,
     "metadata": {},
     "output_type": "execute_result"
    }
   ],
   "source": [
    "#bubble sort \n",
    "def bubble_sort(arr,n):\n",
    "    for i in range(n):\n",
    "        for j in range(n):\n",
    "            if arr[j]>arr[j+1]:\n",
    "                arr[j],arr[j+1]= arr[j+1],arr[j]\n",
    "    return arr            \n",
    "\n",
    "p=[3,1,4,2,2,5]\n",
    "bubble_sort(p,5)"
   ]
  },
  {
   "cell_type": "code",
   "execution_count": null,
   "metadata": {},
   "outputs": [
    {
     "name": "stdout",
     "output_type": "stream",
     "text": [
      "[5, 4, 3, 2, 2, 1]\n"
     ]
    }
   ],
   "source": [
    "def insertion_sort_descending(arr, n):\n",
    "    for i in range(n):  # Start from the second element\n",
    "       \n",
    "        j = i \n",
    "        # Move elements of the sorted portion that are less than `key` one position ahead\n",
    "        while (j > 0 and arr[j-1] < arr[j]):\n",
    "            arr[j -1],arr[j]= arr[j],arr[j - 1]\n",
    "            j-=1\n",
    "           \n",
    "    return arr\n",
    "\n",
    "# Test the function\n",
    "q = [3, 1, 4, 2, 2, 5]\n",
    "sorted_q_desc = insertion_sort_descending(q, len(q))\n",
    "print(sorted_q_desc)\n",
    "# best case -o(n)\n",
    "# worst case -o(n^2)"
   ]
  },
  {
   "cell_type": "code",
   "execution_count": 1,
   "metadata": {},
   "outputs": [
    {
     "name": "stdout",
     "output_type": "stream",
     "text": [
      "[1, 2, 2, 3, 4, 5]\n"
     ]
    }
   ],
   "source": [
    "# merge sort\n",
    "def merge(arr,low,mid,high):\n",
    "    left =low \n",
    "    right= mid+1\n",
    "    lst=[]\n",
    "    while(left<=mid and right<=high):\n",
    "        if arr[left]<=arr[right]:\n",
    "            lst.append(arr[left])\n",
    "            left+=1\n",
    "        else:\n",
    "            lst.append(arr[right])\n",
    "            right+=1   \n",
    "            \n",
    "    while(left<=mid):\n",
    "        lst.append(arr[left])\n",
    "        left+=1 \n",
    "        \n",
    "    while(right<=high):\n",
    "        lst.append(arr[right]) \n",
    "        right+=1   \n",
    "    for i in range(len(lst)):\n",
    "        arr[low + i] = lst[i] \n",
    "    return arr     \n",
    "      \n",
    "def merge_sort(arr, low, high):\n",
    "    if low < high:\n",
    "        mid = (low + high) // 2  # Correct mid calculation\n",
    "        \n",
    "        # Recursively divide the array into halves\n",
    "        merge_sort(arr, low, mid)\n",
    "        merge_sort(arr, mid + 1, high)\n",
    "        \n",
    "        # Merge the sorted halves\n",
    "        return merge(arr, low, mid, high)\n",
    "    return arr\n",
    "             \n",
    "\n",
    "    \n",
    "q = [3, 1, 4, 2, 2, 5]\n",
    "sorted_q_desc = merge_sort(q, 0,5)\n",
    "print(sorted_q_desc)\n",
    "    "
   ]
  },
  {
   "cell_type": "code",
   "execution_count": 14,
   "metadata": {},
   "outputs": [
    {
     "name": "stdout",
     "output_type": "stream",
     "text": [
      "[1, 2, 2, 3, 4, 5]\n"
     ]
    }
   ],
   "source": [
    "# quick sort\n",
    "\n",
    "def quick_sort(arr,low,high):\n",
    "    if (low<high):\n",
    "        partition = f(arr,low,high)\n",
    "        quick_sort(arr,low,partition-1)\n",
    "        quick_sort(arr,partition+1,high)\n",
    "    return arr\n",
    "\n",
    "def f(arr, low,high):\n",
    "    pivot=arr[low]\n",
    "    i=low+1\n",
    "    j=high \n",
    "    \n",
    "    while(i<=j):\n",
    "        while(arr[i]<=pivot and i<=high):\n",
    "            i+=1\n",
    "        while(arr[j]>pivot and j>=low+1):\n",
    "            j-=1\n",
    "            \n",
    "        if(i<j):\n",
    "            arr[i],arr[j]=arr[j],arr[i]  \n",
    "    arr[low],arr[j]=arr[j],arr[low]    \n",
    "    return j   \n",
    "                \n",
    "q = [3, 1, 4, 2, 2, 5]\n",
    "sorted_q_desc = quick_sort(q, 0,5)\n",
    "print(sorted_q_desc)            "
   ]
  },
  {
   "cell_type": "code",
   "execution_count": null,
   "metadata": {},
   "outputs": [],
   "source": []
  }
 ],
 "metadata": {
  "kernelspec": {
   "display_name": "Python 3",
   "language": "python",
   "name": "python3"
  },
  "language_info": {
   "codemirror_mode": {
    "name": "ipython",
    "version": 3
   },
   "file_extension": ".py",
   "mimetype": "text/x-python",
   "name": "python",
   "nbconvert_exporter": "python",
   "pygments_lexer": "ipython3",
   "version": "3.13.0"
  }
 },
 "nbformat": 4,
 "nbformat_minor": 2
}
