{
 "cells": [
  {
   "cell_type": "markdown",
   "metadata": {},
   "source": [
    "# Implementation of stack"
   ]
  },
  {
   "cell_type": "code",
   "execution_count": 11,
   "metadata": {},
   "outputs": [
    {
     "name": "stdout",
     "output_type": "stream",
     "text": [
      "5\n",
      "4\n",
      "[8, 7, 6, 5, 4]\n"
     ]
    }
   ],
   "source": [
    "stack=[]\n",
    "\n",
    "stack.append(8)\n",
    "stack.append(7)\n",
    "stack.append(6)\n",
    "stack.append(5)\n",
    "stack.append(4)\n",
    "stack.append(3)\n",
    "stack.pop()\n",
    "top=stack[len(stack)-1]\n",
    "size=len(stack)\n",
    "print(size)\n",
    "print(top)\n",
    "print(stack)"
   ]
  },
  {
   "cell_type": "markdown",
   "metadata": {},
   "source": [
    "## stack implementation using a linked list."
   ]
  },
  {
   "cell_type": "code",
   "execution_count": null,
   "metadata": {},
   "outputs": [
    {
     "name": "stdout",
     "output_type": "stream",
     "text": [
      "Stack: 10->9->8->7->6->5->4->3->2->1\n",
      "Pop: 10\n",
      "Pop: 9\n",
      "Pop: 8\n",
      "Pop: 7\n",
      "Pop: 6\n",
      "Stack: 5->4->3->2->1\n"
     ]
    }
   ],
   "source": [
    "# Python program to demonstrate\n",
    "# stack implementation using a linked list.\n",
    "# node class\n",
    "\n",
    "class Node:\n",
    "    def __init__(self, value):\n",
    "        self.value = value\n",
    "        self.next = None\n",
    "\n",
    "class Stack:\n",
    "\n",
    "    # Initializing a stack.\n",
    "    # Use a dummy node, which is\n",
    "    # easier for handling edge cases.\n",
    "    def __init__(self):\n",
    "        self.head = Node(\"head\")\n",
    "        self.size = 0\n",
    "\n",
    "    # String representation of the stack\n",
    "    def __str__(self):\n",
    "        cur = self.head.next\n",
    "        out = \"\"\n",
    "        while cur:\n",
    "            out += str(cur.value) + \"->\"\n",
    "            cur = cur.next\n",
    "        return out[:-2]\n",
    "\n",
    "    # Get the current size of the stack\n",
    "    def getSize(self):\n",
    "        return self.size\n",
    "\n",
    "    # Check if the stack is empty\n",
    "    def isEmpty(self):\n",
    "        return self.size == 0\n",
    "\n",
    "    # Get the top item of the stack\n",
    "    def peek(self):\n",
    "\n",
    "        # Sanitary check to see if we\n",
    "        # are peeking an empty stack.\n",
    "        if self.isEmpty():\n",
    "            return None\n",
    "\n",
    "        return self.head.next.value\n",
    "\n",
    "    # Push a value into the stack.\n",
    "    def push(self, value):\n",
    "        node = Node(value)\n",
    "        node.next = self.head.next # Make the new node point to the current head\n",
    "        self.head.next = node #!!! # Update the head to be the new node\n",
    "        self.size += 1\n",
    "\n",
    "\n",
    "    # Remove a value from the stack and return.\n",
    "    def pop(self):\n",
    "        if self.isEmpty():\n",
    "            raise Exception(\"Popping from an empty stack\")\n",
    "        remove = self.head.next\n",
    "        self.head.next = remove.next #!!! changed\n",
    "        self.size -= 1\n",
    "        return remove.value\n",
    "\n",
    "\n",
    "# Driver Code\n",
    "if __name__ == \"__main__\":\n",
    "    stack = Stack()\n",
    "    for i in range(1, 11):\n",
    "        stack.push(i)\n",
    "    print(f\"Stack: {stack}\")\n",
    "\n",
    "    for _ in range(1, 6):\n",
    "        top_value = stack.pop()\n",
    "        print(f\"Pop: {top_value}\") # variable name changed\n",
    "    print(f\"Stack: {stack}\")"
   ]
  },
  {
   "cell_type": "markdown",
   "metadata": {},
   "source": [
    "### Stack using arrays"
   ]
  },
  {
   "cell_type": "code",
   "execution_count": 20,
   "metadata": {},
   "outputs": [
    {
     "name": "stdout",
     "output_type": "stream",
     "text": [
      "Stack: 1->2->3->4->5->6->7->8->9->10\n",
      "Pop: 10\n",
      "Pop: 9\n",
      "Pop: 8\n",
      "Pop: 7\n",
      "Pop: 6\n",
      "Stack: 1->2->3->4->5\n",
      "5\n"
     ]
    }
   ],
   "source": [
    "class stack:\n",
    "    def __init__(self,max_size):\n",
    "\n",
    "        self.stack = []  # Initialize an empty list\n",
    "        self.max_size = max_size # Set the maximum size of the stack\n",
    "        self.top = -1  # Initialize the top pointer to -1 (indicating an empty stack)\n",
    "    \n",
    "    def __str__(self):\n",
    "        return \"->\".join(map(str, self.stack))\n",
    "                         \n",
    "    def push(self,x):\n",
    "        if self.max_size is not None and len(self.stack) >= self.max_size:\n",
    "            raise OverflowError(\"Stack overflow\")\n",
    "       \n",
    "        self.top+=1\n",
    "        self.stack.append(x)\n",
    "        \n",
    "    def pop(self):\n",
    "        if self.top==-1:\n",
    "            return\n",
    "        self.top=self.top-1\n",
    "        return self.stack.pop()\n",
    "        \n",
    "    def size(self):\n",
    "        return self.top+1\n",
    "# Driver Code\n",
    "if __name__ == \"__main__\":\n",
    "    st = stack(12)\n",
    "    for i in range(1, 11):\n",
    "        st.push(i)\n",
    "    print(f\"Stack: {st}\")\n",
    "\n",
    "    for _ in range(1, 6):\n",
    "        top_value = st.pop()\n",
    "        print(f\"Pop: {top_value}\") # variable name changed\n",
    "    print(f\"Stack: {st}\")  \n",
    "    print(st.size())              "
   ]
  },
  {
   "cell_type": "markdown",
   "metadata": {},
   "source": [
    "### Implementation of stack using  Queues"
   ]
  },
  {
   "cell_type": "code",
   "execution_count": 19,
   "metadata": {},
   "outputs": [
    {
     "data": {
      "text/plain": [
       "2"
      ]
     },
     "execution_count": 19,
     "metadata": {},
     "output_type": "execute_result"
    }
   ],
   "source": [
    "from queue import Queue\n",
    "class stack:\n",
    "    def __init__(self):\n",
    "        self.size=0\n",
    "        self.queue=Queue()\n",
    "        \n",
    "        \n",
    "    def push(self, x):\n",
    "        # Increment the size of the stack\n",
    "        self.size += 1\n",
    "        \n",
    "        # Add the new element to the queue\n",
    "        self.queue.put(x)\n",
    "        \n",
    "        # Rearrange the queue to make the last added element the first\n",
    "        for _ in range(self.size - 1):\n",
    "            self.queue.put(self.queue.get())   \n",
    "     \n",
    "    def pop(self):\n",
    "        if self.size==0:\n",
    "            return \"The Stack is empty\"\n",
    "        self.size-=1\n",
    "        return self.queue.get() \n",
    "    \n",
    "    def top(self):\n",
    "        if self.size==0:\n",
    "             print(\"The Stack is empty\")\n",
    "             return None\n",
    "        \n",
    "        return self.queue.queue[0]\n",
    "    \n",
    "    def is_empty(self):\n",
    "        if self.size==0:\n",
    "            return True\n",
    "        return False\n",
    "    \n",
    "    def get_size(self):\n",
    "        return self.size\n",
    "            \n",
    "s = stack()\n",
    "s.push(10)\n",
    "s.push(20)\n",
    "s.push(30)    \n",
    "s.pop()    \n",
    "s.top() \n",
    "s.is_empty() \n",
    "s.get_size() \n",
    "        "
   ]
  },
  {
   "cell_type": "code",
   "execution_count": 7,
   "metadata": {},
   "outputs": [
    {
     "name": "stdout",
     "output_type": "stream",
     "text": [
      "30\n",
      "30\n",
      "20\n",
      "1\n"
     ]
    }
   ],
   "source": [
    "from queue import Queue\n",
    "\n",
    "class Stack:\n",
    "    def __init__(self):\n",
    "        self.queue = Queue()  # Single queue to implement the stack\n",
    "        self.size = 0\n",
    "\n",
    "    def push(self, x):\n",
    "        # Increment the size of the stack\n",
    "        self.size += 1\n",
    "        \n",
    "        # Add the new element to the queue\n",
    "        self.queue.put(x)\n",
    "        \n",
    "        # Rearrange the queue to make the last added element the first\n",
    "        for _ in range(self.size - 1):\n",
    "            self.queue.put(self.queue.get())\n",
    "    \n",
    "    def pop(self):\n",
    "        if self.is_empty():\n",
    "            print(\"Stack is empty!\")\n",
    "            return None\n",
    "        # Remove the top element\n",
    "        self.size -= 1\n",
    "        return self.queue.get()\n",
    "    \n",
    "    def top(self):\n",
    "        if self.is_empty():\n",
    "            print(\"Stack is empty!\")\n",
    "            return None\n",
    "        # Get the front element without removing it\n",
    "        return self.queue.queue[0]\n",
    "    \n",
    "    def is_empty(self):\n",
    "        return self.size == 0\n",
    "    \n",
    "    def get_size(self):\n",
    "        return self.size\n",
    "\n",
    "# Example usage:\n",
    "s = Stack()\n",
    "s.push(10)\n",
    "s.push(20)\n",
    "s.push(30)\n",
    "print(s.top())  # Output: 30\n",
    "print(s.pop())  # Output: 30\n",
    "print(s.pop())  # Output: 20\n",
    "print(s.get_size())  # Output: 1\n"
   ]
  },
  {
   "cell_type": "markdown",
   "metadata": {},
   "source": [
    "### Implementation to GetMin()"
   ]
  },
  {
   "cell_type": "code",
   "execution_count": 9,
   "metadata": {},
   "outputs": [],
   "source": [
    "class MinStack:\n",
    "    def __init__(self):\n",
    "        self.stack = []\n",
    "        self.min_val = None\n",
    "\n",
    "    def push(self, val):\n",
    "        if not self.stack:\n",
    "            self.stack.append(val)\n",
    "            self.min_val = val\n",
    "        elif val >= self.min_val:\n",
    "            self.stack.append(val)\n",
    "        else:\n",
    "            # Store encoded value\n",
    "            encoded_val = 2 * val - self.min_val\n",
    "            self.stack.append(encoded_val)\n",
    "            self.min_val = val\n",
    "\n",
    "    def pop(self):\n",
    "        if not self.stack:\n",
    "            return\n",
    "        top = self.stack.pop()\n",
    "        if top < self.min_val:\n",
    "            # Decode previous min_val\n",
    "            self.min_val = 2 * self.min_val - top\n",
    "\n",
    "    def top(self):\n",
    "        if not self.stack:\n",
    "            raise IndexError(\"Stack is empty\")\n",
    "        top = self.stack[-1]\n",
    "        if top < self.min_val:\n",
    "            return self.min_val\n",
    "        else:\n",
    "            return top\n",
    "\n",
    "    def getMin(self):\n",
    "        if self.min_val is None:\n",
    "            raise IndexError(\"Stack is empty\")\n",
    "        return self.min_val\n"
   ]
  },
  {
   "cell_type": "code",
   "execution_count": 10,
   "metadata": {},
   "outputs": [
    {
     "name": "stdout",
     "output_type": "stream",
     "text": [
      "3\n",
      "2\n",
      "2\n",
      "3\n"
     ]
    }
   ],
   "source": [
    "minstack = MinStack()\n",
    "minstack.push(3)\n",
    "minstack.push(5)\n",
    "print(minstack.getMin())  # Output: 3\n",
    "minstack.push(2)\n",
    "minstack.push(2)\n",
    "print(minstack.getMin())  # Output: 2\n",
    "minstack.pop()\n",
    "print(minstack.getMin())  # Output: 2\n",
    "minstack.pop()\n",
    "print(minstack.getMin())  # Output: 3\n"
   ]
  },
  {
   "cell_type": "markdown",
   "metadata": {},
   "source": [
    "So when you:\n",
    "\n",
    "- Push: Store (val, min(val, current_min))\n",
    "- Pop: Just remove the top\n",
    "- GetMin: Always accessible from stack[-1][1]"
   ]
  }
 ],
 "metadata": {
  "kernelspec": {
   "display_name": "Python 3",
   "language": "python",
   "name": "python3"
  },
  "language_info": {
   "codemirror_mode": {
    "name": "ipython",
    "version": 3
   },
   "file_extension": ".py",
   "mimetype": "text/x-python",
   "name": "python",
   "nbconvert_exporter": "python",
   "pygments_lexer": "ipython3",
   "version": "3.13.0"
  }
 },
 "nbformat": 4,
 "nbformat_minor": 2
}
