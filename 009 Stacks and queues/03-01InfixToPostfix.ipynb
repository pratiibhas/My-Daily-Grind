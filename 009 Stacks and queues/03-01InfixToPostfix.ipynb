{
 "cells": [
  {
   "cell_type": "code",
   "execution_count": 6,
   "metadata": {},
   "outputs": [
    {
     "name": "stdout",
     "output_type": "stream",
     "text": [
      "abcd^e-fgh*+^*+i-\n"
     ]
    }
   ],
   "source": [
    "def priority(op):\n",
    "    \"\"\"Return the priority of the operator.\"\"\"\n",
    "    if op == '+' or op == '-':\n",
    "        return 1\n",
    "    if op == '*' or op == '/':\n",
    "        return 2\n",
    "    if op == '^':\n",
    "        return 3\n",
    "    return 0\n",
    "def InfixToPostfix(exp,n):\n",
    "    i=0\n",
    "    stack=[]\n",
    "    ans=\"\"\n",
    "    while(i<n):\n",
    "        if(exp[i]>='A' and exp[i]<='Z')or (exp[i]>='a' and exp[i]<='z') or (exp[i]>='0' and exp[i]<='9'):\n",
    "            ans+=exp[i]\n",
    "           \n",
    "        elif(exp[i]==\"(\"):\n",
    "            stack.append(exp[i])\n",
    "        elif(exp[i]==\")\"):\n",
    "            while stack and stack[-1] != '(':\n",
    "                 ans += stack.pop()      \n",
    "            if stack and stack[-1] == '(':\n",
    "                stack.pop()\n",
    "        else:\n",
    "            while stack and priority(exp[i]) <= priority(stack[-1]):\n",
    "                ans+=stack.pop()\n",
    "                \n",
    "            stack.append(exp[i])\n",
    "        i+=1 \n",
    "    while stack:\n",
    "        ans+=stack.pop()\n",
    "        \n",
    "    return ans       \n",
    "expression = \"a+b*(c^d-e)^(f+g*h)-i\"\n",
    "print(InfixToPostfix(expression,len(expression)))  # Expected Output: abcd^e-fgh*+^*+i-        "
   ]
  },
  {
   "cell_type": "code",
   "execution_count": 3,
   "metadata": {},
   "outputs": [
    {
     "name": "stdout",
     "output_type": "stream",
     "text": [
      "abcd^e-fgh*+^*+i-\n"
     ]
    }
   ],
   "source": [
    "def priority(op):\n",
    "    \"\"\"Return the priority of the operator.\"\"\"\n",
    "    if op == '+' or op == '-':\n",
    "        return 1\n",
    "    if op == '*' or op == '/':\n",
    "        return 2\n",
    "    if op == '^':\n",
    "        return 3\n",
    "    return 0\n",
    "\n",
    "def InfixToPostfix(exp):\n",
    "    stack = []\n",
    "    ans = \"\"\n",
    "    n = len(exp)\n",
    "    for i in range(n):\n",
    "        # If the character is an operand, add it to the result\n",
    "        if exp[i].isalnum():  # Checks for letters and numbers\n",
    "            ans += exp[i]\n",
    "        # If the character is '(', push it to the stack\n",
    "        elif exp[i] == '(':\n",
    "            stack.append(exp[i])\n",
    "        # If the character is ')', pop and output from the stack\n",
    "        # until an '(' is encountered\n",
    "        elif exp[i] == ')':\n",
    "            while stack and stack[-1] != '(':\n",
    "                ans += stack.pop()\n",
    "            if stack and stack[-1] == '(':\n",
    "                stack.pop()\n",
    "        # If an operator is encountered\n",
    "        else:\n",
    "            while stack and priority(exp[i]) <= priority(stack[-1]):\n",
    "                ans += stack.pop()\n",
    "            stack.append(exp[i])\n",
    "    \n",
    "    # Pop all the operators from the stack\n",
    "    while stack:\n",
    "        ans += stack.pop()\n",
    "    \n",
    "    return ans\n",
    "\n",
    "# Example usage:\n",
    "expression = \"a+b*(c^d-e)^(f+g*h)-i\"\n",
    "print(InfixToPostfix(expression))  # Expected Output: abcd^e-fgh*+^*+i-\n"
   ]
  },
  {
   "cell_type": "code",
   "execution_count": null,
   "metadata": {},
   "outputs": [],
   "source": []
  },
  {
   "cell_type": "code",
   "execution_count": null,
   "metadata": {},
   "outputs": [],
   "source": []
  },
  {
   "cell_type": "code",
   "execution_count": null,
   "metadata": {},
   "outputs": [],
   "source": []
  }
 ],
 "metadata": {
  "kernelspec": {
   "display_name": "Python 3",
   "language": "python",
   "name": "python3"
  },
  "language_info": {
   "codemirror_mode": {
    "name": "ipython",
    "version": 3
   },
   "file_extension": ".py",
   "mimetype": "text/x-python",
   "name": "python",
   "nbconvert_exporter": "python",
   "pygments_lexer": "ipython3",
   "version": "3.13.0"
  }
 },
 "nbformat": 4,
 "nbformat_minor": 2
}
