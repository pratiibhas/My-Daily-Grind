{
 "cells": [
  {
   "cell_type": "markdown",
   "id": "0ff4ff2a",
   "metadata": {},
   "source": [
    "#  Trapping Rain Water\n",
    "Given n non-negative integers representing an elevation map where the width of each bar is 1, compute how much water it can trap after raining.\n",
    "\n",
    "Input: height = [0,1,0,2,1,0,1,3,2,1,2,1]\n",
    "Output: 6\n",
    "Explanation: The above elevation map (black section) is represented by array [0,1,0,2,1,0,1,3,2,1,2,1]. In this case, 6 units of rain water (blue section) are being trapped."
   ]
  },
  {
   "cell_type": "markdown",
   "id": "1afbfcca",
   "metadata": {},
   "source": [
    "## First approach \n",
    "- keeping two mwtrices , one that keep track of previous large values, other that keeps track of large values on the right."
   ]
  },
  {
   "cell_type": "code",
   "execution_count": 4,
   "id": "5e94a4a7",
   "metadata": {},
   "outputs": [],
   "source": [
    "\n",
    "def trap(height):\n",
    "    n= len(height)\n",
    "    prefixMax = [0] * n\n",
    "    prefixMax[0] = height[0]\n",
    "    \n",
    "    for i in range(n):\n",
    "        prefixMax[i]= max(prefixMax[i-1],height[i])\n",
    "\n",
    "    suffixMax= [0]*n\n",
    "    suffixMax[n-1]=height[n-1]\n",
    "    for i in range(n-2,-1,-1):\n",
    "        suffixMax[i]= max(suffixMax[i+1],height[i])\n",
    "\n",
    "    total =0\n",
    "    for i in range(n):\n",
    "        leftmax= prefixMax[i] \n",
    "        rightmax = suffixMax[i]\n",
    "\n",
    "        total+= max(min(leftmax,rightmax)-height[i],0)\n",
    "    return total        \n",
    "            "
   ]
  },
  {
   "cell_type": "code",
   "execution_count": 5,
   "id": "5335ee21",
   "metadata": {},
   "outputs": [
    {
     "name": "stdout",
     "output_type": "stream",
     "text": [
      "The water that can be trapped is 6\n"
     ]
    }
   ],
   "source": [
    "arr = [0, 1, 0, 2, 1, 0, 1, 3, 2, 1, 2, 1]\n",
    "print(f\"The water that can be trapped is {trap(arr)}\")"
   ]
  },
  {
   "cell_type": "markdown",
   "id": "f0f5dfb5",
   "metadata": {},
   "source": [
    "## Another approach\n",
    "- keeping two pointers and comparing their values and moving the smaller one."
   ]
  },
  {
   "cell_type": "code",
   "execution_count": 6,
   "id": "7fcd55c5",
   "metadata": {},
   "outputs": [],
   "source": [
    "def trapped(height):\n",
    "    n =len(height)\n",
    "    Lmax, Rmax,total,l,r= 0,0,0,0,n-1\n",
    "    while( l<r):\n",
    "        if (height[l]<=height[r]):\n",
    "            if Lmax>height[l]:\n",
    "                total+=Lmax - height[l]\n",
    "            else:\n",
    "                Lmax= height[l]\n",
    "            l = l+1\n",
    "        else:\n",
    "            if Rmax>height[r]:\n",
    "                total+=Rmax - height[r]\n",
    "            else:\n",
    "                Rmax= height[r]\n",
    "            r =r-1\n",
    "    return total                    "
   ]
  },
  {
   "cell_type": "code",
   "execution_count": 7,
   "id": "5ca8d4ef",
   "metadata": {},
   "outputs": [
    {
     "name": "stdout",
     "output_type": "stream",
     "text": [
      "The water that can be trapped is 6\n"
     ]
    }
   ],
   "source": [
    "arr = [0, 1, 0, 2, 1, 0, 1, 3, 2, 1, 2, 1]\n",
    "print(f\"The water that can be trapped is {trapped(arr)}\")"
   ]
  }
 ],
 "metadata": {
  "kernelspec": {
   "display_name": "Python 3",
   "language": "python",
   "name": "python3"
  },
  "language_info": {
   "codemirror_mode": {
    "name": "ipython",
    "version": 3
   },
   "file_extension": ".py",
   "mimetype": "text/x-python",
   "name": "python",
   "nbconvert_exporter": "python",
   "pygments_lexer": "ipython3",
   "version": "3.13.0"
  }
 },
 "nbformat": 4,
 "nbformat_minor": 5
}
