{
 "cells": [
  {
   "cell_type": "code",
   "execution_count": 25,
   "metadata": {},
   "outputs": [
    {
     "name": "stdout",
     "output_type": "stream",
     "text": [
      "Infix Expression: (p+q)*(c-d)\n",
      "Prefix Expression: *+pq-cd\n"
     ]
    }
   ],
   "source": [
    "def is_operator(c):\n",
    "    return not c.isalnum()\n",
    "\n",
    "def get_priority(c):\n",
    "    if c == '+' or c == '-':\n",
    "        return 1\n",
    "    elif c == '*' or c == '/':\n",
    "        return 2\n",
    "    elif c == '^':\n",
    "        return 3\n",
    "    return 0\n",
    "\n",
    "def infix_to_postfix(infix):\n",
    "    infix = '(' + infix + ')'\n",
    "    stack = []\n",
    "    output = \"\"\n",
    "\n",
    "    for char in infix:\n",
    "        if char.isalnum():\n",
    "            output += char\n",
    "        elif char == '(':\n",
    "            stack.append(char)\n",
    "        elif char == ')':\n",
    "            while stack[-1] != '(':\n",
    "                output += stack.pop()\n",
    "            stack.pop()  # Remove '(' from the stack\n",
    "        else:\n",
    "            if is_operator(stack[-1]) if stack else False:\n",
    "                if char == '^':\n",
    "                    while stack and get_priority(char) <= get_priority(stack[-1]):\n",
    "                        output += stack.pop()\n",
    "                else:\n",
    "                    while stack and get_priority(char) < get_priority(stack[-1]):\n",
    "                        output += stack.pop()\n",
    "            stack.append(char)\n",
    "\n",
    "    while stack:\n",
    "        output += stack.pop()\n",
    "\n",
    "    return output\n",
    "\n",
    "def infix_to_prefix(infix):\n",
    "    # Reverse the infix expression\n",
    "    infix = infix[::-1]\n",
    "    # Swap '(' with ')' and vice versa\n",
    "    infix = ''.join(['(' if c == ')' else ')' if c == '(' else c for c in infix])\n",
    "    # Get the postfix expression of the reversed expression\n",
    "    prefix = infix_to_postfix(infix)\n",
    "    # Reverse the postfix expression to get prefix\n",
    "    return prefix[::-1]\n",
    "\n",
    "# Example Usage\n",
    "expression = \"(p+q)*(c-d)\"\n",
    "print(\"Infix Expression:\", expression)\n",
    "print(\"Prefix Expression:\", infix_to_prefix(expression))\n"
   ]
  },
  {
   "cell_type": "code",
   "execution_count": 46,
   "metadata": {},
   "outputs": [
    {
     "name": "stdout",
     "output_type": "stream",
     "text": [
      "Postfix Expression: ab+c*\n",
      "Infix Expression: ((a+b)*c)\n"
     ]
    }
   ],
   "source": [
    "def postfixToInfix(exp):\n",
    "    n = len(exp)\n",
    "    stack = []\n",
    "    \n",
    "    for i in range(n):\n",
    "        if exp[i].isalnum():  # Check if the character is an operand\n",
    "            stack.append(exp[i])\n",
    "        else:\n",
    "            t1 = stack.pop()  # Operand 1 (top of the stack)\n",
    "            t2 = stack.pop()  # Operand 2 (next from the top of the stack)\n",
    "            # Construct infix expression\n",
    "            con = \"(\" + t2 + exp[i] + t1 + \")\"\n",
    "            stack.append(con)  # Push back the constructed expression\n",
    "\n",
    "    return stack[-1]  # Final expression will be at the top of the stack\n",
    "\n",
    "# Example Usage\n",
    "postfix_expression = \"ab+c*\"\n",
    "infix_expression = postfixToInfix(postfix_expression)\n",
    "print(\"Postfix Expression:\", postfix_expression)\n",
    "print(\"Infix Expression:\", infix_expression)\n"
   ]
  },
  {
   "cell_type": "code",
   "execution_count": 49,
   "metadata": {},
   "outputs": [
    {
     "name": "stdout",
     "output_type": "stream",
     "text": [
      "Prefix Expression: -+a*b^-^cde+f*ghi\n",
      "Infix Expression: ((a+(b*(((c^d)-e)^(f+(g*h)))))-i)\n"
     ]
    }
   ],
   "source": [
    "def getPrecedence(op):\n",
    "    \"\"\"Return the precedence of the operator.\"\"\"\n",
    "    if op == '+' or op == '-':\n",
    "        return 1\n",
    "    if op == '*' or op == '/':\n",
    "        return 2\n",
    "    if op == '^':\n",
    "        return 3\n",
    "    return 0\n",
    "\n",
    "def prefixToInfix(exp):\n",
    "    stack = []\n",
    "    \n",
    "    # Traverse the prefix expression from right to left\n",
    "    for i in range(len(exp) - 1, -1, -1):\n",
    "        if exp[i].isalnum():  # If operand, push to stack\n",
    "            stack.append(exp[i])\n",
    "        else:  # If operator\n",
    "            t1 = stack.pop()\n",
    "            t2 = stack.pop()\n",
    "            # Determine if parentheses are necessary based on operator precedence\n",
    "            if (i + 1 < len(exp) and getPrecedence(exp[i]) > getPrecedence(exp[i + 1])):\n",
    "                con = \"(\" + t1 + exp[i] + t2 + \")\"\n",
    "            else:\n",
    "                con =\"(\" + t1 + exp[i] + t2 + \")\"    \n",
    "            stack.append(con)\n",
    "    \n",
    "    return stack[-1]  # Final result\n",
    "\n",
    "# Example usage\n",
    "expression = \"-+a*b^-^cde+f*ghi\"\n",
    "print(\"Prefix Expression:\", expression)\n",
    "print(\"Infix Expression:\", prefixToInfix(expression))\n"
   ]
  },
  {
   "cell_type": "code",
   "execution_count": 64,
   "metadata": {},
   "outputs": [
    {
     "name": "stdout",
     "output_type": "stream",
     "text": [
      "Postfix Expression: ab+c*\n",
      "PostfixToPrefix : *+abc\n"
     ]
    }
   ],
   "source": [
    "def PostfixToPrefix(exp):\n",
    "    n=len(exp)\n",
    "    i=0\n",
    "    stack=[]\n",
    "    \n",
    "    while(i<n):\n",
    "        if(exp[i].isalnum()):\n",
    "            stack.append(exp[i])\n",
    "        else:\n",
    "            t1=stack.pop()\n",
    "            \n",
    "            t2=stack.pop()\n",
    "           \n",
    "            con= exp[i]+t2+t1\n",
    "            stack.append(con)  \n",
    "        i+=1   \n",
    "    return stack[-1] \n",
    "# Example usage\n",
    "expression = \"ab+c*\"\n",
    "print(\"Postfix Expression:\", expression)\n",
    "print(\"PostfixToPrefix :\", PostfixToPrefix(expression))    "
   ]
  }
 ],
 "metadata": {
  "kernelspec": {
   "display_name": "Python 3",
   "language": "python",
   "name": "python3"
  },
  "language_info": {
   "codemirror_mode": {
    "name": "ipython",
    "version": 3
   },
   "file_extension": ".py",
   "mimetype": "text/x-python",
   "name": "python",
   "nbconvert_exporter": "python",
   "pygments_lexer": "ipython3",
   "version": "3.13.0"
  }
 },
 "nbformat": 4,
 "nbformat_minor": 2
}
