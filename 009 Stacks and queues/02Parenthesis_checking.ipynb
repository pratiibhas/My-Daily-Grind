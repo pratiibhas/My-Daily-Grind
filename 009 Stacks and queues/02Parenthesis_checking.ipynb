{
 "cells": [
  {
   "cell_type": "code",
   "execution_count": 1,
   "metadata": {},
   "outputs": [],
   "source": [
    "class Solution:\n",
    "    def isValid(self, s: str) -> bool:\n",
    "        stack=[]\n",
    "        for i in range(len(s)):\n",
    "\n",
    "           if s[i]==\"(\" or s[i]==\"{\" or s[i]==\"[\":\n",
    "               stack.append(s[i])\n",
    "           else:\n",
    "                if not stack:\n",
    "                    return False \n",
    "                if(s[i]==\")\" and stack[-1]==\"(\") or \\\n",
    "                (s[i]==\"}\" and stack[-1]==\"{\") or \\\n",
    "                (s[i]==\"]\" and stack[-1]==\"[\"):\n",
    "                    stack.pop()\n",
    "                else:\n",
    "                    return False\n",
    "\n",
    "        return not stack "
   ]
  }
 ],
 "metadata": {
  "kernelspec": {
   "display_name": "Python 3",
   "language": "python",
   "name": "python3"
  },
  "language_info": {
   "codemirror_mode": {
    "name": "ipython",
    "version": 3
   },
   "file_extension": ".py",
   "mimetype": "text/x-python",
   "name": "python",
   "nbconvert_exporter": "python",
   "pygments_lexer": "ipython3",
   "version": "3.13.0"
  }
 },
 "nbformat": 4,
 "nbformat_minor": 2
}
