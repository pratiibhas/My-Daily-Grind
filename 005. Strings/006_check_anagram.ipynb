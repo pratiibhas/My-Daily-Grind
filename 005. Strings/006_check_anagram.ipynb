{
 "cells": [
  {
   "cell_type": "markdown",
   "id": "4df1dfd9",
   "metadata": {},
   "source": [
    "## Valid Anagram\n",
    "Given two strings s and t, return true if t is an anagram of s, and false otherwise.\n",
    "- Input: s = \"anagram\", t = \"nagaram\"\n",
    "\n",
    "- Output: true"
   ]
  },
  {
   "cell_type": "code",
   "execution_count": 3,
   "id": "aa783d35",
   "metadata": {},
   "outputs": [],
   "source": [
    "def isAnagram( s, t):\n",
    "        \"\"\"\n",
    "        :type s: str\n",
    "        :type t: str\n",
    "        :rtype: bool\n",
    "        \"\"\"\n",
    "        if(len(s)!=len(t)):\n",
    "            return False\n",
    "        freq = []\n",
    "        frq=[]\n",
    "        for i in range(len(s)):\n",
    "            res = ord(s[i]) - ord('a')\n",
    "            freq.append(res)\n",
    "            ret = ord(t[i]) - ord('a')\n",
    "            frq.append(ret)\n",
    "        if(sorted(freq)==sorted(frq)):\n",
    "            return True  \n",
    "        return False "
   ]
  },
  {
   "cell_type": "code",
   "execution_count": 4,
   "id": "b22e4c1d",
   "metadata": {},
   "outputs": [
    {
     "data": {
      "text/plain": [
       "True"
      ]
     },
     "execution_count": 4,
     "metadata": {},
     "output_type": "execute_result"
    }
   ],
   "source": [
    "s = \"anagram\"\n",
    "t = \"nagaram\"\n",
    "isAnagram( s, t)"
   ]
  },
  {
   "cell_type": "code",
   "execution_count": null,
   "id": "3e4f1844",
   "metadata": {},
   "outputs": [],
   "source": [
    "def isAnagram(s, t):\n",
    "        \"\"\"\n",
    "        :type s: str\n",
    "        :type t: str\n",
    "        :rtype: bool\n",
    "        \"\"\"\n",
    "        if(len(s)!=len(t)):\n",
    "            return False\n",
    "        freq = []\n",
    "        frq=[]\n",
    "        for i in range(len(s)):\n",
    "            freq.append(s[i])\n",
    "            frq.append(t[i])\n",
    "        if(sorted(freq)==sorted(frq)): # check if both lists are equal after sorting them\n",
    "            return True  \n",
    "        return False "
   ]
  },
  {
   "cell_type": "code",
   "execution_count": 6,
   "id": "f2665160",
   "metadata": {},
   "outputs": [
    {
     "data": {
      "text/plain": [
       "True"
      ]
     },
     "execution_count": 6,
     "metadata": {},
     "output_type": "execute_result"
    }
   ],
   "source": [
    "s = \"anagram\"\n",
    "t = \"nagaram\"\n",
    "isAnagram( s, t)"
   ]
  }
 ],
 "metadata": {
  "kernelspec": {
   "display_name": "Python 3",
   "language": "python",
   "name": "python3"
  },
  "language_info": {
   "codemirror_mode": {
    "name": "ipython",
    "version": 3
   },
   "file_extension": ".py",
   "mimetype": "text/x-python",
   "name": "python",
   "nbconvert_exporter": "python",
   "pygments_lexer": "ipython3",
   "version": "3.13.0"
  }
 },
 "nbformat": 4,
 "nbformat_minor": 5
}
