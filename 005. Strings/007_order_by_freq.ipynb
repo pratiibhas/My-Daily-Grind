{
 "cells": [
  {
   "cell_type": "markdown",
   "id": "484cc29a",
   "metadata": {},
   "source": [
    "## Sort Characters By Frequency\n",
    "Given a string s, sort it in decreasing order based on the frequency of the characters. The frequency of a character is the number of times it appears in the string.\n",
    "\n",
    "Return the sorted string. If there are multiple answers, return any of them.\n",
    "\n",
    "Example 1:\n",
    "\n",
    "- Input: s = \"tree\"\n",
    "- Output: \"eert\"\n",
    "- Explanation: 'e' appears twice while 'r' and 't' both appear once.\n",
    "So 'e' must appear before both 'r' and 't'. Therefore \"eetr\" is also a valid answer."
   ]
  },
  {
   "cell_type": "markdown",
   "id": "cffa4cb5",
   "metadata": {},
   "source": [
    "### Using dicctionary manually"
   ]
  },
  {
   "cell_type": "code",
   "execution_count": null,
   "id": "fbd3ea93",
   "metadata": {},
   "outputs": [],
   "source": [
    "def frequencySort(s: str) -> str:\n",
    "        freq = {}\n",
    "        res=''\n",
    "        # add all values to a dictionary along with their frequency\n",
    "        for ch in s:\n",
    "            freq[ch] = freq.get(ch, 0) + 1\n",
    "        \n",
    "        # Sort characters by decreasing frequency\n",
    "        sorted_chars = sorted(freq, key=lambda x: freq[x], reverse=True)\n",
    "        \n",
    "        # append in our resulting string multiplied by its frequency\n",
    "        for ch in sorted_chars:\n",
    "            res += ch * freq[ch]\n",
    "        return res     "
   ]
  },
  {
   "cell_type": "code",
   "execution_count": 3,
   "id": "c5516da7",
   "metadata": {},
   "outputs": [
    {
     "data": {
      "text/plain": [
       "'eeVna'"
      ]
     },
     "execution_count": 3,
     "metadata": {},
     "output_type": "execute_result"
    }
   ],
   "source": [
    "frequencySort('Veena')"
   ]
  },
  {
   "cell_type": "markdown",
   "id": "a9ab56c2",
   "metadata": {},
   "source": [
    "### Using Counter (Cleaner code)"
   ]
  },
  {
   "cell_type": "code",
   "execution_count": 4,
   "id": "2dc7164e",
   "metadata": {},
   "outputs": [],
   "source": [
    "from collections import Counter\n",
    "def frequencySort(s: str) -> str:\n",
    "        freq = Counter(s)\n",
    "        return \"\".join(ch * count for ch, count in freq.most_common())"
   ]
  },
  {
   "cell_type": "code",
   "execution_count": 6,
   "id": "5171419a",
   "metadata": {},
   "outputs": [
    {
     "data": {
      "text/plain": [
       "'aaaeennuuVgopl'"
      ]
     },
     "execution_count": 6,
     "metadata": {},
     "output_type": "execute_result"
    }
   ],
   "source": [
    "frequencySort('Veenuugoapalan')"
   ]
  }
 ],
 "metadata": {
  "kernelspec": {
   "display_name": "Python 3",
   "language": "python",
   "name": "python3"
  },
  "language_info": {
   "codemirror_mode": {
    "name": "ipython",
    "version": 3
   },
   "file_extension": ".py",
   "mimetype": "text/x-python",
   "name": "python",
   "nbconvert_exporter": "python",
   "pygments_lexer": "ipython3",
   "version": "3.13.0"
  }
 },
 "nbformat": 4,
 "nbformat_minor": 5
}
