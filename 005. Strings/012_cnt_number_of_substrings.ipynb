{
 "cells": [
  {
   "cell_type": "markdown",
   "id": "73f8e918",
   "metadata": {},
   "source": [
    "## Number of substrings in a String\n"
   ]
  },
  {
   "cell_type": "code",
   "execution_count": null,
   "id": "b23a8668",
   "metadata": {},
   "outputs": [],
   "source": [
    "def cnt_substr(s):\n",
    "    n = len(s)\n",
    "    return int(n*(n+1)/2) \n"
   ]
  },
  {
   "cell_type": "code",
   "execution_count": null,
   "id": "d058cef2",
   "metadata": {},
   "outputs": [
    {
     "data": {
      "text/plain": [
       "6.0"
      ]
     },
     "execution_count": 3,
     "metadata": {},
     "output_type": "execute_result"
    }
   ],
   "source": [
    "cnt_substr('abc')"
   ]
  },
  {
   "cell_type": "markdown",
   "id": "e25ed954",
   "metadata": {},
   "source": [
    "Complexity Analysis:\n",
    "\n",
    "- Time Complexity: O(1).\n",
    "- Auxiliary Space: O(1)."
   ]
  }
 ],
 "metadata": {
  "kernelspec": {
   "display_name": "Python 3",
   "language": "python",
   "name": "python3"
  },
  "language_info": {
   "codemirror_mode": {
    "name": "ipython",
    "version": 3
   },
   "file_extension": ".py",
   "mimetype": "text/x-python",
   "name": "python",
   "nbconvert_exporter": "python",
   "pygments_lexer": "ipython3",
   "version": "3.13.0"
  }
 },
 "nbformat": 4,
 "nbformat_minor": 5
}
