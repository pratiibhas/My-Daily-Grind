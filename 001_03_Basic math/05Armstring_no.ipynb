{
 "cells": [
  {
   "cell_type": "code",
   "execution_count": null,
   "metadata": {},
   "outputs": [],
   "source": [
    "# An Armstrong number is a number (with 'k' digits) such that the sum of its digits raised to 'kth' \n",
    "#power is equal to the number itself. For example, 371 is an Armstrong number because 3^3 + 7^3 + 1^3 = 371."
   ]
  },
  {
   "cell_type": "code",
   "execution_count": 5,
   "metadata": {},
   "outputs": [],
   "source": [
    "def checkArmstrong(n):\n",
    "\ts= str(n)\n",
    "\tsum=0\n",
    "\tfor i in range(len(s)):\n",
    "\t    sum+=int(s[i])**len(s)\n",
    "\tif sum==n:\n",
    "\t      return True\n",
    "\telse:\n",
    "\t       return False\t "
   ]
  },
  {
   "cell_type": "code",
   "execution_count": 6,
   "metadata": {},
   "outputs": [
    {
     "data": {
      "text/plain": [
       "True"
      ]
     },
     "execution_count": 6,
     "metadata": {},
     "output_type": "execute_result"
    }
   ],
   "source": [
    "checkArmstrong(371)"
   ]
  },
  {
   "cell_type": "code",
   "execution_count": 7,
   "metadata": {},
   "outputs": [],
   "source": [
    "def checkArmstrong(n):\n",
    "    s = str(n)  # Convert number to string\n",
    "    total = 0   # Initialize sum\n",
    "    \n",
    "    for i in range(len(s)):  # Loop over all digits\n",
    "        total += int(s[i]) ** len(s)  # Raise each digit to the power of length\n",
    "    \n",
    "    return total == n  # Check if sum equals the original number\n"
   ]
  },
  {
   "cell_type": "code",
   "execution_count": 8,
   "metadata": {},
   "outputs": [
    {
     "data": {
      "text/plain": [
       "True"
      ]
     },
     "execution_count": 8,
     "metadata": {},
     "output_type": "execute_result"
    }
   ],
   "source": [
    "checkArmstrong(371)"
   ]
  },
  {
   "cell_type": "code",
   "execution_count": 9,
   "metadata": {},
   "outputs": [],
   "source": [
    "def isArmstrong(num):\n",
    "    k = len(str(num))\n",
    "    sum = 0\n",
    "    n = num\n",
    "   \n",
    "    while n > 0:\n",
    "        # Extract the last digit of the number\n",
    "        ld = n % 10\n",
    "        # Add the digit raised tothe power of k to the sum\n",
    "        sum += ld ** k\n",
    "        # Remove the last digit from the number\n",
    "        n = n // 10\n",
    "    \n",
    "    return sum == num\n"
   ]
  },
  {
   "cell_type": "code",
   "execution_count": 10,
   "metadata": {},
   "outputs": [
    {
     "data": {
      "text/plain": [
       "True"
      ]
     },
     "execution_count": 10,
     "metadata": {},
     "output_type": "execute_result"
    }
   ],
   "source": [
    "isArmstrong(371)"
   ]
  }
 ],
 "metadata": {
  "kernelspec": {
   "display_name": "Python 3",
   "language": "python",
   "name": "python3"
  },
  "language_info": {
   "codemirror_mode": {
    "name": "ipython",
    "version": 3
   },
   "file_extension": ".py",
   "mimetype": "text/x-python",
   "name": "python",
   "nbconvert_exporter": "python",
   "pygments_lexer": "ipython3",
   "version": "3.13.0"
  }
 },
 "nbformat": 4,
 "nbformat_minor": 2
}
