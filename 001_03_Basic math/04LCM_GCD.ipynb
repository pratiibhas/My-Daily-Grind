{
 "cells": [
  {
   "cell_type": "markdown",
   "metadata": {},
   "source": [
    "### Brute force for GCD"
   ]
  },
  {
   "cell_type": "code",
   "execution_count": 9,
   "metadata": {},
   "outputs": [],
   "source": [
    "def GCD(x,y):\n",
    "    max_num=0\n",
    "    for i in range(1,max(x,y)):\n",
    "        if(x%i==0 and y%i==0 and i>max_num):\n",
    "            max_num=i\n",
    "    return max_num        "
   ]
  },
  {
   "cell_type": "code",
   "execution_count": 10,
   "metadata": {},
   "outputs": [
    {
     "data": {
      "text/plain": [
       "5"
      ]
     },
     "execution_count": 10,
     "metadata": {},
     "output_type": "execute_result"
    }
   ],
   "source": [
    "GCD(5,10)"
   ]
  },
  {
   "cell_type": "markdown",
   "metadata": {},
   "source": [
    "### Better approach for GCD"
   ]
  },
  {
   "cell_type": "code",
   "execution_count": 16,
   "metadata": {},
   "outputs": [],
   "source": [
    "def GCD(x,y):\n",
    "    max_num=1\n",
    "    for i in range(min(x,y),max(x,y)+1):\n",
    "        if(x%i==0 and y%i==0 and i>max_num):\n",
    "            max_num=i\n",
    "    return max_num "
   ]
  },
  {
   "cell_type": "code",
   "execution_count": 17,
   "metadata": {},
   "outputs": [
    {
     "data": {
      "text/plain": [
       "1"
      ]
     },
     "execution_count": 17,
     "metadata": {},
     "output_type": "execute_result"
    }
   ],
   "source": [
    "GCD(18,20)"
   ]
  },
  {
   "cell_type": "code",
   "execution_count": 19,
   "metadata": {},
   "outputs": [],
   "source": [
    "def GCD(n1,n2):\n",
    "    for i in range(min(n1, n2), 0, -1):\n",
    "        # Check if i is a common\n",
    "        # factor of both n1 and n2\n",
    "        if n1 % i == 0 and n2 % i == 0:\n",
    "            # If i is a common factor,\n",
    "            # return it as the GCD\n",
    "            return i\n",
    "    return 1    "
   ]
  },
  {
   "cell_type": "code",
   "execution_count": 20,
   "metadata": {},
   "outputs": [
    {
     "data": {
      "text/plain": [
       "5"
      ]
     },
     "execution_count": 20,
     "metadata": {},
     "output_type": "execute_result"
    }
   ],
   "source": [
    "GCD(20,15)"
   ]
  },
  {
   "cell_type": "markdown",
   "metadata": {},
   "source": [
    "### Optimal approach"
   ]
  },
  {
   "cell_type": "code",
   "execution_count": null,
   "metadata": {},
   "outputs": [],
   "source": [
    "'''The Euclidean Algorithm is a method for finding the greatest common divisor of two numbers. \n",
    "It operates on the principle that the GCD of two numbers remains the same even if the smaller number\n",
    "is subtracted from the larger number.'''"
   ]
  },
  {
   "cell_type": "markdown",
   "metadata": {},
   "source": [
    "To find the GCD of n1 and n2 where n1 > n2:\n",
    "\n",
    "Repeatedly subtract the smaller number from the larger number until one of them becomes 0.\n",
    "Once one of them becomes 0, the other number is the GCD of the original numbers.\n",
    "Eg, n1 = 20, n2 = 15:\n",
    "\n",
    "gcd(20, 15) = gcd(20-15, 15) = gcd(5, 15)\n",
    "\n",
    "gcd(5, 15) = gcd(15-5, 5) = gcd(10, 5)\n",
    "\n",
    "gcd(10, 5) = gcd(10-5, 5) = gcd(5, 5)\n",
    "\n",
    "gcd(5, 5) = gcd(5-5, 5) = gcd(0, 5)\n",
    "\n",
    "Hence, return 5 as the gcd."
   ]
  },
  {
   "cell_type": "code",
   "execution_count": 22,
   "metadata": {},
   "outputs": [
    {
     "name": "stdout",
     "output_type": "stream",
     "text": [
      "GCD of 20 and 15 is: 5\n"
     ]
    }
   ],
   "source": [
    "def find_gcd(a, b):\n",
    "    while a > 0 and b > 0:\n",
    "        # If a is greater than b,subtract b from a and update a\n",
    "        if a > b:\n",
    "            # Update a to the remainder of a divided by b\n",
    "            a = a % b\n",
    "        # If b is greater than or equal to a, subtract a from b and update b\n",
    "        else:\n",
    "            # Update b to the remainder\n",
    "            # of b divided by a\n",
    "            b = b % a\n",
    "    # Check if a becomes 0,\n",
    "    # if so, return b as the GCD\n",
    "    if a == 0:\n",
    "        return b\n",
    "    # If a is not 0,\n",
    "    # return a as the GCD\n",
    "    return a\n",
    "\n",
    "\n",
    "def main():\n",
    "    n1 = 20\n",
    "    n2 = 15\n",
    "\n",
    "    # Find the GCD of n1 and n2\n",
    "    gcd = find_gcd(n1, n2)\n",
    "\n",
    "    print(f\"GCD of {n1} and {n2} is: {gcd}\")\n",
    "if __name__ == \"__main__\":\n",
    "    main()    "
   ]
  },
  {
   "cell_type": "code",
   "execution_count": null,
   "metadata": {},
   "outputs": [],
   "source": [
    "# LCM=a*b/GCD"
   ]
  }
 ],
 "metadata": {
  "kernelspec": {
   "display_name": "Python 3",
   "language": "python",
   "name": "python3"
  },
  "language_info": {
   "codemirror_mode": {
    "name": "ipython",
    "version": 3
   },
   "file_extension": ".py",
   "mimetype": "text/x-python",
   "name": "python",
   "nbconvert_exporter": "python",
   "pygments_lexer": "ipython3",
   "version": "3.13.0"
  }
 },
 "nbformat": 4,
 "nbformat_minor": 2
}
