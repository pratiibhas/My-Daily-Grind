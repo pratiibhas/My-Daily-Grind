{
 "cells": [
  {
   "cell_type": "code",
   "execution_count": 5,
   "metadata": {},
   "outputs": [],
   "source": [
    "def prime(n):\n",
    " \n",
    "    for i in range(2,n+1):\n",
    "        if(n%i==0 and n!=i):\n",
    "            return False\n",
    "    return True    \n",
    "        "
   ]
  },
  {
   "cell_type": "code",
   "execution_count": 7,
   "metadata": {},
   "outputs": [
    {
     "data": {
      "text/plain": [
       "True"
      ]
     },
     "execution_count": 7,
     "metadata": {},
     "output_type": "execute_result"
    }
   ],
   "source": [
    "prime(5)"
   ]
  },
  {
   "cell_type": "markdown",
   "metadata": {},
   "source": [
    "### Optimal approach"
   ]
  },
  {
   "cell_type": "code",
   "execution_count": 10,
   "metadata": {},
   "outputs": [],
   "source": [
    "import math\n",
    "def prime_nums(n):\n",
    "   sqrtN = int(math.sqrt(n)) \n",
    "   for i in range(2,sqrtN):\n",
    "       if (n%i==0 and n!=i):\n",
    "           return False\n",
    "   return True   \n",
    "   "
   ]
  },
  {
   "cell_type": "code",
   "execution_count": 11,
   "metadata": {},
   "outputs": [
    {
     "data": {
      "text/plain": [
       "False"
      ]
     },
     "execution_count": 11,
     "metadata": {},
     "output_type": "execute_result"
    }
   ],
   "source": [
    "prime_nums(77)"
   ]
  },
  {
   "cell_type": "code",
   "execution_count": null,
   "metadata": {},
   "outputs": [],
   "source": [
    "import math\n",
    "def checkPrime(n):\n",
    "    cnt = 0\n",
    "    for i in range(1, int(math.sqrt(n)) + 1):\n",
    "        if n % i == 0:\n",
    "            cnt = cnt + 1\n",
    "            # If n is not a perfect square, count its reciprocal factor.\n",
    "            if n // i != i:\n",
    "                cnt = cnt + 1\n",
    "\n",
    "    # If the number of factors is exactly 2.\n",
    "    if cnt == 2:\n",
    "        return True\n",
    "    else: \n",
    "        return False             \n",
    "                            "
   ]
  },
  {
   "cell_type": "markdown",
   "metadata": {},
   "source": [
    "### Question"
   ]
  },
  {
   "cell_type": "markdown",
   "metadata": {},
   "source": [
    "You are given an array arr[] of non-negative numbers. Each number tells you the maximum number of steps you can jump forward from that position.\n",
    "\n",
    "For example:\n",
    "\n",
    "If arr[i] = 3, you can jump 1 step, 2 steps, or 3 steps forward from position i.\n",
    "If arr[i] = 0, you cannot jump forward from that position.\n",
    "Your task is to find the minimum number of jumps needed to move from the first position in the array to the last position.\n",
    "\n",
    "Note:  Return -1 if you can't reach the end of the array."
   ]
  },
  {
   "cell_type": "code",
   "execution_count": 15,
   "metadata": {},
   "outputs": [],
   "source": [
    "def minJumps( arr):\n",
    "    if arr[0]==0:\n",
    "        return -1\n",
    "    n=len(arr)\n",
    "    if n==1:\n",
    "        return 0\n",
    "    l,r,Max,steps=0,0,0,0\n",
    "    \n",
    "    for i in range(n):\n",
    "        if l>r: return -1\n",
    "        if r>=n-1: return steps\n",
    "        Max=max(Max,i+arr[i])\n",
    "        if i==r:\n",
    "            l=i+1\n",
    "            r=Max\n",
    "            steps=steps+1\n",
    "    return steps        \n"
   ]
  },
  {
   "cell_type": "code",
   "execution_count": 16,
   "metadata": {},
   "outputs": [
    {
     "data": {
      "text/plain": [
       "3"
      ]
     },
     "execution_count": 16,
     "metadata": {},
     "output_type": "execute_result"
    }
   ],
   "source": [
    "minJumps([1,2,4,6,7,8])"
   ]
  }
 ],
 "metadata": {
  "kernelspec": {
   "display_name": "Python 3",
   "language": "python",
   "name": "python3"
  },
  "language_info": {
   "codemirror_mode": {
    "name": "ipython",
    "version": 3
   },
   "file_extension": ".py",
   "mimetype": "text/x-python",
   "name": "python",
   "nbconvert_exporter": "python",
   "pygments_lexer": "ipython3",
   "version": "3.13.0"
  }
 },
 "nbformat": 4,
 "nbformat_minor": 2
}
