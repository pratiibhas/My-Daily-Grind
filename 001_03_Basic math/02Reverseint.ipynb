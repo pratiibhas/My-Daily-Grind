{
 "cells": [
  {
   "cell_type": "code",
   "execution_count": null,
   "metadata": {},
   "outputs": [],
   "source": [
    "import math\n",
    "class Solution:\n",
    "    def reverse(self, x: int) -> int:\n",
    "        n=x\n",
    "        if x<0:\n",
    "            x=x*(-1)\n",
    "        y= 0\n",
    "        while(x>0):\n",
    "            d=x%10\n",
    "            y=y*10+d\n",
    "            x=x//10\n",
    "        if (2**31-1<= y) or (y<= -2**31):  \n",
    "            return 0\n",
    "        if n<0:\n",
    "            y=y*(-1)  \n",
    "        return y       "
   ]
  },
  {
   "cell_type": "code",
   "execution_count": null,
   "metadata": {},
   "outputs": [],
   "source": []
  },
  {
   "cell_type": "code",
   "execution_count": null,
   "metadata": {},
   "outputs": [],
   "source": []
  },
  {
   "cell_type": "code",
   "execution_count": null,
   "metadata": {},
   "outputs": [],
   "source": []
  }
 ],
 "metadata": {
  "kernelspec": {
   "display_name": "Python 3",
   "language": "python",
   "name": "python3"
  },
  "language_info": {
   "name": "python",
   "version": "3.13.0"
  }
 },
 "nbformat": 4,
 "nbformat_minor": 2
}
