{
 "cells": [
  {
   "cell_type": "markdown",
   "metadata": {},
   "source": [
    "### Count of digits that divides a number perfectly"
   ]
  },
  {
   "cell_type": "code",
   "execution_count": null,
   "metadata": {},
   "outputs": [],
   "source": [
    "def evenlyDivides(self, n):\n",
    "    # code here\n",
    "    count=0\n",
    "    new_num=n\n",
    "    while(new_num>0):\n",
    "        init= new_num%10\n",
    "        if init!=0 and n%init==0 :\n",
    "            count+=1\n",
    "                \n",
    "        new_num=new_num//10            \n",
    "    return count  "
   ]
  },
  {
   "cell_type": "markdown",
   "metadata": {},
   "source": [
    "### Count Digits"
   ]
  },
  {
   "cell_type": "code",
   "execution_count": 2,
   "metadata": {},
   "outputs": [
    {
     "name": "stdout",
     "output_type": "stream",
     "text": [
      "N: 329823\n",
      "Number of Digits in N: 6\n"
     ]
    }
   ],
   "source": [
    "## BRUTE FORCE \n",
    "\n",
    "def countDigits(n):\n",
    "    # Initialize a counter variable\n",
    "    # 'cnt' to store the count of digits.\n",
    "    cnt = 0\n",
    "    # While loop iterates until 'n'\n",
    "    # becomes 0 (no more digits left).\n",
    "    while n > 0:\n",
    "        # Increment the counter\n",
    "        # for each digit encountered.\n",
    "        cnt = cnt + 1\n",
    "        # Divide 'n' by 10 to\n",
    "        # remove the last digit.\n",
    "        n = n // 10\n",
    "    # Return the\n",
    "    # count of digits.\n",
    "    return cnt\n",
    "\n",
    "\n",
    "if __name__ == \"__main__\":\n",
    "    N = 329823\n",
    "    print(\"N:\", N)\n",
    "    digits = countDigits(N)\n",
    "    print(\"Number of Digits in N:\", digits)\n",
    "                                "
   ]
  },
  {
   "cell_type": "code",
   "execution_count": 1,
   "metadata": {},
   "outputs": [
    {
     "name": "stdout",
     "output_type": "stream",
     "text": [
      "N: 329823\n",
      "Number of Digits in N: 6\n"
     ]
    }
   ],
   "source": [
    "import math\n",
    "\n",
    "# Calculate the count of digits in 'n'\n",
    "# using logarithmic operation log10(n) + 1.\n",
    "def countDigits(n):\n",
    "    # Initialize a variable 'cnt' to\n",
    "    # store the count of digits.\n",
    "    cnt = int(math.log10(n) + 1)\n",
    "\n",
    "    # The expression int(math.log10(n) + 1)\n",
    "    # calculates the number of digits in 'n'\n",
    "    # and casts it to an integer.\n",
    "    \n",
    "    # Adding 1 to the result accounts\n",
    "    # for the case when 'n' is a power of 10,\n",
    "    # ensuring that the count is correct.\n",
    "   \n",
    "    # Finally, the result is cast\n",
    "    # to an integer to ensure it is rounded\n",
    "    # down to the nearest whole number.\n",
    "    \n",
    "    # Return the count of digits in 'n'.\n",
    "    return cnt\n",
    "\n",
    "# Main function\n",
    "if __name__ == \"__main__\":\n",
    "    N = 329823\n",
    "    print(\"N:\", N)\n",
    "    digits = countDigits(N)\n",
    "    print(\"Number of Digits in N:\", digits)\n"
   ]
  },
  {
   "cell_type": "code",
   "execution_count": 8,
   "metadata": {},
   "outputs": [
    {
     "data": {
      "text/plain": [
       "7"
      ]
     },
     "execution_count": 8,
     "metadata": {},
     "output_type": "execute_result"
    }
   ],
   "source": [
    "int(math.log10(3459999)+1)"
   ]
  }
 ],
 "metadata": {
  "kernelspec": {
   "display_name": "Python 3",
   "language": "python",
   "name": "python3"
  },
  "language_info": {
   "codemirror_mode": {
    "name": "ipython",
    "version": 3
   },
   "file_extension": ".py",
   "mimetype": "text/x-python",
   "name": "python",
   "nbconvert_exporter": "python",
   "pygments_lexer": "ipython3",
   "version": "3.13.0"
  }
 },
 "nbformat": 4,
 "nbformat_minor": 2
}
