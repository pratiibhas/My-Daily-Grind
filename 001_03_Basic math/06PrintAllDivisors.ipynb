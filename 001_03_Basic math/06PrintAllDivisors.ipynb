{
 "cells": [
  {
   "cell_type": "code",
   "execution_count": null,
   "metadata": {},
   "outputs": [],
   "source": [
    "#A divisor of an integer N is a positive integer that divides N without leaving a remainder. \n",
    "# In other words, if N is divisible by another integer without any remainder, then that integer is considered a divisor of N."
   ]
  },
  {
   "cell_type": "markdown",
   "metadata": {},
   "source": [
    "### BRUTE FORCE APPROACH"
   ]
  },
  {
   "cell_type": "code",
   "execution_count": 5,
   "metadata": {},
   "outputs": [],
   "source": [
    "def alldivs(n):\n",
    "    res=[]\n",
    "    for i in range(1,n+1):\n",
    "        if (n%i==0):\n",
    "            res.append(i)\n",
    "    return res        "
   ]
  },
  {
   "cell_type": "code",
   "execution_count": 6,
   "metadata": {},
   "outputs": [
    {
     "data": {
      "text/plain": [
       "[1, 2, 3, 4, 6, 8, 9, 12, 18, 24, 36, 72]"
      ]
     },
     "execution_count": 6,
     "metadata": {},
     "output_type": "execute_result"
    }
   ],
   "source": [
    "alldivs(72)"
   ]
  },
  {
   "cell_type": "code",
   "execution_count": 7,
   "metadata": {},
   "outputs": [
    {
     "data": {
      "text/plain": [
       "[1, 73]"
      ]
     },
     "execution_count": 7,
     "metadata": {},
     "output_type": "execute_result"
    }
   ],
   "source": [
    "alldivs(73)"
   ]
  },
  {
   "cell_type": "code",
   "execution_count": 11,
   "metadata": {},
   "outputs": [],
   "source": [
    "import math\n",
    "def all_divs(n):\n",
    "    res=[]\n",
    "    sqrtN = int(math.sqrt(n)) \n",
    "    for i in range(1,sqrtN+1):\n",
    "        if n%i==0:\n",
    "            res.append(i)\n",
    "            if i!=n//i:  \n",
    "                res.append(i)\n",
    "    return res        \n",
    "            "
   ]
  },
  {
   "cell_type": "code",
   "execution_count": 12,
   "metadata": {},
   "outputs": [
    {
     "data": {
      "text/plain": [
       "[1, 1, 2, 2, 4, 4]"
      ]
     },
     "execution_count": 12,
     "metadata": {},
     "output_type": "execute_result"
    }
   ],
   "source": [
    "all_divs(76)"
   ]
  },
  {
   "cell_type": "markdown",
   "metadata": {},
   "source": [
    "### Optimal approach"
   ]
  },
  {
   "cell_type": "code",
   "execution_count": 13,
   "metadata": {},
   "outputs": [],
   "source": [
    "import math\n",
    "\n",
    "def findDivisors(n):\n",
    "    divisors = [] \n",
    "    sqrtN = int(math.sqrt(n)) \n",
    "    for i in range(1, sqrtN + 1): \n",
    "      \n",
    "        if n % i == 0: \n",
    "            # Add divisor i to the list\n",
    "            divisors.append(i) \n",
    "\n",
    "            # Add the counterpart divisor\n",
    "            # if it's different from i\n",
    "            if i != n // i:\n",
    "                # Add the counterpart\n",
    "                # divisor to the list\n",
    "                divisors.append(n // i) \n",
    "    \n",
    "    # Return the list of divisors\n",
    "    return divisors "
   ]
  },
  {
   "cell_type": "code",
   "execution_count": 17,
   "metadata": {},
   "outputs": [
    {
     "data": {
      "text/plain": [
       "[1, 49, 7]"
      ]
     },
     "execution_count": 17,
     "metadata": {},
     "output_type": "execute_result"
    }
   ],
   "source": [
    "findDivisors(49)"
   ]
  }
 ],
 "metadata": {
  "kernelspec": {
   "display_name": "Python 3",
   "language": "python",
   "name": "python3"
  },
  "language_info": {
   "codemirror_mode": {
    "name": "ipython",
    "version": 3
   },
   "file_extension": ".py",
   "mimetype": "text/x-python",
   "name": "python",
   "nbconvert_exporter": "python",
   "pygments_lexer": "ipython3",
   "version": "3.13.0"
  }
 },
 "nbformat": 4,
 "nbformat_minor": 2
}
