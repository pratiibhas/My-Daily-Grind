{
 "cells": [
  {
   "cell_type": "code",
   "execution_count": null,
   "metadata": {},
   "outputs": [],
   "source": [
    "\n",
    "def isPalindrome(x: int) -> bool:\n",
    "        left=0\n",
    "        right=len(str(x))-1\n",
    "        s=str(x)\n",
    "        while left<right:\n",
    "            if(s[left]!=s[right]):\n",
    "                return False\n",
    "            left+=1\n",
    "            right-=1\n",
    "        return True"
   ]
  },
  {
   "cell_type": "code",
   "execution_count": 38,
   "metadata": {},
   "outputs": [
    {
     "data": {
      "text/plain": [
       "False"
      ]
     },
     "execution_count": 38,
     "metadata": {},
     "output_type": "execute_result"
    }
   ],
   "source": [
    "isPalindrome(121)"
   ]
  },
  {
   "cell_type": "code",
   "execution_count": 33,
   "metadata": {},
   "outputs": [],
   "source": [
    "def isPalindrome(x: int):\n",
    "    reversed_half = 0\n",
    "    \n",
    "    reversed_half = reversed_half * 10 + x % 10\n",
    "    x = x // 10\n",
    "    reversed_half = reversed_half * 10 + x % 10\n",
    "    x = x // 10\n",
    "    #reversed_half = reversed_half * 10 + x % 10\n",
    "    \n",
    "    \n",
    "    return reversed_half ,x,reversed_half//10"
   ]
  },
  {
   "cell_type": "code",
   "execution_count": 34,
   "metadata": {},
   "outputs": [
    {
     "data": {
      "text/plain": [
       "(12, 1, 1)"
      ]
     },
     "execution_count": 34,
     "metadata": {},
     "output_type": "execute_result"
    }
   ],
   "source": [
    "isPalindrome(121)"
   ]
  },
  {
   "cell_type": "code",
   "execution_count": 37,
   "metadata": {},
   "outputs": [],
   "source": [
    "\n",
    "def isPalindrome(x: int) -> bool:\n",
    "    if(x < 0 or (x % 10 == 0 and x != 0)):\n",
    "        return False\n",
    "\n",
    "    reversed_half = 0\n",
    "    while (x > reversed_half):\n",
    "        reversed_half = reversed_half * 10 + x % 10\n",
    "        x = x // 10\n",
    "    return x == reversed_half or x == reversed_half // 10 # for odd numbers"
   ]
  },
  {
   "cell_type": "code",
   "execution_count": null,
   "metadata": {},
   "outputs": [],
   "source": []
  },
  {
   "cell_type": "code",
   "execution_count": null,
   "metadata": {},
   "outputs": [],
   "source": []
  }
 ],
 "metadata": {
  "kernelspec": {
   "display_name": "Python 3",
   "language": "python",
   "name": "python3"
  },
  "language_info": {
   "codemirror_mode": {
    "name": "ipython",
    "version": 3
   },
   "file_extension": ".py",
   "mimetype": "text/x-python",
   "name": "python",
   "nbconvert_exporter": "python",
   "pygments_lexer": "ipython3",
   "version": "3.13.0"
  }
 },
 "nbformat": 4,
 "nbformat_minor": 2
}
