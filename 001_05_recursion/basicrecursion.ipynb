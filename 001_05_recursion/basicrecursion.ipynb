{
 "cells": [
  {
   "cell_type": "markdown",
   "metadata": {},
   "source": [
    "## Recursion"
   ]
  },
  {
   "cell_type": "code",
   "execution_count": 1,
   "metadata": {},
   "outputs": [
    {
     "name": "stdout",
     "output_type": "stream",
     "text": [
      "name\n",
      "name\n",
      "name\n",
      "name\n"
     ]
    }
   ],
   "source": [
    "#using recursion\n",
    "def rec_n(n):\n",
    "    i=0\n",
    "    if (i>n-1):\n",
    "        return\n",
    "    print('name')\n",
    "    rec_n(n-1)\n",
    "    \n",
    "rec_n(4)       "
   ]
  },
  {
   "cell_type": "markdown",
   "metadata": {},
   "source": [
    "### # printing in reverse order"
   ]
  },
  {
   "cell_type": "code",
   "execution_count": null,
   "metadata": {},
   "outputs": [
    {
     "name": "stdout",
     "output_type": "stream",
     "text": [
      "8\n",
      "7\n",
      "6\n",
      "5\n",
      "4\n",
      "3\n",
      "2\n",
      "1\n"
     ]
    }
   ],
   "source": [
    "def rev(n):\n",
    "    if (n==0):\n",
    "        return\n",
    "    print(n)\n",
    "    rev(n-1)\n",
    "rev(8)    "
   ]
  },
  {
   "cell_type": "code",
   "execution_count": 36,
   "metadata": {},
   "outputs": [
    {
     "name": "stdout",
     "output_type": "stream",
     "text": [
      "[1, 2, 8, 6, 3]\n"
     ]
    }
   ],
   "source": [
    "def reverse_array(arr, start, end):\n",
    "    # Base case: if start index is greater or equal to end, stop recursion\n",
    "    if start >= end:\n",
    "        return\n",
    "    \n",
    "    # Swap the elements\n",
    "    arr[start], arr[end] = arr[end], arr[start]\n",
    "    \n",
    "    # Recursive call for the next pair\n",
    "    reverse_array(arr, start + 1, end - 1)\n",
    "\n",
    "# Initialize array\n",
    "a = [3, 6, 8, 2, 1]\n",
    "# Call the function with initial indices\n",
    "reverse_array(a, 0, len(a) - 1)\n",
    "print(a)  # Output should be [1, 2, 8, 6, 3]  \n",
    "        "
   ]
  },
  {
   "cell_type": "markdown",
   "metadata": {},
   "source": [
    "### printing linearly (using backtracking)"
   ]
  },
  {
   "cell_type": "code",
   "execution_count": null,
   "metadata": {},
   "outputs": [
    {
     "name": "stdout",
     "output_type": "stream",
     "text": [
      "1\n",
      "2\n",
      "3\n"
     ]
    }
   ],
   "source": [
    "\n",
    "def lin_back(n):\n",
    "    if (n==0):\n",
    "        return\n",
    "    lin_back(n-1)\n",
    "    print(n)\n",
    "    \n",
    "lin_back(3)    "
   ]
  },
  {
   "cell_type": "markdown",
   "metadata": {},
   "source": [
    "### summing values"
   ]
  },
  {
   "cell_type": "code",
   "execution_count": null,
   "metadata": {},
   "outputs": [
    {
     "data": {
      "text/plain": [
       "36"
      ]
     },
     "execution_count": 22,
     "metadata": {},
     "output_type": "execute_result"
    }
   ],
   "source": [
    "\n",
    "def sum(n):\n",
    "    if (n==1):\n",
    "        return 1\n",
    "    return n + sum(n-1)\n",
    "\n",
    "sum(8)"
   ]
  },
  {
   "cell_type": "markdown",
   "metadata": {},
   "source": [
    "### Find if the string is a palindrome or not "
   ]
  },
  {
   "cell_type": "code",
   "execution_count": null,
   "metadata": {},
   "outputs": [
    {
     "data": {
      "text/plain": [
       "True"
      ]
     },
     "execution_count": 33,
     "metadata": {},
     "output_type": "execute_result"
    }
   ],
   "source": [
    "\n",
    "def is_palindrome(arr,start,end):\n",
    "    if (start>=(end+1/2)):\n",
    "        return True\n",
    "    if arr[start]!=arr[end]:\n",
    "        return False \n",
    "    return is_palindrome(arr,start+1,end-1)\n",
    "    \n",
    "str='madam'    \n",
    "is_palindrome(str,0,len(str)-1)"
   ]
  },
  {
   "cell_type": "code",
   "execution_count": 43,
   "metadata": {},
   "outputs": [],
   "source": [
    "class Solution:\n",
    "    @staticmethod\n",
    "    def isPalindrome(s):\n",
    "        s = s.lower() \n",
    "        left= 0\n",
    "        right= len(s) - 1\n",
    "\n",
    "        while left < right:\n",
    "\n",
    "            if not s[left].isalnum():\n",
    "                left += 1\n",
    "                continue\n",
    "         \n",
    "            if not s[right].isalnum():\n",
    "                right -= 1\n",
    "                continue\n",
    "            \n",
    "            if s[left] != s[right]:\n",
    "                return False\n",
    "            left += 1\n",
    "            right -= 1\n",
    "        \n",
    "        return True"
   ]
  },
  {
   "cell_type": "code",
   "execution_count": 44,
   "metadata": {},
   "outputs": [
    {
     "name": "stdout",
     "output_type": "stream",
     "text": [
      "True\n",
      "False\n",
      "True\n"
     ]
    }
   ],
   "source": [
    "sol = Solution()\n",
    "print(sol.isPalindrome(\"A man, a plan, a canal: Panama\"))  # Output: True\n",
    "print(sol.isPalindrome(\"race a car\"))  # Output: False\n",
    "print(sol.isPalindrome(\" \"))  # Output: True"
   ]
  },
  {
   "cell_type": "code",
   "execution_count": 41,
   "metadata": {},
   "outputs": [],
   "source": [
    "class Solution:\n",
    "    def isPalindrome(self, s) -> bool:\n",
    "        s=''.join(c.lower() for c in s if c.isalnum())\n",
    "        #s = ''.join(c.lower() for c in s if c.isalnum())\n",
    "        return self.check_palindrome(s,0,len(s)-1)\n",
    "\n",
    "    def check_palindrome(self,arr,start,end):\n",
    "        if (start>=(end+1/2)):\n",
    "          return True\n",
    "        if arr[start]!=arr[end]:\n",
    "           return False \n",
    "        return self.check_palindrome(arr,start+1,end-1)     \n",
    "                "
   ]
  },
  {
   "cell_type": "code",
   "execution_count": 42,
   "metadata": {},
   "outputs": [
    {
     "name": "stdout",
     "output_type": "stream",
     "text": [
      "True\n",
      "False\n",
      "True\n"
     ]
    }
   ],
   "source": [
    "sol = Solution()\n",
    "print(sol.isPalindrome(\"A man, a plan, a canal: Panama\"))  # Output: True\n",
    "print(sol.isPalindrome(\"race a car\"))  # Output: False\n",
    "print(sol.isPalindrome(\" \"))  # Output: True"
   ]
  },
  {
   "cell_type": "markdown",
   "metadata": {},
   "source": [
    "###  Fibbonaci number "
   ]
  },
  {
   "cell_type": "code",
   "execution_count": null,
   "metadata": {},
   "outputs": [
    {
     "data": {
      "text/plain": [
       "8"
      ]
     },
     "execution_count": 40,
     "metadata": {},
     "output_type": "execute_result"
    }
   ],
   "source": [
    "\n",
    "def fibonaci(n):\n",
    "    \n",
    "    if (n<=1):\n",
    "        return n\n",
    "    last=fibonaci(n-1)\n",
    "    slast=fibonaci(n-2)\n",
    "    return last+slast\n",
    "fibonaci(6)"
   ]
  },
  {
   "cell_type": "markdown",
   "metadata": {},
   "source": [
    "### Use hashmaps to calculate fibonacci number"
   ]
  },
  {
   "cell_type": "code",
   "execution_count": 40,
   "metadata": {},
   "outputs": [],
   "source": [
    "def fib(self, n: int) -> int:\n",
    "    fibMap = {}\n",
    "    if n == 0 or n == 1:\n",
    "        return n\n",
    "    \n",
    "    else:\n",
    "        if n not in fibMap:\n",
    "                fibMap[n] = fib(n-1) + fib(n-2)\n",
    "        \n",
    "        return fibMap[n]"
   ]
  },
  {
   "cell_type": "markdown",
   "metadata": {},
   "source": [
    "### Subsequences using recursion"
   ]
  },
  {
   "cell_type": "code",
   "execution_count": 55,
   "metadata": {},
   "outputs": [],
   "source": [
    "\n",
    "def subsequences(arr, index, current,k):\n",
    "    sum=0\n",
    "    # Base case: if we've processed all elements\n",
    "    if index == len(arr):\n",
    "        if sum==k:\n",
    "         print(current)\n",
    "        return\n",
    "    \n",
    "    # Include the current element and recurse\n",
    "    sum+=arr[index]\n",
    "    subsequences(arr, index + 1, current + [arr[index]],k)\n",
    "    sum-=arr[index]\n",
    "    # Exclude the current element and recurse\n",
    "    subsequences(arr, index + 1, current,k)\n",
    "   \n",
    "# Example usage\n",
    "arr = [1, 1, 3]\n",
    "subsequences(arr, 0, [],2)"
   ]
  },
  {
   "cell_type": "code",
   "execution_count": 43,
   "metadata": {},
   "outputs": [
    {
     "name": "stdout",
     "output_type": "stream",
     "text": [
      "[1, 2, 3]\n",
      "[1, 2]\n",
      "[1, 3]\n",
      "[1]\n",
      "[2, 3]\n",
      "[2]\n",
      "[3]\n",
      "[]\n"
     ]
    }
   ],
   "source": [
    "def subsequences(arr, index, current):\n",
    "    # Base case: if we've processed all elements\n",
    "    if index == len(arr):\n",
    "        print(current)\n",
    "        return\n",
    "    \n",
    "    # Include the current element and recurse\n",
    "    subsequences(arr, index + 1, current + [arr[index]])\n",
    "    \n",
    "    # Exclude the current element and recurse\n",
    "    subsequences(arr, index + 1, current)\n",
    "\n",
    "# Example usage\n",
    "arr = [1, 2, 3]\n",
    "subsequences(arr, 0, [])\n"
   ]
  },
  {
   "cell_type": "code",
   "execution_count": 46,
   "metadata": {},
   "outputs": [
    {
     "name": "stdout",
     "output_type": "stream",
     "text": [
      "3\n"
     ]
    }
   ],
   "source": [
    "a=[1,2,3]\n",
    "print(len(a))"
   ]
  },
  {
   "cell_type": "markdown",
   "metadata": {},
   "source": [
    "### Factorials"
   ]
  },
  {
   "cell_type": "code",
   "execution_count": 38,
   "metadata": {},
   "outputs": [],
   "source": [
    "def factorialNumbers(n):\n",
    "        ans = []\n",
    "        computeFactorials(1, 1, n, ans)\n",
    "        return ans\n",
    "\n",
    "def computeFactorials(i, fact, n, ans):\n",
    "        if fact > n:\n",
    "            return  \n",
    "        ans.append(fact)  \n",
    "        computeFactorials(i + 1, fact * (i + 1), n, ans)\n",
    "\n",
    "    "
   ]
  },
  {
   "cell_type": "code",
   "execution_count": 39,
   "metadata": {},
   "outputs": [
    {
     "data": {
      "text/plain": [
       "[1, 2]"
      ]
     },
     "execution_count": 39,
     "metadata": {},
     "output_type": "execute_result"
    }
   ],
   "source": [
    "factorialNumbers(4)"
   ]
  }
 ],
 "metadata": {
  "kernelspec": {
   "display_name": "Python 3",
   "language": "python",
   "name": "python3"
  },
  "language_info": {
   "codemirror_mode": {
    "name": "ipython",
    "version": 3
   },
   "file_extension": ".py",
   "mimetype": "text/x-python",
   "name": "python",
   "nbconvert_exporter": "python",
   "pygments_lexer": "ipython3",
   "version": "3.13.0"
  }
 },
 "nbformat": 4,
 "nbformat_minor": 2
}
